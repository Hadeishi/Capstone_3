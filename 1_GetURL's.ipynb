{
 "cells": [
  {
   "cell_type": "code",
   "execution_count": 1,
   "metadata": {},
   "outputs": [],
   "source": [
    "import requests, time, json\n",
    "from bs4 import BeautifulSoup as bs4"
   ]
  },
  {
   "cell_type": "markdown",
   "metadata": {},
   "source": [
    "# MovieRec4Parents"
   ]
  },
  {
   "cell_type": "markdown",
   "metadata": {},
   "source": [
    "## Problem Statement:\n",
    "#### Busy parents need a way to choose movies for their family that all members of the family will enjoy without exposing their children to objectionable material. Yet, every family has its own standards for determining what is or is not objectionable. Common Sense Media has a great website, but it takes precious time to page through all the movies at this site and glean all the valuable information.\n",
    "\n",
    "#### To help parents solve this problem, MovieRec4Parents is a content-based recommender system that will produce a list of movies that are similar to a single movie entered by the user. Movie similarity is determined by comparing language used to describe the movies by Common Sense Media as described below (see Notebook 5.1). If parents have a few minutes to answer several questions, MovieRec4Parents will filter this list of movies according to individual family standards. By doing so, parents will be provided with entertainment suggestions that the entire family will be able to enjoy."
   ]
  },
  {
   "cell_type": "markdown",
   "metadata": {},
   "source": [
    "## Get URL's of Individual Movies"
   ]
  },
  {
   "cell_type": "markdown",
   "metadata": {},
   "source": [
    "### Create soup object and prepare to scrape"
   ]
  },
  {
   "cell_type": "code",
   "execution_count": 2,
   "metadata": {},
   "outputs": [],
   "source": [
    "url = \"https://www.commonsensemedia.org/reviews/category/movie\""
   ]
  },
  {
   "cell_type": "code",
   "execution_count": 3,
   "metadata": {},
   "outputs": [],
   "source": [
    "res = requests.get(url)"
   ]
  },
  {
   "cell_type": "code",
   "execution_count": 4,
   "metadata": {},
   "outputs": [
    {
     "data": {
      "text/plain": [
       "200"
      ]
     },
     "execution_count": 4,
     "metadata": {},
     "output_type": "execute_result"
    }
   ],
   "source": [
    "res.status_code"
   ]
  },
  {
   "cell_type": "code",
   "execution_count": 5,
   "metadata": {},
   "outputs": [],
   "source": [
    "soup = bs4(res.content, 'lxml')"
   ]
  },
  {
   "cell_type": "markdown",
   "metadata": {},
   "source": [
    "### Scrape Common Sense Media for movie URL's"
   ]
  },
  {
   "cell_type": "code",
   "execution_count": 6,
   "metadata": {},
   "outputs": [],
   "source": [
    "movies_urls = []"
   ]
  },
  {
   "cell_type": "code",
   "execution_count": 7,
   "metadata": {},
   "outputs": [],
   "source": [
    "link = soup.find('strong', {'class': 'field-content'}).find('a').attrs.get('href')"
   ]
  },
  {
   "cell_type": "code",
   "execution_count": 8,
   "metadata": {},
   "outputs": [
    {
     "data": {
      "text/plain": [
       "'/movie-reviews/the-music-of-silence'"
      ]
     },
     "execution_count": 8,
     "metadata": {},
     "output_type": "execute_result"
    }
   ],
   "source": [
    "link"
   ]
  },
  {
   "cell_type": "code",
   "execution_count": 9,
   "metadata": {},
   "outputs": [],
   "source": [
    "movies_urls.append('https://www.commonsensemedia.org' + link)"
   ]
  },
  {
   "cell_type": "code",
   "execution_count": 10,
   "metadata": {},
   "outputs": [
    {
     "data": {
      "text/plain": [
       "['https://www.commonsensemedia.org/movie-reviews/the-music-of-silence']"
      ]
     },
     "execution_count": 10,
     "metadata": {},
     "output_type": "execute_result"
    }
   ],
   "source": [
    "movies_urls"
   ]
  },
  {
   "cell_type": "code",
   "execution_count": 19,
   "metadata": {},
   "outputs": [],
   "source": [
    "movies_urls = []\n",
    "missed_urls_pages = []\n",
    "def get_movie_urls(num_pages):\n",
    "    for page in range(num_pages):\n",
    "        url = \"https://www.commonsensemedia.org/movie-reviews?page={}\".format(page)\n",
    "        print(url)\n",
    "        res = requests.get(url)\n",
    "        soup = bs4(res.content, 'lxml')\n",
    "        if res.status_code == 200:\n",
    "            for movie in soup.find_all('strong', {'class': 'field-content'}):\n",
    "                movies_urls.append('https://www.commonsensemedia.org'\n",
    "                                       + str(movie.find('a').attrs.get('href')))\n",
    "                time.sleep(.1)\n",
    "        else:\n",
    "            missed_urls_page.append('https://www.commonsensemedia.org'\n",
    "                                        + str(movie.find('a').attrs.get('href')))\n",
    "    return movies_urls, missed_urls_pages"
   ]
  },
  {
   "cell_type": "code",
   "execution_count": 20,
   "metadata": {},
   "outputs": [
    {
     "name": "stdout",
     "output_type": "stream",
     "text": [
      "https://www.commonsensemedia.org/movie-reviews?page=0\n",
      "https://www.commonsensemedia.org/movie-reviews?page=1\n",
      "https://www.commonsensemedia.org/movie-reviews?page=2\n",
      "https://www.commonsensemedia.org/movie-reviews?page=3\n",
      "https://www.commonsensemedia.org/movie-reviews?page=4\n",
      "https://www.commonsensemedia.org/movie-reviews?page=5\n",
      "https://www.commonsensemedia.org/movie-reviews?page=6\n",
      "https://www.commonsensemedia.org/movie-reviews?page=7\n",
      "https://www.commonsensemedia.org/movie-reviews?page=8\n",
      "https://www.commonsensemedia.org/movie-reviews?page=9\n",
      "https://www.commonsensemedia.org/movie-reviews?page=10\n",
      "https://www.commonsensemedia.org/movie-reviews?page=11\n",
      "https://www.commonsensemedia.org/movie-reviews?page=12\n",
      "https://www.commonsensemedia.org/movie-reviews?page=13\n",
      "https://www.commonsensemedia.org/movie-reviews?page=14\n",
      "https://www.commonsensemedia.org/movie-reviews?page=15\n",
      "https://www.commonsensemedia.org/movie-reviews?page=16\n",
      "https://www.commonsensemedia.org/movie-reviews?page=17\n",
      "https://www.commonsensemedia.org/movie-reviews?page=18\n",
      "https://www.commonsensemedia.org/movie-reviews?page=19\n",
      "https://www.commonsensemedia.org/movie-reviews?page=20\n",
      "https://www.commonsensemedia.org/movie-reviews?page=21\n",
      "https://www.commonsensemedia.org/movie-reviews?page=22\n",
      "https://www.commonsensemedia.org/movie-reviews?page=23\n",
      "https://www.commonsensemedia.org/movie-reviews?page=24\n",
      "https://www.commonsensemedia.org/movie-reviews?page=25\n",
      "https://www.commonsensemedia.org/movie-reviews?page=26\n",
      "https://www.commonsensemedia.org/movie-reviews?page=27\n",
      "https://www.commonsensemedia.org/movie-reviews?page=28\n",
      "https://www.commonsensemedia.org/movie-reviews?page=29\n",
      "https://www.commonsensemedia.org/movie-reviews?page=30\n",
      "https://www.commonsensemedia.org/movie-reviews?page=31\n",
      "https://www.commonsensemedia.org/movie-reviews?page=32\n",
      "https://www.commonsensemedia.org/movie-reviews?page=33\n",
      "https://www.commonsensemedia.org/movie-reviews?page=34\n",
      "https://www.commonsensemedia.org/movie-reviews?page=35\n",
      "https://www.commonsensemedia.org/movie-reviews?page=36\n",
      "https://www.commonsensemedia.org/movie-reviews?page=37\n",
      "https://www.commonsensemedia.org/movie-reviews?page=38\n",
      "https://www.commonsensemedia.org/movie-reviews?page=39\n",
      "https://www.commonsensemedia.org/movie-reviews?page=40\n",
      "https://www.commonsensemedia.org/movie-reviews?page=41\n",
      "https://www.commonsensemedia.org/movie-reviews?page=42\n",
      "https://www.commonsensemedia.org/movie-reviews?page=43\n",
      "https://www.commonsensemedia.org/movie-reviews?page=44\n",
      "https://www.commonsensemedia.org/movie-reviews?page=45\n",
      "https://www.commonsensemedia.org/movie-reviews?page=46\n",
      "https://www.commonsensemedia.org/movie-reviews?page=47\n",
      "https://www.commonsensemedia.org/movie-reviews?page=48\n",
      "https://www.commonsensemedia.org/movie-reviews?page=49\n",
      "https://www.commonsensemedia.org/movie-reviews?page=50\n",
      "https://www.commonsensemedia.org/movie-reviews?page=51\n",
      "https://www.commonsensemedia.org/movie-reviews?page=52\n",
      "https://www.commonsensemedia.org/movie-reviews?page=53\n",
      "https://www.commonsensemedia.org/movie-reviews?page=54\n",
      "https://www.commonsensemedia.org/movie-reviews?page=55\n",
      "https://www.commonsensemedia.org/movie-reviews?page=56\n",
      "https://www.commonsensemedia.org/movie-reviews?page=57\n",
      "https://www.commonsensemedia.org/movie-reviews?page=58\n",
      "https://www.commonsensemedia.org/movie-reviews?page=59\n",
      "https://www.commonsensemedia.org/movie-reviews?page=60\n",
      "https://www.commonsensemedia.org/movie-reviews?page=61\n",
      "https://www.commonsensemedia.org/movie-reviews?page=62\n",
      "https://www.commonsensemedia.org/movie-reviews?page=63\n",
      "https://www.commonsensemedia.org/movie-reviews?page=64\n",
      "https://www.commonsensemedia.org/movie-reviews?page=65\n",
      "https://www.commonsensemedia.org/movie-reviews?page=66\n",
      "https://www.commonsensemedia.org/movie-reviews?page=67\n",
      "https://www.commonsensemedia.org/movie-reviews?page=68\n",
      "https://www.commonsensemedia.org/movie-reviews?page=69\n",
      "https://www.commonsensemedia.org/movie-reviews?page=70\n",
      "https://www.commonsensemedia.org/movie-reviews?page=71\n",
      "https://www.commonsensemedia.org/movie-reviews?page=72\n",
      "https://www.commonsensemedia.org/movie-reviews?page=73\n",
      "https://www.commonsensemedia.org/movie-reviews?page=74\n",
      "https://www.commonsensemedia.org/movie-reviews?page=75\n",
      "https://www.commonsensemedia.org/movie-reviews?page=76\n",
      "https://www.commonsensemedia.org/movie-reviews?page=77\n",
      "https://www.commonsensemedia.org/movie-reviews?page=78\n",
      "https://www.commonsensemedia.org/movie-reviews?page=79\n",
      "https://www.commonsensemedia.org/movie-reviews?page=80\n",
      "https://www.commonsensemedia.org/movie-reviews?page=81\n",
      "https://www.commonsensemedia.org/movie-reviews?page=82\n",
      "https://www.commonsensemedia.org/movie-reviews?page=83\n",
      "https://www.commonsensemedia.org/movie-reviews?page=84\n",
      "https://www.commonsensemedia.org/movie-reviews?page=85\n",
      "https://www.commonsensemedia.org/movie-reviews?page=86\n",
      "https://www.commonsensemedia.org/movie-reviews?page=87\n",
      "https://www.commonsensemedia.org/movie-reviews?page=88\n",
      "https://www.commonsensemedia.org/movie-reviews?page=89\n",
      "https://www.commonsensemedia.org/movie-reviews?page=90\n",
      "https://www.commonsensemedia.org/movie-reviews?page=91\n",
      "https://www.commonsensemedia.org/movie-reviews?page=92\n",
      "https://www.commonsensemedia.org/movie-reviews?page=93\n",
      "https://www.commonsensemedia.org/movie-reviews?page=94\n",
      "https://www.commonsensemedia.org/movie-reviews?page=95\n",
      "https://www.commonsensemedia.org/movie-reviews?page=96\n",
      "https://www.commonsensemedia.org/movie-reviews?page=97\n",
      "https://www.commonsensemedia.org/movie-reviews?page=98\n",
      "https://www.commonsensemedia.org/movie-reviews?page=99\n",
      "https://www.commonsensemedia.org/movie-reviews?page=100\n",
      "https://www.commonsensemedia.org/movie-reviews?page=101\n",
      "https://www.commonsensemedia.org/movie-reviews?page=102\n",
      "https://www.commonsensemedia.org/movie-reviews?page=103\n",
      "https://www.commonsensemedia.org/movie-reviews?page=104\n",
      "https://www.commonsensemedia.org/movie-reviews?page=105\n",
      "https://www.commonsensemedia.org/movie-reviews?page=106\n",
      "https://www.commonsensemedia.org/movie-reviews?page=107\n",
      "https://www.commonsensemedia.org/movie-reviews?page=108\n",
      "https://www.commonsensemedia.org/movie-reviews?page=109\n",
      "https://www.commonsensemedia.org/movie-reviews?page=110\n",
      "https://www.commonsensemedia.org/movie-reviews?page=111\n",
      "https://www.commonsensemedia.org/movie-reviews?page=112\n",
      "https://www.commonsensemedia.org/movie-reviews?page=113\n",
      "https://www.commonsensemedia.org/movie-reviews?page=114\n",
      "https://www.commonsensemedia.org/movie-reviews?page=115\n",
      "https://www.commonsensemedia.org/movie-reviews?page=116\n",
      "https://www.commonsensemedia.org/movie-reviews?page=117\n",
      "https://www.commonsensemedia.org/movie-reviews?page=118\n",
      "https://www.commonsensemedia.org/movie-reviews?page=119\n",
      "https://www.commonsensemedia.org/movie-reviews?page=120\n",
      "https://www.commonsensemedia.org/movie-reviews?page=121\n",
      "https://www.commonsensemedia.org/movie-reviews?page=122\n",
      "https://www.commonsensemedia.org/movie-reviews?page=123\n",
      "https://www.commonsensemedia.org/movie-reviews?page=124\n",
      "https://www.commonsensemedia.org/movie-reviews?page=125\n",
      "https://www.commonsensemedia.org/movie-reviews?page=126\n",
      "https://www.commonsensemedia.org/movie-reviews?page=127\n",
      "https://www.commonsensemedia.org/movie-reviews?page=128\n",
      "https://www.commonsensemedia.org/movie-reviews?page=129\n",
      "https://www.commonsensemedia.org/movie-reviews?page=130\n",
      "https://www.commonsensemedia.org/movie-reviews?page=131\n",
      "https://www.commonsensemedia.org/movie-reviews?page=132\n",
      "https://www.commonsensemedia.org/movie-reviews?page=133\n",
      "https://www.commonsensemedia.org/movie-reviews?page=134\n",
      "https://www.commonsensemedia.org/movie-reviews?page=135\n",
      "https://www.commonsensemedia.org/movie-reviews?page=136\n",
      "https://www.commonsensemedia.org/movie-reviews?page=137\n",
      "https://www.commonsensemedia.org/movie-reviews?page=138\n",
      "https://www.commonsensemedia.org/movie-reviews?page=139\n",
      "https://www.commonsensemedia.org/movie-reviews?page=140\n",
      "https://www.commonsensemedia.org/movie-reviews?page=141\n",
      "https://www.commonsensemedia.org/movie-reviews?page=142\n",
      "https://www.commonsensemedia.org/movie-reviews?page=143\n",
      "https://www.commonsensemedia.org/movie-reviews?page=144\n",
      "https://www.commonsensemedia.org/movie-reviews?page=145\n",
      "https://www.commonsensemedia.org/movie-reviews?page=146\n",
      "https://www.commonsensemedia.org/movie-reviews?page=147\n",
      "https://www.commonsensemedia.org/movie-reviews?page=148\n"
     ]
    },
    {
     "name": "stdout",
     "output_type": "stream",
     "text": [
      "https://www.commonsensemedia.org/movie-reviews?page=149\n",
      "https://www.commonsensemedia.org/movie-reviews?page=150\n",
      "https://www.commonsensemedia.org/movie-reviews?page=151\n",
      "https://www.commonsensemedia.org/movie-reviews?page=152\n",
      "https://www.commonsensemedia.org/movie-reviews?page=153\n",
      "https://www.commonsensemedia.org/movie-reviews?page=154\n",
      "https://www.commonsensemedia.org/movie-reviews?page=155\n",
      "https://www.commonsensemedia.org/movie-reviews?page=156\n",
      "https://www.commonsensemedia.org/movie-reviews?page=157\n",
      "https://www.commonsensemedia.org/movie-reviews?page=158\n",
      "https://www.commonsensemedia.org/movie-reviews?page=159\n",
      "https://www.commonsensemedia.org/movie-reviews?page=160\n",
      "https://www.commonsensemedia.org/movie-reviews?page=161\n",
      "https://www.commonsensemedia.org/movie-reviews?page=162\n",
      "https://www.commonsensemedia.org/movie-reviews?page=163\n",
      "https://www.commonsensemedia.org/movie-reviews?page=164\n",
      "https://www.commonsensemedia.org/movie-reviews?page=165\n",
      "https://www.commonsensemedia.org/movie-reviews?page=166\n",
      "https://www.commonsensemedia.org/movie-reviews?page=167\n",
      "https://www.commonsensemedia.org/movie-reviews?page=168\n",
      "https://www.commonsensemedia.org/movie-reviews?page=169\n",
      "https://www.commonsensemedia.org/movie-reviews?page=170\n",
      "https://www.commonsensemedia.org/movie-reviews?page=171\n",
      "https://www.commonsensemedia.org/movie-reviews?page=172\n",
      "https://www.commonsensemedia.org/movie-reviews?page=173\n",
      "https://www.commonsensemedia.org/movie-reviews?page=174\n",
      "https://www.commonsensemedia.org/movie-reviews?page=175\n",
      "https://www.commonsensemedia.org/movie-reviews?page=176\n",
      "https://www.commonsensemedia.org/movie-reviews?page=177\n",
      "https://www.commonsensemedia.org/movie-reviews?page=178\n",
      "https://www.commonsensemedia.org/movie-reviews?page=179\n",
      "https://www.commonsensemedia.org/movie-reviews?page=180\n",
      "https://www.commonsensemedia.org/movie-reviews?page=181\n",
      "https://www.commonsensemedia.org/movie-reviews?page=182\n",
      "https://www.commonsensemedia.org/movie-reviews?page=183\n",
      "https://www.commonsensemedia.org/movie-reviews?page=184\n",
      "https://www.commonsensemedia.org/movie-reviews?page=185\n",
      "https://www.commonsensemedia.org/movie-reviews?page=186\n",
      "https://www.commonsensemedia.org/movie-reviews?page=187\n",
      "https://www.commonsensemedia.org/movie-reviews?page=188\n",
      "https://www.commonsensemedia.org/movie-reviews?page=189\n",
      "https://www.commonsensemedia.org/movie-reviews?page=190\n",
      "https://www.commonsensemedia.org/movie-reviews?page=191\n",
      "https://www.commonsensemedia.org/movie-reviews?page=192\n",
      "https://www.commonsensemedia.org/movie-reviews?page=193\n",
      "https://www.commonsensemedia.org/movie-reviews?page=194\n",
      "https://www.commonsensemedia.org/movie-reviews?page=195\n",
      "https://www.commonsensemedia.org/movie-reviews?page=196\n",
      "https://www.commonsensemedia.org/movie-reviews?page=197\n",
      "https://www.commonsensemedia.org/movie-reviews?page=198\n",
      "https://www.commonsensemedia.org/movie-reviews?page=199\n",
      "https://www.commonsensemedia.org/movie-reviews?page=200\n",
      "https://www.commonsensemedia.org/movie-reviews?page=201\n",
      "https://www.commonsensemedia.org/movie-reviews?page=202\n",
      "https://www.commonsensemedia.org/movie-reviews?page=203\n",
      "https://www.commonsensemedia.org/movie-reviews?page=204\n",
      "https://www.commonsensemedia.org/movie-reviews?page=205\n",
      "https://www.commonsensemedia.org/movie-reviews?page=206\n",
      "https://www.commonsensemedia.org/movie-reviews?page=207\n",
      "https://www.commonsensemedia.org/movie-reviews?page=208\n",
      "https://www.commonsensemedia.org/movie-reviews?page=209\n",
      "https://www.commonsensemedia.org/movie-reviews?page=210\n",
      "https://www.commonsensemedia.org/movie-reviews?page=211\n",
      "https://www.commonsensemedia.org/movie-reviews?page=212\n",
      "https://www.commonsensemedia.org/movie-reviews?page=213\n",
      "https://www.commonsensemedia.org/movie-reviews?page=214\n",
      "https://www.commonsensemedia.org/movie-reviews?page=215\n",
      "https://www.commonsensemedia.org/movie-reviews?page=216\n",
      "https://www.commonsensemedia.org/movie-reviews?page=217\n",
      "https://www.commonsensemedia.org/movie-reviews?page=218\n",
      "https://www.commonsensemedia.org/movie-reviews?page=219\n",
      "https://www.commonsensemedia.org/movie-reviews?page=220\n",
      "https://www.commonsensemedia.org/movie-reviews?page=221\n",
      "https://www.commonsensemedia.org/movie-reviews?page=222\n",
      "https://www.commonsensemedia.org/movie-reviews?page=223\n",
      "https://www.commonsensemedia.org/movie-reviews?page=224\n",
      "https://www.commonsensemedia.org/movie-reviews?page=225\n",
      "https://www.commonsensemedia.org/movie-reviews?page=226\n",
      "https://www.commonsensemedia.org/movie-reviews?page=227\n",
      "https://www.commonsensemedia.org/movie-reviews?page=228\n",
      "https://www.commonsensemedia.org/movie-reviews?page=229\n",
      "https://www.commonsensemedia.org/movie-reviews?page=230\n",
      "https://www.commonsensemedia.org/movie-reviews?page=231\n",
      "https://www.commonsensemedia.org/movie-reviews?page=232\n",
      "https://www.commonsensemedia.org/movie-reviews?page=233\n",
      "https://www.commonsensemedia.org/movie-reviews?page=234\n",
      "https://www.commonsensemedia.org/movie-reviews?page=235\n",
      "https://www.commonsensemedia.org/movie-reviews?page=236\n",
      "https://www.commonsensemedia.org/movie-reviews?page=237\n",
      "https://www.commonsensemedia.org/movie-reviews?page=238\n",
      "https://www.commonsensemedia.org/movie-reviews?page=239\n",
      "https://www.commonsensemedia.org/movie-reviews?page=240\n",
      "https://www.commonsensemedia.org/movie-reviews?page=241\n",
      "https://www.commonsensemedia.org/movie-reviews?page=242\n",
      "https://www.commonsensemedia.org/movie-reviews?page=243\n",
      "https://www.commonsensemedia.org/movie-reviews?page=244\n",
      "https://www.commonsensemedia.org/movie-reviews?page=245\n",
      "https://www.commonsensemedia.org/movie-reviews?page=246\n",
      "https://www.commonsensemedia.org/movie-reviews?page=247\n",
      "https://www.commonsensemedia.org/movie-reviews?page=248\n",
      "https://www.commonsensemedia.org/movie-reviews?page=249\n",
      "https://www.commonsensemedia.org/movie-reviews?page=250\n",
      "https://www.commonsensemedia.org/movie-reviews?page=251\n",
      "https://www.commonsensemedia.org/movie-reviews?page=252\n",
      "https://www.commonsensemedia.org/movie-reviews?page=253\n",
      "https://www.commonsensemedia.org/movie-reviews?page=254\n",
      "https://www.commonsensemedia.org/movie-reviews?page=255\n",
      "https://www.commonsensemedia.org/movie-reviews?page=256\n",
      "https://www.commonsensemedia.org/movie-reviews?page=257\n",
      "https://www.commonsensemedia.org/movie-reviews?page=258\n",
      "https://www.commonsensemedia.org/movie-reviews?page=259\n",
      "https://www.commonsensemedia.org/movie-reviews?page=260\n",
      "https://www.commonsensemedia.org/movie-reviews?page=261\n",
      "https://www.commonsensemedia.org/movie-reviews?page=262\n",
      "https://www.commonsensemedia.org/movie-reviews?page=263\n",
      "https://www.commonsensemedia.org/movie-reviews?page=264\n",
      "https://www.commonsensemedia.org/movie-reviews?page=265\n",
      "https://www.commonsensemedia.org/movie-reviews?page=266\n",
      "https://www.commonsensemedia.org/movie-reviews?page=267\n",
      "https://www.commonsensemedia.org/movie-reviews?page=268\n",
      "https://www.commonsensemedia.org/movie-reviews?page=269\n",
      "https://www.commonsensemedia.org/movie-reviews?page=270\n",
      "https://www.commonsensemedia.org/movie-reviews?page=271\n",
      "https://www.commonsensemedia.org/movie-reviews?page=272\n",
      "https://www.commonsensemedia.org/movie-reviews?page=273\n",
      "https://www.commonsensemedia.org/movie-reviews?page=274\n",
      "https://www.commonsensemedia.org/movie-reviews?page=275\n",
      "https://www.commonsensemedia.org/movie-reviews?page=276\n",
      "https://www.commonsensemedia.org/movie-reviews?page=277\n",
      "https://www.commonsensemedia.org/movie-reviews?page=278\n",
      "https://www.commonsensemedia.org/movie-reviews?page=279\n",
      "https://www.commonsensemedia.org/movie-reviews?page=280\n",
      "https://www.commonsensemedia.org/movie-reviews?page=281\n",
      "https://www.commonsensemedia.org/movie-reviews?page=282\n",
      "https://www.commonsensemedia.org/movie-reviews?page=283\n",
      "https://www.commonsensemedia.org/movie-reviews?page=284\n",
      "https://www.commonsensemedia.org/movie-reviews?page=285\n",
      "https://www.commonsensemedia.org/movie-reviews?page=286\n",
      "https://www.commonsensemedia.org/movie-reviews?page=287\n",
      "https://www.commonsensemedia.org/movie-reviews?page=288\n",
      "https://www.commonsensemedia.org/movie-reviews?page=289\n",
      "https://www.commonsensemedia.org/movie-reviews?page=290\n",
      "https://www.commonsensemedia.org/movie-reviews?page=291\n",
      "https://www.commonsensemedia.org/movie-reviews?page=292\n",
      "https://www.commonsensemedia.org/movie-reviews?page=293\n",
      "https://www.commonsensemedia.org/movie-reviews?page=294\n",
      "https://www.commonsensemedia.org/movie-reviews?page=295\n"
     ]
    },
    {
     "name": "stdout",
     "output_type": "stream",
     "text": [
      "https://www.commonsensemedia.org/movie-reviews?page=296\n",
      "https://www.commonsensemedia.org/movie-reviews?page=297\n",
      "https://www.commonsensemedia.org/movie-reviews?page=298\n",
      "https://www.commonsensemedia.org/movie-reviews?page=299\n",
      "https://www.commonsensemedia.org/movie-reviews?page=300\n",
      "https://www.commonsensemedia.org/movie-reviews?page=301\n",
      "https://www.commonsensemedia.org/movie-reviews?page=302\n",
      "https://www.commonsensemedia.org/movie-reviews?page=303\n",
      "https://www.commonsensemedia.org/movie-reviews?page=304\n",
      "https://www.commonsensemedia.org/movie-reviews?page=305\n",
      "https://www.commonsensemedia.org/movie-reviews?page=306\n",
      "https://www.commonsensemedia.org/movie-reviews?page=307\n",
      "https://www.commonsensemedia.org/movie-reviews?page=308\n",
      "https://www.commonsensemedia.org/movie-reviews?page=309\n",
      "https://www.commonsensemedia.org/movie-reviews?page=310\n",
      "https://www.commonsensemedia.org/movie-reviews?page=311\n",
      "https://www.commonsensemedia.org/movie-reviews?page=312\n",
      "https://www.commonsensemedia.org/movie-reviews?page=313\n",
      "https://www.commonsensemedia.org/movie-reviews?page=314\n",
      "https://www.commonsensemedia.org/movie-reviews?page=315\n",
      "https://www.commonsensemedia.org/movie-reviews?page=316\n",
      "https://www.commonsensemedia.org/movie-reviews?page=317\n",
      "https://www.commonsensemedia.org/movie-reviews?page=318\n",
      "https://www.commonsensemedia.org/movie-reviews?page=319\n",
      "https://www.commonsensemedia.org/movie-reviews?page=320\n",
      "https://www.commonsensemedia.org/movie-reviews?page=321\n",
      "https://www.commonsensemedia.org/movie-reviews?page=322\n",
      "https://www.commonsensemedia.org/movie-reviews?page=323\n",
      "https://www.commonsensemedia.org/movie-reviews?page=324\n",
      "https://www.commonsensemedia.org/movie-reviews?page=325\n",
      "https://www.commonsensemedia.org/movie-reviews?page=326\n",
      "https://www.commonsensemedia.org/movie-reviews?page=327\n",
      "https://www.commonsensemedia.org/movie-reviews?page=328\n",
      "https://www.commonsensemedia.org/movie-reviews?page=329\n",
      "https://www.commonsensemedia.org/movie-reviews?page=330\n",
      "https://www.commonsensemedia.org/movie-reviews?page=331\n",
      "https://www.commonsensemedia.org/movie-reviews?page=332\n",
      "https://www.commonsensemedia.org/movie-reviews?page=333\n",
      "https://www.commonsensemedia.org/movie-reviews?page=334\n",
      "https://www.commonsensemedia.org/movie-reviews?page=335\n",
      "https://www.commonsensemedia.org/movie-reviews?page=336\n",
      "https://www.commonsensemedia.org/movie-reviews?page=337\n",
      "https://www.commonsensemedia.org/movie-reviews?page=338\n",
      "https://www.commonsensemedia.org/movie-reviews?page=339\n",
      "https://www.commonsensemedia.org/movie-reviews?page=340\n",
      "https://www.commonsensemedia.org/movie-reviews?page=341\n",
      "https://www.commonsensemedia.org/movie-reviews?page=342\n",
      "https://www.commonsensemedia.org/movie-reviews?page=343\n",
      "https://www.commonsensemedia.org/movie-reviews?page=344\n",
      "https://www.commonsensemedia.org/movie-reviews?page=345\n",
      "https://www.commonsensemedia.org/movie-reviews?page=346\n",
      "https://www.commonsensemedia.org/movie-reviews?page=347\n",
      "https://www.commonsensemedia.org/movie-reviews?page=348\n",
      "https://www.commonsensemedia.org/movie-reviews?page=349\n",
      "https://www.commonsensemedia.org/movie-reviews?page=350\n",
      "https://www.commonsensemedia.org/movie-reviews?page=351\n",
      "https://www.commonsensemedia.org/movie-reviews?page=352\n",
      "https://www.commonsensemedia.org/movie-reviews?page=353\n",
      "https://www.commonsensemedia.org/movie-reviews?page=354\n",
      "https://www.commonsensemedia.org/movie-reviews?page=355\n",
      "https://www.commonsensemedia.org/movie-reviews?page=356\n",
      "https://www.commonsensemedia.org/movie-reviews?page=357\n",
      "https://www.commonsensemedia.org/movie-reviews?page=358\n",
      "https://www.commonsensemedia.org/movie-reviews?page=359\n",
      "https://www.commonsensemedia.org/movie-reviews?page=360\n",
      "https://www.commonsensemedia.org/movie-reviews?page=361\n",
      "https://www.commonsensemedia.org/movie-reviews?page=362\n",
      "https://www.commonsensemedia.org/movie-reviews?page=363\n",
      "https://www.commonsensemedia.org/movie-reviews?page=364\n",
      "https://www.commonsensemedia.org/movie-reviews?page=365\n",
      "https://www.commonsensemedia.org/movie-reviews?page=366\n",
      "https://www.commonsensemedia.org/movie-reviews?page=367\n",
      "https://www.commonsensemedia.org/movie-reviews?page=368\n",
      "https://www.commonsensemedia.org/movie-reviews?page=369\n",
      "https://www.commonsensemedia.org/movie-reviews?page=370\n",
      "https://www.commonsensemedia.org/movie-reviews?page=371\n",
      "https://www.commonsensemedia.org/movie-reviews?page=372\n",
      "https://www.commonsensemedia.org/movie-reviews?page=373\n",
      "https://www.commonsensemedia.org/movie-reviews?page=374\n",
      "https://www.commonsensemedia.org/movie-reviews?page=375\n",
      "https://www.commonsensemedia.org/movie-reviews?page=376\n",
      "https://www.commonsensemedia.org/movie-reviews?page=377\n",
      "https://www.commonsensemedia.org/movie-reviews?page=378\n",
      "https://www.commonsensemedia.org/movie-reviews?page=379\n",
      "https://www.commonsensemedia.org/movie-reviews?page=380\n",
      "https://www.commonsensemedia.org/movie-reviews?page=381\n",
      "https://www.commonsensemedia.org/movie-reviews?page=382\n",
      "https://www.commonsensemedia.org/movie-reviews?page=383\n",
      "https://www.commonsensemedia.org/movie-reviews?page=384\n",
      "https://www.commonsensemedia.org/movie-reviews?page=385\n",
      "https://www.commonsensemedia.org/movie-reviews?page=386\n",
      "https://www.commonsensemedia.org/movie-reviews?page=387\n",
      "https://www.commonsensemedia.org/movie-reviews?page=388\n",
      "https://www.commonsensemedia.org/movie-reviews?page=389\n",
      "https://www.commonsensemedia.org/movie-reviews?page=390\n",
      "https://www.commonsensemedia.org/movie-reviews?page=391\n",
      "https://www.commonsensemedia.org/movie-reviews?page=392\n",
      "https://www.commonsensemedia.org/movie-reviews?page=393\n",
      "https://www.commonsensemedia.org/movie-reviews?page=394\n",
      "https://www.commonsensemedia.org/movie-reviews?page=395\n",
      "https://www.commonsensemedia.org/movie-reviews?page=396\n",
      "https://www.commonsensemedia.org/movie-reviews?page=397\n",
      "https://www.commonsensemedia.org/movie-reviews?page=398\n",
      "https://www.commonsensemedia.org/movie-reviews?page=399\n",
      "https://www.commonsensemedia.org/movie-reviews?page=400\n",
      "https://www.commonsensemedia.org/movie-reviews?page=401\n",
      "https://www.commonsensemedia.org/movie-reviews?page=402\n",
      "https://www.commonsensemedia.org/movie-reviews?page=403\n",
      "https://www.commonsensemedia.org/movie-reviews?page=404\n",
      "https://www.commonsensemedia.org/movie-reviews?page=405\n",
      "https://www.commonsensemedia.org/movie-reviews?page=406\n",
      "https://www.commonsensemedia.org/movie-reviews?page=407\n",
      "https://www.commonsensemedia.org/movie-reviews?page=408\n",
      "https://www.commonsensemedia.org/movie-reviews?page=409\n",
      "https://www.commonsensemedia.org/movie-reviews?page=410\n",
      "https://www.commonsensemedia.org/movie-reviews?page=411\n",
      "https://www.commonsensemedia.org/movie-reviews?page=412\n",
      "https://www.commonsensemedia.org/movie-reviews?page=413\n",
      "https://www.commonsensemedia.org/movie-reviews?page=414\n",
      "https://www.commonsensemedia.org/movie-reviews?page=415\n",
      "https://www.commonsensemedia.org/movie-reviews?page=416\n",
      "https://www.commonsensemedia.org/movie-reviews?page=417\n",
      "https://www.commonsensemedia.org/movie-reviews?page=418\n",
      "https://www.commonsensemedia.org/movie-reviews?page=419\n",
      "https://www.commonsensemedia.org/movie-reviews?page=420\n",
      "https://www.commonsensemedia.org/movie-reviews?page=421\n",
      "https://www.commonsensemedia.org/movie-reviews?page=422\n",
      "https://www.commonsensemedia.org/movie-reviews?page=423\n",
      "https://www.commonsensemedia.org/movie-reviews?page=424\n",
      "https://www.commonsensemedia.org/movie-reviews?page=425\n",
      "https://www.commonsensemedia.org/movie-reviews?page=426\n",
      "https://www.commonsensemedia.org/movie-reviews?page=427\n",
      "https://www.commonsensemedia.org/movie-reviews?page=428\n",
      "https://www.commonsensemedia.org/movie-reviews?page=429\n",
      "https://www.commonsensemedia.org/movie-reviews?page=430\n",
      "https://www.commonsensemedia.org/movie-reviews?page=431\n",
      "https://www.commonsensemedia.org/movie-reviews?page=432\n",
      "https://www.commonsensemedia.org/movie-reviews?page=433\n",
      "https://www.commonsensemedia.org/movie-reviews?page=434\n",
      "https://www.commonsensemedia.org/movie-reviews?page=435\n",
      "https://www.commonsensemedia.org/movie-reviews?page=436\n",
      "https://www.commonsensemedia.org/movie-reviews?page=437\n",
      "https://www.commonsensemedia.org/movie-reviews?page=438\n"
     ]
    }
   ],
   "source": [
    "# Scrapes URL's from Common Sense Media's website\n",
    "# ***Do not run this cell*** unless you want to rescrape. It will take about 35 minutes\n",
    "movies_urls, missed_urls_pages = get_movie_urls(439)"
   ]
  },
  {
   "cell_type": "code",
   "execution_count": 21,
   "metadata": {},
   "outputs": [
    {
     "data": {
      "text/plain": [
       "[]"
      ]
     },
     "execution_count": 21,
     "metadata": {},
     "output_type": "execute_result"
    }
   ],
   "source": [
    "missed_urls_pages  # No missing pages when run 7/14/2018"
   ]
  },
  {
   "cell_type": "code",
   "execution_count": 22,
   "metadata": {},
   "outputs": [
    {
     "data": {
      "text/plain": [
       "['https://www.commonsensemedia.org/movie-reviews/the-music-of-silence',\n",
       " 'https://www.commonsensemedia.org/movie-reviews/the-miseducation-of-cameron-post',\n",
       " 'https://www.commonsensemedia.org/movie-reviews/the-spy-who-dumped-me',\n",
       " 'https://www.commonsensemedia.org/movie-reviews/the-darkest-minds',\n",
       " 'https://www.commonsensemedia.org/movie-reviews/like-father']"
      ]
     },
     "execution_count": 22,
     "metadata": {},
     "output_type": "execute_result"
    }
   ],
   "source": [
    "movies_urls[:5]"
   ]
  },
  {
   "cell_type": "code",
   "execution_count": 23,
   "metadata": {},
   "outputs": [
    {
     "data": {
      "text/plain": [
       "8765"
      ]
     },
     "execution_count": 23,
     "metadata": {},
     "output_type": "execute_result"
    }
   ],
   "source": [
    "len(movies_urls)"
   ]
  },
  {
   "cell_type": "code",
   "execution_count": 24,
   "metadata": {},
   "outputs": [],
   "source": [
    "with open('data/movies_urls.json', 'w') as output:\n",
    "    json.dump(movies_urls, output)"
   ]
  },
  {
   "cell_type": "markdown",
   "metadata": {},
   "source": [
    "#### List of movie URL's saved as movies_urls.json for use in the next notebook for scraping..."
   ]
  },
  {
   "cell_type": "code",
   "execution_count": null,
   "metadata": {},
   "outputs": [],
   "source": []
  }
 ],
 "metadata": {
  "kernelspec": {
   "display_name": "Python [default]",
   "language": "python",
   "name": "python3"
  },
  "language_info": {
   "codemirror_mode": {
    "name": "ipython",
    "version": 3
   },
   "file_extension": ".py",
   "mimetype": "text/x-python",
   "name": "python",
   "nbconvert_exporter": "python",
   "pygments_lexer": "ipython3",
   "version": "3.6.4"
  }
 },
 "nbformat": 4,
 "nbformat_minor": 2
}

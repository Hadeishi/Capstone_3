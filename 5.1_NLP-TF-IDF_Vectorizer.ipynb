{
 "cells": [
  {
   "cell_type": "markdown",
   "metadata": {},
   "source": [
    "## Tokenizing and TF-IDF Vectorization:  Text-based Cosine Similarity\n",
    "#### In this notebook, I will process the text data to each movie, doing final cleaning of punctuation, making all words lowercase and spliting text into individual word \"tokens\" (N.B., for those who are text processing-savvy, this was done outside of Vectorizers in order to retain the '-', since curse words are represented in these reviews as s--t and f--k. The frequency with which these curse words appear in reviews may be an important text feature for parents).\n",
    "\n",
    "#### Tokenized text will then be vectorized using TF-IDF Vectorizer. TF-IDF Vectorizer will take the frequency of words found in text and divide by the frequency with which each term appears in all documents put together. This technique is designed to give greater weight to terms that occur frequently in a document but not in other documents, thus controlling for words that appear frequently in all movies--- such as the word, \"movie,\" for example. It will then turn the TF-IDF statistic into the movie's \"word vector.\" These word vectors will then be run through Truncated SVD.\n",
    "\n",
    "#### Truncated SVD is a procedure designed to capture the most variance in our collected movie word vectors using the fewest possible components. Each component is a linear combination of word vectors, each word contributing to each component by a particular positive or negative weight (see below for examples). I will then analyze these components to see if I can derive some meaning from the words that contribute to them (see below).\n",
    "\n",
    "#### Once we get our text data into truncatedSVD format, I will then use cosine similarity to determine which movies are most similar to which other movies in our data set. Cosine similarity is a procedure whereby movies whose associated text contains similar words will be described by vectors that \"point in similar directions,\" if you will, through the vector space defined by truncatedSVD. Movies with vectors that point in similar directions will have higher cosine similarities and so will be deemed to be similar according to this movie recommender.\n",
    "\n",
    "#### We will then also incorporate non-text data to see how this improves our cosine similarity-based similarity matrix (see below)."
   ]
  },
  {
   "cell_type": "markdown",
   "metadata": {},
   "source": [
    "### Load Movie Text Data"
   ]
  },
  {
   "cell_type": "code",
   "execution_count": 1,
   "metadata": {},
   "outputs": [
    {
     "name": "stderr",
     "output_type": "stream",
     "text": [
      "/Users/yukiharuhadeishi/anaconda3/lib/python3.6/site-packages/fuzzywuzzy/fuzz.py:35: UserWarning: Using slow pure-python SequenceMatcher. Install python-Levenshtein to remove this warning\n",
      "  warnings.warn('Using slow pure-python SequenceMatcher. Install python-Levenshtein to remove this warning')\n"
     ]
    }
   ],
   "source": [
    "import pandas as pd\n",
    "import numpy as np\n",
    "import requests, re, json, copy, pickle\n",
    "import matplotlib.pyplot as plt\n",
    "from nltk.tokenize import RegexpTokenizer\n",
    "from nltk.corpus import stopwords\n",
    "from sklearn.feature_extraction.text import CountVectorizer, TfidfVectorizer\n",
    "from sklearn.decomposition import TruncatedSVD\n",
    "from sklearn.metrics.pairwise import cosine_similarity\n",
    "from fuzzywuzzy import process"
   ]
  },
  {
   "cell_type": "code",
   "execution_count": 2,
   "metadata": {},
   "outputs": [],
   "source": [
    "# Load json of movies_features_text\n",
    "with open('data/movies_features_text.json') as json_file:  \n",
    "    movies_features_text = json.load(json_file)"
   ]
  },
  {
   "cell_type": "code",
   "execution_count": 3,
   "metadata": {},
   "outputs": [
    {
     "data": {
      "text/html": [
       "<div>\n",
       "<style scoped>\n",
       "    .dataframe tbody tr th:only-of-type {\n",
       "        vertical-align: middle;\n",
       "    }\n",
       "\n",
       "    .dataframe tbody tr th {\n",
       "        vertical-align: top;\n",
       "    }\n",
       "\n",
       "    .dataframe thead th {\n",
       "        text-align: right;\n",
       "    }\n",
       "</style>\n",
       "<table border=\"1\" class=\"dataframe\">\n",
       "  <thead>\n",
       "    <tr style=\"text-align: right;\">\n",
       "      <th></th>\n",
       "      <th>movie_id</th>\n",
       "      <th>slug</th>\n",
       "      <th>text</th>\n",
       "      <th>title</th>\n",
       "    </tr>\n",
       "  </thead>\n",
       "  <tbody>\n",
       "    <tr>\n",
       "      <th>0</th>\n",
       "      <td>0</td>\n",
       "      <td>the-music-of-silence</td>\n",
       "      <td>Families can talk about how The Music of Silen...</td>\n",
       "      <td>The Music of Silence</td>\n",
       "    </tr>\n",
       "    <tr>\n",
       "      <th>1</th>\n",
       "      <td>1</td>\n",
       "      <td>the-miseducation-of-cameron-post</td>\n",
       "      <td>Families can talk about how The Miseducation o...</td>\n",
       "      <td>The Miseducation of Cameron Post</td>\n",
       "    </tr>\n",
       "    <tr>\n",
       "      <th>2</th>\n",
       "      <td>2</td>\n",
       "      <td>the-spy-who-dumped-me</td>\n",
       "      <td>Families can talk about whether The Spy Who Du...</td>\n",
       "      <td>The Spy Who Dumped Me</td>\n",
       "    </tr>\n",
       "    <tr>\n",
       "      <th>3</th>\n",
       "      <td>3</td>\n",
       "      <td>the-darkest-minds</td>\n",
       "      <td>Families can talk about The Darkest Minds and ...</td>\n",
       "      <td>The Darkest Minds</td>\n",
       "    </tr>\n",
       "    <tr>\n",
       "      <th>4</th>\n",
       "      <td>4</td>\n",
       "      <td>like-father</td>\n",
       "      <td>Families can talk about the elements that make...</td>\n",
       "      <td>Like Father</td>\n",
       "    </tr>\n",
       "  </tbody>\n",
       "</table>\n",
       "</div>"
      ],
      "text/plain": [
       "   movie_id                              slug  \\\n",
       "0         0              the-music-of-silence   \n",
       "1         1  the-miseducation-of-cameron-post   \n",
       "2         2             the-spy-who-dumped-me   \n",
       "3         3                 the-darkest-minds   \n",
       "4         4                       like-father   \n",
       "\n",
       "                                                text  \\\n",
       "0  Families can talk about how The Music of Silen...   \n",
       "1  Families can talk about how The Miseducation o...   \n",
       "2  Families can talk about whether The Spy Who Du...   \n",
       "3  Families can talk about The Darkest Minds and ...   \n",
       "4  Families can talk about the elements that make...   \n",
       "\n",
       "                              title  \n",
       "0              The Music of Silence  \n",
       "1  The Miseducation of Cameron Post  \n",
       "2             The Spy Who Dumped Me  \n",
       "3                 The Darkest Minds  \n",
       "4                       Like Father  "
      ]
     },
     "execution_count": 3,
     "metadata": {},
     "output_type": "execute_result"
    }
   ],
   "source": [
    "df = pd.DataFrame(movies_features_text)\n",
    "df.head()"
   ]
  },
  {
   "cell_type": "code",
   "execution_count": 4,
   "metadata": {},
   "outputs": [],
   "source": [
    "def get_movie_list(last_movie):\n",
    "    for movie_num in range(last_movie):\n",
    "        movie_titles = movies_features_text[movie_num]['title']\n",
    "        return movie_titles"
   ]
  },
  {
   "cell_type": "code",
   "execution_count": 5,
   "metadata": {},
   "outputs": [
    {
     "data": {
      "text/plain": [
       "\"Families can talk about how The Music of Silence portrays Bocelli  blindness. How does it compare to other representations of disabilities you've seen on-screen? Does it feel realistic? Do you think it gave a real picture of Bocelli  personal struggle?   How accurate do you think the movie is to actual events overall? Why might filmmakers decide to change the facts in a movie t\""
      ]
     },
     "execution_count": 5,
     "metadata": {},
     "output_type": "execute_result"
    }
   ],
   "source": [
    "movies_features_text[0]['text'][:380]"
   ]
  },
  {
   "cell_type": "code",
   "execution_count": 6,
   "metadata": {},
   "outputs": [],
   "source": [
    "stopwords = set(stopwords.words('english'))\n",
    "# Remove punctuation from all text of each movie and remove stopwords\n",
    "def clean_text_for_movie(text):\n",
    "    '''\n",
    "    Takes in all text of a single movie, makes lowercase and removes punctuation and stopwords\n",
    "    from text. Returns words in input text as a single string, w/o English stopwords.\n",
    "    '''\n",
    "    words = re.sub(\"[^a-zA-Z\\-]\", \" \", text).lower().split()  # removes punctuation, makes lowercase\n",
    "    cleantext = [w for w in words if not w in stopwords]  # eliminates common \"stop words\"\n",
    "    return(\" \".join(cleantext))  # returns words as a string, each word separated by a space"
   ]
  },
  {
   "cell_type": "code",
   "execution_count": 7,
   "metadata": {},
   "outputs": [],
   "source": [
    "clean_text_test = clean_text_for_movie(movies_features_text[0]['text'])"
   ]
  },
  {
   "cell_type": "code",
   "execution_count": 8,
   "metadata": {},
   "outputs": [
    {
     "data": {
      "text/plain": [
       "'families talk music silence portrays bocelli blindness compare representations disabilities seen on-screen feel realistic think gave real picture bocelli personal struggle accurate think movie actual events overall might filmmakers decide change facts movie b'"
      ]
     },
     "execution_count": 8,
     "metadata": {},
     "output_type": "execute_result"
    }
   ],
   "source": [
    "clean_text_test[:259]"
   ]
  },
  {
   "cell_type": "code",
   "execution_count": 9,
   "metadata": {},
   "outputs": [],
   "source": [
    "clean_text = []\n",
    "def clean_text_for_movies(first_movie, num_movies_to_clean):\n",
    "    print(\"Number of movies cleaned so far:\")\n",
    "    for movie in range(num_movies_to_clean):\n",
    "        movie = (movie + first_movie)\n",
    "        if movie % 1000 == 0:\n",
    "            print(movie)\n",
    "        clean_txt = clean_text_for_movie(movies_features_text[movie]['text'])\n",
    "        movies_features_text[movie]['clean_text'] = clean_txt\n",
    "        clean_text.append(clean_txt)\n",
    "    return clean_text"
   ]
  },
  {
   "cell_type": "code",
   "execution_count": 10,
   "metadata": {},
   "outputs": [
    {
     "name": "stdout",
     "output_type": "stream",
     "text": [
      "Number of movies cleaned so far:\n",
      "0\n",
      "1000\n",
      "2000\n",
      "3000\n",
      "4000\n",
      "5000\n",
      "6000\n",
      "7000\n",
      "8000\n"
     ]
    }
   ],
   "source": [
    "clean_text = clean_text_for_movies(0,len(movies_features_text))"
   ]
  },
  {
   "cell_type": "code",
   "execution_count": 11,
   "metadata": {},
   "outputs": [
    {
     "data": {
      "text/html": [
       "<div>\n",
       "<style scoped>\n",
       "    .dataframe tbody tr th:only-of-type {\n",
       "        vertical-align: middle;\n",
       "    }\n",
       "\n",
       "    .dataframe tbody tr th {\n",
       "        vertical-align: top;\n",
       "    }\n",
       "\n",
       "    .dataframe thead th {\n",
       "        text-align: right;\n",
       "    }\n",
       "</style>\n",
       "<table border=\"1\" class=\"dataframe\">\n",
       "  <thead>\n",
       "    <tr style=\"text-align: right;\">\n",
       "      <th></th>\n",
       "      <th>clean_text</th>\n",
       "      <th>movie_id</th>\n",
       "      <th>slug</th>\n",
       "      <th>text</th>\n",
       "      <th>title</th>\n",
       "    </tr>\n",
       "  </thead>\n",
       "  <tbody>\n",
       "    <tr>\n",
       "      <th>0</th>\n",
       "      <td>families talk music silence portrays bocelli b...</td>\n",
       "      <td>0</td>\n",
       "      <td>the-music-of-silence</td>\n",
       "      <td>Families can talk about how The Music of Silen...</td>\n",
       "      <td>The Music of Silence</td>\n",
       "    </tr>\n",
       "    <tr>\n",
       "      <th>1</th>\n",
       "      <td>families talk miseducation cameron post depict...</td>\n",
       "      <td>1</td>\n",
       "      <td>the-miseducation-of-cameron-post</td>\n",
       "      <td>Families can talk about how The Miseducation o...</td>\n",
       "      <td>The Miseducation of Cameron Post</td>\n",
       "    </tr>\n",
       "    <tr>\n",
       "      <th>2</th>\n",
       "      <td>families talk whether spy dumped defies gender...</td>\n",
       "      <td>2</td>\n",
       "      <td>the-spy-who-dumped-me</td>\n",
       "      <td>Families can talk about whether The Spy Who Du...</td>\n",
       "      <td>The Spy Who Dumped Me</td>\n",
       "    </tr>\n",
       "    <tr>\n",
       "      <th>3</th>\n",
       "      <td>families talk darkest minds popularity post-ap...</td>\n",
       "      <td>3</td>\n",
       "      <td>the-darkest-minds</td>\n",
       "      <td>Families can talk about The Darkest Minds and ...</td>\n",
       "      <td>The Darkest Minds</td>\n",
       "    </tr>\n",
       "    <tr>\n",
       "      <th>4</th>\n",
       "      <td>families talk elements make movie predictable ...</td>\n",
       "      <td>4</td>\n",
       "      <td>like-father</td>\n",
       "      <td>Families can talk about the elements that make...</td>\n",
       "      <td>Like Father</td>\n",
       "    </tr>\n",
       "  </tbody>\n",
       "</table>\n",
       "</div>"
      ],
      "text/plain": [
       "                                          clean_text  movie_id  \\\n",
       "0  families talk music silence portrays bocelli b...         0   \n",
       "1  families talk miseducation cameron post depict...         1   \n",
       "2  families talk whether spy dumped defies gender...         2   \n",
       "3  families talk darkest minds popularity post-ap...         3   \n",
       "4  families talk elements make movie predictable ...         4   \n",
       "\n",
       "                               slug  \\\n",
       "0              the-music-of-silence   \n",
       "1  the-miseducation-of-cameron-post   \n",
       "2             the-spy-who-dumped-me   \n",
       "3                 the-darkest-minds   \n",
       "4                       like-father   \n",
       "\n",
       "                                                text  \\\n",
       "0  Families can talk about how The Music of Silen...   \n",
       "1  Families can talk about how The Miseducation o...   \n",
       "2  Families can talk about whether The Spy Who Du...   \n",
       "3  Families can talk about The Darkest Minds and ...   \n",
       "4  Families can talk about the elements that make...   \n",
       "\n",
       "                              title  \n",
       "0              The Music of Silence  \n",
       "1  The Miseducation of Cameron Post  \n",
       "2             The Spy Who Dumped Me  \n",
       "3                 The Darkest Minds  \n",
       "4                       Like Father  "
      ]
     },
     "execution_count": 11,
     "metadata": {},
     "output_type": "execute_result"
    }
   ],
   "source": [
    "df = pd.DataFrame(movies_features_text)\n",
    "df.head()"
   ]
  },
  {
   "cell_type": "markdown",
   "metadata": {},
   "source": [
    "#### Movies_features_text now has two new features, one of which contains the list of words used in movie reviews and other text associated with each of our 8625 unique movies and a second list that contains a list of bigrams of these words, to capture names of actors, separated by sentence. movies_fetures_text is now ready for vectorization."
   ]
  },
  {
   "cell_type": "markdown",
   "metadata": {},
   "source": [
    "### Vectorize text for NLP:  TF-IDF\n",
    "#### In this notebook, I will use a process called TF-IDF (Term Frequency Inverse Document Frequency) Vectorization on my text data. TF-IDF gives the frequency of each word in the words associated with each movie (termed a \"document\") normalized by the frequency with which that word appears in all of the documents combined. In other words, words that appear frequently in text associated with all movies in general are not going to be counted as important as words that appear frequently in a small subset of documents.\n",
    "#### After TD-IDF vectorization, I will then use truncated SVD on text data alone to reduce the number of features to reduce overfitting. The components that result from truncated SVD will be examined to identify discernable patterns."
   ]
  },
  {
   "cell_type": "code",
   "execution_count": 12,
   "metadata": {},
   "outputs": [],
   "source": [
    "tvec = TfidfVectorizer(analyzer = \"word\",\n",
    "                       tokenizer = None,      # tokenized in preprocessing\n",
    "                       preprocessor = None,\n",
    "                       stop_words = None,     # english stop words already removed, to retain -\n",
    "                       min_df = 2,            # to eliminate typos\n",
    "                       max_df = .9,           # to eliminate the word \"movie\"\n",
    "                       max_features = 50000) "
   ]
  },
  {
   "cell_type": "code",
   "execution_count": 13,
   "metadata": {},
   "outputs": [],
   "source": [
    "# Do not run unless if you want to TF-IDF Vectorize tokens. Could take some time.\n",
    "data_features_tfidf = pd.SparseDataFrame(tvec.fit_transform(clean_text),\n",
    "                                         columns=tvec.get_feature_names(),\n",
    "                                         default_fill_value=0)"
   ]
  },
  {
   "cell_type": "code",
   "execution_count": 14,
   "metadata": {},
   "outputs": [],
   "source": [
    "feature_names = tvec.get_feature_names()"
   ]
  },
  {
   "cell_type": "code",
   "execution_count": 15,
   "metadata": {},
   "outputs": [
    {
     "data": {
      "text/plain": [
       "42391"
      ]
     },
     "execution_count": 15,
     "metadata": {},
     "output_type": "execute_result"
    }
   ],
   "source": [
    "len(feature_names)"
   ]
  },
  {
   "cell_type": "code",
   "execution_count": 16,
   "metadata": {},
   "outputs": [
    {
     "data": {
      "text/plain": [
       "['aaah', 'aardman']"
      ]
     },
     "execution_count": 16,
     "metadata": {},
     "output_type": "execute_result"
    }
   ],
   "source": [
    "feature_names[2:4]"
   ]
  },
  {
   "cell_type": "markdown",
   "metadata": {},
   "source": [
    "### Put Vectorized Data in DF for Analysis\n",
    "- Sum aggregate token counts\n",
    "- Plot / investigate\n",
    "  - Histogram\n",
    "  - Horizontal Barplot"
   ]
  },
  {
   "cell_type": "code",
   "execution_count": 17,
   "metadata": {},
   "outputs": [],
   "source": [
    "text = pd.DataFrame.to_dense(data_features_tfidf)"
   ]
  },
  {
   "cell_type": "code",
   "execution_count": 18,
   "metadata": {},
   "outputs": [],
   "source": [
    "sum_text = text.sum()"
   ]
  },
  {
   "cell_type": "code",
   "execution_count": 19,
   "metadata": {},
   "outputs": [
    {
     "data": {
      "text/plain": [
       "drugs              48.597784\n",
       "someone            48.416434\n",
       "body               48.356881\n",
       "nothing            48.071137\n",
       "smoke              48.052971\n",
       "original           47.943440\n",
       "throughout         47.815423\n",
       "although           47.729836\n",
       "john               47.717432\n",
       "play               47.671893\n",
       "comes              47.520574\n",
       "kissing            47.420418\n",
       "human              47.365833\n",
       "evil               47.353814\n",
       "head               47.307865\n",
       "images             47.262249\n",
       "along              47.113910\n",
       "relationships      46.938453\n",
       "less               46.832985\n",
       "animated           46.772306\n",
       "lead               46.738376\n",
       "wants              46.461828\n",
       "tries              46.428890\n",
       "bit                46.392897\n",
       "always             46.371288\n",
       "adult              46.310380\n",
       "drunk              46.283272\n",
       "everyone           46.195931\n",
       "age                46.070253\n",
       "guy                46.058798\n",
       "                     ...    \n",
       "contraption         0.653265\n",
       "chronologically     0.653190\n",
       "ultimatum           0.653133\n",
       "jailbreak           0.653125\n",
       "musketeer           0.653113\n",
       "sexier              0.653059\n",
       "schlitz             0.653054\n",
       "rudyard             0.653024\n",
       "uh                  0.653007\n",
       "extols              0.653006\n",
       "forgery             0.652989\n",
       "maids               0.652887\n",
       "blizzard            0.652846\n",
       "mcfarland           0.652809\n",
       "brushed             0.652783\n",
       "firearm             0.652770\n",
       "impish              0.652739\n",
       "ferret              0.652693\n",
       "cogburn             0.652667\n",
       "bonked              0.652458\n",
       "meadow              0.652334\n",
       "snicket             0.652309\n",
       "peel                0.652266\n",
       "milking             0.652211\n",
       "energized           0.652158\n",
       "mish                0.652140\n",
       "retained            0.652139\n",
       "abyss               0.652097\n",
       "torches             0.651921\n",
       "chainsaws           0.651877\n",
       "Length: 20197, dtype: float64"
      ]
     },
     "execution_count": 19,
     "metadata": {},
     "output_type": "execute_result"
    }
   ],
   "source": [
    "sum_text.sort_values(ascending=False)[202:20399]"
   ]
  },
  {
   "cell_type": "code",
   "execution_count": 20,
   "metadata": {},
   "outputs": [
    {
     "data": {
      "image/png": "[encoded data removed]",
      "text/plain": [
       "<matplotlib.figure.Figure at 0x1a255f77f0>"
      ]
     },
     "metadata": {},
     "output_type": "display_data"
    }
   ],
   "source": [
    "fig, ax = plt.subplots()\n",
    "sum_text.hist()\n",
    "ax.set_title(\"TF-IDF Values between 0.6518 and 48.6\\n\");"
   ]
  },
  {
   "cell_type": "code",
   "execution_count": 21,
   "metadata": {},
   "outputs": [
    {
     "data": {
      "image/png": "[encoded data removed]",
      "text/plain": [
       "<matplotlib.figure.Figure at 0x10ce336a0>"
      ]
     },
     "metadata": {},
     "output_type": "display_data"
    }
   ],
   "source": [
    "fig, ax = plt.subplots()\n",
    "mask = sum_text.between(2.5, 45)\n",
    "sum_text[mask].sort_values(ascending=False).hist()\n",
    "ax.set_title(\"TF-IDF Values between 2.5 and 45\\n\");"
   ]
  },
  {
   "cell_type": "code",
   "execution_count": 22,
   "metadata": {},
   "outputs": [
    {
     "data": {
      "image/png": "[encoded data removed]",
      "text/plain": [
       "<matplotlib.figure.Figure at 0x108a57fd0>"
      ]
     },
     "metadata": {},
     "output_type": "display_data"
    }
   ],
   "source": [
    "fig, ax = plt.subplots()\n",
    "sum_text[mask].sort_values(ascending=False)[1:50].plot(kind=\"barh\", figsize=(5, 15));\n",
    "ax.set_title(\"Selected Words with TF-IDF Values between 2.5 and 45\\n\");"
   ]
  },
  {
   "cell_type": "markdown",
   "metadata": {},
   "source": [
    "### Truncated SVD\n",
    "#### To generate vectors that encapsulate the most variance in our text data in the fewest number of components."
   ]
  },
  {
   "cell_type": "code",
   "execution_count": 23,
   "metadata": {},
   "outputs": [],
   "source": [
    "svd = TruncatedSVD(n_components=4000)"
   ]
  },
  {
   "cell_type": "code",
   "execution_count": 24,
   "metadata": {},
   "outputs": [],
   "source": [
    "# tfidfvec_truncated is fit_transformed w/4000 components. Will only work if TF-IDF\n",
    "# vectorizer already run.\n",
    "tfidfvec_truncated = svd.fit_transform(data_features_tfidf)"
   ]
  },
  {
   "cell_type": "code",
   "execution_count": 25,
   "metadata": {},
   "outputs": [],
   "source": [
    "# # tfidfvec_truncated is fit_transformed w/4000 components. Will only work if TF-IDF\n",
    "# # vectorizer already run.\n",
    "# columns are svd components, 0 - 3999, for tf-idf vectorized words; index is words\n",
    "components_tfidfvec = pd.DataFrame(svd.components_.T, index=feature_names)"
   ]
  },
  {
   "cell_type": "markdown",
   "metadata": {},
   "source": [
    "#### Explore components to identify meanings of components"
   ]
  },
  {
   "cell_type": "code",
   "execution_count": 26,
   "metadata": {},
   "outputs": [],
   "source": [
    "word_importance_component_1 = components_tfidfvec[0].sort_values(ascending=False)"
   ]
  },
  {
   "cell_type": "code",
   "execution_count": 27,
   "metadata": {},
   "outputs": [],
   "source": [
    "word_importances1 = pd.DataFrame(word_importance_component_1[0:6])"
   ]
  },
  {
   "cell_type": "code",
   "execution_count": 28,
   "metadata": {},
   "outputs": [],
   "source": [
    "word_importances1_1 = word_importance_component_1[-7:-1]"
   ]
  },
  {
   "cell_type": "code",
   "execution_count": 29,
   "metadata": {},
   "outputs": [
    {
     "data": {
      "text/html": [
       "<div>\n",
       "<style scoped>\n",
       "    .dataframe tbody tr th:only-of-type {\n",
       "        vertical-align: middle;\n",
       "    }\n",
       "\n",
       "    .dataframe tbody tr th {\n",
       "        vertical-align: top;\n",
       "    }\n",
       "\n",
       "    .dataframe thead th {\n",
       "        text-align: right;\n",
       "    }\n",
       "</style>\n",
       "<table border=\"1\" class=\"dataframe\">\n",
       "  <thead>\n",
       "    <tr style=\"text-align: right;\">\n",
       "      <th></th>\n",
       "      <th>0</th>\n",
       "    </tr>\n",
       "  </thead>\n",
       "  <tbody>\n",
       "    <tr>\n",
       "      <th>characters</th>\n",
       "      <td>0.145266</td>\n",
       "    </tr>\n",
       "    <tr>\n",
       "      <th>one</th>\n",
       "      <td>0.140366</td>\n",
       "    </tr>\n",
       "    <tr>\n",
       "      <th>sex</th>\n",
       "      <td>0.115215</td>\n",
       "    </tr>\n",
       "    <tr>\n",
       "      <th>character</th>\n",
       "      <td>0.111734</td>\n",
       "    </tr>\n",
       "    <tr>\n",
       "      <th>violence</th>\n",
       "      <td>0.106998</td>\n",
       "    </tr>\n",
       "    <tr>\n",
       "      <th>film</th>\n",
       "      <td>0.106700</td>\n",
       "    </tr>\n",
       "    <tr>\n",
       "      <th>sheeran</th>\n",
       "      <td>0.000025</td>\n",
       "    </tr>\n",
       "    <tr>\n",
       "      <th>beliebers</th>\n",
       "      <td>0.000025</td>\n",
       "    </tr>\n",
       "    <tr>\n",
       "      <th>persson</th>\n",
       "      <td>0.000023</td>\n",
       "    </tr>\n",
       "    <tr>\n",
       "      <th>sundberg</th>\n",
       "      <td>0.000023</td>\n",
       "    </tr>\n",
       "    <tr>\n",
       "      <th>rebranding</th>\n",
       "      <td>0.000023</td>\n",
       "    </tr>\n",
       "    <tr>\n",
       "      <th>anthropomorphize</th>\n",
       "      <td>0.000021</td>\n",
       "    </tr>\n",
       "  </tbody>\n",
       "</table>\n",
       "</div>"
      ],
      "text/plain": [
       "                         0\n",
       "characters        0.145266\n",
       "one               0.140366\n",
       "sex               0.115215\n",
       "character         0.111734\n",
       "violence          0.106998\n",
       "film              0.106700\n",
       "sheeran           0.000025\n",
       "beliebers         0.000025\n",
       "persson           0.000023\n",
       "sundberg          0.000023\n",
       "rebranding        0.000023\n",
       "anthropomorphize  0.000021"
      ]
     },
     "execution_count": 29,
     "metadata": {},
     "output_type": "execute_result"
    }
   ],
   "source": [
    "word_importances1_top_bottom = pd.concat([word_importances1, word_importances1_1])\n",
    "word_importances1_top_bottom"
   ]
  },
  {
   "cell_type": "markdown",
   "metadata": {},
   "source": [
    "#### It is important to note that all word vector loadings on this first SVD component are positive. This makes sense since the word vector space is relatively shallow with words that do not occur in the text associated with the movie having a value of zero and words that do occur having some non-zero positive value. Therefore, even after SVD transformation, all coefficients will be slightly positive. \n",
    "#### The first component appears to be just common words found in our movie reviews--- it is only possibly meaningful that 'sex' and 'violence' load quite heavily on this first component but this could just be because these words are used commonly throughout our corpus. The words that contribute least to our component appear to be mostly typos. This first component, then, is probably best interpreted as representing words of little specific meaning and should be ignored.\n",
    "#### Components beyond the first, however, seem to be fairly intepretable."
   ]
  },
  {
   "cell_type": "code",
   "execution_count": 30,
   "metadata": {},
   "outputs": [],
   "source": [
    "word_importance_component_2 = components_tfidfvec[1].sort_values(ascending=False)"
   ]
  },
  {
   "cell_type": "code",
   "execution_count": 31,
   "metadata": {},
   "outputs": [],
   "source": [
    "word_importances2 = pd.DataFrame(word_importance_component_2[0:6])"
   ]
  },
  {
   "cell_type": "code",
   "execution_count": 32,
   "metadata": {},
   "outputs": [],
   "source": [
    "word_importances2_1 = pd.DataFrame(word_importance_component_2[-7:-1])"
   ]
  },
  {
   "cell_type": "code",
   "execution_count": 33,
   "metadata": {},
   "outputs": [
    {
     "data": {
      "text/html": [
       "<div>\n",
       "<style scoped>\n",
       "    .dataframe tbody tr th:only-of-type {\n",
       "        vertical-align: middle;\n",
       "    }\n",
       "\n",
       "    .dataframe tbody tr th {\n",
       "        vertical-align: top;\n",
       "    }\n",
       "\n",
       "    .dataframe thead th {\n",
       "        text-align: right;\n",
       "    }\n",
       "</style>\n",
       "<table border=\"1\" class=\"dataframe\">\n",
       "  <thead>\n",
       "    <tr style=\"text-align: right;\">\n",
       "      <th></th>\n",
       "      <th>1</th>\n",
       "    </tr>\n",
       "  </thead>\n",
       "  <tbody>\n",
       "    <tr>\n",
       "      <th>christmas</th>\n",
       "      <td>0.299352</td>\n",
       "    </tr>\n",
       "    <tr>\n",
       "      <th>kids</th>\n",
       "      <td>0.204384</td>\n",
       "    </tr>\n",
       "    <tr>\n",
       "      <th>santa</th>\n",
       "      <td>0.140136</td>\n",
       "    </tr>\n",
       "    <tr>\n",
       "      <th>holiday</th>\n",
       "      <td>0.135573</td>\n",
       "    </tr>\n",
       "    <tr>\n",
       "      <th>dog</th>\n",
       "      <td>0.135007</td>\n",
       "    </tr>\n",
       "    <tr>\n",
       "      <th>family</th>\n",
       "      <td>0.130619</td>\n",
       "    </tr>\n",
       "    <tr>\n",
       "      <th>nudity</th>\n",
       "      <td>-0.098574</td>\n",
       "    </tr>\n",
       "    <tr>\n",
       "      <th>violence</th>\n",
       "      <td>-0.103154</td>\n",
       "    </tr>\n",
       "    <tr>\n",
       "      <th>women</th>\n",
       "      <td>-0.103231</td>\n",
       "    </tr>\n",
       "    <tr>\n",
       "      <th>shown</th>\n",
       "      <td>-0.110099</td>\n",
       "    </tr>\n",
       "    <tr>\n",
       "      <th>drug</th>\n",
       "      <td>-0.119782</td>\n",
       "    </tr>\n",
       "    <tr>\n",
       "      <th>sexual</th>\n",
       "      <td>-0.124790</td>\n",
       "    </tr>\n",
       "  </tbody>\n",
       "</table>\n",
       "</div>"
      ],
      "text/plain": [
       "                  1\n",
       "christmas  0.299352\n",
       "kids       0.204384\n",
       "santa      0.140136\n",
       "holiday    0.135573\n",
       "dog        0.135007\n",
       "family     0.130619\n",
       "nudity    -0.098574\n",
       "violence  -0.103154\n",
       "women     -0.103231\n",
       "shown     -0.110099\n",
       "drug      -0.119782\n",
       "sexual    -0.124790"
      ]
     },
     "execution_count": 33,
     "metadata": {},
     "output_type": "execute_result"
    }
   ],
   "source": [
    "word_importances2_top_bottom = pd.concat([word_importances2, word_importances2_1])\n",
    "word_importances2_top_bottom"
   ]
  },
  {
   "cell_type": "code",
   "execution_count": 34,
   "metadata": {},
   "outputs": [],
   "source": [
    "word_importance_component_3 = components_tfidfvec[2].sort_values(ascending=False)"
   ]
  },
  {
   "cell_type": "code",
   "execution_count": 35,
   "metadata": {},
   "outputs": [],
   "source": [
    "word_importances3 = pd.DataFrame(word_importance_component_3[0:6])"
   ]
  },
  {
   "cell_type": "code",
   "execution_count": 36,
   "metadata": {},
   "outputs": [],
   "source": [
    "word_importances3_1 = pd.DataFrame(word_importance_component_3[-7:-1])"
   ]
  },
  {
   "cell_type": "code",
   "execution_count": 37,
   "metadata": {},
   "outputs": [
    {
     "data": {
      "text/html": [
       "<div>\n",
       "<style scoped>\n",
       "    .dataframe tbody tr th:only-of-type {\n",
       "        vertical-align: middle;\n",
       "    }\n",
       "\n",
       "    .dataframe tbody tr th {\n",
       "        vertical-align: top;\n",
       "    }\n",
       "\n",
       "    .dataframe thead th {\n",
       "        text-align: right;\n",
       "    }\n",
       "</style>\n",
       "<table border=\"1\" class=\"dataframe\">\n",
       "  <thead>\n",
       "    <tr style=\"text-align: right;\">\n",
       "      <th></th>\n",
       "      <th>2</th>\n",
       "    </tr>\n",
       "  </thead>\n",
       "  <tbody>\n",
       "    <tr>\n",
       "      <th>school</th>\n",
       "      <td>0.202506</td>\n",
       "    </tr>\n",
       "    <tr>\n",
       "      <th>sex</th>\n",
       "      <td>0.172742</td>\n",
       "    </tr>\n",
       "    <tr>\n",
       "      <th>teen</th>\n",
       "      <td>0.153694</td>\n",
       "    </tr>\n",
       "    <tr>\n",
       "      <th>girls</th>\n",
       "      <td>0.117247</td>\n",
       "    </tr>\n",
       "    <tr>\n",
       "      <th>teens</th>\n",
       "      <td>0.116549</td>\n",
       "    </tr>\n",
       "    <tr>\n",
       "      <th>christmas</th>\n",
       "      <td>0.111580</td>\n",
       "    </tr>\n",
       "    <tr>\n",
       "      <th>evil</th>\n",
       "      <td>-0.092416</td>\n",
       "    </tr>\n",
       "    <tr>\n",
       "      <th>horror</th>\n",
       "      <td>-0.095568</td>\n",
       "    </tr>\n",
       "    <tr>\n",
       "      <th>scary</th>\n",
       "      <td>-0.100250</td>\n",
       "    </tr>\n",
       "    <tr>\n",
       "      <th>blood</th>\n",
       "      <td>-0.113938</td>\n",
       "    </tr>\n",
       "    <tr>\n",
       "      <th>war</th>\n",
       "      <td>-0.146179</td>\n",
       "    </tr>\n",
       "    <tr>\n",
       "      <th>action</th>\n",
       "      <td>-0.173482</td>\n",
       "    </tr>\n",
       "  </tbody>\n",
       "</table>\n",
       "</div>"
      ],
      "text/plain": [
       "                  2\n",
       "school     0.202506\n",
       "sex        0.172742\n",
       "teen       0.153694\n",
       "girls      0.117247\n",
       "teens      0.116549\n",
       "christmas  0.111580\n",
       "evil      -0.092416\n",
       "horror    -0.095568\n",
       "scary     -0.100250\n",
       "blood     -0.113938\n",
       "war       -0.146179\n",
       "action    -0.173482"
      ]
     },
     "execution_count": 37,
     "metadata": {},
     "output_type": "execute_result"
    }
   ],
   "source": [
    "word_importances3_top_bottom = pd.concat([word_importances3, word_importances3_1])\n",
    "word_importances3_top_bottom"
   ]
  },
  {
   "cell_type": "code",
   "execution_count": 38,
   "metadata": {},
   "outputs": [],
   "source": [
    "word_importance_component_6 = components_tfidfvec[5].sort_values(ascending=False)"
   ]
  },
  {
   "cell_type": "code",
   "execution_count": 39,
   "metadata": {},
   "outputs": [],
   "source": [
    "word_importances6 = pd.DataFrame(word_importance_component_6[0:6])"
   ]
  },
  {
   "cell_type": "code",
   "execution_count": 40,
   "metadata": {},
   "outputs": [],
   "source": [
    "word_importances6_1 = pd.DataFrame(word_importance_component_6[-7:-1])"
   ]
  },
  {
   "cell_type": "code",
   "execution_count": 41,
   "metadata": {},
   "outputs": [
    {
     "data": {
      "text/html": [
       "<div>\n",
       "<style scoped>\n",
       "    .dataframe tbody tr th:only-of-type {\n",
       "        vertical-align: middle;\n",
       "    }\n",
       "\n",
       "    .dataframe tbody tr th {\n",
       "        vertical-align: top;\n",
       "    }\n",
       "\n",
       "    .dataframe thead th {\n",
       "        text-align: right;\n",
       "    }\n",
       "</style>\n",
       "<table border=\"1\" class=\"dataframe\">\n",
       "  <thead>\n",
       "    <tr style=\"text-align: right;\">\n",
       "      <th></th>\n",
       "      <th>5</th>\n",
       "    </tr>\n",
       "  </thead>\n",
       "  <tbody>\n",
       "    <tr>\n",
       "      <th>dog</th>\n",
       "      <td>0.454138</td>\n",
       "    </tr>\n",
       "    <tr>\n",
       "      <th>dogs</th>\n",
       "      <td>0.208265</td>\n",
       "    </tr>\n",
       "    <tr>\n",
       "      <th>animals</th>\n",
       "      <td>0.182773</td>\n",
       "    </tr>\n",
       "    <tr>\n",
       "      <th>animal</th>\n",
       "      <td>0.126161</td>\n",
       "    </tr>\n",
       "    <tr>\n",
       "      <th>family</th>\n",
       "      <td>0.123042</td>\n",
       "    </tr>\n",
       "    <tr>\n",
       "      <th>man</th>\n",
       "      <td>0.101487</td>\n",
       "    </tr>\n",
       "    <tr>\n",
       "      <th>santa</th>\n",
       "      <td>-0.124146</td>\n",
       "    </tr>\n",
       "    <tr>\n",
       "      <th>war</th>\n",
       "      <td>-0.125354</td>\n",
       "    </tr>\n",
       "    <tr>\n",
       "      <th>teen</th>\n",
       "      <td>-0.165602</td>\n",
       "    </tr>\n",
       "    <tr>\n",
       "      <th>girls</th>\n",
       "      <td>-0.172722</td>\n",
       "    </tr>\n",
       "    <tr>\n",
       "      <th>high</th>\n",
       "      <td>-0.180210</td>\n",
       "    </tr>\n",
       "    <tr>\n",
       "      <th>christmas</th>\n",
       "      <td>-0.206971</td>\n",
       "    </tr>\n",
       "  </tbody>\n",
       "</table>\n",
       "</div>"
      ],
      "text/plain": [
       "                  5\n",
       "dog        0.454138\n",
       "dogs       0.208265\n",
       "animals    0.182773\n",
       "animal     0.126161\n",
       "family     0.123042\n",
       "man        0.101487\n",
       "santa     -0.124146\n",
       "war       -0.125354\n",
       "teen      -0.165602\n",
       "girls     -0.172722\n",
       "high      -0.180210\n",
       "christmas -0.206971"
      ]
     },
     "execution_count": 41,
     "metadata": {},
     "output_type": "execute_result"
    }
   ],
   "source": [
    "word_importances6_top_bottom = pd.concat([word_importances6, word_importances6_1])\n",
    "word_importances6_top_bottom"
   ]
  },
  {
   "cell_type": "code",
   "execution_count": 42,
   "metadata": {},
   "outputs": [],
   "source": [
    "word_importance_component_8 = components_tfidfvec[7].sort_values(ascending=False)"
   ]
  },
  {
   "cell_type": "code",
   "execution_count": 43,
   "metadata": {},
   "outputs": [],
   "source": [
    "word_importances8 = pd.DataFrame(word_importance_component_8[0:6])"
   ]
  },
  {
   "cell_type": "code",
   "execution_count": 44,
   "metadata": {},
   "outputs": [],
   "source": [
    "word_importances8_1 = pd.DataFrame(word_importance_component_8[-7:-1])"
   ]
  },
  {
   "cell_type": "code",
   "execution_count": 45,
   "metadata": {},
   "outputs": [
    {
     "data": {
      "text/html": [
       "<div>\n",
       "<style scoped>\n",
       "    .dataframe tbody tr th:only-of-type {\n",
       "        vertical-align: middle;\n",
       "    }\n",
       "\n",
       "    .dataframe tbody tr th {\n",
       "        vertical-align: top;\n",
       "    }\n",
       "\n",
       "    .dataframe thead th {\n",
       "        text-align: right;\n",
       "    }\n",
       "</style>\n",
       "<table border=\"1\" class=\"dataframe\">\n",
       "  <thead>\n",
       "    <tr style=\"text-align: right;\">\n",
       "      <th></th>\n",
       "      <th>7</th>\n",
       "    </tr>\n",
       "  </thead>\n",
       "  <tbody>\n",
       "    <tr>\n",
       "      <th>dog</th>\n",
       "      <td>0.431535</td>\n",
       "    </tr>\n",
       "    <tr>\n",
       "      <th>war</th>\n",
       "      <td>0.208582</td>\n",
       "    </tr>\n",
       "    <tr>\n",
       "      <th>dogs</th>\n",
       "      <td>0.189314</td>\n",
       "    </tr>\n",
       "    <tr>\n",
       "      <th>team</th>\n",
       "      <td>0.166184</td>\n",
       "    </tr>\n",
       "    <tr>\n",
       "      <th>school</th>\n",
       "      <td>0.161498</td>\n",
       "    </tr>\n",
       "    <tr>\n",
       "      <th>sports</th>\n",
       "      <td>0.140653</td>\n",
       "    </tr>\n",
       "    <tr>\n",
       "      <th>magic</th>\n",
       "      <td>-0.071783</td>\n",
       "    </tr>\n",
       "    <tr>\n",
       "      <th>fantasy</th>\n",
       "      <td>-0.077627</td>\n",
       "    </tr>\n",
       "    <tr>\n",
       "      <th>horror</th>\n",
       "      <td>-0.083653</td>\n",
       "    </tr>\n",
       "    <tr>\n",
       "      <th>fairy</th>\n",
       "      <td>-0.093807</td>\n",
       "    </tr>\n",
       "    <tr>\n",
       "      <th>scary</th>\n",
       "      <td>-0.110137</td>\n",
       "    </tr>\n",
       "    <tr>\n",
       "      <th>princess</th>\n",
       "      <td>-0.117712</td>\n",
       "    </tr>\n",
       "  </tbody>\n",
       "</table>\n",
       "</div>"
      ],
      "text/plain": [
       "                 7\n",
       "dog       0.431535\n",
       "war       0.208582\n",
       "dogs      0.189314\n",
       "team      0.166184\n",
       "school    0.161498\n",
       "sports    0.140653\n",
       "magic    -0.071783\n",
       "fantasy  -0.077627\n",
       "horror   -0.083653\n",
       "fairy    -0.093807\n",
       "scary    -0.110137\n",
       "princess -0.117712"
      ]
     },
     "execution_count": 45,
     "metadata": {},
     "output_type": "execute_result"
    }
   ],
   "source": [
    "word_importances8_top_bottom = pd.concat([word_importances8, word_importances8_1])\n",
    "word_importances8_top_bottom"
   ]
  },
  {
   "cell_type": "markdown",
   "metadata": {},
   "source": [
    "#### Examining the words that contribute the most to the above components, both positively and negatively, we can begin to interpret what substantial loadings on each of these components represents. For example, Component 8 above (numbered 7 since our components are zero indexed) could be called \"Real World Things of importance to Stereotypical Guys.\" Dogs, war, team, school, and sports all load strongly on this component, while magic, fantasy, horror, fairy, scary, and for some reason love all load negatively. Similarly, component 2 above might be called \"Things With Positive Emotional Valence to Puritanical Parents\" with Christmas, kids, santa, holiday, dog, and family being the highest positive contributors to the component while nudity, violence, women, shown, drug, and sexual being the highest negative contributors. As recognizers of patterns, we can easily derive meaning from these components; a useful lesson in semiotics."
   ]
  },
  {
   "cell_type": "markdown",
   "metadata": {},
   "source": [
    "#### Variance cumulatively explained by SVD Components"
   ]
  },
  {
   "cell_type": "code",
   "execution_count": 46,
   "metadata": {},
   "outputs": [
    {
     "name": "stdout",
     "output_type": "stream",
     "text": [
      "[0.00223899 0.00709392 0.0108037  ... 0.8156689  0.81573645 0.81580396]\n"
     ]
    }
   ],
   "source": [
    "# How do I turn this list of cumulative explained variance into a graph?\n",
    "# On the same graph has a bar point of the amount of variance explained by each component\n",
    "y = svd.explained_variance_ratio_.cumsum()\n",
    "print(y)"
   ]
  },
  {
   "cell_type": "code",
   "execution_count": 48,
   "metadata": {},
   "outputs": [
    {
     "name": "stdout",
     "output_type": "stream",
     "text": [
      "[0.0022389855061153183, 0.0070939178684922, 0.010803703785389215, 0.014027156041824487, 0.016796459518121625, 0.01926337224442196, 0.021642076601088585, 0.023795291707399746, 0.025649891504676208, 0.02744519102167023, 0.029153243046972237, 0.030851118262546134, 0.03248701365126303, 0.034104630154337186, 0.03567728303089272, 0.037182695653776104, 0.038625580887765194, 0.040044140970484365, 0.04143674677565964, 0.042792503346291935, 0.04412759182021268, 0.04541519569849662, 0.04668879987552137, 0.047926423775281723, 0.04914092808481194, 0.05031397076952262, 0.05146531660097881, 0.05259044805611778, 0.053713861848510056, 0.05481195985396708, 0.05589618036552127, 0.056966314634150673, 0.05800958143363797, 0.059047608524322864, 0.060064564149485154, 0.061076788402826286, 0.062070846291884155, 0.06305484427379762, 0.06403458777833206, 0.06500623035007817, 0.06597502749471942, 0.0669234111178513, 0.06786760125980525, 0.06880357610999832, 0.06973335387864218, 0.07065899513792126, 0.07156716419284644, 0.07246696333869766, 0.07335975847811242, 0.0742423224258174, 0.07511830770891603, 0.07598795401734192, 0.07685538707675951, 0.0777186550479809, 0.07856980792185538, 0.07941518345368133, 0.08025729412475521, 0.0810921473142761, 0.08191537623633992, 0.08273492879839305, 0.08355042247719999, 0.08436154629109352, 0.08516564766462052, 0.0859642982512016, 0.08675579709785833, 0.08754159288026586, 0.08832278097748818, 0.08910113452196966, 0.089877714078437, 0.09064715338934787, 0.09141505500358366, 0.09217510758806832, 0.09293040242972464, 0.0936841937583913, 0.09443530861956953, 0.09518029300661608, 0.09592482491963789, 0.09666453064088705, 0.09740327243448507, 0.09813466918631553, 0.09886234219183392, 0.09958685321544383, 0.10031011627670681, 0.10103044687406426, 0.10174698357920856, 0.10246224589916832, 0.10317379694113261, 0.10388456631231506, 0.10459000183122664, 0.10528963392932285, 0.10598571715780548, 0.10668046848915315, 0.10737185480767014, 0.10806078817002371, 0.10874618045397969, 0.10943099252518261, 0.11010939399608757, 0.11078667406223064, 0.11145895927084976, 0.11212803143126857, 0.1127939853155102, 0.11345844062339239, 0.11411844006831388, 0.11477572017710824, 0.11543180548830452, 0.11608237302267928, 0.11673164349448822, 0.11737676565738156, 0.11801753733460371, 0.1186574119192493, 0.11929600789118988, 0.1199330093852525, 0.1205663600583504, 0.12119802257997916, 0.12182766324923804, 0.12245705650317658, 0.12308489737412343, 0.12371184500962758, 0.12433018290245541, 0.12494676646637497, 0.12556256229199106, 0.12617374230674155, 0.12678271705162347, 0.12739038868631328, 0.12799626837231792, 0.1286001014084612, 0.12920199540454524, 0.12980111496767435, 0.13039857745245498, 0.13099309138125403, 0.13158663134391527, 0.1321774346940272, 0.13276738908617972, 0.13335522925315624, 0.13394080672337919, 0.13452509077867927, 0.1351071606881114, 0.13568866094934015, 0.1362685502875432, 0.1368461818662251, 0.137419307727072, 0.1379913549206086, 0.138562795337681, 0.13913262534646778, 0.13970081643975193, 0.1402667832195325, 0.1408305399438915, 0.1413932499651093, 0.14195402438426918, 0.14251389971121162, 0.14307253655759428, 0.14362935429628665, 0.1441841435745343, 0.1447363725487323, 0.14528811883240716, 0.14583794507307987, 0.14638627623596007, 0.1469340986699163, 0.1474798910484685, 0.1480229094959474, 0.1485657600781054, 0.14910788891337703, 0.14964763517502921, 0.15018657292409784, 0.15072416990723253, 0.15126022800197741, 0.15179564277240332, 0.15232992731861444, 0.1528628185443033, 0.15339360135731236, 0.15392242035187922, 0.15444965397736113, 0.15497452399751227, 0.1554988487897101, 0.15602286845743, 0.15654591488243896, 0.1570675176165104, 0.15758753818933371, 0.15810633887014347, 0.1586228531775584, 0.15913837415152077, 0.1596528734247226, 0.16016608770653912, 0.16067837164151025, 0.1611887655358722, 0.16169809887695502, 0.1622062493645678, 0.16271332217805726, 0.16321924144127453, 0.16372409665682974, 0.1642270815582953, 0.1647287327497555, 0.16522976411423776, 0.16572935201004937, 0.16622820456974224, 0.16672625662466242, 0.16722354401684508, 0.1677196041526149, 0.16821462089868347, 0.1687083739027011, 0.16920094891344203, 0.169692295312661, 0.17018304480190855, 0.1706731351491689, 0.17116181386792242, 0.1716490596980444, 0.17213585243027066, 0.17262229229240553, 0.17310849162104705, 0.17359159566153248, 0.17407393688896958, 0.1745551151950853, 0.1750358989806448, 0.17551593698520018, 0.1759949497852221, 0.1764728451794147, 0.17694976730363024, 0.17742483301657014, 0.17789972127021048, 0.1783726598838171, 0.17884543785177687, 0.1793170691642934, 0.17978799200988643, 0.180257962319787, 0.18072711337138245, 0.1811961073026525, 0.1816631248666494, 0.18212939708374812, 0.18259472885430475, 0.18305909441587062, 0.18352308229497927, 0.1839856506166629, 0.18444735836350254, 0.184907669451813, 0.18536721494774122, 0.18582618811075075, 0.18628480241511355, 0.18674237601134636, 0.18719935177756264, 0.18765582465885286, 0.1881111009775775, 0.18856596446941085, 0.18901941378950535, 0.18947270719061396, 0.18992382367634056, 0.1903743930987018, 0.1908241738113506, 0.19127315021598398, 0.1917218054043515, 0.19216931911470356, 0.19261621334280452, 0.19306277453419543, 0.19350860917210336, 0.19395368863821646, 0.19439755863972413, 0.19484073469485239, 0.19528340367747887, 0.19572561179050335, 0.19616715884079852, 0.19660746227430342, 0.19704697277875582, 0.1974858006852807, 0.1979236867679418, 0.19836104843477195, 0.19879830106776197, 0.19923476574845855, 0.19967011428751433, 0.20010472940678098, 0.2005388310958585, 0.2009726066201947, 0.20140540474288826, 0.20183740010551304, 0.2022689660632671, 0.20269963025347082, 0.20312934965849422, 0.20355809910639414, 0.20398590073065162, 0.20441286084049196, 0.20483950109081547, 0.20526535367887314, 0.20569045055434235, 0.2061150910221021, 0.20653932272767064, 0.20696255455392257, 0.20738490158028156, 0.20780682250101853, 0.2082283234720452, 0.20864909943941662, 0.2090691356569822, 0.20948802788516022, 0.20990656231325286, 0.21032439843777254, 0.21074154445876714, 0.21115833882481702, 0.21157466481881468, 0.2119902744172074, 0.21240530571033372, 0.21281978870686477, 0.21323327332141068, 0.21364624997016765, 0.21405904336820047, 0.2144712523899211, 0.214883250176384, 0.2152942634703001, 0.21570507155633636, 0.2161148818836623, 0.21652368961345703, 0.2169321321699444, 0.21734003432448842, 0.21774741266299757, 0.2181539683976904, 0.21856004015711006, 0.21896533532587428, 0.2193702852912006, 0.21977500633691266, 0.22017882225597687, 0.22058209633944573, 0.2209842541156406, 0.22138638560832136, 0.22178795557258837, 0.22218879438687303, 0.22258919172598327, 0.22298932515642905, 0.22338887518863, 0.22378781093706537, 0.22418618006131388, 0.2245842953007574, 0.22498159662564038, 0.2253788359476467, 0.22577525159217185, 0.22617105699762935, 0.22656613399506878, 0.2269610019997976, 0.2273556066600253, 0.22774939209158437, 0.22814299397003637, 0.22853599780333403, 0.22892870891567346, 0.2293207262106216, 0.22971223027288373, 0.23010253646344261, 0.23049258610505036, 0.23088175926894042, 0.23127048198254632, 0.2316587202383755, 0.23204639647916006, 0.23243393502204016, 0.23282058007688972, 0.23320709115227523, 0.23359268413680367, 0.23397792003128115, 0.23436275024234, 0.23474725470622457, 0.23513092834416566, 0.23551418030033114, 0.2358971404155106, 0.2362794238458925, 0.23666053692157646, 0.237041379446397, 0.2374220157215444, 0.2378022680747423, 0.23818151286828285, 0.23856053520383166, 0.23893932462097286, 0.23931764328041794, 0.23969568043274936, 0.2400731666585627, 0.2404504524210313, 0.24082720174285718, 0.24120329022467507, 0.24157876951226012, 0.2419535718602768, 0.24232822824985364, 0.24270240245204824, 0.24307606538147436, 0.24344961710367172, 0.2438226513249067, 0.24419523701373683, 0.2445675622781106, 0.2449396920830263, 0.24531136949201882, 0.24568255162496253, 0.24605322540209348, 0.24642331185338345, 0.24679299534032334, 0.24716244291677536, 0.2475314739154865, 0.24789980066191594, 0.24826775927909178, 0.2486351939887902, 0.2490023742728744, 0.24936861538363247, 0.24973430524694845, 0.25009975345871277, 0.25046463737990765, 0.2508293629236127, 0.25119383128247313, 0.25155762459142506, 0.2519211668116403, 0.25228421369415527, 0.25264672285136824, 0.253008623202577, 0.2533702967977518, 0.2537314296743584, 0.2540922932876747, 0.25445276466414546, 0.25481276453587903, 0.2551724408230293, 0.255531536675438, 0.2558904271798494, 0.2562488112189837, 0.25660681333798196, 0.256964482877834, 0.25732207691653536, 0.2576791005901848, 0.25803576375506665, 0.2583920202094304, 0.25874805227578185, 0.2591036123853605, 0.25945869229832336, 0.2598136656427751, 0.26016757520116407, 0.26052102595494675, 0.2608740718147859, 0.2612266845207514, 0.26157910850163457, 0.2619312214258205, 0.26228297431352476, 0.2626343688686814, 0.26298537248360493, 0.2633360106342032, 0.2636862859027762, 0.26403642898789625, 0.2643860903269095, 0.2647353803066476, 0.2650843285833578, 0.2654330053173357, 0.2657813798594125, 0.2661293726440865, 0.26647697365620154, 0.2668242661524969, 0.26717125765970456, 0.2675180022340872, 0.2678643017713031, 0.26821051097778925, 0.2685565546640701, 0.268902239415836, 0.2692475423885363, 0.2695918287432927, 0.2699358709873997, 0.27027962626065055, 0.2706227160630484, 0.27096556976597136, 0.2713081742682643, 0.27165036654492597, 0.271992394887856, 0.27233402565628284, 0.2726754502998172, 0.2730164503639507, 0.2733571122009768, 0.2736970832649544, 0.2740367799650941, 0.2743760455059726, 0.2747151976316132, 0.2750538233705269, 0.2753920111655489, 0.2757297571664056, 0.27606709739128477, 0.27640430988715226, 0.2767411717724634, 0.27707764617712105, 0.27741355288632713, 0.2777491463425916, 0.2780846910954437, 0.27841995659542745, 0.27875496903641866, 0.2790898160667981, 0.27942432577147075, 0.2797583219136571, 0.28009203065864, 0.2804254064843666, 0.2807585318786535, 0.2810913099793162, 0.28142374203360604, 0.28175594201559423, 0.28208795694826916, 0.28241927686213447, 0.282750149923558, 0.28308039398777896, 0.2834105336713226, 0.28374042984422015, 0.2840699951345916, 0.2843994772060667, 0.28472861313784126, 0.28505739237759453, 0.2853860894064617, 0.28571453396366137, 0.2860421535682694, 0.28636952259606063, 0.2866968318369762, 0.28702366329652973, 0.2873504014096759, 0.2876769846737997, 0.28800331279072655, 0.288329054539212, 0.2886544835407886, 0.2889798110248688, 0.2893051097517778, 0.28963011401246874, 0.2899546310931392, 0.2902790760099098, 0.29060318314019884, 0.29092693941664755, 0.2912505143423411, 0.291573540627001, 0.2918963572544767, 0.292218728831918, 0.29254095411962794, 0.29286312524385766, 0.29318464853673754, 0.29350603712999634, 0.29382688235887733, 0.29414745270926007, 0.29446774759727823, 0.2947880077923855, 0.29510780173928763, 0.2954275286102499, 0.29574710783014047, 0.2960661178880518, 0.29638497235728245, 0.2967035688379844, 0.29702186812448506, 0.29734006251918743, 0.29765783196061085, 0.2979753443162681, 0.2982924658504853, 0.2986094615444401, 0.2989262118844853, 0.2992424419672228, 0.2995584115069719, 0.2998741480147332, 0.30018941493089585, 0.3005045506604866, 0.3008194224984615, 0.3011339907661652, 0.3014483610663575, 0.30176255816742703, 0.30207651043300177, 0.3023899771030206, 0.3027033616059623, 0.30301655265275634, 0.3033292477945655, 0.30364173565886654, 0.30395415291265393, 0.30426582202602365, 0.3045773571926621, 0.3048885049937271, 0.3051994078450205, 0.3055101076964793, 0.30582073611956057, 0.3061311782725549, 0.3064412849537319, 0.30675074462211777, 0.3070600657006122, 0.307369328224806, 0.30767807128000285, 0.3079866917925079, 0.3082948763655704, 0.30860295612001615, 0.3089107455567672, 0.3092182536166756, 0.30952556405342446, 0.30983278015835847, 0.31013971253839306, 0.31044640916983246, 0.31075291628716795, 0.3110591337423094, 0.3113651111970173, 0.3116708009323588, 0.3119764149049527, 0.312281643147158, 0.31258660790799964, 0.31289133087657056, 0.31319583800296935, 0.3135003185270778, 0.3138042097776383, 0.31410793598946635, 0.3144116485165076, 0.3147151481937251, 0.31501832320243145, 0.31532136888506096, 0.31562385975994023, 0.3159261674642876, 0.31622836036482915, 0.31653034513884515, 0.31683194794852165, 0.31713337852591444, 0.3174342148716515, 0.31773493860947516, 0.31803549667843, 0.31833557921984573, 0.318635500804362, 0.31893493212973156, 0.3192342639533536, 0.31953343548809227, 0.3198322119356632, 0.32013066679561, 0.32042910071918784, 0.32072718194569494, 0.3210249139427169, 0.32132250058485556, 0.32161979064838075, 0.32191696599098313, 0.3222139105790335, 0.3225107312930015, 0.3228068928097321, 0.3231029621133018, 0.3233986049357175, 0.3236941165936804, 0.3239894612526106, 0.32428454836347576, 0.3245794672276603, 0.3248740752446613, 0.32516862835438975, 0.325462690912585, 0.3257565423784218, 0.3260503116141785, 0.32634392610732177, 0.32663731846817345, 0.3269304576882847, 0.32722345487285565, 0.32751624748648717, 0.327808779699126, 0.32810100063158715, 0.32839308288864755, 0.3286849532398724, 0.32897643230271695, 0.32926777709714755, 0.3295589582632361, 0.3298498648448814, 0.3301405164631941, 0.3304309963178676, 0.33072123585069974, 0.33101129590231926, 0.33130109490108633, 0.33159075564511237, 0.33188033357464086, 0.33216981815310714, 0.3324588216797779, 0.332747642957135, 0.3330363057675225, 0.3333246619396153, 0.33361276949671753, 0.3339006546797525, 0.3341884154071905, 0.3344759782000646, 0.3347633465281468, 0.3350503938050904, 0.3353373266929101, 0.33562370381083556, 0.3359098640476196, 0.33619594236526296, 0.33648198596587686, 0.3367675937646603, 0.3370530783085733, 0.3373384757954225, 0.33762363746831986, 0.33790842988581005, 0.33819311794612533, 0.3384776306846508, 0.33876209018740683, 0.339046037321367, 0.3393298022741521, 0.33961336882626586, 0.33989676116505946, 0.3401799762871748, 0.3404629995933995, 0.34074591946168376, 0.341028640670895, 0.3413111739462042, 0.34159345913461736, 0.3418754760247686, 0.3421572545339078, 0.3424389006269137, 0.342720373530224, 0.34300148235242395, 0.343282486270984, 0.34356307829166133, 0.34384335515775694, 0.344123414475593, 0.34440344679678, 0.34468328277253624, 0.34496298468678566, 0.3452425440000591, 0.34552175471576424, 0.34580085801597366, 0.3460798522672833, 0.3463584758168214, 0.34663700497009026, 0.3469154108286632, 0.3471936060441227, 0.3474716836237916, 0.34774947731719835, 0.3480270025520983, 0.34830433199999467, 0.3485814952004273, 0.34885838997376817, 0.3491351807258268, 0.34941185924718, 0.3496881438535548, 0.3499643568028626, 0.35024031881501183, 0.3505160938493786, 0.3507914721040659, 0.35106679665604057, 0.35134188447252607, 0.35161677582297723, 0.35189128814655296, 0.3521657152580071, 0.35244003768227256, 0.352714189602167, 0.3529881666766085, 0.3532619729703275, 0.353535692012394, 0.35380919711413783, 0.3540825287102291, 0.35435571271553096, 0.3546286731931214, 0.35490137277818223, 0.3551739423966296, 0.35544633181711355, 0.35571845101110794, 0.3559903275663622, 0.35626203751952157, 0.3565336672584805, 0.3568051948019253, 0.3570764676446193, 0.357347588084119, 0.35761836022953564, 0.35788892336544437, 0.3581592983454895, 0.3584296555229248, 0.3586997237387405, 0.3589697397185881, 0.3592394670706912, 0.3595088427353857, 0.35977812508355134, 0.3600472245781747, 0.36031607073430033, 0.36058480816507527, 0.36085342596386905, 0.3611219117180681, 0.361390164672684, 0.3616582263735689, 0.3619261829508256, 0.36219390559286213, 0.3624612169826305, 0.3627284227938989, 0.36299550378150014, 0.3632625436436571, 0.3635294652203522, 0.36379629664593555, 0.36406288017515553, 0.3643292895677909, 0.3645954767876964, 0.3648613767517415, 0.3651271262332245, 0.3653925920479437, 0.3656579093537058, 0.3659231604866723, 0.3661882229875745, 0.36645311888083226, 0.3667179746338075, 0.36698267066424867, 0.36724710288815154, 0.36751143406307846, 0.3677756097995909, 0.36803959911110107, 0.3683033575206188, 0.36856698813674654, 0.36883028404524676, 0.36909355650054354, 0.36935666118557253, 0.36961964864661734, 0.36988247677892905, 0.3701450969323206, 0.37040748448761224, 0.37066962099055656, 0.3709314653017367, 0.37119327031654475, 0.371454912683212, 0.37171624476450904, 0.3719774831063955, 0.37223853033851856, 0.37249934420695746, 0.3727599635668625, 0.3730203940742012, 0.37328070448377765, 0.3735408601692669, 0.3738008574051374, 0.37406081091746285, 0.37432059841489385, 0.37458018243454394, 0.3748396698230191, 0.3750988860855996, 0.37535802196497214, 0.3756169925183682, 0.3758756923873028, 0.3761342406826597, 0.3763926914279298, 0.3766508917970669, 0.3769089573254518, 0.3771667835959083, 0.37742455596284585, 0.377682181019687, 0.37793939936835574, 0.37819649092803687, 0.3784535282144478, 0.3787104667338032, 0.3789671514129733, 0.3792237061828104, 0.3794801772258279, 0.3797364209977939, 0.3799926090282997, 0.3802485556242972, 0.38050423387150795, 0.3807597806965711, 0.3810152618946123, 0.38127058257836205, 0.38152572889096686, 0.38178061984515294, 0.38203536358032797, 0.38228979256649437, 0.3825441358704117, 0.38279838208199535, 0.3830525023344642, 0.38330639315076426, 0.3835602375727172, 0.38381392028570765, 0.3840674165312146, 0.3843207772381569, 0.38457388976881707, 0.3848268798030577, 0.3850798143693533, 0.3853324840515512, 0.3855849659866799, 0.38583741475877514, 0.3860896626620533, 0.3863418056902297, 0.38659378056638216, 0.3868456476280693, 0.3870972449012423, 0.3873486114537644, 0.38759993184383557, 0.3878511395125822, 0.3881021392060754, 0.388353110037183, 0.38860385968070565, 0.3888545402758664, 0.38910502521615964, 0.38935530005206975, 0.38960549259618504, 0.38985547451618846, 0.39010531332130294, 0.39035502519299475, 0.3906045958091118, 0.3908540413363674, 0.3911034330056882, 0.3913526215611776, 0.39160170426836693, 0.3918505591441285, 0.3920992851698747, 0.3923479113895385, 0.39259628705646754, 0.3928446511207582, 0.39309270536174507, 0.3933406503304035, 0.3935883729031091, 0.3938360546795229, 0.39408363400369134, 0.39433109942990624, 0.3945783432185302, 0.39482540781310405, 0.39507240846763986, 0.39531913510234296, 0.395565694075487, 0.3958122031202713, 0.3960586264162574, 0.39630470990900485, 0.3965506641823857, 0.39679651866544363, 0.39704228174956846, 0.3972879059579343, 0.3975333943047553, 0.3977786435800892, 0.3980235832796384, 0.39826848409923843, 0.3985133467746537, 0.39875802288870843, 0.39900261283115374, 0.399246971257196, 0.3994912572393891, 0.3997353872018561, 0.3999793589829251, 0.40022318397360007, 0.40046693005409045, 0.40071053506434245, 0.40095398082593453, 0.40119736452668525, 0.40144055680621804, 0.4016835651320601, 0.4019264612812768, 0.40216928707614874, 0.4024118088161978, 0.4026541902418507, 0.4028963528681665, 0.40313846890959587, 0.40338035761910995, 0.4036221631229336, 0.4038637524106727, 0.4041051608500329, 0.4043464977184621, 0.4045876343056769, 0.4048286790779283, 0.4050695599648045, 0.4053103561596479, 0.4055511184246734, 0.4057917242209645, 0.4060321989806224, 0.4062726041162833, 0.4065126830900294, 0.4067525786487072, 0.406992444543055, 0.4072322511500634, 0.4074718566738721, 0.4077113413731236, 0.4079506955595426, 0.4081898742457218, 0.40842892721598373, 0.4086677191517162, 0.4089063080053803, 0.4091448576733928, 0.40938327969326416, 0.40962161943654435, 0.40985977409255975, 0.41009779469559565, 0.41033570717882084, 0.4105734567085167, 0.4108111322922071, 0.41104848352503726, 0.4112858001045759, 0.4115229630219597, 0.41176003496306357, 0.41199698112839606, 0.41223382351522564, 0.4124706265843019, 0.4127072595465751, 0.4129436970134993, 0.4131799754690036, 0.41341610803758444, 0.41365213430778713, 0.41388805469780304, 0.41412384043671335, 0.4143594671996765, 0.4145950342710711, 0.414830370820042, 0.4150656141457093, 0.41530074389663163, 0.41553569400626816, 0.4157705632445397, 0.4160052367247261, 0.416239832364616, 0.41647421940067053, 0.4167085329520405, 0.41694254269505504, 0.4171764892368335, 0.41741028099181415, 0.4176439592458124, 0.4178775496303101, 0.4181110744433359, 0.4183443785221167, 0.4185774810731304, 0.4188105045025926, 0.4190434161653715, 0.4192759836706014, 0.4195084533792081, 0.4197408118106927, 0.41997314592747925, 0.42020538209106667, 0.4204375249291809, 0.4206694087017319, 0.42090118050274977, 0.42113281251467055, 0.4213643094321538, 0.4215956672780987, 0.42182696513369206, 0.4220581287287964, 0.42228920164553396, 0.42252023807146094, 0.42275102437525164, 0.42298166876035825, 0.4232122385198642, 0.4234426991557264, 0.42367302235118676, 0.42390318842924624, 0.4241333160632411, 0.42436328676068186, 0.42459303929588876, 0.4248227140307982, 0.4250522689015351, 0.42528167005040296, 0.42551105335297723, 0.4257402598920778, 0.4259693955280042, 0.4261983579831954, 0.4264271241897687, 0.426655797235373, 0.4268843504442599, 0.42711270906657234, 0.4273409855876789, 0.4275691887144262, 0.4277973087644132, 0.42802529080884816, 0.4282531606214174, 0.4284809256612986, 0.42870851262264925, 0.42893605198105156, 0.4291634717002406, 0.42939075843276797, 0.42961786144931297, 0.4298448570153242, 0.43007164892187943, 0.43029836402139643, 0.4305250232319492, 0.43075155060754877, 0.4309778162916698, 0.4312039431787032, 0.4314299455614274, 0.43165580842495127, 0.43188149184325414, 0.4321071115367915, 0.4323326505936915, 0.43255796506424316, 0.43278324534582097, 0.4330084220448563, 0.43323344245444084, 0.43345838294978806, 0.43368319698976365, 0.4339079280832925, 0.43413256029370906, 0.4343571538842251, 0.43458151297280295, 0.43480562962131675, 0.4350296756831785, 0.43525361067045476, 0.4354773969036866, 0.43570109104736066, 0.4359247251716229, 0.43614818798398275, 0.43637142684501334, 0.43659459569772796, 0.4368176467757107, 0.43704060900441694, 0.4372634111323165, 0.43748610867317356, 0.4377087507457809, 0.437931228366975, 0.4381537034462445, 0.43837603275515624, 0.4385982679210496, 0.43882037461341367, 0.4390423585176464, 0.43926418665812816, 0.43948590808418797, 0.4397075634303459, 0.43992906817197974, 0.440150447015181, 0.44037164844063525, 0.44059266941256403, 0.4408135683125036, 0.441034436305754, 0.44125511232985926, 0.4414757554293035, 0.4416962796271277, 0.4419166159426336, 0.44213691727271437, 0.44235693676809035, 0.4425768726527382, 0.44279675322022877, 0.4430165540030314, 0.44323628452234365, 0.44345596233123324, 0.4436753841103602, 0.44389477728027354, 0.4441141533247738, 0.44433334957107185, 0.44455246041648083, 0.44477146107528526, 0.44499033104159597, 0.4452091388940555, 0.44542774913272465, 0.4456462852714749, 0.44586473958972866, 0.44608298709843985, 0.44630110443641274, 0.44651910329277, 0.44673703426799216, 0.4469547322367968, 0.4471723977552055, 0.44738986762107313, 0.4476071818966421, 0.4478244496879245, 0.4480416075970156, 0.4482587081629365, 0.4484755884489726, 0.4486924005489586, 0.44890911665943295, 0.4491257407644891, 0.44934227008646166, 0.449558736093825, 0.4497750349967861, 0.4499912210778075, 0.4502072469400629, 0.45042313642246806, 0.45063892650917914, 0.45085467398647133, 0.45107024528185785, 0.45128580066489754, 0.45150123854370533, 0.4517165924989798, 0.4519317138077365, 0.45214675876272087, 0.45236172670213376, 0.4525765103759584, 0.452791265782993, 0.4530059375671369, 0.4532204680050819, 0.4534347582459104, 0.4536490208847808, 0.4538632443392103, 0.4540772961972371, 0.45429132357349794, 0.45450522652673647, 0.4547188710225541, 0.4549324176373782, 0.4551458413858672, 0.45535916501770224, 0.4555724080012334, 0.4557854594476573, 0.45599844263450506, 0.45621128261525595, 0.4564241160094463, 0.4566367756262943, 0.4568493615194957, 0.45706191444953015, 0.45727438506593715, 0.4574867952691975, 0.45769902335715995, 0.4579111994058931, 0.4581233133874555, 0.4583352387326303, 0.45854694984538, 0.4587585612129428, 0.4589701204379791, 0.4591815681889239, 0.4593928590841769, 0.4596040356191105, 0.4598151374835562, 0.46002610515968967, 0.4602370488060129, 0.4604479231988249, 0.46065861726244345, 0.4608692937876556, 0.4610799143794068, 0.46129044036094863, 0.4615007898889605, 0.4617111115805494, 0.461921185706039, 0.46213111478641167, 0.46234094188120084, 0.4625507357247728, 0.4627603773430656, 0.4629699619044581, 0.46317938543590437, 0.4633887294532227, 0.46359792420815876, 0.46380708358938477, 0.4640161041167227, 0.46422500938167205, 0.4644337989270875, 0.46464245188037734, 0.4648510258051751, 0.4650594690580528, 0.4652677895793879, 0.46547607089900067, 0.4656842297922745, 0.4658922291749835, 0.4661000828512374, 0.46630787376609933, 0.4665155736256009, 0.46672315952658905, 0.4669305918990836, 0.4671378919168072, 0.467345087405041, 0.4675522503843366, 0.46775932229637956, 0.4679663013135501, 0.4681732287620379, 0.46838008117704766, 0.4685867589935018, 0.4687933027973328, 0.4689997132080936, 0.4692060456329033, 0.46941230795214467, 0.4696185021350591, 0.4698245498852366, 0.47003057261854514, 0.47023639618771457, 0.4704422138069975, 0.4706479493847575, 0.4708534890106292, 0.47105900880718765, 0.4712643900703937, 0.47146963390001534, 0.4716748392605514, 0.4718799368519582, 0.47208498318963094, 0.4722897581196713, 0.4724944887586042, 0.4726991568130638, 0.47290378319838766, 0.4731081755183493, 0.4733125625495849, 0.47351681507681137, 0.47372091729681437, 0.47392486788658417, 0.47412869607796027, 0.4743324636811264, 0.47453612744135515, 0.4747397440208222, 0.4749433372628593, 0.4751467546418098, 0.4753501522439648, 0.4755534525908145, 0.4757565972827725, 0.4759596327017031, 0.4761626075999882, 0.47636539581751447, 0.47656817003316276, 0.47677080327173577, 0.4769733110963807, 0.47717575734964196, 0.47737815191209304, 0.477580364012305, 0.4777825343286426, 0.4779846060746715, 0.478186515261612, 0.47838837108217414, 0.47859012709100385, 0.47879160411157323, 0.47899305099867145, 0.47919445864057514, 0.47939577540945577, 0.47959691051045245, 0.4797979390755962, 0.4799988866377135, 0.480199755718876, 0.4804005757768991, 0.4806012185237354, 0.48080185025294553, 0.48100232630298523, 0.48120274656209006, 0.4814030361158349, 0.48160322501534547, 0.4818033566086081, 0.4820033982627944, 0.4822033363334391, 0.48240317358254275, 0.48260290809150436, 0.4828025737643283, 0.4830021464472917, 0.48320151556224383, 0.48340084070845607, 0.4836000984000248, 0.48379932138477705, 0.4839984738811806, 0.484197329376072, 0.484396087931121, 0.4845947918817205, 0.4847933836774492, 0.4849918652968832, 0.48519027057621394, 0.4853886116955457, 0.48558692670223647, 0.48578514998184397, 0.4859832211699561, 0.48618122256516244, 0.48637915443161917, 0.48657700737936116, 0.48677466107918865, 0.486972286368065, 0.48716985627852655, 0.4873673110340759, 0.48756461473716733, 0.4877618722291432, 0.48795904022351533, 0.48815613175082456, 0.4883531701682743, 0.4885500223533511, 0.48874676986308235, 0.4889434259589977, 0.4891399324339785, 0.48933628112333516, 0.48953260136766685, 0.48972886479501976, 0.489924969067246, 0.49012097793854326, 0.4903168977194946, 0.49051276517752185, 0.4907085304660623, 0.49090422711975296, 0.49109989047405206, 0.491295452387726, 0.4914910026753642, 0.49168635799324556, 0.4918816051571346, 0.4920767014497617, 0.49227170731519276, 0.4924666851749087, 0.49266161471219144, 0.4928564654115004, 0.4930512506148689, 0.493245923413303, 0.49344055893390104, 0.4936351193329956, 0.493829540875597, 0.494023914002156, 0.49421805566510196, 0.49441214453386695, 0.4946060322007237, 0.4947999087759721, 0.49499373605772146, 0.49518746049952317, 0.49538112643904997, 0.49557473647816824, 0.4957681622372281, 0.49596144093411393, 0.4961546716954485, 0.4963478482267083, 0.4965409978864697, 0.4967340525673586, 0.49692701271630096, 0.4971198992990115, 0.49731263943475523, 0.49750528057705773, 0.4976978577734067, 0.4978903827225625, 0.49808281021828155, 0.4982752042116401, 0.49846741508337844, 0.4986595714270043, 0.49885168080409176, 0.49904368548883893, 0.499235581356384, 0.49942736669962495, 0.4996190887374975, 0.49981072775998264, 0.5000022577740268, 0.5001937023572804, 0.5003850885584941, 0.5005763199775715, 0.5007675102017716, 0.5009585745128942, 0.5011495195135379, 0.5013403843194527, 0.5015312425752992, 0.5017220055018123, 0.5019126439010416, 0.5021032605635181, 0.5022937260313337, 0.5024840988000981, 0.5026743632101298, 0.5028644969241123, 0.5030545611628722, 0.5032445609824568, 0.5034344184979143, 0.5036242239928639, 0.5038139388301285, 0.5040035664169304, 0.504193094210589, 0.5043824949432867, 0.5045718051229932, 0.504761045384989, 0.5049502286555936, 0.5051393518614388, 0.5053284153857925, 0.5055173560407751, 0.5057061239567879, 0.5058948377956387, 0.5060834046683554, 0.5062719183592193, 0.5064603377587819, 0.5066486613021751, 0.5068369129152481, 0.5070251225936989, 0.5072132647931828, 0.5074013028747336, 0.507589277299015, 0.5077771835556417, 0.5079650004479855, 0.5081527707506742, 0.50834046218163, 0.5085280456671721, 0.5087155283988455, 0.5089029527491677, 0.5090902901677873, 0.5092774656976629, 0.5094645678830685, 0.5096516260173328, 0.5098385715964567, 0.5100254183889206, 0.5102122550723038, 0.5103989616538654, 0.510585582215365, 0.5107721449223891, 0.5109586412143635, 0.5111450517888879, 0.5113313842680585, 0.5115175994718552, 0.5117037200276429, 0.511889745163759, 0.5120756909540183, 0.5122615904510227, 0.5124474153333888, 0.5126331686646833, 0.5128187576933373, 0.5130042430561315, 0.5131897150150797, 0.5133750169289363, 0.5135602804741528, 0.5137454536446671, 0.5139305162814356, 0.5141154827173258, 0.514300418851538, 0.5144852930067096, 0.5146701156694918, 0.5148548647492731, 0.515039464341696, 0.5152239942693181, 0.5154084605575345, 0.5155928525136904, 0.5157772003554345, 0.5159614223642335, 0.5161456050408214, 0.5163297127991927, 0.5165137266073689, 0.5166976288794107, 0.5168813930649513, 0.5170651069209333, 0.5172488042070781, 0.5174323573161419, 0.5176157492360529, 0.5177991048972262, 0.5179824036348952, 0.5181656668026632, 0.5183487721426293, 0.5185318594156967, 0.518714904763091, 0.518897916915327, 0.5190807132937869, 0.5192634752599449, 0.5194461196991675, 0.5196286764976091, 0.5198111139647005, 0.5199934284723832, 0.5201756062539389, 0.5203577276458877, 0.5205397899444785, 0.5207218110077709, 0.520903784156689, 0.5210856518468124, 0.5212674713212097, 0.5214492279411775, 0.5216308964608349, 0.5218123969275675, 0.5219938763244478, 0.5221752580124173, 0.5223566035956431, 0.5225378816723759, 0.5227191085697749, 0.5229002528999532, 0.5230813130170993, 0.5232623031455595, 0.523443234399653, 0.5236240660989028, 0.5238047722418583, 0.5239854600474374, 0.5241661183529824, 0.5243466511507938, 0.5245271519389098, 0.5247075398268909, 0.5248878687552607, 0.5250680944379329, 0.525248112331349, 0.5254280992728998, 0.5256080547264058, 0.5257878866804876, 0.5259676915146633, 0.526147387554238, 0.5263270057501848, 0.5265065647895545, 0.5266860428779647, 0.5268654263744903, 0.5270446644291278, 0.5272238686419496, 0.5274030594123481, 0.5275821285425082, 0.5277611098313182, 0.5279400143274849, 0.5281188444279523, 0.5282975300054008, 0.5284761932948506, 0.5286548023560614, 0.528833256730425, 0.5290116907262163, 0.5291899939112742, 0.5293682654800445, 0.5295464866717815, 0.5297245917603965, 0.529902632248919, 0.5300805631145868, 0.5302584528354265, 0.5304362498121239, 0.53061400263843, 0.5307916271979405, 0.5309692354686827, 0.5311467752155368, 0.5313241796895575, 0.5315015648782525, 0.5316789489380213, 0.5318562243847104, 0.5320333432490663, 0.5322104216950915, 0.5323874350209951, 0.532564318146814, 0.5327411586609407, 0.5329178538367052, 0.5330945394112983, 0.5332711130029413, 0.5334476232089475, 0.5336239675547509, 0.5338002501638001, 0.5339764511038441, 0.5341525800289637, 0.5343286821967006, 0.5345046959591896, 0.5346806281861342, 0.5348565533312111, 0.5350323527717881, 0.5352080377400413, 0.5353836929034935, 0.5355592816822264, 0.5357347098275631, 0.5359100984999354, 0.5360854418985403, 0.5362606961133851, 0.5364358789769796, 0.5366109237168891, 0.5367858993210128, 0.5369607558597767, 0.5371355880174173, 0.5373103792823846, 0.5374851240544594, 0.5376598043380355, 0.5378344385199196, 0.5380089671753525, 0.5381834656648331, 0.5383578812367698, 0.5385321630153665, 0.5387063808656052, 0.5388805665145976, 0.5390546381471434, 0.5392285383381332, 0.539402417099121, 0.5395762211063645, 0.539749991187105, 0.5399236413023942, 0.540097174248118, 0.540270673662616, 0.5404440764374783, 0.5406174149623915, 0.540790599685423, 0.5409637350144767, 0.5411367706384232, 0.5413097686376531, 0.5414827247939199, 0.5416556305013288, 0.5418284599316704, 0.542001219017798, 0.5421739455271477, 0.5423465900482553, 0.5425192325352997, 0.5426916913244895, 0.5428640955679089, 0.543036448095964, 0.5432086619559388, 0.5433808506662043, 0.543552999719762, 0.543725048050626, 0.5438970519746383, 0.5440689385661519, 0.5442407200250278, 0.544412411595384, 0.5445840396227103, 0.5447556282866982, 0.5449271519705337, 0.5450986130210027, 0.5452700464036853, 0.5454414028175835, 0.545612642248601, 0.5457838722059445, 0.5459550095254456, 0.5461261204898048, 0.5462971240067773, 0.5464680698644663, 0.5466388962901317, 0.546809675633364, 0.5469804342241587, 0.5471510696324736, 0.5473216334957813, 0.5474920683493812, 0.5476624830417922, 0.5478328594277642, 0.5480031692054906, 0.5481734089838138, 0.548343539460208, 0.5485136224435079, 0.5486836357815819, 0.5488535785144943, 0.5490234189166759, 0.549193217561432, 0.5493629589513296, 0.5495326048525985, 0.5497022330170332, 0.5498717963762185, 0.5500412872743699, 0.5502106569521714, 0.5503799062143371, 0.5505491393246136, 0.550718271100163, 0.5508873630958822, 0.5510564254064365, 0.5512253800483203, 0.5513943261257441, 0.5515631081280966, 0.5517318346380985, 0.551900488155896, 0.5520691192677777, 0.5522376665218663, 0.5524061954646511, 0.5525746822652449, 0.5527430605407382, 0.5529114004226201, 0.5530795982251634, 0.5532477593820694, 0.5534159088269015, 0.5535838916366276, 0.5537518252701767, 0.5539196277771258, 0.5540873952165369, 0.5542551392339797, 0.5544227540491745, 0.5545903511082161, 0.5547578803830794, 0.5549252918100941, 0.5550925915727152, 0.5552598793220056, 0.5554270801476293, 0.5555941574228755, 0.5557612040503758, 0.5559282243664609, 0.5560951363136915, 0.5562619905415895, 0.5564287402863386, 0.5565954555774266, 0.5567620805819552, 0.5569286313959068, 0.5570951621494032, 0.5572616072365775, 0.5574279092127657, 0.5575941782261953, 0.5577603845949421, 0.5579265750784214, 0.5580926745017831, 0.5582587138752236, 0.5584246676880086, 0.5585905433936431, 0.5587564029883527, 0.5589221866539329, 0.5590879154585078, 0.5592534945660866, 0.5594190081243412, 0.5595844769420089, 0.5597499242855972, 0.5599153366104103, 0.560080603864122, 0.5602458186009863, 0.5604109704200666, 0.5605760808440443, 0.5607410812510647, 0.5609060757530049, 0.5610709838731877, 0.5612358035665982, 0.5614005676787357, 0.5615652907577818, 0.5617299493721992, 0.5618944810042809, 0.5620589236273549, 0.5622233264118116, 0.5623877075259791, 0.562552032185219, 0.5627161824986724, 0.5628803152452593, 0.5630443733135545, 0.563208341339634, 0.5633722594290222, 0.563536105381812, 0.56369989444229, 0.5638636179686372, 0.5640272519348164, 0.5641908161713529, 0.5643543100576364, 0.5645177230839551, 0.5646810620997421, 0.564844385619621, 0.5650076413154946, 0.565170893693045, 0.5653340271539748, 0.5654971080203034, 0.5656601605433014, 0.5658230977271289, 0.5659860053185837, 0.5661487299253386, 0.5663114388906403, 0.5664740431733585, 0.5666365323307957, 0.566798992629709, 0.566961406428084, 0.5671237128978099, 0.5672859903061933, 0.5674482239267052, 0.5676103907421772, 0.5677725167063855, 0.5679346140446497, 0.5680965981048286, 0.5682585302199205, 0.5684203930383462, 0.5685821820085668, 0.5687439271406746, 0.5689056357563702, 0.5690672426283536, 0.569228755986399, 0.5693902116201701, 0.569551632912107, 0.5697129284290449, 0.5698741748758712, 0.5700353892924124, 0.5701965524825985, 0.5703576692636506, 0.570518725897229, 0.570679723339474, 0.5708405933110864, 0.5710014221162243, 0.5711622155170186, 0.5713229432502028, 0.5714835932564559, 0.5716441964411051, 0.5718046544318118, 0.5719650873266245, 0.5721254426566872, 0.5722857174631044, 0.5724459611983205, 0.5726061538124779, 0.572766323644113, 0.5729263465492965, 0.5730863336718197, 0.5732461831139156, 0.5734059991303614, 0.5735657176896026, 0.5737253797364368, 0.5738849385474745, 0.5740444841300003, 0.574203881782674, 0.5743632399438627, 0.5745225671082703, 0.5746818170384492, 0.5748410506268492, 0.5750001974035059, 0.575159319855715, 0.5753183690916365, 0.575477354129232, 0.5756362261294404, 0.575795071789531, 0.575953873011115, 0.5761125914987307, 0.5762712522054685, 0.5764298283101241, 0.5765882926272503, 0.5767467448770687, 0.5769050740176135, 0.5770633863753697, 0.5772216401944498, 0.5773798053653425, 0.5775379048752898, 0.577695975385943, 0.5778539306608075, 0.578011860455219, 0.5781697447146337, 0.5783275900583553, 0.5784853379818772, 0.5786430159170167, 0.5788005921313453, 0.5789581145120124, 0.5791156016625731, 0.5792730736190691, 0.579430460851671, 0.579587794159173, 0.5797450501348099, 0.5799022527897083, 0.5800594113902815, 0.5802164915479604, 0.5803734559908634, 0.5805303515555098, 0.5806871777205747, 0.5808439206464563, 0.5810005804354037, 0.5811572218398582, 0.581313840177633, 0.5814703324482846, 0.5816268094582051, 0.5817832184363241, 0.5819395579965211, 0.582095849108494, 0.5822520945376487, 0.5824082016029727, 0.5825642893211773, 0.5827203360008, 0.5828763295842522, 0.583032255210937, 0.5831880476338912, 0.5833438264626347, 0.5834995251656677, 0.5836551795861719, 0.5838108118690163, 0.5839664099871978, 0.5841219519603561, 0.5842774240596113, 0.5844328298180523, 0.5845882274055652, 0.5847435548526925, 0.5848988701311167, 0.5850541101282845, 0.5852091948935577, 0.5853642302220472, 0.5855192045894577, 0.5856741516475189, 0.585829074246548, 0.5859839139369746, 0.5861386904976824, 0.5862933188088837, 0.5864478881601131, 0.5866023826823119, 0.5867568251528162, 0.5869111881950276, 0.5870655173818793, 0.5872198086492604, 0.587374086767118, 0.5875282968164129, 0.5876824508413712, 0.5878365233366789, 0.5879905503422881, 0.5881445308299309, 0.5882984227233123, 0.5884522534433143, 0.588606065996674, 0.588759776448239, 0.5889134244982914, 0.5890670247673933, 0.5892205397912572, 0.5893740071053979, 0.5895274450908506, 0.589680807974278, 0.5898341528751505, 0.5899874575747966, 0.5901406939096381, 0.5902937942798552, 0.5904468811993939, 0.5905998800879325, 0.5907528434852166, 0.5909057661675007, 0.59105866952851, 0.5912114142869549, 0.591364131595655, 0.591516810842742, 0.5916693714520396, 0.5918218601990383, 0.5919743056702299, 0.5921266808293435, 0.5922790411262258, 0.59243132583953, 0.5925835799412694, 0.5927357246585838, 0.5928878387485064, 0.5930398965754884, 0.5931919059718215, 0.5933437882713131, 0.5934956053157041, 0.5936474013695727, 0.5937990975399341, 0.5939507337059722, 0.5941023317148807, 0.5942538660215527, 0.5944053354726533, 0.5945567741735567, 0.5947081741458377, 0.5948594568721802, 0.5950107117885663, 0.5951619097638806, 0.5953130543380388, 0.5954641403924186, 0.5956151937164024, 0.5957662131293228, 0.5959171955029716, 0.5960681021031231, 0.5962189454553471, 0.5963696914877564, 0.596520403955092, 0.5966710846741484, 0.5968217216364021, 0.596972288829384, 0.5971227714746291, 0.5972732143579603, 0.5974236352433011, 0.5975739850325138, 0.597724303318507, 0.5978745071680975, 0.5980246944981208, 0.5981748249595022, 0.5983249048422351, 0.5984748954320104, 0.5986248392651679, 0.598774766222463, 0.5989246239021658, 0.5990742741565227, 0.599223889497932, 0.5993734648275653, 0.59952296695253, 0.5996724158988456, 0.5998217632541439, 0.5999711043710115, 0.6001203691841401, 0.6002695819013467, 0.6004187547498394, 0.6005678649181663, 0.6007168876156329, 0.6008658689561323, 0.60101484191245, 0.601163771011327, 0.6013126231999509, 0.601461357301644, 0.601610086468962, 0.6017587115461486, 0.6019072886706414, 0.6020558110300597, 0.6022042963345563, 0.6023526942206472, 0.6025010180672071, 0.6026492902486327, 0.6027975207984629, 0.6029457221840399, 0.6030938395754161, 0.6032419379824726, 0.6033899714943897, 0.603537958567126, 0.6036858933894401, 0.6038337248857528, 0.603981512623242, 0.6041292804541765, 0.6042769991002985, 0.6044246805958737, 0.6045722926033141, 0.6047197745434314, 0.6048672088498308, 0.605014637181773, 0.6051620397026466, 0.60530934464988, 0.6054565993706243, 0.6056037833712363, 0.6057509199657097, 0.6058980319443944, 0.6060450842754518, 0.6061921220494872, 0.6063390604096446, 0.6064859754857919, 0.6066328328746677, 0.6067795999886515, 0.606926257971766, 0.6070729054658109, 0.6072194699432156, 0.6073659042819397, 0.6075123146950604, 0.6076586704400962, 0.6078049472352293, 0.6079511787068549, 0.6080973965715069, 0.6082435578451882, 0.6083896338538197, 0.6085356711955261, 0.6086816658845089, 0.6088276207007564, 0.6089734774784523, 0.6091192857962595, 0.6092649951015388, 0.6094106681759033, 0.6095562365669475, 0.6097017320039179, 0.6098472140612641, 0.6099926065923813, 0.6101379889381714, 0.6102833298440851, 0.6104286246428878, 0.6105738855607449, 0.610719025464416, 0.6108641401969173, 0.6110092084518483, 0.6111542545753608, 0.6112992743171454, 0.6114442360854189, 0.6115891337021616, 0.6117339897413983, 0.611878780050161, 0.612023497270181, 0.6121681604993475, 0.612312768795033, 0.6124573285882257, 0.612601828731059, 0.6127463138155912, 0.6128907380730946, 0.6130351115666766, 0.6131793425395692, 0.6133235469052787, 0.613467683001522, 0.6136118095413939, 0.613755885835127, 0.6138999246595513, 0.6140439055783073, 0.6141878354044015, 0.614331680344789, 0.6144754663367197, 0.6146192118665208, 0.6147628749859672, 0.6149064782977139, 0.6150500470063628, 0.6151935805134756, 0.6153370252341969, 0.6154804531232777, 0.615623856807165, 0.6157671701557725, 0.6159104352999549, 0.6160536461494677, 0.6161968224062283, 0.6163399541491453, 0.6164830465725267, 0.616626048675106, 0.6167689861312278, 0.6169118869853387, 0.6170547056253208, 0.6171974936255262, 0.6173402680252295, 0.6174830054791528, 0.6176256718426127, 0.617768302190534, 0.6179107749196238, 0.6180532337677191, 0.6181956758451648, 0.6183380326292708, 0.6184803456591728, 0.618622616162097, 0.618764802335096, 0.6189069267323178, 0.6190490212296919, 0.619190997642038, 0.6193329370069899, 0.6194748242230937, 0.6196166398392691, 0.6197583811275951, 0.6199001150100925, 0.6200418089947533, 0.6201834367151866, 0.620325019716339, 0.6204665344216554, 0.6206079809306363, 0.6207493878551226, 0.6208907571921138, 0.6210320692113102, 0.6211733339755482, 0.621314559708699, 0.6214557194586656, 0.6215968544164737, 0.62173795890745, 0.6218789678420028, 0.6220199601713919, 0.6221608461346152, 0.6223017036112516, 0.6224425023564577, 0.6225832743453207, 0.6227239552351385, 0.6228645848400604, 0.6230051765116287, 0.6231457112708517, 0.6232862217927307, 0.623426670246537, 0.6235670193844727, 0.6237073038176048, 0.6238475823821014, 0.6239878028909313, 0.6241279888439767, 0.6242681508796546, 0.6244082224772505, 0.6245482498060304, 0.6246882273324668, 0.6248281655555468, 0.6249679886249756, 0.6251077215446982, 0.625247451480082, 0.6253871073357371, 0.625526745236506, 0.6256663385737659, 0.6258058479808455, 0.6259453403178409, 0.6260847684716156, 0.6262241749562404, 0.6263635363974229, 0.6265028109813924, 0.6266419787936209, 0.6267811084892981, 0.6269202071419596, 0.6270592258595395, 0.6271982258272698, 0.6273371825586468, 0.6274761241692542, 0.627615032505619, 0.6277539212974108, 0.6278927362813134, 0.6280314319268778, 0.6281700936397397, 0.6283087194511668, 0.6284472802651057, 0.6285858285997301, 0.6287242885946477, 0.6288627321783595, 0.6290010928869014, 0.6291393743928121, 0.6292776322330422, 0.6294158566699998, 0.6295540222369352, 0.6296921293073551, 0.6298301803281761, 0.6299681710496133, 0.6301061092383329, 0.630243956120608, 0.6303817941988977, 0.6305196037975653, 0.6306573297317833, 0.6307950174544463, 0.6309326679392983, 0.6310702272752569, 0.6312077049304209, 0.6313451367858826, 0.6314825094257388, 0.6316198558401659, 0.6317571564353252, 0.631894406610285, 0.6320315886708648, 0.6321687525393542, 0.6323058418836062, 0.6324428946968346, 0.6325799040700867, 0.6327168939684871, 0.6328537828782403, 0.6329906353339582, 0.6331274399080113, 0.6332642307088687, 0.6334009646955734, 0.633537678842117, 0.6336743023325379, 0.6338108701848828, 0.6339473736499783, 0.634083862761108, 0.6342203208504938, 0.6343567031817475, 0.6344930357012636, 0.634629317385674, 0.6347655757784133, 0.6349017869946425, 0.6350379224889702, 0.6351740366430749, 0.6353100709549232, 0.6354460452865257, 0.635581967328769, 0.635717855434646, 0.6358536800099678, 0.6359894293771597, 0.636125133696186, 0.6362607944426854, 0.6363964414731076, 0.636532013537596, 0.6366675145897499, 0.6368029742781597, 0.6369384079878059, 0.6370737634547021, 0.6372091038152111, 0.6373444002452531, 0.637479573967888, 0.6376147210675237, 0.6377498627523283, 0.6378849464042916, 0.638019979195846, 0.6381549943803347, 0.6382899014839848, 0.638424744463808, 0.6385595657861023, 0.6386943394740519, 0.6388290490039251, 0.6389637147395073, 0.639098344785962, 0.6392329489512184, 0.6393675107515472, 0.6395020036537037, 0.6396364130777406, 0.6397707686037161, 0.639905111594873, 0.6400393969612773, 0.6401736475035475, 0.6403078248798989, 0.6404419256235183, 0.6405759531207583, 0.6407099052970444, 0.6408438488498044, 0.6409777733924736, 0.6411116702526859, 0.6412454747098258, 0.6413792566205443, 0.6415129861714265, 0.6416466910504857, 0.6417803052715254, 0.6419138632112225, 0.6420473773122843, 0.6421808744090429, 0.6423143164344802, 0.6424477129113396, 0.6425810843581689, 0.642714354280905, 0.6428476091151114, 0.6429808382104754, 0.6431140203125305, 0.6432471841754346, 0.6433803026749406, 0.6435133200490869, 0.6436462417803599, 0.6437791244599764, 0.6439119453472661, 0.644044709271241, 0.6441774557939047, 0.6443101714830662, 0.6444428472277912, 0.6445754759581172, 0.6447080567641881, 0.6448405887526761, 0.6449730654943294, 0.645105499981219, 0.6452378841952341, 0.6453701844089271, 0.6455024746938889, 0.6456347144446956, 0.6457669044842921, 0.6458990651525814, 0.6460311896555425, 0.6461632438654388, 0.6462952505115055, 0.6464272029917123, 0.646559044407374, 0.6466908729559011, 0.6468226536147368, 0.6469544259035299, 0.647086109188941, 0.6472177058724232, 0.647349286014172, 0.647480806124769, 0.6476123108099883, 0.6477437736155581, 0.6478752025628437, 0.6480065854137904, 0.6481379489332789, 0.6482692762259454, 0.6484005528881055, 0.6485317500442835, 0.6486628976178422, 0.6487940099196221, 0.6489250246161277, 0.6490559778568301, 0.6491869194648191, 0.6493178015447714, 0.649448634441682, 0.6495794482557167, 0.6497102492419912, 0.6498409543088027, 0.6499716195759877, 0.6501022009018096, 0.6502327548644943, 0.6503632550401501, 0.6504937111728336, 0.6506241669314063, 0.6507545567887427, 0.6508849219800577, 0.6510152405321716, 0.6511454978846518, 0.6512756960306294, 0.6514058246950534, 0.651535904744011, 0.651665924077073, 0.6517959047490742, 0.6519258809549404, 0.6520557575327933, 0.6521856147694917, 0.6523154710720211, 0.6524452300745934, 0.6525749516077195, 0.6527046557859519, 0.6528343336139071, 0.6529639753973654, 0.6530935272215207, 0.6532230477441191, 0.6533525362852578, 0.6534820021512724, 0.6536114450527258, 0.6537408215596034, 0.6538701587403513, 0.6539994494184913, 0.6541286762587574, 0.6542578596386012, 0.654386948970709, 0.6545160048691601, 0.6546449850737294, 0.6547739306675485, 0.6549028415890179, 0.6550317195994826, 0.6551605641147193, 0.6552893467294391, 0.6554180806782508, 0.6555467558498317, 0.6556753856105187, 0.6558039462833106, 0.6559324852934624, 0.6560609824420626, 0.6561894722774775, 0.6563179366850058, 0.6564463021748476, 0.6565746527832407, 0.6567029421805906, 0.6568311906177674, 0.656959415556858, 0.6570876003282798, 0.6572157503916993, 0.6573438806600277, 0.6574719192944385, 0.6575998482802901, 0.6577277501826463, 0.6578555896425761, 0.6579834260988195, 0.6581111780176416, 0.6582389167122167, 0.6583666439115158, 0.6584943051101194, 0.6586219080657958, 0.6587494345232957, 0.6588769085708446, 0.659004311449349, 0.6591316873201731, 0.6592590246596733, 0.6593863420263018, 0.6595136327713687, 0.6596408775754787, 0.6597680714232089, 0.6598951677361763, 0.6600222435005753, 0.6601492721746314, 0.6602762412349243, 0.6604031567167694, 0.660530009655746, 0.6606568115523899, 0.6607835856618538, 0.6609103098892042, 0.6610369827013381, 0.6611636364080155, 0.6612902488733566, 0.6614168291444996, 0.6615433610219283, 0.6616698559417126, 0.6617963069669096, 0.6619226929610987, 0.6620490662679576, 0.6621754154708381, 0.662301696943726, 0.662427948085951, 0.6625541602866605, 0.6626803122095893, 0.6628064484929528, 0.662932511737912, 0.6630585252166051, 0.6631845137873388, 0.6633104347780048, 0.6634363501291207, 0.663562236911748, 0.6636881159045876, 0.6638139366689827, 0.6639396327954643, 0.6640652898927435, 0.6641909079787699, 0.6643165002352389, 0.6644420681537276, 0.6645675560940603, 0.6646929713714534, 0.6648183407731734, 0.6649437035674566, 0.6650690167564753, 0.6651942692597732, 0.6653195008502879, 0.6654446659321137, 0.6655698159927441, 0.6656949170533778, 0.6658200043078416, 0.665945071739584, 0.6660700882863394, 0.6661950423277001, 0.6663199726440154, 0.6664448769809151, 0.6665697218571379, 0.6666944958749512, 0.6668192290961484, 0.6669439497141532, 0.6670686312295231, 0.6671932576353309, 0.6673178362888881, 0.6674423791572484, 0.6675668614562168, 0.6676913278212271, 0.6678157579416065, 0.6679400709494402, 0.6680643477845629, 0.6681885584055582, 0.6683127167918337, 0.6684368554587323, 0.6685609286047074, 0.6686849679004153, 0.6688089541907104, 0.6689329300944319, 0.6690568520238356, 0.6691807181734588, 0.6693045437962146, 0.6694283092565851, 0.6695520123089708, 0.6696757044500093, 0.6697993379060323, 0.6699229501944036, 0.6700465280169553, 0.670170096712933, 0.6702935879357186, 0.6704170183893314, 0.6705403824557258, 0.6706637149855338, 0.6707870202454004, 0.6709102804094723, 0.6710335190365718, 0.6711567259439327, 0.6712798764309945, 0.6714029755944653, 0.6715260420277048, 0.6716490419998036, 0.6717720034113477, 0.6718948964999274, 0.6720177615879296, 0.6721405963747225, 0.6722634106441833, 0.6723862066459649, 0.6725089694451112, 0.6726316935039008, 0.6727543747077382, 0.6728769837325538, 0.6729995750727013, 0.6731220707572293, 0.67324451681711, 0.6733669399978458, 0.6734893271561038, 0.6736116366280416, 0.6737338975778974, 0.6738561515627255, 0.6739783961800684, 0.6741006036937567, 0.6742227307515466, 0.674344814673829, 0.6744668789783971, 0.6745888902127382, 0.6747108435939699, 0.6748327318464712, 0.6749545860175488, 0.6750764135058216, 0.6751982284621405, 0.6753199789523132, 0.6754417080884194, 0.67556339508793, 0.6756850348445478, 0.6758065894530194, 0.6759281127437048, 0.6760496146227865, 0.6761710545557222, 0.6762924359096457, 0.6764137568514911, 0.6765350705731402, 0.6766563672385061, 0.6767776185153365, 0.6768988328829822, 0.6770200398152584, 0.6771411898071008, 0.6772623137921435, 0.6773834005481184, 0.6775044207910441, 0.6776253868849424, 0.6777462864956615, 0.6778671589662799, 0.6779879934000488, 0.6781087765340427, 0.6782295085565364, 0.678350193930407, 0.6784708366606887, 0.6785914520105574, 0.6787120247881964, 0.6788325490553102, 0.6789530121081824, 0.6790734461607867, 0.6791938580574278, 0.6793142338617189, 0.6794345426706769, 0.6795548211959352, 0.6796750632133427, 0.6797952720722851, 0.6799154358474726, 0.680035518626955, 0.6801555534771333, 0.6802755653476342, 0.680395558741953, 0.6805155091469284, 0.6806354158133199, 0.6807552674362066, 0.6808751027748814, 0.6809949309032518, 0.6811147267822586, 0.6812344212897334, 0.6813540961122889, 0.6814736905558922, 0.6815932396144672, 0.6817127536446512, 0.6818322483420276, 0.6819517236410054, 0.6820711668873408, 0.6821905490075256, 0.682309913852127, 0.682429216292872, 0.6825484699833385, 0.6826676910903309, 0.6827868801002817, 0.6829060025731701, 0.6830250792919381, 0.6831441138049189, 0.6832631373121236, 0.6833820908388627, 0.6835010140913472, 0.6836199059739111, 0.6837387483759644, 0.6838575122952455, 0.6839762194423956, 0.6840949228862805, 0.6842136011449995, 0.6843322457760218, 0.68445083788314, 0.6845694027217675, 0.6846878917699472, 0.6848063630123675, 0.6849248278468805, 0.6850432342514595, 0.6851616137747604, 0.6852798997508986, 0.6853981314476091, 0.6855163430822127, 0.6856344925820769, 0.6857526138723125, 0.6858707029346897, 0.685988759302841, 0.6861067261962462, 0.6862246708812427, 0.6863426026395739, 0.6864604878465425, 0.686578301444873, 0.6866961059156742, 0.686813885273262, 0.6869316090655158, 0.6870492736071937, 0.6871669250481551, 0.687284534768085, 0.6874021094901812, 0.6875196489772062, 0.6876371476337753, 0.6877546252044792, 0.6878720104861847, 0.6879893755675754, 0.6881067095275761, 0.6882240097629287, 0.6883412555361259, 0.6884584822339062, 0.6885756263692625, 0.6886927471457979, 0.6888098389605068, 0.688926872960662, 0.6890438267205417, 0.6891607694912617, 0.6892776454223257, 0.6893944762779066, 0.6895113027887234, 0.6896280932700675, 0.6897448279570088, 0.6898614929541655, 0.6899781350550104, 0.6900947566826223, 0.6902113371916884, 0.6903278912285088, 0.6904444128335409, 0.69056086362194, 0.6906772775109188, 0.6907936324275663, 0.6909099717433, 0.6910262866136822, 0.6911425603574524, 0.6912588017651609, 0.6913750051273687, 0.6914911454884906, 0.691607252260575, 0.6917233274789983, 0.6918393459630299, 0.6919553544634994, 0.6920713083624147, 0.6921872142516362, 0.6923031031661239, 0.6924188953711907, 0.6925346867246696, 0.6926504523609093, 0.6927661917713488, 0.6928818685747264, 0.6929975265935886, 0.6931131470610887, 0.6932287001555612, 0.693344241858266, 0.6934597771838932, 0.6935752808786214, 0.6936906940570885, 0.6938060525221286, 0.6939213758206246, 0.6940366270071535, 0.6941518658227743, 0.6942670596675294, 0.6943822117445968, 0.6944973238777225, 0.6946124230106768, 0.6947274580745632, 0.6948424673576993, 0.6949574416769897, 0.6950723864109123, 0.6951872866559409, 0.6953021183356907, 0.6954169228203937, 0.6955317124055409, 0.6956464926332915, 0.6957612078876323, 0.6958759015572745, 0.6959905582205361, 0.696105156321252, 0.6962197450429152, 0.6963342633387625, 0.6964487445008837, 0.6965631994430014, 0.6966776110027314, 0.696791945706556, 0.6969062128747561, 0.697020471525828, 0.6971346755410693, 0.6972488681192657, 0.6973629995504088, 0.697477116711461, 0.6975911399280991, 0.6977051445515521, 0.6978191345278746, 0.697933073257236, 0.698046982769069, 0.6981608504397677, 0.6982746733730996, 0.6983884722062089, 0.6985022473096938, 0.6986159977620766, 0.6987296842730985, 0.6988433343615409, 0.6989569583055765, 0.6990705716671531, 0.6991841421618562, 0.699297631123453, 0.6994111031414835, 0.6995245226205676, 0.6996379012493429, 0.6997512608768541, 0.6998645980489799, 0.6999778636953156, 0.7000910619818265, 0.7002042549199324, 0.7003173973878212, 0.700430523421691, 0.7005436477395527, 0.700656704056768, 0.7007697053470439, 0.7008826657259916, 0.7009955911777201, 0.7011084701724384, 0.7012213203631604, 0.7013341566638741, 0.7014469478193931, 0.701559720435459, 0.701672431122359, 0.7017851128228637, 0.7018977464308259, 0.7020103689469889, 0.7021229247170313, 0.7022354446439153, 0.7023479523520859, 0.7024603973575583, 0.7025727979761306, 0.7026851632805114, 0.7027975078192076, 0.7029098170217274, 0.7030220971387953, 0.7031343216937264, 0.7032465039458946, 0.7033586206917293, 0.7034707188382258, 0.7035827772871339, 0.7036947988499598, 0.7038067799701758, 0.703918747750957, 0.7040306788585484, 0.7041425558800453, 0.7042544100711413, 0.7043661906863551, 0.704477939734958, 0.7045896304441099, 0.7047012896420489, 0.7048129071205146, 0.7049245022229469, 0.7050360697021008, 0.7051476040984009, 0.7052591193893776, 0.7053706172755992, 0.7054820961283039, 0.7055934899490823, 0.7057048653719814, 0.705816168377716, 0.7059274661805984, 0.706038695824323, 0.7061498915666083, 0.7062610403741247, 0.7063721738603664, 0.7064832801248111, 0.7065943196950393, 0.7067053342702023, 0.7068163348026486, 0.7069272577031012, 0.7070381334241509, 0.7071489772857463, 0.7072597985853416, 0.7073705750379575, 0.7074813458537469, 0.7075920578027267, 0.7077027362080587, 0.7078134042045224, 0.7079240174123944, 0.7080346229075156, 0.7081452184610851, 0.7082557019357485, 0.7083661708625637, 0.7084766120070407, 0.7085869762565868, 0.7086973063113415, 0.7088076247639101, 0.7089178992357767, 0.7090281425385365, 0.7091383745117285, 0.7092485344237995, 0.7093586396264495, 0.7094687178555249, 0.7095787729957703, 0.7096888256671735, 0.7097987881062084, 0.7099087429612022, 0.710018676445728, 0.7101285573779115, 0.7102384007235043, 0.7103482292829572, 0.7104580020916423, 0.7105677310414583, 0.7106774328686378, 0.7107871033930391, 0.7108967341122331, 0.7110063367379401, 0.7111159174737764, 0.7112254610831013, 0.711334959232074, 0.7114444003205639, 0.7115537884755685, 0.7116631668905222, 0.711772514855958, 0.7118818255462848, 0.7119911081202115, 0.7121003745827589, 0.7122096127661969, 0.7123188247155192, 0.7124280086238584, 0.712537091170968, 0.7126461445552915, 0.7127551621886891, 0.7128641385397178, 0.712973089767362, 0.7130820002499427, 0.7131908765878769, 0.7132997033950325, 0.7134084918702678, 0.7135172305083779, 0.7136259562573117, 0.713734621994813, 0.7138432249436563, 0.7139517963093838, 0.7140603468389406, 0.7141688698562901, 0.7142773364950481, 0.714385782741939, 0.7144941855571473, 0.7146025512621399, 0.7147108942822319, 0.7148191862183932, 0.7149274623335934, 0.7150356807895979, 0.7151438768679068, 0.7152520484333468, 0.7153601797406034, 0.7154682631389222, 0.7155762550755098, 0.7156842331514001, 0.7157921807144232, 0.7159001117659101, 0.7160080052534601, 0.7161158871004294, 0.7162237492824148, 0.7163315870569732, 0.7164393617106922, 0.7165470951091117, 0.7166548063441757, 0.7167624882344561, 0.7168701376413277, 0.7169777083039746, 0.717085259175054, 0.7171927373943988, 0.7173001871801382, 0.7174076164315232, 0.7175150074295715, 0.7176223827714994, 0.7177296922079802, 0.7178369827687924, 0.717944219792639, 0.7180514489447943, 0.7181586278858677, 0.7182657809105983, 0.718372929873846, 0.7184800052339623, 0.718587073415658, 0.7186941039236588, 0.7188010932108942, 0.7189080447440663, 0.7190149842452653, 0.7191218609568738, 0.7192287076465351, 0.7193354981864716, 0.719442234998352, 0.7195489490357149, 0.7196556181189246, 0.7197622585708022, 0.7198688703666785, 0.7199754433991575, 0.7200819857684372, 0.7201884775326142, 0.7202949094833905, 0.720401292733829, 0.7205076602106412, 0.7206139663264087, 0.7207202613974403, 0.720826516867755, 0.7209326930434491, 0.7210388504062513, 0.7211450011087964, 0.7212511008854802, 0.7213571749869423, 0.7214632133012745, 0.7215692414568817, 0.7216752028704241, 0.7217811456183708, 0.7218870635793285, 0.7219929489781983, 0.7220987970122353, 0.722204612103788, 0.7223104100738509, 0.7224161749515087, 0.72252190736413, 0.7226276260869458, 0.722733281045883, 0.7228389017697786, 0.7229445099998123, 0.7230500738107464, 0.7231555904993401, 0.723261068626012, 0.7233665219254787, 0.7234719318794676, 0.7235772896798112, 0.723682642756361, 0.7237879356589163, 0.7238932156404425, 0.7239984243544925, 0.7241036087460504, 0.7242087700125156, 0.7243139011281926, 0.7244189986268568, 0.7245240606384975, 0.7246290836086278, 0.7247340888237502, 0.7248390740157187, 0.7249440354027011, 0.7250489192769608, 0.725153738849728, 0.7252585336685523, 0.7253632816694969, 0.725468013719659, 0.7255726872428376, 0.7256773455805774, 0.7257819819992984, 0.7258865696991337, 0.7259911450019081, 0.726095694690732, 0.7262001920432417, 0.7263046536940604, 0.7264090634806126, 0.7265134721050388, 0.7266178004105355, 0.7267220817741532, 0.7268263404694484, 0.7269305802846319, 0.7270347800554089, 0.7271389427432347, 0.7272430584592123, 0.7273471643542403, 0.7274512471263821, 0.727555281999558, 0.7276592424634127, 0.7277631965744576, 0.7278671047444081, 0.7279709953448101, 0.7280748353983212, 0.7281786447855673, 0.7282824182369557, 0.728386152122434, 0.7284898533176818, 0.7285935133521967, 0.7286971467549398, 0.7288007782450872, 0.7289043707451514, 0.7290079444544134, 0.7291114716983121, 0.7292149552223279, 0.7293183919145623, 0.7294217965555215, 0.7295251794632538, 0.7296285224738324, 0.7297317989784912, 0.7298350607682329, 0.7299382910456341, 0.7300414972354473, 0.730144662780873, 0.7302478017899797, 0.7303508818558686, 0.7304539294505182, 0.7305569533496432, 0.7306599420930333, 0.7307628519206447, 0.7308657382406336, 0.7309686088100243, 0.7310714410706537, 0.7311742229851409, 0.7312769822331667, 0.7313796929885937, 0.7314823794455575, 0.731585004598356, 0.7316875980815928, 0.7317901276420657, 0.7318926309137159, 0.7319951199042333, 0.7320975807936604, 0.7322000165353841, 0.7323024165857683, 0.7324047877008605, 0.7325071069993688, 0.7326094118303581, 0.7327116857202544, 0.7328139140921813, 0.732916123386435, 0.7330182961523928, 0.7331204347938662, 0.7332225151234197, 0.73332458309467, 0.7334266217925124, 0.7335286391326141, 0.7336305810624021, 0.7337325055450229, 0.7338343874139331, 0.7339362150778375, 0.7340380251476527, 0.7341398035056897, 0.7342415505753938, 0.7343432503358003, 0.734444933331484, 0.7345465618355674, 0.7346481284184486, 0.73474966350294, 0.7348511715228925, 0.7349526554357628, 0.7350541061431718, 0.7351555250573744, 0.7352569128888646, 0.7353582108642209, 0.7354594945664712, 0.73556075437884, 0.7356620092239364, 0.7357632065738425, 0.7358643654768858, 0.735965474199286, 0.7360665741003877, 0.7361676350571327, 0.7362686383601826, 0.7363696131619057, 0.7364705761515108, 0.7365715033163558, 0.7366723921304849, 0.7367732124885682, 0.7368740184078452, 0.7369747972009334, 0.7370755334649027, 0.7371762331815909, 0.7372769125567219, 0.7373775455054924, 0.7374781652188765, 0.7375787126107779, 0.7376792360289762, 0.7377797105034704, 0.7378801476470359, 0.7379805584343261, 0.7380809562416809, 0.7381813355324502, 0.7382816764574379, 0.7383819902216991, 0.7384822756567229, 0.7385825130650935, 0.7386827449888511, 0.7387828979881182, 0.7388830249344275, 0.7389831403159163, 0.7390832301296131, 0.7391832331693615, 0.739283230609949, 0.7393832056762558, 0.7394831683788758, 0.7395830766109924, 0.7396829375482806, 0.7397827904677357, 0.7398825895133213, 0.7399823550431867, 0.7400820882586058, 0.7401817654746112, 0.7402814331725832, 0.7403810862146749, 0.7404806644087032, 0.7405802199318711, 0.7406797670100014, 0.7407792708768138, 0.7408787400278818, 0.7409781839543622, 0.741077621035397, 0.7411770087792813, 0.7412763203827527, 0.7413755877807908, 0.7414748214730311, 0.7415740227019292, 0.7416731805063598, 0.7417722981891577, 0.741871395051421, 0.7419704293107181, 0.7420694408065965, 0.7421684475231505, 0.7422674023949348, 0.7423663331433383, 0.7424652402922813, 0.7425641133229212, 0.7426629685521128, 0.7427617462444179, 0.7428604803409637, 0.74295920351375, 0.7430578674331224, 0.7431564899525516, 0.7432550973783754, 0.743353670508099, 0.743452229123087, 0.743550766427302, 0.7436492424002173, 0.743747709904849, 0.7438461371559038, 0.7439444949612263, 0.7440428298189583, 0.7441411415990254, 0.744239435431296, 0.7443377234250259, 0.7444359575487838, 0.7445341588441904, 0.7446323394559713, 0.7447304935952478, 0.7448286123421157, 0.7449266719490004, 0.7450246681522834, 0.7451226487720835, 0.7452205983089927, 0.7453185408435499, 0.7454164367089279, 0.7455143117503819, 0.7456121645214372, 0.7457099999822911, 0.7458077860533817, 0.7459055255136421, 0.7460032529862107, 0.7461008948193234, 0.746198514237502, 0.7462961222649775, 0.7463937099436118, 0.746491230372973, 0.7465887035096032, 0.7466861507294452, 0.7467835781874116, 0.7468809728909047, 0.7469783319651457, 0.7470756576638339, 0.7471729485106159, 0.7472701997306607, 0.747367421083468, 0.7474646214620786, 0.7475618017383581, 0.7476589234629902, 0.7477560263215589, 0.7478531059539028, 0.7479501452999767, 0.7480471554919076, 0.7481441255947784, 0.7482410708771233, 0.748337992333008, 0.7484348386502384, 0.7485316298973226, 0.7486284040932342, 0.7487251620641692, 0.7488218582928236, 0.7489185376495754, 0.7490151838630231, 0.7491117830713215, 0.7492083755019444, 0.7493049589978809, 0.7494014960926854, 0.7494979686430135, 0.749594415448341, 0.74969083989736, 0.749787234517113, 0.7498836155871409, 0.7499799490266514, 0.7500762181067676, 0.7501724321907446, 0.7502686430868744, 0.7503648104252727, 0.7504609584738775, 0.7505570879231142, 0.7506531868869131, 0.750749265023488, 0.750845303528291, 0.7509413222174809, 0.7510372897781324, 0.7511332020438051, 0.7512290954899156, 0.7513249713169355, 0.751420811776517, 0.7515166091768986, 0.7516123888945019, 0.7517081583822832, 0.7518038885213097, 0.7518996004771485, 0.7519952562644913, 0.7520908824175624, 0.7521864291907332, 0.7522819491178172, 0.7523774308919373, 0.7524728774737645, 0.7525683074531163, 0.7526636913410869, 0.7527590513267657, 0.7528543785372955, 0.7529496894236357, 0.7530449752785513, 0.7531402287555922, 0.7532354409401628, 0.7533306329434201, 0.7534257807080813, 0.7535208891982486, 0.7536159754212561, 0.7537110439764401, 0.7538060452714439, 0.7539010141775382, 0.7539959540437563, 0.7540908424562164, 0.754185687206441, 0.7542804993984364, 0.7543752927100191, 0.7544700774242629, 0.7545648115713323, 0.7546594969079057, 0.7547541589287882, 0.754848808722726, 0.7549434254055669, 0.7550380164230635, 0.7551325765215361, 0.7552271171996329, 0.7553215907136829, 0.7554160462291364, 0.7555104600230443, 0.7556048397418077, 0.7556991904626331, 0.7557934736481093, 0.7558877332210809, 0.7559819764148796, 0.7560761565100081, 0.756170326831746, 0.7562644873756746, 0.7563586077807396, 0.7564526992576438, 0.7565467421732688, 0.7566407571084058, 0.7567347327522839, 0.7568286890461224, 0.7569226097087991, 0.7570164945993472, 0.7571103590683219, 0.757204174911519, 0.7572979692625762, 0.7573917209006534, 0.7574854719211301, 0.7575791848822241, 0.7576728711483762, 0.7577665168525263, 0.7578601261225516, 0.7579537130192394, 0.7580472419296563, 0.7581407697973191, 0.7582342603640745, 0.7583276946287495, 0.7584211003932402, 0.7585144847847837, 0.7586078168442429, 0.7587011015319972, 0.7587943625484488, 0.758887582352639, 0.758980789197895, 0.7590739400905417, 0.7591670711999483, 0.759260173956165, 0.7593532400212892, 0.7594462562597835, 0.7595392532893153, 0.7596322318726968, 0.7597251566226015, 0.7598180546235315, 0.7599109414501563, 0.7600037980875686, 0.7600966105687408, 0.7601893723690252, 0.7602821098178741, 0.7603748319379747, 0.7604675135885586, 0.7605601501209808, 0.7606527578839586, 0.7607453067737023, 0.7608378129439001, 0.7609302942541605, 0.7610227635496376, 0.7611151875089058, 0.7612075908080869, 0.7612999811201488, 0.7613923366627121, 0.7614846124765471, 0.7615768452557239, 0.7616690731069918, 0.7617612798834686, 0.7618534254923675, 0.761945560107921, 0.7620376445367362, 0.7621297177931847, 0.7622217595209999, 0.7623137815467785, 0.7624057835480292, 0.7624977531476844, 0.7625896726967619, 0.7626815242049926, 0.7627733620841903, 0.7628651719569844, 0.7629569429104794, 0.7630486666575709, 0.7631403798381124, 0.7632320717028139, 0.7633237190623432, 0.7634153168715953, 0.763506905658531, 0.7635984328532054, 0.7636899397600346, 0.7637814374873607, 0.7638728944110013, 0.7639643239518106, 0.764055745024904, 0.7641471228099923, 0.764238457357744, 0.7643297858352067, 0.7644210787452351, 0.7645123247141055, 0.7646035555942972, 0.7646947642422252, 0.76478592426042, 0.7648770578251648, 0.7649681241911443, 0.7650591675321773, 0.7651501775870185, 0.7652411553620632, 0.7653321262476539, 0.7654230326124809, 0.7655138924506288, 0.7656047341294006, 0.765695553779493, 0.7657863144806349, 0.7658770601819722, 0.7659677451404513, 0.7660584135754567, 0.7661490546726171, 0.766239678505519, 0.7663302905824029, 0.7664208290866218, 0.7665113461004107, 0.766601842745231, 0.7666922992090848, 0.7667827016380007, 0.7668730589642497, 0.7669633803045379, 0.7670536597240387, 0.7671439321014645, 0.7672341548988904, 0.7673243612774601, 0.7674145516773291, 0.7675047099666336, 0.7675948495647456, 0.7676849274855049, 0.7677749639178602, 0.7678649911801212, 0.7679549828709301, 0.7680449442134883, 0.7681348702698511, 0.7682247791658139, 0.7683146699446257, 0.7684044752226777, 0.7684942710881847, 0.7685840163580969, 0.7686737486066584, 0.7687634324606967, 0.7688530740055995, 0.7689426670576431, 0.7690322248989276, 0.7691217442633305, 0.7692112325089132, 0.7693006895267228, 0.7693901133393317, 0.7694795337710788, 0.769568921245054, 0.7696582698932446, 0.7697475712737554, 0.7698368259096233, 0.769926074943215, 0.7700153043485565, 0.7701044971446592, 0.7701936808998007, 0.7702828112429092, 0.7703719341087863, 0.7704609853143717, 0.7705499849643075, 0.7706389715023592, 0.770727945942947, 0.7708169007632589, 0.7709058208426054, 0.7709946811874797, 0.7710835040976382, 0.7711723021238731, 0.7712610580462596, 0.771349801299094, 0.77143851229592, 0.7715271858821796, 0.7716158117274344, 0.7717044023175513, 0.7717929792922519, 0.7718815202321466, 0.7719700363593287, 0.7720585225665093, 0.7721469907787757, 0.7722354379215077, 0.7723238297337331, 0.7724121959552998, 0.7725005003735306, 0.772588792598464, 0.7726770601265931, 0.7727652927972312, 0.7728534618271365, 0.7729416134426647, 0.7730297243446576, 0.7731178178915757, 0.7732058877659913, 0.773293930104196, 0.7733819212600389, 0.7734698861257675, 0.7735577863689233, 0.7736456475606316, 0.7737334871038594, 0.773821295925588, 0.7739090586242877, 0.7739968036357229, 0.7740845041521196, 0.7741721945807234, 0.7742598681446183, 0.7743474900615598, 0.7744350583053031, 0.7745226002830816, 0.7746101281233573, 0.7746976219842377, 0.7747850991169006, 0.7748725330047637, 0.7749599015092106, 0.7750472633943742, 0.7751345924338975, 0.7752218989460729, 0.7753091780239825, 0.775396415665591, 0.7754836340001818, 0.7755708243108346, 0.7756579468661814, 0.775745040904986, 0.7758320852773897, 0.7759191151337613, 0.7760061114173512, 0.7760930801839032, 0.7761800146156758, 0.7762668691874713, 0.7763537005094937, 0.7764405107689817, 0.776527303388677, 0.7766140914241989, 0.776700822054677, 0.7767875288029734, 0.7768741958797201, 0.7769607789642916, 0.7770473294226313, 0.777133864635526, 0.7772203868794876, 0.7773068730125832, 0.7773933406749699, 0.7774797691344754, 0.7775661936769481, 0.7776525794176935, 0.7777389393414696, 0.7778252309196588, 0.7779115097009042, 0.7779977630908067, 0.77808396316698, 0.7781701190960406, 0.7782562700107805, 0.7783424062336111, 0.778428518667616, 0.77851458980017, 0.7786006396054559, 0.7786866571689793, 0.7787726324300389, 0.7788585780496936, 0.7789444792122687, 0.7790303328872947, 0.779116157428872, 0.7792019241792251, 0.7792876756908285, 0.7793733900082782, 0.7794590900276259, 0.7795447549783286, 0.7796303865510944, 0.7797159875122205, 0.7798015544089276, 0.7798870900658361, 0.7799726033518698, 0.7800581126280249, 0.7801435559089732, 0.780228986221406, 0.7803144114708416, 0.78039979417373, 0.7804851556878097, 0.7805704572328097, 0.7806557276078204, 0.7807409766384823, 0.7808261921060168, 0.7809113886526001, 0.7809965456399323, 0.7810816861255523, 0.7811667550803933, 0.781251799579305, 0.7813368307076373, 0.7814217781598475, 0.781506712364134, 0.7815916017401899, 0.7816764742259759, 0.7817613111586785, 0.7818461238834972, 0.7819308920324798, 0.7820156282333525, 0.7821003319187884, 0.7821849837576904, 0.7822695985859847, 0.782354178616607, 0.7824387286907628, 0.7825232696012472, 0.7826077606865777, 0.7826922451784588, 0.7827766631667679, 0.7828610601287184, 0.7829454323536603, 0.7830297800850918, 0.7831140920949179, 0.7831983782090257, 0.7832826124303213, 0.7833668055200669, 0.7834509577301946, 0.7835350747159773, 0.7836191768747192, 0.7837032321247598, 0.783787252932192, 0.7838712399668774, 0.7839552073249585, 0.7840391413916754, 0.7841230392916325, 0.7842068806448559, 0.7842906935052355, 0.7843744694501414, 0.7844582193210666, 0.7845419309592125, 0.7846256106994304, 0.7847092671167966, 0.7847928906256882, 0.7848764500716197, 0.7849600006763984, 0.785043519940313, 0.7851270253564241, 0.7852105086425447, 0.7852939593569409, 0.7853773746607201, 0.7854607686403429, 0.7855441357836164, 0.7856274491472559, 0.7857107301486154, 0.7857939881999072, 0.7858772164756498, 0.7859603849527302, 0.7860435155815688, 0.7861266260478005, 0.7862096836093897, 0.7862927286817071, 0.7863757355134182, 0.7864586933502596, 0.7865416189993631, 0.7866245207045129, 0.7867074050964993, 0.7867902476606862, 0.7868730388976272, 0.7869558029089245, 0.7870385358146872, 0.787121202010927, 0.7872038506072472, 0.7872864844822565, 0.7873690875390413, 0.7874516512342716, 0.787534154524104, 0.787616629211545, 0.7876990934653042, 0.7877815288905305, 0.7878639224166384, 0.7879462716009132, 0.7880286077054371, 0.7881108975263946, 0.7881931571419213, 0.7882753647023045, 0.7883575531332272, 0.788439728098083, 0.7885218543500554, 0.7886039712605721, 0.7886860688343, 0.7887681137121006, 0.7888500971357674, 0.7889320707897312, 0.7890140064634075, 0.7890959093429829, 0.7891777879807819, 0.789259648186698, 0.7893414768913228, 0.7894232411981859, 0.789504992135689, 0.7895867099037733, 0.7896684084211119, 0.7897500355408357, 0.7898316090341311, 0.7899131646900728, 0.7899946931756753, 0.7900762138241325, 0.7901577016405025, 0.7902391378574116, 0.7903205438613665, 0.7904019256174932, 0.7904832809737066, 0.7905645951297876, 0.7906458860248731, 0.7907271671564197, 0.7908084014142505, 0.7908895977368223, 0.7909707487441119, 0.7910518904878936, 0.7911329543298855, 0.7912140048469851, 0.7912950285241045, 0.7913759943675351, 0.7914569497854067, 0.7915378775058192, 0.7916187689512751, 0.7916996032439324, 0.7917804208190015, 0.791861215657373, 0.7919420029644111, 0.7920227313548642, 0.7921034492805529, 0.7921841225906623, 0.792264751691084, 0.7923453327011477, 0.7924258977346366, 0.7925064247932975, 0.792586910937669, 0.7926673577404597, 0.7927477924368158, 0.7928281856206043, 0.7929085113585302, 0.7929887793824385, 0.7930690298760573, 0.7931492564373706, 0.7932294318977444, 0.793309601261263, 0.7933897546263904, 0.7934698424639341, 0.7935498938527259, 0.7936298984963011, 0.7937098714053635, 0.7937898239014842, 0.7938697462933566, 0.7939496438678314, 0.7940294948359446, 0.7941093310176115, 0.7941890978474956, 0.7942688381177009, 0.7943485529651956, 0.7944282414534144, 0.7945079166178624, 0.7945875553086698, 0.7946671493554686, 0.7947466994895055, 0.7948262257130848, 0.7949056880561386, 0.7949851195508106, 0.7950645209498061, 0.7951438989936471, 0.7952232517048464, 0.7953025948688983, 0.7953818788702745, 0.7954611476447948, 0.7955403471040217, 0.7956195289152658, 0.7956986497198579, 0.7957777539191938, 0.7958568366419744, 0.7959358817443996, 0.7960148986444057, 0.7960938760581223, 0.7961728068772841, 0.7962516942521145, 0.7963305620399902, 0.7964093774661318, 0.7964881647977972, 0.7965669095786498, 0.7966456276821776, 0.7967243416521668, 0.7968029699083368, 0.7968815550467416, 0.7969601062103816, 0.7970386477649903, 0.7971171877325964, 0.7971956720007614, 0.7972740939676726, 0.7973524875689014, 0.7974308417812428, 0.7975091404654784, 0.7975873959125919, 0.7976656048002231, 0.7977437971060862, 0.7978219753412157, 0.7979001304459895, 0.7979782211846368, 0.7980562567712146, 0.798134263656222, 0.7982122499912407, 0.7982901945781086, 0.7983681157626834, 0.7984460156434081, 0.7985238845235147, 0.7986017062197552, 0.7986795068251142, 0.798757292673461, 0.7988350279400327, 0.7989127276236829, 0.7989904033151912, 0.7990680278750795, 0.7991455879965423, 0.799223120654275, 0.7993006299452393, 0.7993780554289993, 0.7994554649672946, 0.7995328277414542, 0.7996101794717354, 0.7996874791266237, 0.7997647386596496, 0.7998419664596305, 0.7999191539707501, 0.7999963307922666, 0.8000734838008063, 0.8001506200831716, 0.8002276937145596, 0.8003047471259386, 0.8003817498851217, 0.8004587451452055, 0.8005356839746607, 0.8006125998793977, 0.8006895071972402, 0.8007663695285409, 0.8008431386314265, 0.8009198819009329, 0.8009965875994014, 0.8010732838134603, 0.8011499482284998, 0.801226598652417, 0.8013031890807805, 0.8013797386476464, 0.8014562694079239, 0.8015327539042422, 0.8016091865654743, 0.8016855813018653, 0.801761913929609, 0.8018381962402571, 0.8019144586084904, 0.801990691778463, 0.8020669028665929, 0.8021430744364563, 0.802219209298814, 0.8022953161531636, 0.8023713850078078, 0.8024474170231699, 0.8025234134521821, 0.8025993773337552, 0.8026752890161187, 0.8027511801429874, 0.8028269962378192, 0.8029027714733826, 0.8029785365484386, 0.8030542684172551, 0.8031299297402077, 0.8032055690398104, 0.803281173707683, 0.8033567292077454, 0.8034322112518514, 0.8035076782043864, 0.8035831102238469, 0.80365851203834, 0.8037338877857128, 0.8038092093144749, 0.8038845004606942, 0.803959763245221, 0.8040349702632953, 0.8041101653529867, 0.8041853325384911, 0.8042604497286492, 0.8043355398260545, 0.8044105324765118, 0.8044854936481172, 0.8045604370331204, 0.8046353610993964, 0.8047102291385525, 0.8047850681371302, 0.8048598591492054, 0.8049346305159373, 0.8050093665090857, 0.8050840548406127, 0.8051587246703903, 0.8052333410314165, 0.8053079423639562, 0.8053824905229375, 0.8054570048188225, 0.8055315118668163, 0.8056059782760642, 0.8056803681313608, 0.8057547333758535, 0.8058290401899877, 0.8059033191060534, 0.8059775742089985, 0.8060517730431651, 0.8061259210627927, 0.8062000503871556, 0.8062741325043603, 0.806348195449827, 0.8064222085817551, 0.8064961464495307, 0.8065700640089013, 0.8066439503387929, 0.8067177855744894, 0.8067916019042071, 0.8068653829103869, 0.8069391287000003, 0.8070128147999747, 0.8070864674991872, 0.8071600848604569, 0.8072336166083582, 0.8073071104457614, 0.8073805819860135, 0.8074539983982171, 0.807527357859305, 0.8076007070434993, 0.8076740263843815, 0.8077473170457451, 0.8078205824947113, 0.807893830620649, 0.8079670582946921, 0.8080402214365239, 0.808113320510261, 0.8081863234181117, 0.8082593037768272, 0.8083322612680015, 0.8084051881153288, 0.808478097492842, 0.8085509298380572, 0.8086237271940477, 0.8086964508975036, 0.8087691457369547, 0.8088418173267337, 0.8089144529535612, 0.8089870702787397, 0.8090596550557824, 0.8091321964105055, 0.8092047039635609, 0.8092771431935653, 0.8093495668473975, 0.8094218899840637, 0.8094941921289089, 0.809566449366712, 0.8096386841877166, 0.8097108709616155, 0.8097830456324476, 0.8098551364451854, 0.8099271781634001, 0.809999168870861, 0.8100711281779803, 0.8101430050194126, 0.8102148484875099, 0.8102866646669754, 0.8103584370923964, 0.8104301698405934, 0.8105018674820191, 0.8105734959773908, 0.8106451115278152, 0.8107166800669768, 0.8107882125672822, 0.8108596497040489, 0.8109310311246637, 0.8110023615223586, 0.8110736758787963, 0.8111449598503698, 0.8112162043346217, 0.8112873803241045, 0.8113585295030693, 0.8114295864406125, 0.8115006151724729, 0.8115716377159528, 0.8116426083901314, 0.8117135522241431, 0.8117844294491656, 0.8118552680979153, 0.8119260356952099, 0.8119967922688307, 0.812067535986853, 0.812138220964249, 0.812208846720897, 0.8122794352379465, 0.8123499645803363, 0.8124204136603556, 0.8124908547656552, 0.8125612464723302, 0.8126315635226941, 0.8127018047094665, 0.8127719851422548, 0.8128421103799421, 0.8129121803298537, 0.8129822270349613, 0.8130522022181684, 0.8131221287114122, 0.8131920152185214, 0.8132618201682719, 0.8133315675921677, 0.8134012556950173, 0.8134709253382095, 0.8135405268414367, 0.8136101180445314, 0.8136796128061973, 0.8137490204901175, 0.8138183811875408, 0.8138876929917237, 0.8139569121960049, 0.8140261208453788, 0.8140952670262014, 0.8141643617367137, 0.8142334001755859, 0.8143024176662895, 0.8143713843041425, 0.8144402621938305, 0.8145090791131516, 0.8145778139661926, 0.8146464982139586, 0.8147151509173371, 0.8147837097560062, 0.8148522105662923, 0.8149206628545939, 0.8149890699043199, 0.8150573644137706, 0.8151256071814094, 0.8151938086004491, 0.8152619761855666, 0.8153299519236188, 0.8153978926083068, 0.8154657493379387, 0.8155335541674726, 0.8156012403386704, 0.8156688973601963, 0.8157364518423356, 0.8158039570797704]\n"
     ]
    }
   ],
   "source": [
    "cum_explained_var = []\n",
    "for i in range(0, len(svd.explained_variance_ratio_)):\n",
    "    if i == 0:\n",
    "        cum_explained_var.append(svd.explained_variance_ratio_[i])\n",
    "    else:\n",
    "        cum_explained_var.append(svd.explained_variance_ratio_[i] + \n",
    "                                 cum_explained_var[i-1])\n",
    "\n",
    "print(cum_explained_var)"
   ]
  },
  {
   "cell_type": "code",
   "execution_count": 49,
   "metadata": {},
   "outputs": [
    {
     "data": {
      "text/plain": [
       "[Text(0,0.5,'Cumulative Explained Variance'),\n",
       " Text(0.5,0,'Number of Component'),\n",
       " Text(0.5,1,'Explained Variance of Truncated SVD Components After TF-IDF Vectorization')]"
      ]
     },
     "execution_count": 49,
     "metadata": {},
     "output_type": "execute_result"
    },
    {
     "data": {
      "image/png": "[encoded data removed]",
      "text/plain": [
       "<matplotlib.figure.Figure at 0x1a22f44b00>"
      ]
     },
     "metadata": {},
     "output_type": "display_data"
    }
   ],
   "source": [
    "fig, ax = plt.subplots()\n",
    "for i in range(len(y)):\n",
    "    ax.plot(i+1, y[i])\n",
    "\n",
    "ax.set(xlabel='Number of Component', ylabel='Cumulative Explained Variance',\n",
    "       title='Explained Variance of Truncated SVD Components After TF-IDF Vectorization')"
   ]
  },
  {
   "cell_type": "markdown",
   "metadata": {},
   "source": [
    "#### Cosine Similarity:  TFIDF_truncSVD4000"
   ]
  },
  {
   "cell_type": "code",
   "execution_count": 50,
   "metadata": {},
   "outputs": [],
   "source": [
    "### Calcualte as matrix of all movies to all movies of tfidfvec_truncated, the first 1000\n",
    "sim_matrix_tfidfvec_truncSVD4000 = cosine_similarity(tfidfvec_truncated, tfidfvec_truncated)"
   ]
  },
  {
   "cell_type": "code",
   "execution_count": 51,
   "metadata": {},
   "outputs": [],
   "source": [
    "### Create similarity matrix of movie similarity scores with titles as indicies and as\n",
    "### column headers to facilitate cosine similarity based movie lookup (see notebook 7. 8)\n",
    "similarity_matrix_tfidfvec_truncSVD4000 = pd.DataFrame(sim_matrix_tfidfvec_truncSVD4000,\n",
    "                                                       columns=df['title'], index=df['title'])"
   ]
  },
  {
   "cell_type": "code",
   "execution_count": 52,
   "metadata": {},
   "outputs": [],
   "source": [
    "pickle.dump(similarity_matrix_tfidfvec_truncSVD4000,\n",
    "            open(\"similarity_matrix_tfidfvec_truncSVD4000.pkl\", \"wb\" ))"
   ]
  },
  {
   "cell_type": "code",
   "execution_count": 53,
   "metadata": {
    "scrolled": true
   },
   "outputs": [
    {
     "data": {
      "text/html": [
       "<div>\n",
       "<style scoped>\n",
       "    .dataframe tbody tr th:only-of-type {\n",
       "        vertical-align: middle;\n",
       "    }\n",
       "\n",
       "    .dataframe tbody tr th {\n",
       "        vertical-align: top;\n",
       "    }\n",
       "\n",
       "    .dataframe thead th {\n",
       "        text-align: right;\n",
       "    }\n",
       "</style>\n",
       "<table border=\"1\" class=\"dataframe\">\n",
       "  <thead>\n",
       "    <tr style=\"text-align: right;\">\n",
       "      <th>title</th>\n",
       "      <th>The Music of Silence</th>\n",
       "      <th>The Miseducation of Cameron Post</th>\n",
       "      <th>The Spy Who Dumped Me</th>\n",
       "      <th>The Darkest Minds</th>\n",
       "      <th>Like Father</th>\n",
       "      <th>Urban Country</th>\n",
       "      <th>Christopher Robin</th>\n",
       "      <th>Tully</th>\n",
       "      <th>Overboard</th>\n",
       "      <th>The Miracle Season</th>\n",
       "      <th>...</th>\n",
       "      <th>Live and Let Die</th>\n",
       "      <th>Tintin: The Lake of Sharks</th>\n",
       "      <th>Tales of Beatrix Potter</th>\n",
       "      <th>Tintin: The Prisoners of the Sun</th>\n",
       "      <th>Gentle Giant</th>\n",
       "      <th>Tintin: The Calculus Affair</th>\n",
       "      <th>Visit to a Small Planet</th>\n",
       "      <th>Zoo Baby</th>\n",
       "      <th>Driftwood</th>\n",
       "      <th>Sherlock Jr.</th>\n",
       "    </tr>\n",
       "    <tr>\n",
       "      <th>title</th>\n",
       "      <th></th>\n",
       "      <th></th>\n",
       "      <th></th>\n",
       "      <th></th>\n",
       "      <th></th>\n",
       "      <th></th>\n",
       "      <th></th>\n",
       "      <th></th>\n",
       "      <th></th>\n",
       "      <th></th>\n",
       "      <th></th>\n",
       "      <th></th>\n",
       "      <th></th>\n",
       "      <th></th>\n",
       "      <th></th>\n",
       "      <th></th>\n",
       "      <th></th>\n",
       "      <th></th>\n",
       "      <th></th>\n",
       "      <th></th>\n",
       "      <th></th>\n",
       "    </tr>\n",
       "  </thead>\n",
       "  <tbody>\n",
       "    <tr>\n",
       "      <th>The Music of Silence</th>\n",
       "      <td>1.000000</td>\n",
       "      <td>0.059734</td>\n",
       "      <td>0.058564</td>\n",
       "      <td>0.057937</td>\n",
       "      <td>0.074993</td>\n",
       "      <td>0.067051</td>\n",
       "      <td>0.051015</td>\n",
       "      <td>0.034199</td>\n",
       "      <td>0.056023</td>\n",
       "      <td>0.091008</td>\n",
       "      <td>...</td>\n",
       "      <td>0.034361</td>\n",
       "      <td>0.030064</td>\n",
       "      <td>0.034067</td>\n",
       "      <td>0.015418</td>\n",
       "      <td>0.046274</td>\n",
       "      <td>0.022146</td>\n",
       "      <td>0.051117</td>\n",
       "      <td>0.028620</td>\n",
       "      <td>0.054215</td>\n",
       "      <td>0.051583</td>\n",
       "    </tr>\n",
       "    <tr>\n",
       "      <th>The Miseducation of Cameron Post</th>\n",
       "      <td>0.059734</td>\n",
       "      <td>1.000000</td>\n",
       "      <td>0.067507</td>\n",
       "      <td>0.129151</td>\n",
       "      <td>0.043704</td>\n",
       "      <td>0.071067</td>\n",
       "      <td>0.036046</td>\n",
       "      <td>0.029031</td>\n",
       "      <td>0.086434</td>\n",
       "      <td>0.064652</td>\n",
       "      <td>...</td>\n",
       "      <td>0.060151</td>\n",
       "      <td>0.022900</td>\n",
       "      <td>0.031000</td>\n",
       "      <td>0.028283</td>\n",
       "      <td>0.025641</td>\n",
       "      <td>0.023473</td>\n",
       "      <td>0.048221</td>\n",
       "      <td>0.025641</td>\n",
       "      <td>0.053179</td>\n",
       "      <td>0.040037</td>\n",
       "    </tr>\n",
       "    <tr>\n",
       "      <th>The Spy Who Dumped Me</th>\n",
       "      <td>0.058564</td>\n",
       "      <td>0.067507</td>\n",
       "      <td>1.000000</td>\n",
       "      <td>0.091225</td>\n",
       "      <td>0.073297</td>\n",
       "      <td>0.072628</td>\n",
       "      <td>0.057176</td>\n",
       "      <td>0.056445</td>\n",
       "      <td>0.121835</td>\n",
       "      <td>0.086740</td>\n",
       "      <td>...</td>\n",
       "      <td>0.096829</td>\n",
       "      <td>0.075568</td>\n",
       "      <td>0.028426</td>\n",
       "      <td>0.033298</td>\n",
       "      <td>0.036169</td>\n",
       "      <td>0.047219</td>\n",
       "      <td>0.108649</td>\n",
       "      <td>0.036854</td>\n",
       "      <td>0.066276</td>\n",
       "      <td>0.058551</td>\n",
       "    </tr>\n",
       "    <tr>\n",
       "      <th>The Darkest Minds</th>\n",
       "      <td>0.057937</td>\n",
       "      <td>0.129151</td>\n",
       "      <td>0.091225</td>\n",
       "      <td>1.000000</td>\n",
       "      <td>0.047692</td>\n",
       "      <td>0.077370</td>\n",
       "      <td>0.051541</td>\n",
       "      <td>0.041855</td>\n",
       "      <td>0.059723</td>\n",
       "      <td>0.065501</td>\n",
       "      <td>...</td>\n",
       "      <td>0.067916</td>\n",
       "      <td>0.035088</td>\n",
       "      <td>0.061676</td>\n",
       "      <td>0.035141</td>\n",
       "      <td>0.044777</td>\n",
       "      <td>0.042846</td>\n",
       "      <td>0.039921</td>\n",
       "      <td>0.019656</td>\n",
       "      <td>0.050514</td>\n",
       "      <td>0.047867</td>\n",
       "    </tr>\n",
       "    <tr>\n",
       "      <th>Like Father</th>\n",
       "      <td>0.074993</td>\n",
       "      <td>0.043704</td>\n",
       "      <td>0.073297</td>\n",
       "      <td>0.047692</td>\n",
       "      <td>1.000000</td>\n",
       "      <td>0.039858</td>\n",
       "      <td>0.058486</td>\n",
       "      <td>0.037485</td>\n",
       "      <td>0.054508</td>\n",
       "      <td>0.064297</td>\n",
       "      <td>...</td>\n",
       "      <td>0.047880</td>\n",
       "      <td>0.024135</td>\n",
       "      <td>0.031013</td>\n",
       "      <td>0.029928</td>\n",
       "      <td>0.051073</td>\n",
       "      <td>0.017638</td>\n",
       "      <td>0.055914</td>\n",
       "      <td>0.030236</td>\n",
       "      <td>0.036238</td>\n",
       "      <td>0.034552</td>\n",
       "    </tr>\n",
       "  </tbody>\n",
       "</table>\n",
       "<p>5 rows × 8714 columns</p>\n",
       "</div>"
      ],
      "text/plain": [
       "title                             The Music of Silence  \\\n",
       "title                                                    \n",
       "The Music of Silence                          1.000000   \n",
       "The Miseducation of Cameron Post              0.059734   \n",
       "The Spy Who Dumped Me                         0.058564   \n",
       "The Darkest Minds                             0.057937   \n",
       "Like Father                                   0.074993   \n",
       "\n",
       "title                             The Miseducation of Cameron Post  \\\n",
       "title                                                                \n",
       "The Music of Silence                                      0.059734   \n",
       "The Miseducation of Cameron Post                          1.000000   \n",
       "The Spy Who Dumped Me                                     0.067507   \n",
       "The Darkest Minds                                         0.129151   \n",
       "Like Father                                               0.043704   \n",
       "\n",
       "title                             The Spy Who Dumped Me  The Darkest Minds  \\\n",
       "title                                                                        \n",
       "The Music of Silence                           0.058564           0.057937   \n",
       "The Miseducation of Cameron Post               0.067507           0.129151   \n",
       "The Spy Who Dumped Me                          1.000000           0.091225   \n",
       "The Darkest Minds                              0.091225           1.000000   \n",
       "Like Father                                    0.073297           0.047692   \n",
       "\n",
       "title                             Like Father  Urban Country  \\\n",
       "title                                                          \n",
       "The Music of Silence                 0.074993       0.067051   \n",
       "The Miseducation of Cameron Post     0.043704       0.071067   \n",
       "The Spy Who Dumped Me                0.073297       0.072628   \n",
       "The Darkest Minds                    0.047692       0.077370   \n",
       "Like Father                          1.000000       0.039858   \n",
       "\n",
       "title                             Christopher Robin     Tully  Overboard  \\\n",
       "title                                                                      \n",
       "The Music of Silence                       0.051015  0.034199   0.056023   \n",
       "The Miseducation of Cameron Post           0.036046  0.029031   0.086434   \n",
       "The Spy Who Dumped Me                      0.057176  0.056445   0.121835   \n",
       "The Darkest Minds                          0.051541  0.041855   0.059723   \n",
       "Like Father                                0.058486  0.037485   0.054508   \n",
       "\n",
       "title                             The Miracle Season      ...       \\\n",
       "title                                                     ...        \n",
       "The Music of Silence                        0.091008      ...        \n",
       "The Miseducation of Cameron Post            0.064652      ...        \n",
       "The Spy Who Dumped Me                       0.086740      ...        \n",
       "The Darkest Minds                           0.065501      ...        \n",
       "Like Father                                 0.064297      ...        \n",
       "\n",
       "title                             Live and Let Die  \\\n",
       "title                                                \n",
       "The Music of Silence                      0.034361   \n",
       "The Miseducation of Cameron Post          0.060151   \n",
       "The Spy Who Dumped Me                     0.096829   \n",
       "The Darkest Minds                         0.067916   \n",
       "Like Father                               0.047880   \n",
       "\n",
       "title                             Tintin: The Lake of Sharks  \\\n",
       "title                                                          \n",
       "The Music of Silence                                0.030064   \n",
       "The Miseducation of Cameron Post                    0.022900   \n",
       "The Spy Who Dumped Me                               0.075568   \n",
       "The Darkest Minds                                   0.035088   \n",
       "Like Father                                         0.024135   \n",
       "\n",
       "title                             Tales of Beatrix Potter  \\\n",
       "title                                                       \n",
       "The Music of Silence                             0.034067   \n",
       "The Miseducation of Cameron Post                 0.031000   \n",
       "The Spy Who Dumped Me                            0.028426   \n",
       "The Darkest Minds                                0.061676   \n",
       "Like Father                                      0.031013   \n",
       "\n",
       "title                             Tintin: The Prisoners of the Sun  \\\n",
       "title                                                                \n",
       "The Music of Silence                                      0.015418   \n",
       "The Miseducation of Cameron Post                          0.028283   \n",
       "The Spy Who Dumped Me                                     0.033298   \n",
       "The Darkest Minds                                         0.035141   \n",
       "Like Father                                               0.029928   \n",
       "\n",
       "title                             Gentle Giant  Tintin: The Calculus Affair  \\\n",
       "title                                                                         \n",
       "The Music of Silence                  0.046274                     0.022146   \n",
       "The Miseducation of Cameron Post      0.025641                     0.023473   \n",
       "The Spy Who Dumped Me                 0.036169                     0.047219   \n",
       "The Darkest Minds                     0.044777                     0.042846   \n",
       "Like Father                           0.051073                     0.017638   \n",
       "\n",
       "title                             Visit to a Small Planet  Zoo Baby  \\\n",
       "title                                                                 \n",
       "The Music of Silence                             0.051117  0.028620   \n",
       "The Miseducation of Cameron Post                 0.048221  0.025641   \n",
       "The Spy Who Dumped Me                            0.108649  0.036854   \n",
       "The Darkest Minds                                0.039921  0.019656   \n",
       "Like Father                                      0.055914  0.030236   \n",
       "\n",
       "title                             Driftwood  Sherlock Jr.  \n",
       "title                                                      \n",
       "The Music of Silence               0.054215      0.051583  \n",
       "The Miseducation of Cameron Post   0.053179      0.040037  \n",
       "The Spy Who Dumped Me              0.066276      0.058551  \n",
       "The Darkest Minds                  0.050514      0.047867  \n",
       "Like Father                        0.036238      0.034552  \n",
       "\n",
       "[5 rows x 8714 columns]"
      ]
     },
     "execution_count": 53,
     "metadata": {},
     "output_type": "execute_result"
    }
   ],
   "source": [
    "similarity_matrix_tfidfvec_truncSVD4000.head()"
   ]
  },
  {
   "cell_type": "code",
   "execution_count": 54,
   "metadata": {},
   "outputs": [
    {
     "data": {
      "text/html": [
       "<div>\n",
       "<style scoped>\n",
       "    .dataframe tbody tr th:only-of-type {\n",
       "        vertical-align: middle;\n",
       "    }\n",
       "\n",
       "    .dataframe tbody tr th {\n",
       "        vertical-align: top;\n",
       "    }\n",
       "\n",
       "    .dataframe thead th {\n",
       "        text-align: right;\n",
       "    }\n",
       "</style>\n",
       "<table border=\"1\" class=\"dataframe\">\n",
       "  <thead>\n",
       "    <tr style=\"text-align: right;\">\n",
       "      <th></th>\n",
       "      <th>title</th>\n",
       "    </tr>\n",
       "  </thead>\n",
       "  <tbody>\n",
       "    <tr>\n",
       "      <th>0</th>\n",
       "      <td>A Tale of Love and Darkness</td>\n",
       "    </tr>\n",
       "    <tr>\n",
       "      <th>1</th>\n",
       "      <td>The Fox and the Hound</td>\n",
       "    </tr>\n",
       "    <tr>\n",
       "      <th>2</th>\n",
       "      <td>20 Feet from Stardom</td>\n",
       "    </tr>\n",
       "    <tr>\n",
       "      <th>3</th>\n",
       "      <td>The Basket</td>\n",
       "    </tr>\n",
       "    <tr>\n",
       "      <th>4</th>\n",
       "      <td>Aaliyah: The Princess of R&amp;amp;B</td>\n",
       "    </tr>\n",
       "  </tbody>\n",
       "</table>\n",
       "</div>"
      ],
      "text/plain": [
       "                              title\n",
       "0       A Tale of Love and Darkness\n",
       "1             The Fox and the Hound\n",
       "2              20 Feet from Stardom\n",
       "3                        The Basket\n",
       "4  Aaliyah: The Princess of R&amp;B"
      ]
     },
     "execution_count": 54,
     "metadata": {},
     "output_type": "execute_result"
    }
   ],
   "source": [
    "# Example of now the similarity matrix is used, looking up movies similar to\n",
    "# 'The Music of Silence'\n",
    "pd.DataFrame(similarity_matrix_tfidfvec_truncSVD4000['The Music of Silence'].sort_values(ascending=False)[1:6].index)\n",
    "            "
   ]
  },
  {
   "cell_type": "code",
   "execution_count": 55,
   "metadata": {},
   "outputs": [
    {
     "ename": "FileNotFoundError",
     "evalue": "[Errno 2] No such file or directory: 'data/similarity_matrix_tfidfvec_truncSVD4000.pkl'",
     "output_type": "error",
     "traceback": [
      "\u001b[0;31m---------------------------------------------------------------------------\u001b[0m",
      "\u001b[0;31mFileNotFoundError\u001b[0m                         Traceback (most recent call last)",
      "\u001b[0;32m<ipython-input-55-b27ab1fc85d1>\u001b[0m in \u001b[0;36m<module>\u001b[0;34m()\u001b[0m\n\u001b[1;32m      3\u001b[0m \u001b[0;31m# As an added layer of protection, you will also need to move the file into the /data\u001b[0m\u001b[0;34m\u001b[0m\u001b[0;34m\u001b[0m\u001b[0m\n\u001b[1;32m      4\u001b[0m \u001b[0;31m# folder. Then, uncomment this cell and run it.\u001b[0m\u001b[0;34m\u001b[0m\u001b[0;34m\u001b[0m\u001b[0m\n\u001b[0;32m----> 5\u001b[0;31m \u001b[0;32mwith\u001b[0m \u001b[0mopen\u001b[0m\u001b[0;34m(\u001b[0m\u001b[0;34m'data/similarity_matrix_tfidfvec_truncSVD4000.pkl'\u001b[0m\u001b[0;34m,\u001b[0m \u001b[0;34m'rb'\u001b[0m\u001b[0;34m)\u001b[0m \u001b[0;32mas\u001b[0m \u001b[0mf\u001b[0m\u001b[0;34m:\u001b[0m\u001b[0;34m\u001b[0m\u001b[0m\n\u001b[0m\u001b[1;32m      6\u001b[0m     \u001b[0msimilarity_matrix_tfidfvec_truncSVD4000\u001b[0m \u001b[0;34m=\u001b[0m \u001b[0mpickle\u001b[0m\u001b[0;34m.\u001b[0m\u001b[0mload\u001b[0m\u001b[0;34m(\u001b[0m\u001b[0mf\u001b[0m\u001b[0;34m)\u001b[0m\u001b[0;34m\u001b[0m\u001b[0m\n",
      "\u001b[0;31mFileNotFoundError\u001b[0m: [Errno 2] No such file or directory: 'data/similarity_matrix_tfidfvec_truncSVD4000.pkl'"
     ]
    }
   ],
   "source": [
    "# Only run this cell if you have run the previous notebooks up through the previous cell,\n",
    "# generating a new cosine similarity matrix, similarity_matrix_tfidfvec_truncSVD4000.\n",
    "# As an added layer of protection, you will also need to move the file into the /data\n",
    "# folder. Then, uncomment this cell and run it.\n",
    "with open('data/similarity_matrix_tfidfvec_truncSVD4000.pkl', 'rb') as f:\n",
    "    similarity_matrix_tfidfvec_truncSVD4000 = pickle.load(f)"
   ]
  },
  {
   "cell_type": "markdown",
   "metadata": {},
   "source": [
    "### Export Similarity Matrix in several formats for backup and comparison of file size"
   ]
  },
  {
   "cell_type": "code",
   "execution_count": null,
   "metadata": {},
   "outputs": [],
   "source": [
    "type(similarity_matrix_tfidfvec_truncSVD4000)"
   ]
  },
  {
   "cell_type": "code",
   "execution_count": null,
   "metadata": {},
   "outputs": [],
   "source": [
    "np.save('data/sim_matrix_tfidfvec_truncSVD4000.npy', sim_matrix_tfidfvec_truncSVD1000)"
   ]
  },
  {
   "cell_type": "code",
   "execution_count": null,
   "metadata": {},
   "outputs": [],
   "source": [
    "similarity_matrix_tfidfvec_truncSVD4000.to_csv('data/similarity_matrix_tfidfvec_truncSVD4000.csv')"
   ]
  },
  {
   "cell_type": "markdown",
   "metadata": {},
   "source": [
    "### Find Similar Movies\n",
    "#### These functions are also present in interface.py for use in notebook 8-User_Interface.ipynb."
   ]
  },
  {
   "cell_type": "code",
   "execution_count": null,
   "metadata": {},
   "outputs": [],
   "source": [
    "movie_list = df['title']"
   ]
  },
  {
   "cell_type": "code",
   "execution_count": null,
   "metadata": {},
   "outputs": [],
   "source": [
    "movie_list[0:5]"
   ]
  },
  {
   "cell_type": "code",
   "execution_count": null,
   "metadata": {},
   "outputs": [],
   "source": [
    "def title_recommender(movie_name, movie_list, limit=3):\n",
    "    results = process.extract(movie_name, movie_list, limit=limit)\n",
    "    return results"
   ]
  },
  {
   "cell_type": "code",
   "execution_count": null,
   "metadata": {},
   "outputs": [],
   "source": [
    "def find_similar_movies():\n",
    "    movie_name = input(\"Give me a movie title and I'll give you five titles you might also like:\")\n",
    "    for title in df['title']:\n",
    "        if title == movie_name:\n",
    "            sim_movies_text = similarity_matrix_tfidfvec_truncSVD1000[movie_name]\n",
    "            print(\"Thanks! Here are my recommendations, along with review text similarity scores:\")\n",
    "            recommendations = pd.DataFrame(sim_movies_text.sort_values(ascending=False)[1:6])\n",
    "            return recommendations\n",
    "    limit = 3\n",
    "    while title != movie_name:\n",
    "        results = title_recommender(movie_name, df['title'], limit=limit)\n",
    "        print(\"Sorry, that movie title isn't in my list. Did you mean\", results, \"?\")\n",
    "        movie_name = input(\"(I need the exact title, please...)\")\n",
    "        for title in df['title']:\n",
    "            if title == movie_name:\n",
    "                sim_movies_text = similarity_matrix_tfidfvec_truncSVD1000[movie_name]\n",
    "                print(\"Thanks! Here are my recommendations, along with review text similarity scores:\")\n",
    "                recommendations = pd.DataFrame(sim_movies_text.sort_values(ascending=False)[1:6])\n",
    "                return recommendations\n",
    "            else:\n",
    "                limit += 1\n",
    "                if limit >= 10:\n",
    "                    limit = 10"
   ]
  },
  {
   "cell_type": "code",
   "execution_count": null,
   "metadata": {},
   "outputs": [],
   "source": [
    "def find_all_similar_movies():\n",
    "    movie_name = input(\"Give me a movie title and I'll give you five titles you might also like:\")\n",
    "    for title in df['title']:\n",
    "        if title == movie_name:\n",
    "            sim_movies_text = similarity_matrix_tfidfvec_truncSVD1000[movie_name]\n",
    "            print(\"Thanks! Here are my recommendations, along with review text similarity scores:\")\n",
    "            recommendations = pd.DataFrame(sim_movies_text.sort_values(ascending=False), index=df['title'])\n",
    "            return recommendations\n",
    "    limit = 3\n",
    "    while title != movie_name:\n",
    "        results = title_recommender(movie_name, df['title'], limit=limit)\n",
    "        print(\"Sorry, that movie title isn't in my list. Did you mean\", results, \"?\")\n",
    "        movie_name = input(\"(I need the exact title, please...)\")\n",
    "        for title in df['title']:\n",
    "            if title == movie_name:\n",
    "                sim_movies_text = similarity_matrix_tfidfvec_truncSVD1000[movie_name]\n",
    "                print(\"Thanks! Here are my recommendations, along with review text similarity scores:\")\n",
    "                recommendations = pd.DataFrame(sim_movies_text.sort_values(ascending=False), index=df['title'])\n",
    "                return recommendations\n",
    "            else:\n",
    "                limit += 1\n",
    "                if limit >= 10:\n",
    "                    limit = 10"
   ]
  },
  {
   "cell_type": "markdown",
   "metadata": {},
   "source": [
    "### Recommender System Evaluation\n",
    "#### To evaluate my recommender system, I will have my colleagues test out the system, recording what they thought about each recommendation on a 6 point scale (5 = excellent recommendation, 4= good, 3= fair, 2 = poor, 1 = unrelated, 0 = IDK, that's a movie I've never seen)"
   ]
  },
  {
   "cell_type": "code",
   "execution_count": null,
   "metadata": {},
   "outputs": [],
   "source": [
    "def system_test(trials):\n",
    "    rate_recs = []\n",
    "    for trial in reversed(range(trials)):\n",
    "        print(\"Thank you for trying out MovieRec4Parents(tm)! You have\", trial+1, \"tries to go.\")\n",
    "        recommendations = find_similar_movies()\n",
    "        print(recommendations)\n",
    "        rate_recs.append(recommendations)\n",
    "        for rec in range(len(recommendations)):\n",
    "            print(\"On a scale of 1-5, how good is recommendation\", rec+1,\"? If you don't know the movie, enter 0.)\")\n",
    "            rating = input()\n",
    "            rate_recs.append((trial, rec+1, rating))\n",
    "    print(\"You're done! I hope you enjoyed using MovieRec4Parents(tm). Tell your friends!\")\n",
    "    return rate_recs"
   ]
  },
  {
   "cell_type": "markdown",
   "metadata": {},
   "source": [
    "#### To get cosine similarity matrix necessary to run working movie recommender system, you will need to download a 568MB pkl file, similarity_matrix_tfidfvec_truncSVD4000.pkl, currently housed on my google drive. Click here to access the [link](https://drive.google.com/open?id=1kcyVzlulQJ8ViMBCOa_nRxBTA4IaoNBy) or cut and paste this link https://drive.google.com/open?id=1kcyVzlulQJ8ViMBCOa_nRxBTA4IaoNBy .\n",
    "#### If you have any questions, feel free to email me at hadeishi@gmail.com ."
   ]
  },
  {
   "cell_type": "code",
   "execution_count": null,
   "metadata": {},
   "outputs": [],
   "source": []
  }
 ],
 "metadata": {
  "kernelspec": {
   "display_name": "Python [default]",
   "language": "python",
   "name": "python3"
  },
  "language_info": {
   "codemirror_mode": {
    "name": "ipython",
    "version": 3
   },
   "file_extension": ".py",
   "mimetype": "text/x-python",
   "name": "python",
   "nbconvert_exporter": "python",
   "pygments_lexer": "ipython3",
   "version": "3.6.4"
  }
 },
 "nbformat": 4,
 "nbformat_minor": 2
}

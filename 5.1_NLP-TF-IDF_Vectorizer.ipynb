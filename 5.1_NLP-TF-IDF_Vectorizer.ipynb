{
 "cells": [
  {
   "cell_type": "markdown",
   "metadata": {},
   "source": [
    "## Tokenizing and TF-IDF Vectorization:  Text-based Cosine Similarity\n",
    "#### In this notebook, I will process the text data to each movie, doing final cleaning of punctuation, making all words lowercase and spliting text into individual word \"tokens\" (N.B., for those who are text processing-savvy, this was done outside of Vectorizers in order to retain the '-', since curse words are represented in these reviews as s--t and f--k. The frequency with which these curse words appear in reviews may be an important text feature for parents).\n",
    "\n",
    "#### Tokenized text will then be vectorized using TF-IDF Vectorizer. TF-IDF Vectorizer will take the frequency of words found in text and divide by the frequency with which each term appears in all documents put together. This technique is designed to give greater weight to terms that occur frequently in a document but not in other documents, thus controlling for words that appear frequently in all movies--- such as the word, \"movie,\" for example. It will then turn the TF-IDF statistic into the movie's \"word vector.\" These word vectors will then be run through Truncated SVD.\n",
    "\n",
    "#### Truncated SVD is a procedure designed to capture the most variance in our collected movie word vectors using the fewest possible components. Each component is a linear combination of word vectors, each word contributing to each component by a particular positive or negative weight (see below for examples). I will then analyze these components to see if I can derive some meaning from the words that contribute to them (see below).\n",
    "\n",
    "#### Once we get our text data into truncatedSVD format, I will then use cosine similarity to determine which movies are most similar to which other movies in our data set. Cosine similarity is a procedure whereby movies whose associated text contains similar words will be described by vectors that \"point in similar directions,\" if you will, through the vector space defined by truncatedSVD. Movies with vectors that point in similar directions will have higher cosine similarities and so will be deemed to be similar according to this movie recommender.\n",
    "\n",
    "#### We will then also incorporate non-text data to see how this improves our cosine similarity-based similarity matrix (see below)."
   ]
  },
  {
   "cell_type": "markdown",
   "metadata": {},
   "source": [
    "### Load Movie Text Data"
   ]
  },
  {
   "cell_type": "code",
   "execution_count": 1,
   "metadata": {},
   "outputs": [
    {
     "name": "stderr",
     "output_type": "stream",
     "text": [
      "/Users/yukiharuhadeishi/anaconda3/lib/python3.6/site-packages/fuzzywuzzy/fuzz.py:35: UserWarning: Using slow pure-python SequenceMatcher. Install python-Levenshtein to remove this warning\n",
      "  warnings.warn('Using slow pure-python SequenceMatcher. Install python-Levenshtein to remove this warning')\n"
     ]
    }
   ],
   "source": [
    "import pandas as pd\n",
    "import numpy as np\n",
    "import requests, re, json, copy, pickle\n",
    "import matplotlib.pyplot as plt\n",
    "from nltk.tokenize import RegexpTokenizer\n",
    "from nltk.corpus import stopwords\n",
    "from sklearn.feature_extraction.text import CountVectorizer, TfidfVectorizer\n",
    "from sklearn.decomposition import TruncatedSVD\n",
    "from sklearn.metrics.pairwise import cosine_similarity\n",
    "from fuzzywuzzy import process"
   ]
  },
  {
   "cell_type": "code",
   "execution_count": 2,
   "metadata": {},
   "outputs": [],
   "source": [
    "# Load json of movies_features_text\n",
    "with open('data/movies_features_text.json') as json_file:  \n",
    "    movies_features_text = json.load(json_file)"
   ]
  },
  {
   "cell_type": "code",
   "execution_count": 3,
   "metadata": {},
   "outputs": [
    {
     "data": {
      "text/html": [
       "<div>\n",
       "<style scoped>\n",
       "    .dataframe tbody tr th:only-of-type {\n",
       "        vertical-align: middle;\n",
       "    }\n",
       "\n",
       "    .dataframe tbody tr th {\n",
       "        vertical-align: top;\n",
       "    }\n",
       "\n",
       "    .dataframe thead th {\n",
       "        text-align: right;\n",
       "    }\n",
       "</style>\n",
       "<table border=\"1\" class=\"dataframe\">\n",
       "  <thead>\n",
       "    <tr style=\"text-align: right;\">\n",
       "      <th></th>\n",
       "      <th>movie_id</th>\n",
       "      <th>slug</th>\n",
       "      <th>text</th>\n",
       "      <th>title</th>\n",
       "    </tr>\n",
       "  </thead>\n",
       "  <tbody>\n",
       "    <tr>\n",
       "      <th>0</th>\n",
       "      <td>0</td>\n",
       "      <td>sicario-day-of-the-soldado</td>\n",
       "      <td>Families can talk about Sicario: Day of the So...</td>\n",
       "      <td>Sicario: Day of the Soldado</td>\n",
       "    </tr>\n",
       "    <tr>\n",
       "      <th>1</th>\n",
       "      <td>1</td>\n",
       "      <td>damsel</td>\n",
       "      <td>Families can talk about Damsel  use of violenc...</td>\n",
       "      <td>Damsel</td>\n",
       "    </tr>\n",
       "    <tr>\n",
       "      <th>2</th>\n",
       "      <td>2</td>\n",
       "      <td>distorted</td>\n",
       "      <td>Families can talk about the rapid-fire disturb...</td>\n",
       "      <td>Distorted</td>\n",
       "    </tr>\n",
       "    <tr>\n",
       "      <th>3</th>\n",
       "      <td>3</td>\n",
       "      <td>the-catcher-was-a-spy</td>\n",
       "      <td>Families can talk about Berg  sexual orientati...</td>\n",
       "      <td>The Catcher Was a Spy</td>\n",
       "    </tr>\n",
       "    <tr>\n",
       "      <th>4</th>\n",
       "      <td>4</td>\n",
       "      <td>boundaries</td>\n",
       "      <td>Families can talk about how Boundaries portray...</td>\n",
       "      <td>Boundaries</td>\n",
       "    </tr>\n",
       "  </tbody>\n",
       "</table>\n",
       "</div>"
      ],
      "text/plain": [
       "   movie_id                        slug  \\\n",
       "0         0  sicario-day-of-the-soldado   \n",
       "1         1                      damsel   \n",
       "2         2                   distorted   \n",
       "3         3       the-catcher-was-a-spy   \n",
       "4         4                  boundaries   \n",
       "\n",
       "                                                text  \\\n",
       "0  Families can talk about Sicario: Day of the So...   \n",
       "1  Families can talk about Damsel  use of violenc...   \n",
       "2  Families can talk about the rapid-fire disturb...   \n",
       "3  Families can talk about Berg  sexual orientati...   \n",
       "4  Families can talk about how Boundaries portray...   \n",
       "\n",
       "                         title  \n",
       "0  Sicario: Day of the Soldado  \n",
       "1                       Damsel  \n",
       "2                    Distorted  \n",
       "3        The Catcher Was a Spy  \n",
       "4                   Boundaries  "
      ]
     },
     "execution_count": 3,
     "metadata": {},
     "output_type": "execute_result"
    }
   ],
   "source": [
    "df = pd.DataFrame(movies_features_text)\n",
    "df.head()"
   ]
  },
  {
   "cell_type": "code",
   "execution_count": 4,
   "metadata": {},
   "outputs": [],
   "source": [
    "def get_movie_list(last_movie):\n",
    "    for movie_num in range(last_movie):\n",
    "        movie_titles = movies_features_text[movie_num]['title']\n",
    "        return movie_titles"
   ]
  },
  {
   "cell_type": "code",
   "execution_count": 5,
   "metadata": {},
   "outputs": [
    {
     "data": {
      "text/plain": [
       "'Families can talk about Sicario: Day of the Soldado  violence. Which parts were gruesome, and which were exciting? How did the movie achieve these effects? What  the impact of media violence on kids?  How are drinking, smoking, and drugs depicted? Are they glamorized? Does the movie make the drug business look alluring?  What does the movie have to say about law versus justice?'"
      ]
     },
     "execution_count": 5,
     "metadata": {},
     "output_type": "execute_result"
    }
   ],
   "source": [
    "movies_features_text[0]['text'][:380]"
   ]
  },
  {
   "cell_type": "code",
   "execution_count": 6,
   "metadata": {},
   "outputs": [],
   "source": [
    "stopwords = set(stopwords.words('english'))\n",
    "# Remove punctuation from all text of each movie and remove stopwords\n",
    "def clean_text_for_movie(text):\n",
    "    '''\n",
    "    Takes in all text of a single movie, makes lowercase and removes punctuation and stopwords\n",
    "    from text. Returns words in input text as a single string, w/o English stopwords.\n",
    "    '''\n",
    "    words = re.sub(\"[^a-zA-Z\\-]\", \" \", text).lower().split()  # removes punctuation, makes lowercase\n",
    "    cleantext = [w for w in words if not w in stopwords]  # eliminates common \"stop words\"\n",
    "    return(\" \".join(cleantext))  # returns words as a string, each word separated by a space"
   ]
  },
  {
   "cell_type": "code",
   "execution_count": 7,
   "metadata": {},
   "outputs": [],
   "source": [
    "clean_text_test = clean_text_for_movie(movies_features_text[0]['text'])"
   ]
  },
  {
   "cell_type": "code",
   "execution_count": 8,
   "metadata": {},
   "outputs": [
    {
     "data": {
      "text/plain": [
       "'families talk sicario day soldado violence parts gruesome exciting movie achieve effects impact media violence kids drinking smoking drugs depicted glamorized movie make drug business look alluring movie say law versus justice difference two end justify means'"
      ]
     },
     "execution_count": 8,
     "metadata": {},
     "output_type": "execute_result"
    }
   ],
   "source": [
    "clean_text_test[:259]"
   ]
  },
  {
   "cell_type": "code",
   "execution_count": 9,
   "metadata": {},
   "outputs": [],
   "source": [
    "clean_text = []\n",
    "def clean_text_for_movies(first_movie, num_movies_to_clean):\n",
    "    print(\"Number of movies cleaned so far:\")\n",
    "    for movie in range(num_movies_to_clean):\n",
    "        movie = (movie + first_movie)\n",
    "        if movie % 1000 == 0:\n",
    "            print(movie)\n",
    "        clean_txt = clean_text_for_movie(movies_features_text[movie]['text'])\n",
    "        movies_features_text[movie]['clean_text'] = clean_txt\n",
    "        clean_text.append(clean_txt)\n",
    "    return clean_text"
   ]
  },
  {
   "cell_type": "code",
   "execution_count": 10,
   "metadata": {},
   "outputs": [
    {
     "name": "stdout",
     "output_type": "stream",
     "text": [
      "Number of movies cleaned so far:\n",
      "0\n",
      "1000\n",
      "2000\n",
      "3000\n",
      "4000\n",
      "5000\n",
      "6000\n",
      "7000\n",
      "8000\n"
     ]
    }
   ],
   "source": [
    "clean_text = clean_text_for_movies(0,len(movies_features_text))"
   ]
  },
  {
   "cell_type": "code",
   "execution_count": 11,
   "metadata": {},
   "outputs": [
    {
     "data": {
      "text/html": [
       "<div>\n",
       "<style scoped>\n",
       "    .dataframe tbody tr th:only-of-type {\n",
       "        vertical-align: middle;\n",
       "    }\n",
       "\n",
       "    .dataframe tbody tr th {\n",
       "        vertical-align: top;\n",
       "    }\n",
       "\n",
       "    .dataframe thead th {\n",
       "        text-align: right;\n",
       "    }\n",
       "</style>\n",
       "<table border=\"1\" class=\"dataframe\">\n",
       "  <thead>\n",
       "    <tr style=\"text-align: right;\">\n",
       "      <th></th>\n",
       "      <th>clean_text</th>\n",
       "      <th>movie_id</th>\n",
       "      <th>slug</th>\n",
       "      <th>text</th>\n",
       "      <th>title</th>\n",
       "    </tr>\n",
       "  </thead>\n",
       "  <tbody>\n",
       "    <tr>\n",
       "      <th>0</th>\n",
       "      <td>families talk sicario day soldado violence par...</td>\n",
       "      <td>0</td>\n",
       "      <td>sicario-day-of-the-soldado</td>\n",
       "      <td>Families can talk about Sicario: Day of the So...</td>\n",
       "      <td>Sicario: Day of the Soldado</td>\n",
       "    </tr>\n",
       "    <tr>\n",
       "      <th>1</th>\n",
       "      <td>families talk damsel use violence intense freq...</td>\n",
       "      <td>1</td>\n",
       "      <td>damsel</td>\n",
       "      <td>Families can talk about Damsel  use of violenc...</td>\n",
       "      <td>Damsel</td>\n",
       "    </tr>\n",
       "    <tr>\n",
       "      <th>2</th>\n",
       "      <td>families talk rapid-fire disturbing images dis...</td>\n",
       "      <td>2</td>\n",
       "      <td>distorted</td>\n",
       "      <td>Families can talk about the rapid-fire disturb...</td>\n",
       "      <td>Distorted</td>\n",
       "    </tr>\n",
       "    <tr>\n",
       "      <th>3</th>\n",
       "      <td>families talk berg sexual orientation presente...</td>\n",
       "      <td>3</td>\n",
       "      <td>the-catcher-was-a-spy</td>\n",
       "      <td>Families can talk about Berg  sexual orientati...</td>\n",
       "      <td>The Catcher Was a Spy</td>\n",
       "    </tr>\n",
       "    <tr>\n",
       "      <th>4</th>\n",
       "      <td>families talk boundaries portrays drugs drug u...</td>\n",
       "      <td>4</td>\n",
       "      <td>boundaries</td>\n",
       "      <td>Families can talk about how Boundaries portray...</td>\n",
       "      <td>Boundaries</td>\n",
       "    </tr>\n",
       "  </tbody>\n",
       "</table>\n",
       "</div>"
      ],
      "text/plain": [
       "                                          clean_text  movie_id  \\\n",
       "0  families talk sicario day soldado violence par...         0   \n",
       "1  families talk damsel use violence intense freq...         1   \n",
       "2  families talk rapid-fire disturbing images dis...         2   \n",
       "3  families talk berg sexual orientation presente...         3   \n",
       "4  families talk boundaries portrays drugs drug u...         4   \n",
       "\n",
       "                         slug  \\\n",
       "0  sicario-day-of-the-soldado   \n",
       "1                      damsel   \n",
       "2                   distorted   \n",
       "3       the-catcher-was-a-spy   \n",
       "4                  boundaries   \n",
       "\n",
       "                                                text  \\\n",
       "0  Families can talk about Sicario: Day of the So...   \n",
       "1  Families can talk about Damsel  use of violenc...   \n",
       "2  Families can talk about the rapid-fire disturb...   \n",
       "3  Families can talk about Berg  sexual orientati...   \n",
       "4  Families can talk about how Boundaries portray...   \n",
       "\n",
       "                         title  \n",
       "0  Sicario: Day of the Soldado  \n",
       "1                       Damsel  \n",
       "2                    Distorted  \n",
       "3        The Catcher Was a Spy  \n",
       "4                   Boundaries  "
      ]
     },
     "execution_count": 11,
     "metadata": {},
     "output_type": "execute_result"
    }
   ],
   "source": [
    "df = pd.DataFrame(movies_features_text)\n",
    "df.head()"
   ]
  },
  {
   "cell_type": "markdown",
   "metadata": {},
   "source": [
    "#### Movies_features_text now has two new features, one of which contains the list of words used in movie reviews and other text associated with each of our 8625 unique movies and a second list that contains a list of bigrams of these words, to capture names of actors, separated by sentence. movies_fetures_text is now ready for vectorization."
   ]
  },
  {
   "cell_type": "markdown",
   "metadata": {},
   "source": [
    "### Vectorize text for NLP:  TF-IDF\n",
    "#### In this notebook, I will use a process called TF-IDF (Term Frequency Inverse Document Frequency) Vectorization on my text data. TF-IDF gives the frequency of each word in the words associated with each movie (termed a \"document\") normalized by the frequency with which that word appears in all of the documents combined. In other words, words that appear frequently in text associated with all movies in general are not going to be counted as important as words that appear frequently in a small subset of documents.\n",
    "#### After TD-IDF vectorization, I will then use truncated SVD on text data alone to reduce the number of features to reduce overfitting. The components that result from truncated SVD will be examined to identify discernable patterns."
   ]
  },
  {
   "cell_type": "code",
   "execution_count": 12,
   "metadata": {},
   "outputs": [],
   "source": [
    "tvec = TfidfVectorizer(analyzer = \"word\",\n",
    "                       tokenizer = None,      # tokenized in preprocessing\n",
    "                       preprocessor = None,\n",
    "                       stop_words = None,     # english stop words already removed, to retain -\n",
    "                       min_df = 2,            # to eliminate typos\n",
    "                       max_df = .9,           # to eliminate the word \"movie\"\n",
    "                       max_features = 50000) "
   ]
  },
  {
   "cell_type": "code",
   "execution_count": 13,
   "metadata": {},
   "outputs": [],
   "source": [
    "# Do not run unless if you want to TF-IDF Vectorize tokens. Will take about 10 minutes.\n",
    "data_features_tfidf = pd.SparseDataFrame(tvec.fit_transform(clean_text),\n",
    "                                         columns=tvec.get_feature_names(),\n",
    "                                         default_fill_value=0)"
   ]
  },
  {
   "cell_type": "code",
   "execution_count": 14,
   "metadata": {},
   "outputs": [],
   "source": [
    "feature_names = tvec.get_feature_names()"
   ]
  },
  {
   "cell_type": "code",
   "execution_count": 15,
   "metadata": {},
   "outputs": [
    {
     "data": {
      "text/plain": [
       "['aaah', 'aardman']"
      ]
     },
     "execution_count": 15,
     "metadata": {},
     "output_type": "execute_result"
    }
   ],
   "source": [
    "feature_names[2:4]"
   ]
  },
  {
   "cell_type": "markdown",
   "metadata": {},
   "source": [
    "### Put Vectorized Data in DF for Analysis\n",
    "- Sum aggregate token counts\n",
    "- Plot / investigate\n",
    "  - Histogram\n",
    "  - Horizontal Barplot"
   ]
  },
  {
   "cell_type": "code",
   "execution_count": 16,
   "metadata": {},
   "outputs": [],
   "source": [
    "text = pd.DataFrame.to_dense(data_features_tfidf)"
   ]
  },
  {
   "cell_type": "code",
   "execution_count": 17,
   "metadata": {},
   "outputs": [],
   "source": [
    "sum_text = text.sum()"
   ]
  },
  {
   "cell_type": "code",
   "execution_count": 86,
   "metadata": {},
   "outputs": [
    {
     "data": {
      "text/plain": [
       "throughout       47.315688\n",
       "play             47.296077\n",
       "comes            47.170566\n",
       "evil             46.931205\n",
       "images           46.873615\n",
       "human            46.849927\n",
       "head             46.795501\n",
       "kissing          46.790010\n",
       "along            46.647970\n",
       "relationships    46.595879\n",
       "less             46.442547\n",
       "animated         46.295280\n",
       "bit              46.127604\n",
       "always           45.859354\n",
       "wants            45.858166\n",
       "tries            45.812041\n",
       "everyone         45.804375\n",
       "adult            45.772649\n",
       "age              45.730642\n",
       "lead             45.713798\n",
       "guy              45.534901\n",
       "drunk            45.504267\n",
       "live             45.364634\n",
       "later            45.338279\n",
       "romantic         45.020066\n",
       "mature           44.998980\n",
       "stories          44.953441\n",
       "house            44.931586\n",
       "screen           44.859686\n",
       "years            44.856694\n",
       "                   ...    \n",
       "vacuum            1.713067\n",
       "disrespect        1.712831\n",
       "mcdormand         1.712287\n",
       "cheers            1.711780\n",
       "plodding          1.711692\n",
       "backwards         1.711397\n",
       "imbecile          1.711105\n",
       "procedure         1.710591\n",
       "websites          1.710439\n",
       "gears             1.709935\n",
       "ezra              1.709739\n",
       "retains           1.709184\n",
       "jar               1.709036\n",
       "utah              1.708887\n",
       "barred            1.708137\n",
       "languages         1.708053\n",
       "squarely          1.707719\n",
       "fooled            1.707606\n",
       "ashamed           1.707592\n",
       "genesis           1.707265\n",
       "dependence        1.707252\n",
       "conducted         1.707206\n",
       "admitting         1.706675\n",
       "anticipation      1.706523\n",
       "olivier           1.706267\n",
       "laurent           1.705864\n",
       "leans             1.705739\n",
       "eliminate         1.705460\n",
       "transplant        1.705208\n",
       "impulses          1.704830\n",
       "Length: 10690, dtype: float64"
      ]
     },
     "execution_count": 86,
     "metadata": {},
     "output_type": "execute_result"
    }
   ],
   "source": [
    "sum_text.sort_values(ascending=False)[210:10900]"
   ]
  },
  {
   "cell_type": "code",
   "execution_count": 95,
   "metadata": {},
   "outputs": [
    {
     "data": {
      "image/png": "[encoded data removed]",
      "text/plain": [
       "<matplotlib.figure.Figure at 0x1a26d0d860>"
      ]
     },
     "metadata": {},
     "output_type": "display_data"
    }
   ],
   "source": [
    "fig, ax = plt.subplots()\n",
    "sum_text.hist()\n",
    "ax.set_title(\"TF-IDF Values between 0 and 216\\n\");"
   ]
  },
  {
   "cell_type": "code",
   "execution_count": 94,
   "metadata": {},
   "outputs": [
    {
     "data": {
      "image/png": "[encoded data removed]",
      "text/plain": [
       "<matplotlib.figure.Figure at 0x1a273aee10>"
      ]
     },
     "metadata": {},
     "output_type": "display_data"
    }
   ],
   "source": [
    "fig, ax = plt.subplots()\n",
    "mask = sum_text.between(1.70, 47)\n",
    "sum_text[mask].sort_values(ascending=False).hist()\n",
    "ax.set_title(\"TF-IDF Values between 1.7 and 47\\n\");"
   ]
  },
  {
   "cell_type": "code",
   "execution_count": 93,
   "metadata": {},
   "outputs": [
    {
     "data": {
      "image/png": "[encoded data removed]",
      "text/plain": [
       "<matplotlib.figure.Figure at 0x1a26f69f98>"
      ]
     },
     "metadata": {},
     "output_type": "display_data"
    }
   ],
   "source": [
    "fig, ax = plt.subplots()\n",
    "sum_text[mask].sort_values(ascending=False)[1:50].plot(kind=\"barh\", figsize=(5, 15));\n",
    "ax.set_title(\"Selected Words with TF-IDF Values between 1.7 and 47\\n\");"
   ]
  },
  {
   "cell_type": "markdown",
   "metadata": {},
   "source": [
    "### Truncated SVD\n",
    "#### To generate vectors that encapsulate the most variance in our text data in the fewest number of components."
   ]
  },
  {
   "cell_type": "code",
   "execution_count": 22,
   "metadata": {},
   "outputs": [],
   "source": [
    "svd = TruncatedSVD(n_components=1000)"
   ]
  },
  {
   "cell_type": "code",
   "execution_count": 23,
   "metadata": {},
   "outputs": [],
   "source": [
    "# tfidfvec_truncated is fit_transformed w/1000 components. Will only work if TF-IDF\n",
    "# vectorizer already run.\n",
    "tfidfvec_truncated = svd.fit_transform(data_features_tfidf)"
   ]
  },
  {
   "cell_type": "code",
   "execution_count": 24,
   "metadata": {},
   "outputs": [],
   "source": [
    "# # tfidfvec_truncated is fit_transformed w/1000 components. Will only work if TF-IDF\n",
    "# # vectorizer already run.\n",
    "# columns are svd components, 0 - 999, for tf-idf vectorized words; index is words\n",
    "components_tfidfvec = pd.DataFrame(svd.components_.T, index=feature_names)"
   ]
  },
  {
   "cell_type": "markdown",
   "metadata": {},
   "source": [
    "#### Explore components to identify meanings of components"
   ]
  },
  {
   "cell_type": "code",
   "execution_count": 25,
   "metadata": {},
   "outputs": [],
   "source": [
    "word_importance_component_1 = components_tfidfvec[0].sort_values(ascending=False)"
   ]
  },
  {
   "cell_type": "code",
   "execution_count": 26,
   "metadata": {},
   "outputs": [],
   "source": [
    "word_importances1 = pd.DataFrame(word_importance_component_1[0:6])"
   ]
  },
  {
   "cell_type": "code",
   "execution_count": 27,
   "metadata": {},
   "outputs": [],
   "source": [
    "word_importances1_1 = word_importance_component_1[-7:-1]"
   ]
  },
  {
   "cell_type": "code",
   "execution_count": 28,
   "metadata": {},
   "outputs": [
    {
     "data": {
      "text/html": [
       "<div>\n",
       "<style scoped>\n",
       "    .dataframe tbody tr th:only-of-type {\n",
       "        vertical-align: middle;\n",
       "    }\n",
       "\n",
       "    .dataframe tbody tr th {\n",
       "        vertical-align: top;\n",
       "    }\n",
       "\n",
       "    .dataframe thead th {\n",
       "        text-align: right;\n",
       "    }\n",
       "</style>\n",
       "<table border=\"1\" class=\"dataframe\">\n",
       "  <thead>\n",
       "    <tr style=\"text-align: right;\">\n",
       "      <th></th>\n",
       "      <th>0</th>\n",
       "    </tr>\n",
       "  </thead>\n",
       "  <tbody>\n",
       "    <tr>\n",
       "      <th>characters</th>\n",
       "      <td>0.145347</td>\n",
       "    </tr>\n",
       "    <tr>\n",
       "      <th>one</th>\n",
       "      <td>0.140572</td>\n",
       "    </tr>\n",
       "    <tr>\n",
       "      <th>sex</th>\n",
       "      <td>0.115348</td>\n",
       "    </tr>\n",
       "    <tr>\n",
       "      <th>character</th>\n",
       "      <td>0.111659</td>\n",
       "    </tr>\n",
       "    <tr>\n",
       "      <th>film</th>\n",
       "      <td>0.106805</td>\n",
       "    </tr>\n",
       "    <tr>\n",
       "      <th>violence</th>\n",
       "      <td>0.106770</td>\n",
       "    </tr>\n",
       "    <tr>\n",
       "      <th>prejudge</th>\n",
       "      <td>0.000025</td>\n",
       "    </tr>\n",
       "    <tr>\n",
       "      <th>beliebers</th>\n",
       "      <td>0.000025</td>\n",
       "    </tr>\n",
       "    <tr>\n",
       "      <th>persson</th>\n",
       "      <td>0.000023</td>\n",
       "    </tr>\n",
       "    <tr>\n",
       "      <th>sundberg</th>\n",
       "      <td>0.000023</td>\n",
       "    </tr>\n",
       "    <tr>\n",
       "      <th>rebranding</th>\n",
       "      <td>0.000023</td>\n",
       "    </tr>\n",
       "    <tr>\n",
       "      <th>anthropomorphize</th>\n",
       "      <td>0.000020</td>\n",
       "    </tr>\n",
       "  </tbody>\n",
       "</table>\n",
       "</div>"
      ],
      "text/plain": [
       "                         0\n",
       "characters        0.145347\n",
       "one               0.140572\n",
       "sex               0.115348\n",
       "character         0.111659\n",
       "film              0.106805\n",
       "violence          0.106770\n",
       "prejudge          0.000025\n",
       "beliebers         0.000025\n",
       "persson           0.000023\n",
       "sundberg          0.000023\n",
       "rebranding        0.000023\n",
       "anthropomorphize  0.000020"
      ]
     },
     "execution_count": 28,
     "metadata": {},
     "output_type": "execute_result"
    }
   ],
   "source": [
    "word_importances1_top_bottom = pd.concat([word_importances1, word_importances1_1])\n",
    "word_importances1_top_bottom"
   ]
  },
  {
   "cell_type": "markdown",
   "metadata": {},
   "source": [
    "#### It is important to note that all word vector loadings on this first SVD component are positive. This makes sense since the word vector space is relatively shallow with words that do not occur in the text associated with the move having a value of zero and words that do occur have a non-zero positive number. Even after SVD transformation, these coefficients are slightly positive. \n",
    "#### The first component appears to be just common words found in our movie reviews--- perhaps meaningfully 'sex' and 'violence' load quite heavily on this first component but this could just be because these words are used commonly throughout our corpus. The words that contribute least to our component appear to be mostly typos. This first component, then, is probably best interpreted as representing words of little specific meaning and should be ignored.\n",
    "#### Components beyond the first, however, seem to be fairly intepretable."
   ]
  },
  {
   "cell_type": "code",
   "execution_count": 29,
   "metadata": {},
   "outputs": [],
   "source": [
    "word_importance_component_2 = components_tfidfvec[1].sort_values(ascending=False)"
   ]
  },
  {
   "cell_type": "code",
   "execution_count": 30,
   "metadata": {},
   "outputs": [],
   "source": [
    "word_importances2 = pd.DataFrame(word_importance_component_2[0:6])"
   ]
  },
  {
   "cell_type": "code",
   "execution_count": 31,
   "metadata": {},
   "outputs": [],
   "source": [
    "word_importances2_1 = pd.DataFrame(word_importance_component_2[-7:-1])"
   ]
  },
  {
   "cell_type": "code",
   "execution_count": 32,
   "metadata": {},
   "outputs": [
    {
     "data": {
      "text/html": [
       "<div>\n",
       "<style scoped>\n",
       "    .dataframe tbody tr th:only-of-type {\n",
       "        vertical-align: middle;\n",
       "    }\n",
       "\n",
       "    .dataframe tbody tr th {\n",
       "        vertical-align: top;\n",
       "    }\n",
       "\n",
       "    .dataframe thead th {\n",
       "        text-align: right;\n",
       "    }\n",
       "</style>\n",
       "<table border=\"1\" class=\"dataframe\">\n",
       "  <thead>\n",
       "    <tr style=\"text-align: right;\">\n",
       "      <th></th>\n",
       "      <th>1</th>\n",
       "    </tr>\n",
       "  </thead>\n",
       "  <tbody>\n",
       "    <tr>\n",
       "      <th>christmas</th>\n",
       "      <td>0.303203</td>\n",
       "    </tr>\n",
       "    <tr>\n",
       "      <th>kids</th>\n",
       "      <td>0.204020</td>\n",
       "    </tr>\n",
       "    <tr>\n",
       "      <th>santa</th>\n",
       "      <td>0.142073</td>\n",
       "    </tr>\n",
       "    <tr>\n",
       "      <th>holiday</th>\n",
       "      <td>0.137228</td>\n",
       "    </tr>\n",
       "    <tr>\n",
       "      <th>dog</th>\n",
       "      <td>0.133801</td>\n",
       "    </tr>\n",
       "    <tr>\n",
       "      <th>family</th>\n",
       "      <td>0.129417</td>\n",
       "    </tr>\n",
       "    <tr>\n",
       "      <th>nudity</th>\n",
       "      <td>-0.098234</td>\n",
       "    </tr>\n",
       "    <tr>\n",
       "      <th>violence</th>\n",
       "      <td>-0.102057</td>\n",
       "    </tr>\n",
       "    <tr>\n",
       "      <th>women</th>\n",
       "      <td>-0.103081</td>\n",
       "    </tr>\n",
       "    <tr>\n",
       "      <th>shown</th>\n",
       "      <td>-0.109350</td>\n",
       "    </tr>\n",
       "    <tr>\n",
       "      <th>drug</th>\n",
       "      <td>-0.118820</td>\n",
       "    </tr>\n",
       "    <tr>\n",
       "      <th>sexual</th>\n",
       "      <td>-0.125117</td>\n",
       "    </tr>\n",
       "  </tbody>\n",
       "</table>\n",
       "</div>"
      ],
      "text/plain": [
       "                  1\n",
       "christmas  0.303203\n",
       "kids       0.204020\n",
       "santa      0.142073\n",
       "holiday    0.137228\n",
       "dog        0.133801\n",
       "family     0.129417\n",
       "nudity    -0.098234\n",
       "violence  -0.102057\n",
       "women     -0.103081\n",
       "shown     -0.109350\n",
       "drug      -0.118820\n",
       "sexual    -0.125117"
      ]
     },
     "execution_count": 32,
     "metadata": {},
     "output_type": "execute_result"
    }
   ],
   "source": [
    "word_importances2_top_bottom = pd.concat([word_importances2, word_importances2_1])\n",
    "word_importances2_top_bottom"
   ]
  },
  {
   "cell_type": "code",
   "execution_count": 33,
   "metadata": {},
   "outputs": [],
   "source": [
    "word_importance_component_3 = components_tfidfvec[2].sort_values(ascending=False)"
   ]
  },
  {
   "cell_type": "code",
   "execution_count": 34,
   "metadata": {},
   "outputs": [],
   "source": [
    "word_importances3 = pd.DataFrame(word_importance_component_3[0:6])"
   ]
  },
  {
   "cell_type": "code",
   "execution_count": 35,
   "metadata": {},
   "outputs": [],
   "source": [
    "word_importances3_1 = pd.DataFrame(word_importance_component_3[-7:-1])"
   ]
  },
  {
   "cell_type": "code",
   "execution_count": 36,
   "metadata": {},
   "outputs": [
    {
     "data": {
      "text/html": [
       "<div>\n",
       "<style scoped>\n",
       "    .dataframe tbody tr th:only-of-type {\n",
       "        vertical-align: middle;\n",
       "    }\n",
       "\n",
       "    .dataframe tbody tr th {\n",
       "        vertical-align: top;\n",
       "    }\n",
       "\n",
       "    .dataframe thead th {\n",
       "        text-align: right;\n",
       "    }\n",
       "</style>\n",
       "<table border=\"1\" class=\"dataframe\">\n",
       "  <thead>\n",
       "    <tr style=\"text-align: right;\">\n",
       "      <th></th>\n",
       "      <th>2</th>\n",
       "    </tr>\n",
       "  </thead>\n",
       "  <tbody>\n",
       "    <tr>\n",
       "      <th>school</th>\n",
       "      <td>0.203101</td>\n",
       "    </tr>\n",
       "    <tr>\n",
       "      <th>sex</th>\n",
       "      <td>0.173508</td>\n",
       "    </tr>\n",
       "    <tr>\n",
       "      <th>teen</th>\n",
       "      <td>0.153460</td>\n",
       "    </tr>\n",
       "    <tr>\n",
       "      <th>girls</th>\n",
       "      <td>0.117679</td>\n",
       "    </tr>\n",
       "    <tr>\n",
       "      <th>christmas</th>\n",
       "      <td>0.116954</td>\n",
       "    </tr>\n",
       "    <tr>\n",
       "      <th>teens</th>\n",
       "      <td>0.115779</td>\n",
       "    </tr>\n",
       "    <tr>\n",
       "      <th>evil</th>\n",
       "      <td>-0.092100</td>\n",
       "    </tr>\n",
       "    <tr>\n",
       "      <th>horror</th>\n",
       "      <td>-0.095386</td>\n",
       "    </tr>\n",
       "    <tr>\n",
       "      <th>scary</th>\n",
       "      <td>-0.100603</td>\n",
       "    </tr>\n",
       "    <tr>\n",
       "      <th>blood</th>\n",
       "      <td>-0.114092</td>\n",
       "    </tr>\n",
       "    <tr>\n",
       "      <th>war</th>\n",
       "      <td>-0.148512</td>\n",
       "    </tr>\n",
       "    <tr>\n",
       "      <th>action</th>\n",
       "      <td>-0.171642</td>\n",
       "    </tr>\n",
       "  </tbody>\n",
       "</table>\n",
       "</div>"
      ],
      "text/plain": [
       "                  2\n",
       "school     0.203101\n",
       "sex        0.173508\n",
       "teen       0.153460\n",
       "girls      0.117679\n",
       "christmas  0.116954\n",
       "teens      0.115779\n",
       "evil      -0.092100\n",
       "horror    -0.095386\n",
       "scary     -0.100603\n",
       "blood     -0.114092\n",
       "war       -0.148512\n",
       "action    -0.171642"
      ]
     },
     "execution_count": 36,
     "metadata": {},
     "output_type": "execute_result"
    }
   ],
   "source": [
    "word_importances3_top_bottom = pd.concat([word_importances3, word_importances3_1])\n",
    "word_importances3_top_bottom"
   ]
  },
  {
   "cell_type": "code",
   "execution_count": 37,
   "metadata": {},
   "outputs": [],
   "source": [
    "word_importance_component_6 = components_tfidfvec[5].sort_values(ascending=False)"
   ]
  },
  {
   "cell_type": "code",
   "execution_count": 38,
   "metadata": {},
   "outputs": [],
   "source": [
    "word_importances6 = pd.DataFrame(word_importance_component_6[0:6])"
   ]
  },
  {
   "cell_type": "code",
   "execution_count": 39,
   "metadata": {},
   "outputs": [],
   "source": [
    "word_importances6_1 = pd.DataFrame(word_importance_component_6[-7:-1])"
   ]
  },
  {
   "cell_type": "code",
   "execution_count": 40,
   "metadata": {},
   "outputs": [
    {
     "data": {
      "text/html": [
       "<div>\n",
       "<style scoped>\n",
       "    .dataframe tbody tr th:only-of-type {\n",
       "        vertical-align: middle;\n",
       "    }\n",
       "\n",
       "    .dataframe tbody tr th {\n",
       "        vertical-align: top;\n",
       "    }\n",
       "\n",
       "    .dataframe thead th {\n",
       "        text-align: right;\n",
       "    }\n",
       "</style>\n",
       "<table border=\"1\" class=\"dataframe\">\n",
       "  <thead>\n",
       "    <tr style=\"text-align: right;\">\n",
       "      <th></th>\n",
       "      <th>5</th>\n",
       "    </tr>\n",
       "  </thead>\n",
       "  <tbody>\n",
       "    <tr>\n",
       "      <th>dog</th>\n",
       "      <td>0.436106</td>\n",
       "    </tr>\n",
       "    <tr>\n",
       "      <th>dogs</th>\n",
       "      <td>0.203989</td>\n",
       "    </tr>\n",
       "    <tr>\n",
       "      <th>animals</th>\n",
       "      <td>0.180841</td>\n",
       "    </tr>\n",
       "    <tr>\n",
       "      <th>animal</th>\n",
       "      <td>0.124016</td>\n",
       "    </tr>\n",
       "    <tr>\n",
       "      <th>family</th>\n",
       "      <td>0.122604</td>\n",
       "    </tr>\n",
       "    <tr>\n",
       "      <th>man</th>\n",
       "      <td>0.099306</td>\n",
       "    </tr>\n",
       "    <tr>\n",
       "      <th>war</th>\n",
       "      <td>-0.121366</td>\n",
       "    </tr>\n",
       "    <tr>\n",
       "      <th>santa</th>\n",
       "      <td>-0.124257</td>\n",
       "    </tr>\n",
       "    <tr>\n",
       "      <th>teen</th>\n",
       "      <td>-0.175223</td>\n",
       "    </tr>\n",
       "    <tr>\n",
       "      <th>girls</th>\n",
       "      <td>-0.177246</td>\n",
       "    </tr>\n",
       "    <tr>\n",
       "      <th>high</th>\n",
       "      <td>-0.185521</td>\n",
       "    </tr>\n",
       "    <tr>\n",
       "      <th>christmas</th>\n",
       "      <td>-0.207730</td>\n",
       "    </tr>\n",
       "  </tbody>\n",
       "</table>\n",
       "</div>"
      ],
      "text/plain": [
       "                  5\n",
       "dog        0.436106\n",
       "dogs       0.203989\n",
       "animals    0.180841\n",
       "animal     0.124016\n",
       "family     0.122604\n",
       "man        0.099306\n",
       "war       -0.121366\n",
       "santa     -0.124257\n",
       "teen      -0.175223\n",
       "girls     -0.177246\n",
       "high      -0.185521\n",
       "christmas -0.207730"
      ]
     },
     "execution_count": 40,
     "metadata": {},
     "output_type": "execute_result"
    }
   ],
   "source": [
    "word_importances6_top_bottom = pd.concat([word_importances6, word_importances6_1])\n",
    "word_importances6_top_bottom"
   ]
  },
  {
   "cell_type": "code",
   "execution_count": 41,
   "metadata": {},
   "outputs": [],
   "source": [
    "word_importance_component_8 = components_tfidfvec[7].sort_values(ascending=False)"
   ]
  },
  {
   "cell_type": "code",
   "execution_count": 42,
   "metadata": {},
   "outputs": [],
   "source": [
    "word_importances8 = pd.DataFrame(word_importance_component_8[0:6])"
   ]
  },
  {
   "cell_type": "code",
   "execution_count": 43,
   "metadata": {},
   "outputs": [],
   "source": [
    "word_importances8_1 = pd.DataFrame(word_importance_component_8[-7:-1])"
   ]
  },
  {
   "cell_type": "code",
   "execution_count": 44,
   "metadata": {},
   "outputs": [
    {
     "data": {
      "text/html": [
       "<div>\n",
       "<style scoped>\n",
       "    .dataframe tbody tr th:only-of-type {\n",
       "        vertical-align: middle;\n",
       "    }\n",
       "\n",
       "    .dataframe tbody tr th {\n",
       "        vertical-align: top;\n",
       "    }\n",
       "\n",
       "    .dataframe thead th {\n",
       "        text-align: right;\n",
       "    }\n",
       "</style>\n",
       "<table border=\"1\" class=\"dataframe\">\n",
       "  <thead>\n",
       "    <tr style=\"text-align: right;\">\n",
       "      <th></th>\n",
       "      <th>7</th>\n",
       "    </tr>\n",
       "  </thead>\n",
       "  <tbody>\n",
       "    <tr>\n",
       "      <th>dog</th>\n",
       "      <td>0.436691</td>\n",
       "    </tr>\n",
       "    <tr>\n",
       "      <th>war</th>\n",
       "      <td>0.210952</td>\n",
       "    </tr>\n",
       "    <tr>\n",
       "      <th>dogs</th>\n",
       "      <td>0.194946</td>\n",
       "    </tr>\n",
       "    <tr>\n",
       "      <th>team</th>\n",
       "      <td>0.167513</td>\n",
       "    </tr>\n",
       "    <tr>\n",
       "      <th>school</th>\n",
       "      <td>0.156317</td>\n",
       "    </tr>\n",
       "    <tr>\n",
       "      <th>sports</th>\n",
       "      <td>0.142064</td>\n",
       "    </tr>\n",
       "    <tr>\n",
       "      <th>magic</th>\n",
       "      <td>-0.071185</td>\n",
       "    </tr>\n",
       "    <tr>\n",
       "      <th>fantasy</th>\n",
       "      <td>-0.077160</td>\n",
       "    </tr>\n",
       "    <tr>\n",
       "      <th>horror</th>\n",
       "      <td>-0.083386</td>\n",
       "    </tr>\n",
       "    <tr>\n",
       "      <th>fairy</th>\n",
       "      <td>-0.092961</td>\n",
       "    </tr>\n",
       "    <tr>\n",
       "      <th>scary</th>\n",
       "      <td>-0.110499</td>\n",
       "    </tr>\n",
       "    <tr>\n",
       "      <th>love</th>\n",
       "      <td>-0.114002</td>\n",
       "    </tr>\n",
       "  </tbody>\n",
       "</table>\n",
       "</div>"
      ],
      "text/plain": [
       "                7\n",
       "dog      0.436691\n",
       "war      0.210952\n",
       "dogs     0.194946\n",
       "team     0.167513\n",
       "school   0.156317\n",
       "sports   0.142064\n",
       "magic   -0.071185\n",
       "fantasy -0.077160\n",
       "horror  -0.083386\n",
       "fairy   -0.092961\n",
       "scary   -0.110499\n",
       "love    -0.114002"
      ]
     },
     "execution_count": 44,
     "metadata": {},
     "output_type": "execute_result"
    }
   ],
   "source": [
    "word_importances8_top_bottom = pd.concat([word_importances8, word_importances8_1])\n",
    "word_importances8_top_bottom"
   ]
  },
  {
   "cell_type": "markdown",
   "metadata": {},
   "source": [
    "#### Examining the words that contribute the most to the above components, both positively and negatively, we can begin to interpret what substantial loadings on each of these components represents. For example, Component 8 above (numbered 7 since our components are zero indexed) represents could be called \"Real World Things of importance to Stereotypical Guys.\" Dogs, war, team, school, and sports all load strongly on this component, while magic, fantasy, horror, fairy, scary, and (oddly) love all load negatively. Similarly, component 2 above might be called \"Things With Positive Emotional Valence to Puritanical Parents\" with Christmas, kids, santa, holiday, dog, and family being the highest positive contributors to the component while nudity, violence, women (oddly), shown, drug, and sexual being the highest negative contributors. As recognizers of patterns, we can easily derive meaning from these components; a useful lesson in semiotics. "
   ]
  },
  {
   "cell_type": "markdown",
   "metadata": {},
   "source": [
    "#### Variance cumulatively explained by SVD Components"
   ]
  },
  {
   "cell_type": "code",
   "execution_count": 45,
   "metadata": {},
   "outputs": [],
   "source": [
    "# How do I turn this list of cumulative explained variance into a graph?\n",
    "# On the same graph has a bar point of the amount of variance explained by each component\n",
    "y = svd.explained_variance_ratio_.cumsum()"
   ]
  },
  {
   "cell_type": "code",
   "execution_count": null,
   "metadata": {},
   "outputs": [],
   "source": [
    "fig, ax = plt.subplots()\n",
    "for i in range(len(y)):\n",
    "    ax.plot(i+1, y[i])\n",
    "\n",
    "ax.set(xlabel='Number of Component', ylabel='Cumulative Explained Variance',\n",
    "       title='Explained Variance of Truncated SVD Components After TF-IDF Vectorization')"
   ]
  },
  {
   "cell_type": "markdown",
   "metadata": {},
   "source": [
    "### Cosine Similarity:  TFIDF_truncSVD1000"
   ]
  },
  {
   "cell_type": "code",
   "execution_count": null,
   "metadata": {},
   "outputs": [],
   "source": [
    "### Calcualte as matrix of all movies to all movies of tfidfvec_truncated, the first 1000\n",
    "sim_matrix_tfidfvec_truncSVD1000 = cosine_similarity(tfidfvec_truncated, tfidfvec_truncated)"
   ]
  },
  {
   "cell_type": "code",
   "execution_count": null,
   "metadata": {},
   "outputs": [],
   "source": [
    "### Create similarity matrix of movie similarity scores with titles as indicies and as\n",
    "### column headers to facilitate cosine similarity based movie lookup (see notebook 7. 8)\n",
    "similarity_matrix_tfidfvec_truncSVD1000 = pd.DataFrame(sim_matrix_tfidfvec_truncSVD1000,\n",
    "                                                       columns=df['title'], index=df['title'])"
   ]
  },
  {
   "cell_type": "code",
   "execution_count": null,
   "metadata": {},
   "outputs": [],
   "source": [
    "pickle.dump(similarity_matrix_tfidfvec_truncSVD1000,\n",
    "            open(\"similarity_matrix_tfidfvec_truncSVD1000.pkl\", \"wb\" ))"
   ]
  },
  {
   "cell_type": "code",
   "execution_count": null,
   "metadata": {
    "scrolled": true
   },
   "outputs": [],
   "source": [
    "similarity_matrix_tfidfvec_truncSVD1000.head()"
   ]
  },
  {
   "cell_type": "code",
   "execution_count": null,
   "metadata": {},
   "outputs": [],
   "source": [
    "# Example of now the similarity matrix is used, looking up movies similar to 'Damsel'\n",
    "pd.DataFrame(similarity_matrix_tfidfvec_truncSVD1000['Damsel'].sort_values(ascending=False)[1:2].index)\n",
    "            "
   ]
  },
  {
   "cell_type": "code",
   "execution_count": null,
   "metadata": {},
   "outputs": [],
   "source": [
    "# with open('data/similarity_matrix_tfidfvec_truncSVD1000.pkl', 'rb') as f:\n",
    "#     similarity_matrix_tfidfvec_truncSVD1000 = pickle.load(f)"
   ]
  },
  {
   "cell_type": "markdown",
   "metadata": {},
   "source": [
    "### Export Similarity Matrix in several formats for backup and comparison of file size"
   ]
  },
  {
   "cell_type": "code",
   "execution_count": null,
   "metadata": {},
   "outputs": [],
   "source": [
    "type(similarity_matrix_tfidfvec_truncSVD1000)"
   ]
  },
  {
   "cell_type": "code",
   "execution_count": null,
   "metadata": {},
   "outputs": [],
   "source": [
    "np.save('data/sim_matrix_tfidfvec_truncSVD1000.npy', sim_matrix_tfidfvec_truncSVD1000)"
   ]
  },
  {
   "cell_type": "code",
   "execution_count": null,
   "metadata": {},
   "outputs": [],
   "source": [
    "similarity_matrix_tfidfvec_truncSVD1000.to_csv('data/similarity_matrix_tfidfvec_truncSVD1000.csv')"
   ]
  },
  {
   "cell_type": "markdown",
   "metadata": {},
   "source": [
    "### Find Similar Movies\n",
    "#### These functions are also present in interface.py"
   ]
  },
  {
   "cell_type": "code",
   "execution_count": null,
   "metadata": {},
   "outputs": [],
   "source": [
    "movie_list = df['title']"
   ]
  },
  {
   "cell_type": "code",
   "execution_count": null,
   "metadata": {},
   "outputs": [],
   "source": [
    "movie_list[0:5]"
   ]
  },
  {
   "cell_type": "code",
   "execution_count": null,
   "metadata": {},
   "outputs": [],
   "source": [
    "def title_recommender(movie_name, movie_list, limit=3):\n",
    "    results = process.extract(movie_name, movie_list, limit=limit)\n",
    "    return results"
   ]
  },
  {
   "cell_type": "code",
   "execution_count": null,
   "metadata": {},
   "outputs": [],
   "source": [
    "def find_similar_movies():\n",
    "    movie_name = input(\"Give me a movie title and I'll give you five titles you might also like:\")\n",
    "    for title in df['title']:\n",
    "        if title == movie_name:\n",
    "            sim_movies_text = similarity_matrix_tfidfvec_truncSVD1000[movie_name]\n",
    "            print(\"Thanks! Here are my recommendations, along with review text similarity scores:\")\n",
    "            recommendations = pd.DataFrame(sim_movies_text.sort_values(ascending=False)[1:6])\n",
    "            return recommendations\n",
    "    limit = 3\n",
    "    while title != movie_name:\n",
    "        results = title_recommender(movie_name, df['title'], limit=limit)\n",
    "        print(\"Sorry, that movie title isn't in my list. Did you mean\", results, \"?\")\n",
    "        movie_name = input(\"(I need the exact title, please...)\")\n",
    "        for title in df['title']:\n",
    "            if title == movie_name:\n",
    "                sim_movies_text = similarity_matrix_tfidfvec_truncSVD1000[movie_name]\n",
    "                print(\"Thanks! Here are my recommendations, along with review text similarity scores:\")\n",
    "                recommendations = pd.DataFrame(sim_movies_text.sort_values(ascending=False)[1:6])\n",
    "                return recommendations\n",
    "            else:\n",
    "                limit += 1\n",
    "                if limit >= 10:\n",
    "                    limit = 10"
   ]
  },
  {
   "cell_type": "code",
   "execution_count": null,
   "metadata": {},
   "outputs": [],
   "source": [
    "def find_all_similar_movies():\n",
    "    movie_name = input(\"Give me a movie title and I'll give you five titles you might also like:\")\n",
    "    for title in df['title']:\n",
    "        if title == movie_name:\n",
    "            sim_movies_text = similarity_matrix_tfidfvec_truncSVD1000[movie_name]\n",
    "            print(\"Thanks! Here are my recommendations, along with review text similarity scores:\")\n",
    "            recommendations = pd.DataFrame(sim_movies_text.sort_values(ascending=False), index=df['title'])\n",
    "            return recommendations\n",
    "    limit = 3\n",
    "    while title != movie_name:\n",
    "        results = title_recommender(movie_name, df['title'], limit=limit)\n",
    "        print(\"Sorry, that movie title isn't in my list. Did you mean\", results, \"?\")\n",
    "        movie_name = input(\"(I need the exact title, please...)\")\n",
    "        for title in df['title']:\n",
    "            if title == movie_name:\n",
    "                sim_movies_text = similarity_matrix_tfidfvec_truncSVD1000[movie_name]\n",
    "                print(\"Thanks! Here are my recommendations, along with review text similarity scores:\")\n",
    "                recommendations = pd.DataFrame(sim_movies_text.sort_values(ascending=False), index=df['title'])\n",
    "                return recommendations\n",
    "            else:\n",
    "                limit += 1\n",
    "                if limit >= 10:\n",
    "                    limit = 10"
   ]
  },
  {
   "cell_type": "markdown",
   "metadata": {},
   "source": [
    "### Recommender System Evaluation\n",
    "#### To evaluate my recommender system, I will have my colleagues test out the system, recording what they thought about each recommendation on a 6 point scale (5 = excellent recommendation, 4= good, 3= fair, 2 = poor, 1 = unrelated, 0 = IDK, that's a movie I've never seen)"
   ]
  },
  {
   "cell_type": "code",
   "execution_count": null,
   "metadata": {},
   "outputs": [],
   "source": [
    "def system_test(trials):\n",
    "    rate_recs = []\n",
    "    for trial in reversed(range(trials)):\n",
    "        print(\"Thank you for trying out MovieRec4Parents(tm)! You have\", trial+1, \"tries to go.\")\n",
    "        recommendations = find_similar_movies()\n",
    "        print(recommendations)\n",
    "        rate_recs.append(recommendations)\n",
    "        for rec in range(len(recommendations)):\n",
    "            print(\"On a scale of 1-5, how good is recommendation\", rec+1,\"? If you don't know the movie, enter 0.)\")\n",
    "            rating = input()\n",
    "            rate_recs.append((trial, rec+1, rating))\n",
    "    print(\"You're done! I hope you enjoyed using MovieRec4Parents(tm). Tell your friends!\")\n",
    "    return rate_recs"
   ]
  },
  {
   "cell_type": "markdown",
   "metadata": {},
   "source": [
    "#### To get cosine similarity matrix necessary to run working movie recommender system, you will need to download a 568MB pkl file, similarity_matrix_tfidfvec_truncSVD1000.pkl, currently housed on my google drive. Here is the link  https://drive.google.com/open?id=1MZv3t0YlG6VIQYRr5c0_e88stkJFFO1z \n",
    "#### If you have any questions, feel free to email me at yuki@openmind.com "
   ]
  },
  {
   "cell_type": "code",
   "execution_count": null,
   "metadata": {},
   "outputs": [],
   "source": []
  }
 ],
 "metadata": {
  "kernelspec": {
   "display_name": "Python [default]",
   "language": "python",
   "name": "python3"
  },
  "language_info": {
   "codemirror_mode": {
    "name": "ipython",
    "version": 3
   },
   "file_extension": ".py",
   "mimetype": "text/x-python",
   "name": "python",
   "nbconvert_exporter": "python",
   "pygments_lexer": "ipython3",
   "version": "3.6.4"
  }
 },
 "nbformat": 4,
 "nbformat_minor": 2
}

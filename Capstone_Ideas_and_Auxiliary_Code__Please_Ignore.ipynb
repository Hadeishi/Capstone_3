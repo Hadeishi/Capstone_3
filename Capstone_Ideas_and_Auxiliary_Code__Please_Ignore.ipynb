{
 "cells": [
  {
   "cell_type": "markdown",
   "metadata": {},
   "source": [
    "# Future Directions Brainstorming -- Please Ignore"
   ]
  },
  {
   "cell_type": "markdown",
   "metadata": {},
   "source": [
    "### Collect User data, create user ratings of movies and collaborative filter to supplement content-based filter."
   ]
  },
  {
   "cell_type": "markdown",
   "metadata": {},
   "source": [
    "### GREAT idea!\n",
    " \n",
    "#### Ask first \"Do you have a moment to fill out some criteria, or would you prefer to just name a movie like the one you'd like to see?\" If in a hurry, just use cosine similarity to named movie; give nop 5 choices. If parents have time, first ask the age of their children. Restrict movies to age of youngest child. If the age of the youngest is young enough, restrict to Sexy Stuff/Violence and Scariness movies and ask them to fill in . Otherwise, ask them to fill in ratings on a 0-5 scale on Sex, Violence, etc. scales. Add these to our Movie Recommender as the Collaborative "
   ]
  },
  {
   "cell_type": "markdown",
   "metadata": {},
   "source": [
    "### GREAT idea: \n",
    "#### Use text data to predict Violence values of movies! Same with Sex... perhaps also using this to evaluate values that I can subsequently use in recommendation of movies.  This can be objective way to evaluate and compare quality of text data. If results are good, train/test split data with ratings, use to predict movies without data. Then, use the data to come up with recommendation for "
   ]
  },
  {
   "cell_type": "markdown",
   "metadata": {},
   "source": [
    "#### Semi-supervised learning?  Classification project?  KNN to group movies into categories!\n",
    "#### Characteristics by class, use models to predict MPAA rating? Precision, Hit rates, surpriselib.com\n",
    "#### Demonstrate that I know how to conduct a recommender project.  Data aquisition, exploratory analysis, evaluation of project. where does it work well, where does it have problems, and why..., points of optimization, communicate from authority"
   ]
  },
  {
   "cell_type": "markdown",
   "metadata": {},
   "source": [
    "### Additional Possibilities:\n",
    "#### fork, import TextBlob, use to lemmatize, see how this improves cosine similarity matrix. Then, use for sentiment analysis and clustering for additional classification of text."
   ]
  },
  {
   "cell_type": "markdown",
   "metadata": {},
   "source": [
    "### Extra Code Bits (to facilitate web scraping)\n",
    "### Selenium, a way to automate button pushing, if needed to access data"
   ]
  },
  {
   "cell_type": "code",
   "execution_count": 2,
   "metadata": {},
   "outputs": [],
   "source": [
    "# import os\n",
    "# from selenium import webdriver\n",
    "# \n",
    "# chromedriver = '/Users/yukiharuhadeishi/Downloads/chromedriver'\n",
    "# os.environ[\"webdriver.chrome.driver\"] = chromedriver\n",
    "# driver = webdriver.Chrome(chromedriver)"
   ]
  },
  {
   "cell_type": "code",
   "execution_count": null,
   "metadata": {},
   "outputs": [],
   "source": [
    "# driver.get(url)"
   ]
  },
  {
   "cell_type": "markdown",
   "metadata": {},
   "source": [
    "### Auxiliary Code Bits\n",
    "#### How to connect to .py file so code can be hosted elsewhere than in the current notebook. This is how modules are built."
   ]
  },
  {
   "cell_type": "code",
   "execution_count": 1,
   "metadata": {},
   "outputs": [],
   "source": [
    "# # This will append one directory above to your path to allow import of custom modules\n",
    "\n",
    "# import sys\n",
    "# sys.path.append('..')\n",
    "\n",
    "# # In either case, enter the following code:\n",
    "\n",
    "# from lib.interface import *"
   ]
  },
  {
   "cell_type": "code",
   "execution_count": null,
   "metadata": {},
   "outputs": [],
   "source": []
  }
 ],
 "metadata": {
  "kernelspec": {
   "display_name": "Python [default]",
   "language": "python",
   "name": "python3"
  },
  "language_info": {
   "codemirror_mode": {
    "name": "ipython",
    "version": 3
   },
   "file_extension": ".py",
   "mimetype": "text/x-python",
   "name": "python",
   "nbconvert_exporter": "python",
   "pygments_lexer": "ipython3",
   "version": "3.6.4"
  }
 },
 "nbformat": 4,
 "nbformat_minor": 2
}

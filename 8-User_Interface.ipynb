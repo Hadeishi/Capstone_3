{
 "cells": [
  {
   "cell_type": "markdown",
   "metadata": {},
   "source": [
    "# Welcome to MovieRec4Parents!\n",
    "\n",
    "#### Please do not tamper with the cell below, or the interface won't work."
   ]
  },
  {
   "cell_type": "code",
   "execution_count": 1,
   "metadata": {},
   "outputs": [
    {
     "name": "stderr",
     "output_type": "stream",
     "text": [
      "/Users/yukiharuhadeishi/anaconda3/lib/python3.6/site-packages/fuzzywuzzy/fuzz.py:35: UserWarning: Using slow pure-python SequenceMatcher. Install python-Levenshtein to remove this warning\n",
      "  warnings.warn('Using slow pure-python SequenceMatcher. Install python-Levenshtein to remove this warning')\n"
     ]
    }
   ],
   "source": [
    "from lib.interface import *"
   ]
  },
  {
   "cell_type": "markdown",
   "metadata": {},
   "source": [
    "### If you want five quick movie recommendations, think of a movie that is like a movie you'd like to see, click next to \"find_similar_movies\" and press enter. If you have more time and don't mind answering a few questions, click next to \"get_parent_ratings_first\" and press enter. You'll be asked a few questions which will be used to refine my recommendations."
   ]
  },
  {
   "cell_type": "code",
   "execution_count": 2,
   "metadata": {
    "scrolled": false
   },
   "outputs": [
    {
     "name": "stdout",
     "output_type": "stream",
     "text": [
      "Give me a movie title and I'll give you five titles you might also like:frozen\n",
      "Sorry, that movie title isn't in my list. Did you mean [('Frozen', 100, 2570), ('Frozen in Time', 90, 2213), ('The Frozen Ground', 90, 2827)] ?\n",
      "(I need the exact title, please...)Frozen\n",
      "Thanks! Here are my recommendations, along with review text similarity scores:\n"
     ]
    },
    {
     "data": {
      "text/html": [
       "<div>\n",
       "<style scoped>\n",
       "    .dataframe tbody tr th:only-of-type {\n",
       "        vertical-align: middle;\n",
       "    }\n",
       "\n",
       "    .dataframe tbody tr th {\n",
       "        vertical-align: top;\n",
       "    }\n",
       "\n",
       "    .dataframe thead th {\n",
       "        text-align: right;\n",
       "    }\n",
       "</style>\n",
       "<table border=\"1\" class=\"dataframe\">\n",
       "  <thead>\n",
       "    <tr style=\"text-align: right;\">\n",
       "      <th></th>\n",
       "      <th>Frozen</th>\n",
       "    </tr>\n",
       "    <tr>\n",
       "      <th>title</th>\n",
       "      <th></th>\n",
       "    </tr>\n",
       "  </thead>\n",
       "  <tbody>\n",
       "    <tr>\n",
       "      <th>Anna Karenina</th>\n",
       "      <td>0.499970</td>\n",
       "    </tr>\n",
       "    <tr>\n",
       "      <th>Elsa &amp;amp; Fred</th>\n",
       "      <td>0.496738</td>\n",
       "    </tr>\n",
       "    <tr>\n",
       "      <th>When Marnie Was There</th>\n",
       "      <td>0.488481</td>\n",
       "    </tr>\n",
       "    <tr>\n",
       "      <th>Born Free</th>\n",
       "      <td>0.473924</td>\n",
       "    </tr>\n",
       "    <tr>\n",
       "      <th>The Money Pit</th>\n",
       "      <td>0.469051</td>\n",
       "    </tr>\n",
       "  </tbody>\n",
       "</table>\n",
       "</div>"
      ],
      "text/plain": [
       "                         Frozen\n",
       "title                          \n",
       "Anna Karenina          0.499970\n",
       "Elsa &amp; Fred        0.496738\n",
       "When Marnie Was There  0.488481\n",
       "Born Free              0.473924\n",
       "The Money Pit          0.469051"
      ]
     },
     "execution_count": 2,
     "metadata": {},
     "output_type": "execute_result"
    }
   ],
   "source": [
    "find_similar_movies()"
   ]
  },
  {
   "cell_type": "code",
   "execution_count": 3,
   "metadata": {},
   "outputs": [
    {
     "name": "stdout",
     "output_type": "stream",
     "text": [
      "Welcome to MovieRec4Parents! Let me ask you a few questions before we begin.\n",
      "How many children do you have?2\n",
      "How old is your child 1 ?\n",
      "14\n",
      "How old is your child 2 ?\n",
      "11\n",
      "Thank you!\n",
      "I have just 8 more questions for you. Respond with a ? if you'd like some examples.\n",
      "What level of exposure to consumerism is okay for your kids? (0 to 5)\n",
      "Please enter 0, 1, 2, 3, 4, 5, or ??\n",
      "An example of a 0 is Tommy Boy\n",
      "An example of a 3 is The Best Man Holiday\n",
      "An example of a 5 is Care Bears: Oopsy Does It!\n",
      "Please enter 0, 1, 2, 3, 4, 5, or ??\n",
      "An example of a 0 is Jaws: The Revenge\n",
      "An example of a 3 is Nerve\n",
      "An example of a 5 is Please Subscribe\n",
      "Please enter 0, 1, 2, 3, 4, 5, or ?3\n",
      "What level of drinking, drugs, & smoking is okay for your kids? (0 to 5)\n",
      "Please enter 0, 1, 2, 3, 4, 5, or ?5\n",
      "What level of exposure to bad language is okay for your kids? (0 to 5)\n",
      "Please enter 0, 1, 2, 3, 4, 5, or ?2\n",
      "How important are positive messages in movies to you and kids? (0 to 5)\n",
      "Please enter 0, 1, 2, 3, 4, 5, or ?1\n",
      "What degree of exposure to sex in movies is okay for your kids? (0 to 5)\n",
      "Please enter 0, 1, 2, 3, 4, 5, or ?0\n",
      "What level of movie violence is okay for your kids (0 to 5)\n",
      "Please enter 0, 1, 2, 3, 4, 5, or ?5\n",
      "What genre of movie would you like to see?\n",
      "Please enter Drama, Family and Kids, Comedy, Action/Adventure, Documentary, Thriller,\n",
      "Horror, Science Fiction, Fantasy, Romance, Musical, Classic, Western, or ? Action/Adventure\n",
      "Please enter Drama, Family and Kids, Comedy, Action/Adventure, Documentary, Thriller,\n",
      "Horror, Science Fiction, Fantasy, Romance, Musical, Classic, Western, or ?Action/Adventure\n",
      "Finally, what MPAA rating is the most extreme MPAA Rating for your kids (G, PG, PG-13, R, NR (not rated), or NC-17?)\n",
      "Please enter G, PG, PG-13, R, NR (not rated), NC-17, or ?PG-13\n",
      "Please enter G, PG, PG-13, R, NR (not rated), NC-17, or ?PG-13\n",
      "Please enter G, PG, PG-13, R, NR (not rated), NC-17, or ?PG\n",
      "Please enter G, PG, PG-13, R, NR (not rated), NC-17, or ?G\n",
      "Please enter G, PG, PG-13, R, NR (not rated), NC-17, or ??\n",
      "An example of a G rated movie is The Young Black Stallion\n",
      "An example of a PG rated movie is Max Rules\n",
      "An example of a PG-13 rated movie is Til Death Do Us Part\n",
      "An example of an R rated movie is The Sitter\n",
      "An example of an NR rated movie is The Pirates\n",
      "An example of an NC-17 rated movie is Lust, Caution\n",
      "Please enter G, PG, PG-13, R, NR (not rated), NC-17, or ?PG-13\n",
      "Please enter G, PG, PG-13, R, NR (not rated), NC-17, or ?\n",
      "Thank you!\n",
      "Give me a movie title and I'll give you five titles you might also like:Frozen\n",
      "Thanks! Here are my recommendations, along with review text similarity scores:\n"
     ]
    },
    {
     "ename": "TypeError",
     "evalue": "'<=' not supported between instances of 'numpy.ndarray' and 'str'",
     "output_type": "error",
     "traceback": [
      "\u001b[0;31m---------------------------------------------------------------------------\u001b[0m",
      "\u001b[0;31mTypeError\u001b[0m                                 Traceback (most recent call last)",
      "\u001b[0;32m<ipython-input-3-e32277cabd5a>\u001b[0m in \u001b[0;36m<module>\u001b[0;34m()\u001b[0m\n\u001b[0;32m----> 1\u001b[0;31m \u001b[0mget_parent_ratings_first\u001b[0m\u001b[0;34m(\u001b[0m\u001b[0;34m)\u001b[0m\u001b[0;34m\u001b[0m\u001b[0m\n\u001b[0m",
      "\u001b[0;32m~/dsi/Capstone3/lib/interface.py\u001b[0m in \u001b[0;36mget_parent_ratings_first\u001b[0;34m()\u001b[0m\n\u001b[1;32m    177\u001b[0m         \u001b[0;32mreturn\u001b[0m \u001b[0mmovie_recs\u001b[0m\u001b[0;34m\u001b[0m\u001b[0m\n\u001b[1;32m    178\u001b[0m     \u001b[0;32melse\u001b[0m\u001b[0;34m:\u001b[0m\u001b[0;34m\u001b[0m\u001b[0m\n\u001b[0;32m--> 179\u001b[0;31m         \u001b[0mmovie_recs\u001b[0m \u001b[0;34m=\u001b[0m \u001b[0mfilter_movies_for_tweens\u001b[0m\u001b[0;34m(\u001b[0m\u001b[0mparent_ratings\u001b[0m\u001b[0;34m,\u001b[0m \u001b[0mmovie_names\u001b[0m\u001b[0;34m,\u001b[0m \u001b[0mdf\u001b[0m\u001b[0;34m)\u001b[0m\u001b[0;34m\u001b[0m\u001b[0m\n\u001b[0m\u001b[1;32m    180\u001b[0m         \u001b[0;32mreturn\u001b[0m \u001b[0mmovie_recs\u001b[0m\u001b[0;34m\u001b[0m\u001b[0m\n\u001b[1;32m    181\u001b[0m \u001b[0;34m\u001b[0m\u001b[0m\n",
      "\u001b[0;32m~/dsi/Capstone3/lib/interface.py\u001b[0m in \u001b[0;36mfilter_movies_for_tweens\u001b[0;34m(parent_ratings, rec_movie_names, df)\u001b[0m\n\u001b[1;32m    123\u001b[0m     \u001b[0mnum_recs_filtered\u001b[0m \u001b[0;34m=\u001b[0m \u001b[0;34m[\u001b[0m\u001b[0;34m]\u001b[0m\u001b[0;34m\u001b[0m\u001b[0m\n\u001b[1;32m    124\u001b[0m     \u001b[0;32mfor\u001b[0m \u001b[0mnum\u001b[0m \u001b[0;32min\u001b[0m \u001b[0mmovie_nums\u001b[0m\u001b[0;34m:\u001b[0m\u001b[0;34m\u001b[0m\u001b[0m\n\u001b[0;32m--> 125\u001b[0;31m         \u001b[0;32mif\u001b[0m \u001b[0mdf\u001b[0m\u001b[0;34m.\u001b[0m\u001b[0mloc\u001b[0m\u001b[0;34m[\u001b[0m\u001b[0mnum\u001b[0m\u001b[0;34m,\u001b[0m \u001b[0;34m'Consumerism'\u001b[0m\u001b[0;34m]\u001b[0m \u001b[0;34m<=\u001b[0m \u001b[0mint\u001b[0m\u001b[0;34m(\u001b[0m\u001b[0mprate_consumerism\u001b[0m\u001b[0;34m)\u001b[0m \u001b[0;32mand\u001b[0m \u001b[0mdf\u001b[0m\u001b[0;34m.\u001b[0m\u001b[0mloc\u001b[0m\u001b[0;34m[\u001b[0m\u001b[0mnum\u001b[0m\u001b[0;34m,\u001b[0m \u001b[0;34m'Drinking, Drugs & Smoking'\u001b[0m\u001b[0;34m]\u001b[0m \u001b[0;34m<=\u001b[0m \u001b[0mint\u001b[0m\u001b[0;34m(\u001b[0m\u001b[0mprate_drinking_drugs_smoking\u001b[0m\u001b[0;34m)\u001b[0m \u001b[0;32mand\u001b[0m \u001b[0mdf\u001b[0m\u001b[0;34m.\u001b[0m\u001b[0mloc\u001b[0m\u001b[0;34m[\u001b[0m\u001b[0mnum\u001b[0m\u001b[0;34m,\u001b[0m \u001b[0;34m'Language'\u001b[0m\u001b[0;34m]\u001b[0m \u001b[0;34m<=\u001b[0m \u001b[0mint\u001b[0m\u001b[0;34m(\u001b[0m\u001b[0mprate_language\u001b[0m\u001b[0;34m)\u001b[0m \u001b[0;32mand\u001b[0m \u001b[0mdf\u001b[0m\u001b[0;34m.\u001b[0m\u001b[0mloc\u001b[0m\u001b[0;34m[\u001b[0m\u001b[0mnum\u001b[0m\u001b[0;34m,\u001b[0m \u001b[0;34m'Positive Messages'\u001b[0m\u001b[0;34m]\u001b[0m \u001b[0;34m>=\u001b[0m \u001b[0mint\u001b[0m\u001b[0;34m(\u001b[0m\u001b[0mprate_positive_messages\u001b[0m\u001b[0;34m)\u001b[0m \u001b[0;32mand\u001b[0m \u001b[0mdf\u001b[0m\u001b[0;34m.\u001b[0m\u001b[0mloc\u001b[0m\u001b[0;34m[\u001b[0m\u001b[0mnum\u001b[0m\u001b[0;34m,\u001b[0m \u001b[0;34m'Sex'\u001b[0m\u001b[0;34m]\u001b[0m \u001b[0;34m>=\u001b[0m \u001b[0mint\u001b[0m\u001b[0;34m(\u001b[0m\u001b[0mprate_sex\u001b[0m\u001b[0;34m)\u001b[0m \u001b[0;32mand\u001b[0m \u001b[0mdf\u001b[0m\u001b[0;34m.\u001b[0m\u001b[0mloc\u001b[0m\u001b[0;34m[\u001b[0m\u001b[0mnum\u001b[0m\u001b[0;34m,\u001b[0m \u001b[0;34m'Violence'\u001b[0m\u001b[0;34m]\u001b[0m \u001b[0;34m>=\u001b[0m \u001b[0mint\u001b[0m\u001b[0;34m(\u001b[0m\u001b[0mprate_violence\u001b[0m\u001b[0;34m)\u001b[0m \u001b[0;32mand\u001b[0m \u001b[0mdf\u001b[0m\u001b[0;34m.\u001b[0m\u001b[0mloc\u001b[0m\u001b[0;34m[\u001b[0m\u001b[0mnum\u001b[0m\u001b[0;34m,\u001b[0m \u001b[0;34m'genre'\u001b[0m\u001b[0;34m]\u001b[0m \u001b[0;34m==\u001b[0m \u001b[0mprate_genre\u001b[0m \u001b[0;32mand\u001b[0m \u001b[0mdf\u001b[0m\u001b[0;34m.\u001b[0m\u001b[0mloc\u001b[0m\u001b[0;34m[\u001b[0m\u001b[0mnum\u001b[0m\u001b[0;34m,\u001b[0m \u001b[0;34m'MPAA_ordinal'\u001b[0m\u001b[0;34m]\u001b[0m \u001b[0;34m<=\u001b[0m \u001b[0mprate_MPAA_rating\u001b[0m\u001b[0;34m:\u001b[0m\u001b[0;34m\u001b[0m\u001b[0m\n\u001b[0m\u001b[1;32m    126\u001b[0m             \u001b[0mnum_recs_filtered\u001b[0m\u001b[0;34m.\u001b[0m\u001b[0mappend\u001b[0m\u001b[0;34m(\u001b[0m\u001b[0mnum\u001b[0m\u001b[0;34m)\u001b[0m\u001b[0;34m\u001b[0m\u001b[0m\n\u001b[1;32m    127\u001b[0m         \u001b[0;32mif\u001b[0m \u001b[0mlen\u001b[0m\u001b[0;34m(\u001b[0m\u001b[0mnum_recs_filtered\u001b[0m\u001b[0;34m)\u001b[0m \u001b[0;34m==\u001b[0m \u001b[0;36m5\u001b[0m\u001b[0;34m:\u001b[0m\u001b[0;34m\u001b[0m\u001b[0m\n",
      "\u001b[0;31mTypeError\u001b[0m: '<=' not supported between instances of 'numpy.ndarray' and 'str'"
     ]
    }
   ],
   "source": [
    "get_parent_ratings_first()"
   ]
  },
  {
   "cell_type": "markdown",
   "metadata": {},
   "source": [
    "### If you'd like more recs, rerun the cell(s) above! And thank you for using MovieRec4Parents!"
   ]
  },
  {
   "cell_type": "code",
   "execution_count": null,
   "metadata": {},
   "outputs": [],
   "source": [
    "df.head()"
   ]
  },
  {
   "cell_type": "code",
   "execution_count": null,
   "metadata": {},
   "outputs": [],
   "source": [
    "len(df)"
   ]
  },
  {
   "cell_type": "code",
   "execution_count": null,
   "metadata": {},
   "outputs": [],
   "source": []
  }
 ],
 "metadata": {
  "kernelspec": {
   "display_name": "Python [default]",
   "language": "python",
   "name": "python3"
  },
  "language_info": {
   "codemirror_mode": {
    "name": "ipython",
    "version": 3
   },
   "file_extension": ".py",
   "mimetype": "text/x-python",
   "name": "python",
   "nbconvert_exporter": "python",
   "pygments_lexer": "ipython3",
   "version": "3.6.4"
  }
 },
 "nbformat": 4,
 "nbformat_minor": 2
}

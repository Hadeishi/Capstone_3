{
 "cells": [
  {
   "cell_type": "markdown",
   "metadata": {},
   "source": [
    "## Eliminate Duplicates and Extract Movie Features from Scraped Data\n",
    "#### In this notebook, we take movies from the previous notebook, identify and eliminate duplicate movies, and further clean and extract important movie features and rearrange them to facilitate analysis. Extracted features are then saved for further cleaning in Notebook 4."
   ]
  },
  {
   "cell_type": "code",
   "execution_count": 1,
   "metadata": {},
   "outputs": [],
   "source": [
    "import pandas as pd\n",
    "import seaborn as sns\n",
    "import requests, re, json, time\n",
    "from bs4 import BeautifulSoup as bs4"
   ]
  },
  {
   "cell_type": "markdown",
   "metadata": {},
   "source": [
    "### Import movies_features files"
   ]
  },
  {
   "cell_type": "code",
   "execution_count": 3,
   "metadata": {},
   "outputs": [],
   "source": [
    "# Load json of movies_features. N.B., this notebook is set up to use data scraped previously\n",
    "# and unfortunately too large to push to GitHub. If you'd like to replicate this process,\n",
    "# go to https://drive.google.com/open?id=19VPd3pdjrwVV56OVDNtKo2o_V3afwrvU to get this file\n",
    "# and put in the /data file.\n",
    "with open('data/movies_features_0_to_8764new.json') as json_file:  \n",
    "    movies_features = json.load(json_file)"
   ]
  },
  {
   "cell_type": "code",
   "execution_count": 5,
   "metadata": {},
   "outputs": [
    {
     "data": {
      "text/plain": [
       "[{'age': 'age 10+',\n",
       "  'family_topics': 'Families can talk about how The Music of Silence portrays Bocelli\\'s blindness. How does it compare to other representations of disabilities you\\'ve seen on-screen? Does it feel realistic? Do you think it gave a real picture of Bocelli\\'s personal struggle?\\xa0\\n\\nHow accurate do you think the movie is to actual events overall? Why might filmmakers decide to change the facts in a movie that\\'s based on real life?\\n\\nHow does Bocelli exhibit courage and perseverance? Why are those important character strengths?\\n\\nOne of the most important aspects of any drama is conflict. What or who causes the conflict in this film? Is there an antagonist? What is the struggle?\\xa0\\n\\nAre you an opera fan? Why or why not? How can you distinguish among operatically trained voices to tell which are the \"most beautiful\"? Are your standards for opera singers different from your standards for pop singers?\\xa0\\n\\n',\n",
       "  'is_it_any_good': 'Nearly everything about this biopic (which was created in collaboration with its subject, Bocelli) feels scrubbed clean. The opening scene, in which an Italian father abandons his work when he learns that his son has been born and then runs through the farm yelling, \"A son! A son!\" would seem laughably stereotypical if Bocelli hadn\\'t signed off on the whole thing. The Music of Silence has a compelling story at its center: A boy with failing eyesight, later completely blind, goes on to become one of the world\\'s most popular opera singers. But the film, directed by Michael Radford, meanders from vignette to vignette, never building momentum or really making us feel Bocelli\\'s struggle. If the film is to be believed, Bocelli\\xa0(here called \"Amos\" and with a different last name, for reasons that are never explained) was so discouraged by his voice change at puberty that he gave up on his dream -- he never sought lessons or worked in any way to develop his gift until much later. But his portrait lacks personality. There\\'s no attempt to put us inside his fading vision.\\xa0We don\\'t have a handle on who he really is, what drives him, or how he interacted with others. This is surprising, because Radford has made some fine films, including the gorgeous Il Postino and the sadly underrated 1984. The Music of Silence, by contrast, has no discernible style. Its best moments are in Bocelli/Amos\\' family\\'s unwavering support of him, as when his uncle throws a drink in a critic\\'s face or when another relative pointedly slow-claps at a rival\\'s performance. Squabbling brothers punching each other -- hard -- in the arm are welcome windows into characters\\' humanity, which are too few and far between in this film.\\xa0\\nThe performances by Bocelli/Amos\\' family members are fine, especially from Ranieri as his mother and Mollà as his father. Mollà\\'s revelation of the depth of his emotion when his character is leaving his son at a school for the blind is the film\\'s most effective moment. But as the grown Amos, Sebastian (who played Trystane Martell on Game of Thrones) doesn\\'t exactly drive the action. And the script doesn\\'t help, providing Amos with little definition. Because we don\\'t see him particularly trying to pursue his (apparent) dream of singing opera until late in the film, the exercise feels devoid of conflict -- as if Amos\\' own inertia was his main obstacle. Even a late appearance by Banderas as Amos\\' life-changing teacher doesn\\'t significantly lift the film\\'s energy. Bocelli\\xa0fans will be sure to catch this one, but for most viewers, Music will feel aimless and too polite.\\n',\n",
       "  'movie_details_raw': '\\nMovie details\\n\\n\\nIn theaters: February 2, 2018\\nOn DVD or streaming: August 7, 2018\\nCast: Antonio Banderas, Toby Sebastian, Jordi Molla\\nDirector: Michael Radford\\nStudio: AMBI Distribution\\nGenre: Drama\\nTopics: Music and Sing-Along\\nRun time: 127 minutes\\nMPAA rating: NR\\n \\n\\nContinue reading\\nShow less\\n\\n\\n',\n",
       "  'movie_id': 0,\n",
       "  'one_line_description': 'Mild Andrea Bocelli biopic lacks momentum.',\n",
       "  'overall_rating': '2',\n",
       "  'parental_rating_and_spoilers_raw': '[<div class=\"field field-name-field-collection-content-grid field-type-field-collection field-label-hidden\"><div class=\"field-items\"><div class=\"field-item even\"><div class=\"field-collection-view clearfix view-mode-full\" id=\"content-grid-item-message\"><div about=\"/field-collection/field-collection-content-grid/5953371\" class=\"entity entity-field-collection-item field-collection-item-field-collection-content-grid clearfix\" typeof=\"\">\\n<div class=\"content\">\\n<div class=\"field field-name-field-content-grid-rating field-type-list-integer field-label-hidden\"><div class=\"field-items\"><div class=\"field-item even\"><div class=\"content-grid-rating content-grid-4 field_content_grid_rating field_collection_content_grid\"></div></div></div></div><div class=\"field field-name-field-content-grid-type field-type-list-text field-label-hidden field-content-grid-type message\"><div class=\"field-items\"><div class=\"field-item even\"><span class=\"sprite-cover\">Positive Messages</span></div></div></div><div class=\"field field-name-field-content-grid-rating-text field-type-text-long field-label-hidden\"><div class=\"field-items\"><div class=\"field-item even\"><p>Promotes courage and perseverance.</p>\\n</div></div></div> </div>\\n</div>\\n</div></div><div class=\"field-item odd\"><div class=\"field-collection-view clearfix view-mode-full\" id=\"content-grid-item-role_model\"><div about=\"/field-collection/field-collection-content-grid/5955261\" class=\"entity entity-field-collection-item field-collection-item-field-collection-content-grid clearfix\" typeof=\"\">\\n<div class=\"content\">\\n<div class=\"field field-name-field-content-grid-rating field-type-list-integer field-label-hidden\"><div class=\"field-items\"><div class=\"field-item even\"><div class=\"content-grid-rating content-grid-3 field_content_grid_rating field_collection_content_grid\"></div></div></div></div><div class=\"field field-name-field-content-grid-type field-type-list-text field-label-hidden field-content-grid-type role_model\"><div class=\"field-items\"><div class=\"field-item even\"><span class=\"sprite-cover\">Positive Role Models &amp; Representations</span></div></div></div><div class=\"field field-name-field-content-grid-rating-text field-type-text-long field-label-hidden\"><div class=\"field-items\"><div class=\"field-item even\"><p>A boy with failing eyesight, loved and supported by his family, becomes an international singing superstar. Also passes the Italian bar to qualify as a lawyer (though we never see him work as one). Viewers see him work toward his goal, though not until rather late in the story. It\\'s positive that he wasn\\'t stopped by his vision loss, but steps taken to reach goal are a bit murky.\\xa0</p>\\n</div></div></div> </div>\\n</div>\\n</div></div><div class=\"field-item even\"><div class=\"field-collection-view clearfix view-mode-full\" id=\"content-grid-item-violence\"><div about=\"/field-collection/field-collection-content-grid/5955266\" class=\"entity entity-field-collection-item field-collection-item-field-collection-content-grid clearfix\" typeof=\"\">\\n<div class=\"content\">\\n<div class=\"field field-name-field-content-grid-rating field-type-list-integer field-label-hidden\"><div class=\"field-items\"><div class=\"field-item even\"><div class=\"content-grid-rating content-grid-0 field_content_grid_rating field_collection_content_grid\"></div></div></div></div><div class=\"field field-name-field-content-grid-type field-type-list-text field-label-hidden field-content-grid-type violence\"><div class=\"field-items\"><div class=\"field-item even\"><span class=\"sprite-cover\">Violence</span></div></div></div><div class=\"field field-name-field-content-grid-rating-text field-type-text-long field-label-hidden\"><div class=\"field-items\"><div class=\"field-item even\"><p>A boy is accidentally hit in the eye with a soccer ball, hastening his blindness. Not graphic.</p>\\n</div></div></div> </div>\\n</div>\\n</div></div><div class=\"field-item odd\"><div class=\"field-collection-view clearfix view-mode-full\" id=\"content-grid-item-sex\"><div about=\"/field-collection/field-collection-content-grid/5955271\" class=\"entity entity-field-collection-item field-collection-item-field-collection-content-grid clearfix\" typeof=\"\">\\n<div class=\"content\">\\n<div class=\"field field-name-field-content-grid-rating field-type-list-integer field-label-hidden\"><div class=\"field-items\"><div class=\"field-item even\"><div class=\"content-grid-rating content-grid-2 field_content_grid_rating field_collection_content_grid\"></div></div></div></div><div class=\"field field-name-field-content-grid-type field-type-list-text field-label-hidden field-content-grid-type sex\"><div class=\"field-items\"><div class=\"field-item even\"><span class=\"sprite-cover\">Sex</span></div></div></div><div class=\"field field-name-field-content-grid-rating-text field-type-text-long field-label-hidden\"><div class=\"field-items\"><div class=\"field-item even\"><p>During a brief make-out scene, a young couple kiss, and a girl strips to her bra. In another make-out scene, a young woman takes a young man into a room where other teens are kissing; it\\'s implied that the pair has sex, but nothing graphic is shown before the camera cuts away.</p>\\n</div></div></div> </div>\\n</div>\\n</div></div><div class=\"field-item even\"><div class=\"field-collection-view clearfix view-mode-full field-collection-view-final\" id=\"content-grid-item-language\"><div about=\"/field-collection/field-collection-content-grid/5955286\" class=\"entity entity-field-collection-item field-collection-item-field-collection-content-grid clearfix\" typeof=\"\">\\n<div class=\"content\">\\n<div class=\"field field-name-field-content-grid-rating field-type-list-integer field-label-hidden\"><div class=\"field-items\"><div class=\"field-item even\"><div class=\"content-grid-rating content-grid-0 field_content_grid_rating field_collection_content_grid\"></div></div></div></div><div class=\"field field-name-field-content-grid-type field-type-list-text field-label-hidden field-content-grid-type language\"><div class=\"field-items\"><div class=\"field-item even\"><span class=\"sprite-cover\">Language</span></div></div></div> </div>\\n</div>\\n</div></div><div class=\"field-item odd\"><div class=\"field-collection-view clearfix view-mode-full\" id=\"content-grid-item-consumerism\"><div about=\"/field-collection/field-collection-content-grid/5955276\" class=\"entity entity-field-collection-item field-collection-item-field-collection-content-grid clearfix\" typeof=\"\">\\n<div class=\"content\">\\n<div class=\"field field-name-field-content-grid-rating field-type-list-integer field-label-hidden\"><div class=\"field-items\"><div class=\"field-item even\"><div class=\"content-grid-rating content-grid-0 field_content_grid_rating field_collection_content_grid\"></div></div></div></div><div class=\"field field-name-field-content-grid-type field-type-list-text field-label-hidden field-content-grid-type consumerism\"><div class=\"field-items\"><div class=\"field-item even\"><span class=\"sprite-cover\">Consumerism</span></div></div></div> </div>\\n</div>\\n</div></div><div class=\"field-item even\"><div class=\"field-collection-view clearfix view-mode-full\" id=\"content-grid-item-drugs\"><div about=\"/field-collection/field-collection-content-grid/5955281\" class=\"entity entity-field-collection-item field-collection-item-field-collection-content-grid clearfix\" typeof=\"\">\\n<div class=\"content\">\\n<div class=\"field field-name-field-content-grid-rating field-type-list-integer field-label-hidden\"><div class=\"field-items\"><div class=\"field-item even\"><div class=\"content-grid-rating content-grid-3 field_content_grid_rating field_collection_content_grid\"></div></div></div></div><div class=\"field field-name-field-content-grid-type field-type-list-text field-label-hidden field-content-grid-type drugs\"><div class=\"field-items\"><div class=\"field-item even\"><span class=\"sprite-cover\">Drinking, Drugs &amp; Smoking</span></div></div></div><div class=\"field field-name-field-content-grid-rating-text field-type-text-long field-label-hidden\"><div class=\"field-items\"><div class=\"field-item even\"><p>Many scenes take place in a piano bar, so there\\'s a fair amount of drinking and smoking, but usually not to excess. A young man does get drunk with a young woman and later toasts with his teacher.</p>\\n</div></div></div> </div>\\n</div>\\n</div></div></div></div>]',\n",
       "  'slug': 'the-music-of-silence',\n",
       "  'title': 'The Music of Silence',\n",
       "  'what_is_the_story_raw': \"In THE MUSIC OF SILENCE, an Italian boy with failing vision finds solace in music. He discovers that he has a beautiful singing voice, but\\xa0then it changes with puberty, and he gives up on becoming an opera singer to study law. But eventually he returns to music and becomes Andrea Bocelli, one of the world's most successful opera performers. Toby Sebastian of Game of Thrones plays Bocelli; Luisa Ranieri and Jordi Mollà\\xa0play his parents, and Antonio Banderas co-stars as his teacher.\\xa0\\n\",\n",
       "  'what_parents_need_to_know_raw': '<div class=\"field field-name-field-parents-need-to-know field-type-text-long field-label-hidden\"><div class=\"field-items\"><div class=\"field-item even\"><p>Parents need to know that <em>The Music of Silence</em> is a biopic about internationally renowned singer Andrea Bocelli (played by Toby Sebastian as an adult), although he goes by the name Amos in the movie. The film is aimed at a kids-and-family audience, so while there\\'s some drinking, smoking, and sexuality, it\\'s all pretty mild. Characters make out (a young woman strips down to her bra) and are implied to have sex, but nothing beyond kissing is shown. And while several scenes take place in a piano bar (with the associated drinking and smoking), there\\'s only one scene where anyone overdoes it. Bocelli\\'s personal story -- despite losing his eyesight and struggling for many years to become a singer, he has gone on to sell more than 80 million records -- promotes perseverance.</p>\\n</div></div></div>'},\n",
       " {'age': 'age 16+',\n",
       "  'family_topics': \"Families can talk about how The Miseducation of Cameron Post depicts sex. Is there any judgment around sexual identity or gender? Does it matter that Cameron has more than one partner?\\n\\nWhat is the movie's ultimate message about sexual identity? Is the movie's ending hopeful? Downbeat? Mixed? If it's a mix of both, how does the movie achieve this?\\n\\nEven though the movie takes place in 1993, is it still relevant today? How so? How have things changed since then? (For example, now the Internet makes it much easier for kids who feel disconnected to find each other.)\\n\\nHow is teen drug use depicted? Is it glamorized? Are there consequences? Why does that matter?\\n\\nIf you've read the book, how does the movie compare? Which do you like better? Why?\\n\\n\",\n",
       "  'is_it_any_good': 'With an earthy, realistic tone, this timely drama is fairly straightforward; it\\'s geared toward the source novel\\'s YA fans/audience, but it\\'s patient and warmly sympathetic enough for others. Moretz carries much of The Miseducation of Cameron Post (which is based on Emily M. Danforth\\'s 2012 novel) with another fine, mature, wounded performance. She expresses both thoughtfulness and desire as Cameron faces an uncertain future. When she\\'s asked ridiculous questions (\"would you throw a parade for drug addicts?\") during therapy, she answers honestly. Sometimes she just doesn\\'t know the answers. Gallagher Jr. also gives a touching performance, putting on a happy face as he tries to be positive about his own repressed sexuality, though something is missing.\\nDr. March is arguably the movie\\'s weakest link. Ehle performs the role as an icy villainess; even the screenplay views her without much depth. But the nuances of the rest of the characters make up for it. Director/co-writer Desiree Akhavan (Appropriate Behaviour) starts the film with the characters at a disadvantage, as a church group warns the teens about their behavior and how they\\'ll spend the rest of their lives undoing the \"mistakes\" of their youth. That doesn\\'t leave much wiggle room. Yet in this atmosphere of fear, hate, and abandonment, Akhavan finds an ending much like that of The Graduate; it\\'s an escape, but one that\\'s filled with both hope and trepidation.\\n',\n",
       "  'movie_details_raw': '\\nMovie details\\n\\n\\nIn theaters: August 3, 2018\\nCast: Chloe Grace Moretz, Sasha Lane, John Gallagher, Jr.\\nDirector: Desiree Akhavan\\nStudio: FilmRise\\nGenre: Drama\\nTopics: Book Characters, Friendship, Misfits and Underdogs\\nRun time: 91 minutes\\nMPAA rating: NR\\n \\n\\nContinue reading\\nShow less\\n\\n\\n',\n",
       "  'movie_id': 1,\n",
       "  'one_line_description': 'Timely, effective YA-based tale about LGBTQ teens.',\n",
       "  'overall_rating': '4',\n",
       "  'parental_rating_and_spoilers_raw': '[<div class=\"field field-name-field-collection-content-grid field-type-field-collection field-label-hidden\"><div class=\"field-items\"><div class=\"field-item even\"><div class=\"field-collection-view clearfix view-mode-full\" id=\"content-grid-item-message\"><div about=\"/field-collection/field-collection-content-grid/6374661\" class=\"entity entity-field-collection-item field-collection-item-field-collection-content-grid clearfix\" typeof=\"\">\\n<div class=\"content\">\\n<div class=\"field field-name-field-content-grid-rating field-type-list-integer field-label-hidden\"><div class=\"field-items\"><div class=\"field-item even\"><div class=\"content-grid-rating content-grid-3 field_content_grid_rating field_collection_content_grid\"></div></div></div></div><div class=\"field field-name-field-content-grid-type field-type-list-text field-label-hidden field-content-grid-type message\"><div class=\"field-items\"><div class=\"field-item even\"><span class=\"sprite-cover\">Positive Messages</span></div></div></div><div class=\"field field-name-field-content-grid-rating-text field-type-text-long field-label-hidden\"><div class=\"field-items\"><div class=\"field-item even\"><p>Characters learn important things about themselves and being true to themselves. And the premise offers viewers plenty to think and talk about. Is the drive\\xa0to \"fix\" LGBTQ people based on a lack of understanding? Hate and fear? Something else?</p>\\n</div></div></div> </div>\\n</div>\\n</div></div><div class=\"field-item odd\"><div class=\"field-collection-view clearfix view-mode-full\" id=\"content-grid-item-role_model\"><div about=\"/field-collection/field-collection-content-grid/6374666\" class=\"entity entity-field-collection-item field-collection-item-field-collection-content-grid clearfix\" typeof=\"\">\\n<div class=\"content\">\\n<div class=\"field field-name-field-content-grid-rating field-type-list-integer field-label-hidden\"><div class=\"field-items\"><div class=\"field-item even\"><div class=\"content-grid-rating content-grid-2 field_content_grid_rating field_collection_content_grid\"></div></div></div></div><div class=\"field field-name-field-content-grid-type field-type-list-text field-label-hidden field-content-grid-type role_model\"><div class=\"field-items\"><div class=\"field-item even\"><span class=\"sprite-cover\">Positive Role Models &amp; Representations</span></div></div></div><div class=\"field field-name-field-content-grid-rating-text field-type-text-long field-label-hidden\"><div class=\"field-items\"><div class=\"field-item even\"><p>The characters are complex, all troubled in some way -- and many of them victims. But they do evolve/learn. And the main characters often behave badly, but they do face consequences. It\\'s fairly easy to identify with them.</p>\\n</div></div></div> </div>\\n</div>\\n</div></div><div class=\"field-item even\"><div class=\"field-collection-view clearfix view-mode-full\" id=\"content-grid-item-violence\"><div about=\"/field-collection/field-collection-content-grid/6374671\" class=\"entity entity-field-collection-item field-collection-item-field-collection-content-grid clearfix\" typeof=\"\">\\n<div class=\"content\">\\n<div class=\"field field-name-field-content-grid-rating field-type-list-integer field-label-hidden\"><div class=\"field-items\"><div class=\"field-item even\"><div class=\"content-grid-rating content-grid-2 field_content_grid_rating field_collection_content_grid\"></div></div></div></div><div class=\"field field-name-field-content-grid-type field-type-list-text field-label-hidden field-content-grid-type violence\"><div class=\"field-items\"><div class=\"field-item even\"><span class=\"sprite-cover\">Violence</span></div></div></div><div class=\"field field-name-field-content-grid-rating-text field-type-text-long field-label-hidden\"><div class=\"field-items\"><div class=\"field-item even\"><p>A teen boy acts out from a place of rage at a meeting. Blood on the floor. Arguing/tension. Reference to suicide. Spoken descriptions of violence.</p>\\n</div></div></div> </div>\\n</div>\\n</div></div><div class=\"field-item odd\"><div class=\"field-collection-view clearfix view-mode-full\" id=\"content-grid-item-sex\"><div about=\"/field-collection/field-collection-content-grid/6374676\" class=\"entity entity-field-collection-item field-collection-item-field-collection-content-grid clearfix\" typeof=\"\">\\n<div class=\"content\">\\n<div class=\"field field-name-field-content-grid-rating field-type-list-integer field-label-hidden\"><div class=\"field-items\"><div class=\"field-item even\"><div class=\"content-grid-rating content-grid-4 field_content_grid_rating field_collection_content_grid\"></div></div></div></div><div class=\"field field-name-field-content-grid-type field-type-list-text field-label-hidden field-content-grid-type sex\"><div class=\"field-items\"><div class=\"field-item even\"><span class=\"sprite-cover\">Sex</span></div></div></div><div class=\"field field-name-field-content-grid-rating-text field-type-text-long field-label-hidden\"><div class=\"field-items\"><div class=\"field-item even\"><p>Several scenes of passionate kissing, with groping, moaning, panting. Naked breast shown. Teens have sex under the covers, moaning. A teen masturbates in bed, under the covers. A teen dreams/fantasizes about kissing others. Sex talk.</p>\\n</div></div></div> </div>\\n</div>\\n</div></div><div class=\"field-item even\"><div class=\"field-collection-view clearfix view-mode-full\" id=\"content-grid-item-language\"><div about=\"/field-collection/field-collection-content-grid/6374681\" class=\"entity entity-field-collection-item field-collection-item-field-collection-content-grid clearfix\" typeof=\"\">\\n<div class=\"content\">\\n<div class=\"field field-name-field-content-grid-rating field-type-list-integer field-label-hidden\"><div class=\"field-items\"><div class=\"field-item even\"><div class=\"content-grid-rating content-grid-4 field_content_grid_rating field_collection_content_grid\"></div></div></div></div><div class=\"field field-name-field-content-grid-type field-type-list-text field-label-hidden field-content-grid-type language\"><div class=\"field-items\"><div class=\"field-item even\"><span class=\"sprite-cover\">Language</span></div></div></div><div class=\"field field-name-field-content-grid-rating-text field-type-text-long field-label-hidden\"><div class=\"field-items\"><div class=\"field-item even\"><p>Several uses of \"f--k,\" plus \"s--t,\" \"d--k,\" \"jerk off,\" \"dyke,\" \"God\" and \"oh my God\" (as an exclamation).</p>\\n</div></div></div> </div>\\n</div>\\n</div></div><div class=\"field-item odd\"><div class=\"field-collection-view clearfix view-mode-full\" id=\"content-grid-item-consumerism\"><div about=\"/field-collection/field-collection-content-grid/6374686\" class=\"entity entity-field-collection-item field-collection-item-field-collection-content-grid clearfix\" typeof=\"\">\\n<div class=\"content\">\\n<div class=\"field field-name-field-content-grid-rating field-type-list-integer field-label-hidden\"><div class=\"field-items\"><div class=\"field-item even\"><div class=\"content-grid-rating content-grid-0 field_content_grid_rating field_collection_content_grid\"></div></div></div></div><div class=\"field field-name-field-content-grid-type field-type-list-text field-label-hidden field-content-grid-type consumerism\"><div class=\"field-items\"><div class=\"field-item even\"><span class=\"sprite-cover\">Consumerism</span></div></div></div> </div>\\n</div>\\n</div></div><div class=\"field-item even\"><div class=\"field-collection-view clearfix view-mode-full field-collection-view-final\" id=\"content-grid-item-drugs\"><div about=\"/field-collection/field-collection-content-grid/6374691\" class=\"entity entity-field-collection-item field-collection-item-field-collection-content-grid clearfix\" typeof=\"\">\\n<div class=\"content\">\\n<div class=\"field field-name-field-content-grid-rating field-type-list-integer field-label-hidden\"><div class=\"field-items\"><div class=\"field-item even\"><div class=\"content-grid-rating content-grid-4 field_content_grid_rating field_collection_content_grid\"></div></div></div></div><div class=\"field field-name-field-content-grid-type field-type-list-text field-label-hidden field-content-grid-type drugs\"><div class=\"field-items\"><div class=\"field-item even\"><span class=\"sprite-cover\">Drinking, Drugs &amp; Smoking</span></div></div></div><div class=\"field field-name-field-content-grid-rating-text field-type-text-long field-label-hidden\"><div class=\"field-items\"><div class=\"field-item even\"><p>Teens regularly smoke pot. Some teens grow their own pot. Drug talk.</p>\\n</div></div></div> </div>\\n</div>\\n</div></div></div></div>]',\n",
       "  'slug': 'the-miseducation-of-cameron-post',\n",
       "  'title': 'The Miseducation of Cameron Post',\n",
       "  'what_is_the_story_raw': 'In THE MISEDUCATION OF CAMERON POST, it\\'s 1993, and Cameron Post (Chloe Grace Moretz) is caught making out with Coley Taylor (Quinn Shephard) in the back of a parked car during prom. Her Aunt Ruth (Kerry Butler), who raised Cameron after the death of her parents, is shocked by Cameron\\'s same-sex attraction and immediately ships the girl off to a camp called God\\'s Promise to \"convert\" her back to the straight and narrow. The camp is led by Reverend Rick (John Gallagher Jr.), who claims to have formerly been gay, and his sister, Dr. Lydia March (Jennifer Ehle), who runs therapy sessions with the camp\\'s attendees. While Cameron goes through the motions of the camp\\'s activities and fantasizes about Coley, she meets the free-spirited Jane (Sasha Lane) and Native American Adam Red Eagle (Forrest Goodluck), bonding with them over their secret stash of pot. But when things take a turn for the worse, Cameron makes a desperate decision.\\n',\n",
       "  'what_parents_need_to_know_raw': '<div class=\"field field-name-field-parents-need-to-know field-type-text-long field-label-hidden\"><div class=\"field-items\"><div class=\"field-item even\"><p>Parents need to know that <em>The Miseducation of Cameron Post</em> is a drama based on <a href=\"/book-reviews/the-miseducation-of-cameron-post\">Emily M. Danforth\\'s YA novel</a> about a teen girl who, in 1993, is sent to a gay conversion therapy camp. Expect strong sexual material: Cameron (<a href=\"/search/Chloe%20Grace%20Moretz\">Chloe Grace Moretz</a>) passionately kisses a girl, has sex with another girl, and fantasizes about kissing other women. Viewers will hear moaning/other sex sounds, see implied masturbation, and get a glimpse of a naked breast. Opposite-sex couples also kiss briefly. Language includes several uses of \"f--k,\" plus \"s--t,\" \"d--k,\" and more. Teens regularly smoke pot, and some teens are shown growing it. A teen boy rages at a meeting, ranting and yelling; some blood is shown. There\\'s also vivid description of violence and a reference to suicide, plus arguing and general tension. Ultimately the movie is timely, effective, and sympathetic and will give teens and adults alike plenty to discuss.</p>\\n</div></div></div>'}]"
      ]
     },
     "execution_count": 5,
     "metadata": {},
     "output_type": "execute_result"
    }
   ],
   "source": [
    "# Run cell if yoU want to see movies_features of first 3 movies\n",
    "movies_features[0:2]"
   ]
  },
  {
   "cell_type": "markdown",
   "metadata": {},
   "source": [
    "### Identify and Eliminate Duplicate Movies\n",
    "#### Data placed into a pandas DataFrame to facilitate efficient examination of features and identification of duplicate movies. Of the 8778 movies in our collection, 8625 are unique (98.3%). 153 movies dropped."
   ]
  },
  {
   "cell_type": "code",
   "execution_count": 6,
   "metadata": {},
   "outputs": [],
   "source": [
    "df = pd.DataFrame(movies_features)"
   ]
  },
  {
   "cell_type": "code",
   "execution_count": 7,
   "metadata": {},
   "outputs": [
    {
     "data": {
      "text/html": [
       "<div>\n",
       "<style scoped>\n",
       "    .dataframe tbody tr th:only-of-type {\n",
       "        vertical-align: middle;\n",
       "    }\n",
       "\n",
       "    .dataframe tbody tr th {\n",
       "        vertical-align: top;\n",
       "    }\n",
       "\n",
       "    .dataframe thead th {\n",
       "        text-align: right;\n",
       "    }\n",
       "</style>\n",
       "<table border=\"1\" class=\"dataframe\">\n",
       "  <thead>\n",
       "    <tr style=\"text-align: right;\">\n",
       "      <th></th>\n",
       "      <th>age</th>\n",
       "      <th>family_topics</th>\n",
       "      <th>is_it_any_good</th>\n",
       "      <th>movie_details_raw</th>\n",
       "      <th>movie_id</th>\n",
       "      <th>one_line_description</th>\n",
       "      <th>overall_rating</th>\n",
       "      <th>parental_rating_and_spoilers_raw</th>\n",
       "      <th>slug</th>\n",
       "      <th>title</th>\n",
       "      <th>what_is_the_story_raw</th>\n",
       "      <th>what_parents_need_to_know_raw</th>\n",
       "    </tr>\n",
       "  </thead>\n",
       "  <tbody>\n",
       "    <tr>\n",
       "      <th>0</th>\n",
       "      <td>age 10+</td>\n",
       "      <td>Families can talk about how The Music of Silen...</td>\n",
       "      <td>Nearly everything about this biopic (which was...</td>\n",
       "      <td>\\nMovie details\\n\\n\\nIn theaters: February 2, ...</td>\n",
       "      <td>0</td>\n",
       "      <td>Mild Andrea Bocelli biopic lacks momentum.</td>\n",
       "      <td>2</td>\n",
       "      <td>[&lt;div class=\"field field-name-field-collection...</td>\n",
       "      <td>the-music-of-silence</td>\n",
       "      <td>The Music of Silence</td>\n",
       "      <td>In THE MUSIC OF SILENCE, an Italian boy with f...</td>\n",
       "      <td>&lt;div class=\"field field-name-field-parents-nee...</td>\n",
       "    </tr>\n",
       "    <tr>\n",
       "      <th>1</th>\n",
       "      <td>age 16+</td>\n",
       "      <td>Families can talk about how The Miseducation o...</td>\n",
       "      <td>With an earthy, realistic tone, this timely dr...</td>\n",
       "      <td>\\nMovie details\\n\\n\\nIn theaters: August 3, 20...</td>\n",
       "      <td>1</td>\n",
       "      <td>Timely, effective YA-based tale about LGBTQ te...</td>\n",
       "      <td>4</td>\n",
       "      <td>[&lt;div class=\"field field-name-field-collection...</td>\n",
       "      <td>the-miseducation-of-cameron-post</td>\n",
       "      <td>The Miseducation of Cameron Post</td>\n",
       "      <td>In THE MISEDUCATION OF CAMERON POST, it's 1993...</td>\n",
       "      <td>&lt;div class=\"field field-name-field-parents-nee...</td>\n",
       "    </tr>\n",
       "    <tr>\n",
       "      <th>2</th>\n",
       "      <td>age 16+</td>\n",
       "      <td>Families can talk about whether The Spy Who Du...</td>\n",
       "      <td>This often hilarious action comedy is a great ...</td>\n",
       "      <td>\\nMovie details\\n\\n\\nIn theaters: August 3, 20...</td>\n",
       "      <td>2</td>\n",
       "      <td>Bullets and profanity fly in feminist friendsh...</td>\n",
       "      <td>4</td>\n",
       "      <td>[&lt;div class=\"field field-name-field-collection...</td>\n",
       "      <td>the-spy-who-dumped-me</td>\n",
       "      <td>The Spy Who Dumped Me</td>\n",
       "      <td>In THE SPY WHO DUMPED ME, Audrey (Mila Kunis) ...</td>\n",
       "      <td>&lt;div class=\"field field-name-field-parents-nee...</td>\n",
       "    </tr>\n",
       "    <tr>\n",
       "      <th>3</th>\n",
       "      <td>age 13+</td>\n",
       "      <td>Families can talk about The Darkest Minds and ...</td>\n",
       "      <td>Despite starring a YA-film veteran (Stenberg) ...</td>\n",
       "      <td>\\nMovie details\\n\\n\\nIn theaters: August 3, 20...</td>\n",
       "      <td>3</td>\n",
       "      <td>Skilled actors can't save derivative, violent ...</td>\n",
       "      <td>2</td>\n",
       "      <td>[&lt;div class=\"field field-name-field-collection...</td>\n",
       "      <td>the-darkest-minds</td>\n",
       "      <td>The Darkest Minds</td>\n",
       "      <td>THE DARKEST MINDS is based on the first book i...</td>\n",
       "      <td>&lt;div class=\"field field-name-field-parents-nee...</td>\n",
       "    </tr>\n",
       "    <tr>\n",
       "      <th>4</th>\n",
       "      <td>age 15+</td>\n",
       "      <td>Families can talk about the elements that make...</td>\n",
       "      <td>Appealing lead performances, especially by Kri...</td>\n",
       "      <td>\\nMovie details\\n\\n\\nOn DVD or streaming: Augu...</td>\n",
       "      <td>4</td>\n",
       "      <td>Goodhearted but predictable father-daughter co...</td>\n",
       "      <td>2</td>\n",
       "      <td>[&lt;div class=\"field field-name-field-collection...</td>\n",
       "      <td>like-father</td>\n",
       "      <td>Like Father</td>\n",
       "      <td>In LIKE FATHER, Rachel Hamilton (Kristen Bell)...</td>\n",
       "      <td>&lt;div class=\"field field-name-field-parents-nee...</td>\n",
       "    </tr>\n",
       "  </tbody>\n",
       "</table>\n",
       "</div>"
      ],
      "text/plain": [
       "       age                                      family_topics  \\\n",
       "0  age 10+  Families can talk about how The Music of Silen...   \n",
       "1  age 16+  Families can talk about how The Miseducation o...   \n",
       "2  age 16+  Families can talk about whether The Spy Who Du...   \n",
       "3  age 13+  Families can talk about The Darkest Minds and ...   \n",
       "4  age 15+  Families can talk about the elements that make...   \n",
       "\n",
       "                                      is_it_any_good  \\\n",
       "0  Nearly everything about this biopic (which was...   \n",
       "1  With an earthy, realistic tone, this timely dr...   \n",
       "2  This often hilarious action comedy is a great ...   \n",
       "3  Despite starring a YA-film veteran (Stenberg) ...   \n",
       "4  Appealing lead performances, especially by Kri...   \n",
       "\n",
       "                                   movie_details_raw  movie_id  \\\n",
       "0  \\nMovie details\\n\\n\\nIn theaters: February 2, ...         0   \n",
       "1  \\nMovie details\\n\\n\\nIn theaters: August 3, 20...         1   \n",
       "2  \\nMovie details\\n\\n\\nIn theaters: August 3, 20...         2   \n",
       "3  \\nMovie details\\n\\n\\nIn theaters: August 3, 20...         3   \n",
       "4  \\nMovie details\\n\\n\\nOn DVD or streaming: Augu...         4   \n",
       "\n",
       "                                one_line_description overall_rating  \\\n",
       "0         Mild Andrea Bocelli biopic lacks momentum.              2   \n",
       "1  Timely, effective YA-based tale about LGBTQ te...              4   \n",
       "2  Bullets and profanity fly in feminist friendsh...              4   \n",
       "3  Skilled actors can't save derivative, violent ...              2   \n",
       "4  Goodhearted but predictable father-daughter co...              2   \n",
       "\n",
       "                    parental_rating_and_spoilers_raw  \\\n",
       "0  [<div class=\"field field-name-field-collection...   \n",
       "1  [<div class=\"field field-name-field-collection...   \n",
       "2  [<div class=\"field field-name-field-collection...   \n",
       "3  [<div class=\"field field-name-field-collection...   \n",
       "4  [<div class=\"field field-name-field-collection...   \n",
       "\n",
       "                               slug                             title  \\\n",
       "0              the-music-of-silence              The Music of Silence   \n",
       "1  the-miseducation-of-cameron-post  The Miseducation of Cameron Post   \n",
       "2             the-spy-who-dumped-me             The Spy Who Dumped Me   \n",
       "3                 the-darkest-minds                 The Darkest Minds   \n",
       "4                       like-father                       Like Father   \n",
       "\n",
       "                               what_is_the_story_raw  \\\n",
       "0  In THE MUSIC OF SILENCE, an Italian boy with f...   \n",
       "1  In THE MISEDUCATION OF CAMERON POST, it's 1993...   \n",
       "2  In THE SPY WHO DUMPED ME, Audrey (Mila Kunis) ...   \n",
       "3  THE DARKEST MINDS is based on the first book i...   \n",
       "4  In LIKE FATHER, Rachel Hamilton (Kristen Bell)...   \n",
       "\n",
       "                       what_parents_need_to_know_raw  \n",
       "0  <div class=\"field field-name-field-parents-nee...  \n",
       "1  <div class=\"field field-name-field-parents-nee...  \n",
       "2  <div class=\"field field-name-field-parents-nee...  \n",
       "3  <div class=\"field field-name-field-parents-nee...  \n",
       "4  <div class=\"field field-name-field-parents-nee...  "
      ]
     },
     "execution_count": 7,
     "metadata": {},
     "output_type": "execute_result"
    }
   ],
   "source": [
    "df.head()"
   ]
  },
  {
   "cell_type": "code",
   "execution_count": 8,
   "metadata": {},
   "outputs": [
    {
     "data": {
      "text/plain": [
       "8765"
      ]
     },
     "execution_count": 8,
     "metadata": {},
     "output_type": "execute_result"
    }
   ],
   "source": [
    "len(df)"
   ]
  },
  {
   "cell_type": "code",
   "execution_count": 9,
   "metadata": {},
   "outputs": [
    {
     "data": {
      "text/plain": [
       "8714"
      ]
     },
     "execution_count": 9,
     "metadata": {},
     "output_type": "execute_result"
    }
   ],
   "source": [
    "len(df.title.unique())"
   ]
  },
  {
   "cell_type": "code",
   "execution_count": 10,
   "metadata": {},
   "outputs": [
    {
     "data": {
      "text/plain": [
       "0.9941814033086138"
      ]
     },
     "execution_count": 10,
     "metadata": {},
     "output_type": "execute_result"
    }
   ],
   "source": [
    "# 99.4% of movies are unique.\n",
    "8714/8765"
   ]
  },
  {
   "cell_type": "code",
   "execution_count": 11,
   "metadata": {},
   "outputs": [],
   "source": [
    "df.drop_duplicates('title', inplace=True)"
   ]
  },
  {
   "cell_type": "code",
   "execution_count": 12,
   "metadata": {},
   "outputs": [
    {
     "data": {
      "text/plain": [
       "8714"
      ]
     },
     "execution_count": 12,
     "metadata": {},
     "output_type": "execute_result"
    }
   ],
   "source": [
    "len(df) "
   ]
  },
  {
   "cell_type": "code",
   "execution_count": 13,
   "metadata": {},
   "outputs": [],
   "source": [
    "movies_features = df.to_dict('records')"
   ]
  },
  {
   "cell_type": "code",
   "execution_count": 14,
   "metadata": {},
   "outputs": [
    {
     "data": {
      "text/plain": [
       "[{'age': 'age 10+',\n",
       "  'family_topics': 'Families can talk about how The Music of Silence portrays Bocelli\\'s blindness. How does it compare to other representations of disabilities you\\'ve seen on-screen? Does it feel realistic? Do you think it gave a real picture of Bocelli\\'s personal struggle?\\xa0\\n\\nHow accurate do you think the movie is to actual events overall? Why might filmmakers decide to change the facts in a movie that\\'s based on real life?\\n\\nHow does Bocelli exhibit courage and perseverance? Why are those important character strengths?\\n\\nOne of the most important aspects of any drama is conflict. What or who causes the conflict in this film? Is there an antagonist? What is the struggle?\\xa0\\n\\nAre you an opera fan? Why or why not? How can you distinguish among operatically trained voices to tell which are the \"most beautiful\"? Are your standards for opera singers different from your standards for pop singers?\\xa0\\n\\n',\n",
       "  'is_it_any_good': 'Nearly everything about this biopic (which was created in collaboration with its subject, Bocelli) feels scrubbed clean. The opening scene, in which an Italian father abandons his work when he learns that his son has been born and then runs through the farm yelling, \"A son! A son!\" would seem laughably stereotypical if Bocelli hadn\\'t signed off on the whole thing. The Music of Silence has a compelling story at its center: A boy with failing eyesight, later completely blind, goes on to become one of the world\\'s most popular opera singers. But the film, directed by Michael Radford, meanders from vignette to vignette, never building momentum or really making us feel Bocelli\\'s struggle. If the film is to be believed, Bocelli\\xa0(here called \"Amos\" and with a different last name, for reasons that are never explained) was so discouraged by his voice change at puberty that he gave up on his dream -- he never sought lessons or worked in any way to develop his gift until much later. But his portrait lacks personality. There\\'s no attempt to put us inside his fading vision.\\xa0We don\\'t have a handle on who he really is, what drives him, or how he interacted with others. This is surprising, because Radford has made some fine films, including the gorgeous Il Postino and the sadly underrated 1984. The Music of Silence, by contrast, has no discernible style. Its best moments are in Bocelli/Amos\\' family\\'s unwavering support of him, as when his uncle throws a drink in a critic\\'s face or when another relative pointedly slow-claps at a rival\\'s performance. Squabbling brothers punching each other -- hard -- in the arm are welcome windows into characters\\' humanity, which are too few and far between in this film.\\xa0\\nThe performances by Bocelli/Amos\\' family members are fine, especially from Ranieri as his mother and Mollà as his father. Mollà\\'s revelation of the depth of his emotion when his character is leaving his son at a school for the blind is the film\\'s most effective moment. But as the grown Amos, Sebastian (who played Trystane Martell on Game of Thrones) doesn\\'t exactly drive the action. And the script doesn\\'t help, providing Amos with little definition. Because we don\\'t see him particularly trying to pursue his (apparent) dream of singing opera until late in the film, the exercise feels devoid of conflict -- as if Amos\\' own inertia was his main obstacle. Even a late appearance by Banderas as Amos\\' life-changing teacher doesn\\'t significantly lift the film\\'s energy. Bocelli\\xa0fans will be sure to catch this one, but for most viewers, Music will feel aimless and too polite.\\n',\n",
       "  'movie_details_raw': '\\nMovie details\\n\\n\\nIn theaters: February 2, 2018\\nOn DVD or streaming: August 7, 2018\\nCast: Antonio Banderas, Toby Sebastian, Jordi Molla\\nDirector: Michael Radford\\nStudio: AMBI Distribution\\nGenre: Drama\\nTopics: Music and Sing-Along\\nRun time: 127 minutes\\nMPAA rating: NR\\n \\n\\nContinue reading\\nShow less\\n\\n\\n',\n",
       "  'movie_id': 0,\n",
       "  'one_line_description': 'Mild Andrea Bocelli biopic lacks momentum.',\n",
       "  'overall_rating': '2',\n",
       "  'parental_rating_and_spoilers_raw': '[<div class=\"field field-name-field-collection-content-grid field-type-field-collection field-label-hidden\"><div class=\"field-items\"><div class=\"field-item even\"><div class=\"field-collection-view clearfix view-mode-full\" id=\"content-grid-item-message\"><div about=\"/field-collection/field-collection-content-grid/5953371\" class=\"entity entity-field-collection-item field-collection-item-field-collection-content-grid clearfix\" typeof=\"\">\\n<div class=\"content\">\\n<div class=\"field field-name-field-content-grid-rating field-type-list-integer field-label-hidden\"><div class=\"field-items\"><div class=\"field-item even\"><div class=\"content-grid-rating content-grid-4 field_content_grid_rating field_collection_content_grid\"></div></div></div></div><div class=\"field field-name-field-content-grid-type field-type-list-text field-label-hidden field-content-grid-type message\"><div class=\"field-items\"><div class=\"field-item even\"><span class=\"sprite-cover\">Positive Messages</span></div></div></div><div class=\"field field-name-field-content-grid-rating-text field-type-text-long field-label-hidden\"><div class=\"field-items\"><div class=\"field-item even\"><p>Promotes courage and perseverance.</p>\\n</div></div></div> </div>\\n</div>\\n</div></div><div class=\"field-item odd\"><div class=\"field-collection-view clearfix view-mode-full\" id=\"content-grid-item-role_model\"><div about=\"/field-collection/field-collection-content-grid/5955261\" class=\"entity entity-field-collection-item field-collection-item-field-collection-content-grid clearfix\" typeof=\"\">\\n<div class=\"content\">\\n<div class=\"field field-name-field-content-grid-rating field-type-list-integer field-label-hidden\"><div class=\"field-items\"><div class=\"field-item even\"><div class=\"content-grid-rating content-grid-3 field_content_grid_rating field_collection_content_grid\"></div></div></div></div><div class=\"field field-name-field-content-grid-type field-type-list-text field-label-hidden field-content-grid-type role_model\"><div class=\"field-items\"><div class=\"field-item even\"><span class=\"sprite-cover\">Positive Role Models &amp; Representations</span></div></div></div><div class=\"field field-name-field-content-grid-rating-text field-type-text-long field-label-hidden\"><div class=\"field-items\"><div class=\"field-item even\"><p>A boy with failing eyesight, loved and supported by his family, becomes an international singing superstar. Also passes the Italian bar to qualify as a lawyer (though we never see him work as one). Viewers see him work toward his goal, though not until rather late in the story. It\\'s positive that he wasn\\'t stopped by his vision loss, but steps taken to reach goal are a bit murky.\\xa0</p>\\n</div></div></div> </div>\\n</div>\\n</div></div><div class=\"field-item even\"><div class=\"field-collection-view clearfix view-mode-full\" id=\"content-grid-item-violence\"><div about=\"/field-collection/field-collection-content-grid/5955266\" class=\"entity entity-field-collection-item field-collection-item-field-collection-content-grid clearfix\" typeof=\"\">\\n<div class=\"content\">\\n<div class=\"field field-name-field-content-grid-rating field-type-list-integer field-label-hidden\"><div class=\"field-items\"><div class=\"field-item even\"><div class=\"content-grid-rating content-grid-0 field_content_grid_rating field_collection_content_grid\"></div></div></div></div><div class=\"field field-name-field-content-grid-type field-type-list-text field-label-hidden field-content-grid-type violence\"><div class=\"field-items\"><div class=\"field-item even\"><span class=\"sprite-cover\">Violence</span></div></div></div><div class=\"field field-name-field-content-grid-rating-text field-type-text-long field-label-hidden\"><div class=\"field-items\"><div class=\"field-item even\"><p>A boy is accidentally hit in the eye with a soccer ball, hastening his blindness. Not graphic.</p>\\n</div></div></div> </div>\\n</div>\\n</div></div><div class=\"field-item odd\"><div class=\"field-collection-view clearfix view-mode-full\" id=\"content-grid-item-sex\"><div about=\"/field-collection/field-collection-content-grid/5955271\" class=\"entity entity-field-collection-item field-collection-item-field-collection-content-grid clearfix\" typeof=\"\">\\n<div class=\"content\">\\n<div class=\"field field-name-field-content-grid-rating field-type-list-integer field-label-hidden\"><div class=\"field-items\"><div class=\"field-item even\"><div class=\"content-grid-rating content-grid-2 field_content_grid_rating field_collection_content_grid\"></div></div></div></div><div class=\"field field-name-field-content-grid-type field-type-list-text field-label-hidden field-content-grid-type sex\"><div class=\"field-items\"><div class=\"field-item even\"><span class=\"sprite-cover\">Sex</span></div></div></div><div class=\"field field-name-field-content-grid-rating-text field-type-text-long field-label-hidden\"><div class=\"field-items\"><div class=\"field-item even\"><p>During a brief make-out scene, a young couple kiss, and a girl strips to her bra. In another make-out scene, a young woman takes a young man into a room where other teens are kissing; it\\'s implied that the pair has sex, but nothing graphic is shown before the camera cuts away.</p>\\n</div></div></div> </div>\\n</div>\\n</div></div><div class=\"field-item even\"><div class=\"field-collection-view clearfix view-mode-full field-collection-view-final\" id=\"content-grid-item-language\"><div about=\"/field-collection/field-collection-content-grid/5955286\" class=\"entity entity-field-collection-item field-collection-item-field-collection-content-grid clearfix\" typeof=\"\">\\n<div class=\"content\">\\n<div class=\"field field-name-field-content-grid-rating field-type-list-integer field-label-hidden\"><div class=\"field-items\"><div class=\"field-item even\"><div class=\"content-grid-rating content-grid-0 field_content_grid_rating field_collection_content_grid\"></div></div></div></div><div class=\"field field-name-field-content-grid-type field-type-list-text field-label-hidden field-content-grid-type language\"><div class=\"field-items\"><div class=\"field-item even\"><span class=\"sprite-cover\">Language</span></div></div></div> </div>\\n</div>\\n</div></div><div class=\"field-item odd\"><div class=\"field-collection-view clearfix view-mode-full\" id=\"content-grid-item-consumerism\"><div about=\"/field-collection/field-collection-content-grid/5955276\" class=\"entity entity-field-collection-item field-collection-item-field-collection-content-grid clearfix\" typeof=\"\">\\n<div class=\"content\">\\n<div class=\"field field-name-field-content-grid-rating field-type-list-integer field-label-hidden\"><div class=\"field-items\"><div class=\"field-item even\"><div class=\"content-grid-rating content-grid-0 field_content_grid_rating field_collection_content_grid\"></div></div></div></div><div class=\"field field-name-field-content-grid-type field-type-list-text field-label-hidden field-content-grid-type consumerism\"><div class=\"field-items\"><div class=\"field-item even\"><span class=\"sprite-cover\">Consumerism</span></div></div></div> </div>\\n</div>\\n</div></div><div class=\"field-item even\"><div class=\"field-collection-view clearfix view-mode-full\" id=\"content-grid-item-drugs\"><div about=\"/field-collection/field-collection-content-grid/5955281\" class=\"entity entity-field-collection-item field-collection-item-field-collection-content-grid clearfix\" typeof=\"\">\\n<div class=\"content\">\\n<div class=\"field field-name-field-content-grid-rating field-type-list-integer field-label-hidden\"><div class=\"field-items\"><div class=\"field-item even\"><div class=\"content-grid-rating content-grid-3 field_content_grid_rating field_collection_content_grid\"></div></div></div></div><div class=\"field field-name-field-content-grid-type field-type-list-text field-label-hidden field-content-grid-type drugs\"><div class=\"field-items\"><div class=\"field-item even\"><span class=\"sprite-cover\">Drinking, Drugs &amp; Smoking</span></div></div></div><div class=\"field field-name-field-content-grid-rating-text field-type-text-long field-label-hidden\"><div class=\"field-items\"><div class=\"field-item even\"><p>Many scenes take place in a piano bar, so there\\'s a fair amount of drinking and smoking, but usually not to excess. A young man does get drunk with a young woman and later toasts with his teacher.</p>\\n</div></div></div> </div>\\n</div>\\n</div></div></div></div>]',\n",
       "  'slug': 'the-music-of-silence',\n",
       "  'title': 'The Music of Silence',\n",
       "  'what_is_the_story_raw': \"In THE MUSIC OF SILENCE, an Italian boy with failing vision finds solace in music. He discovers that he has a beautiful singing voice, but\\xa0then it changes with puberty, and he gives up on becoming an opera singer to study law. But eventually he returns to music and becomes Andrea Bocelli, one of the world's most successful opera performers. Toby Sebastian of Game of Thrones plays Bocelli; Luisa Ranieri and Jordi Mollà\\xa0play his parents, and Antonio Banderas co-stars as his teacher.\\xa0\\n\",\n",
       "  'what_parents_need_to_know_raw': '<div class=\"field field-name-field-parents-need-to-know field-type-text-long field-label-hidden\"><div class=\"field-items\"><div class=\"field-item even\"><p>Parents need to know that <em>The Music of Silence</em> is a biopic about internationally renowned singer Andrea Bocelli (played by Toby Sebastian as an adult), although he goes by the name Amos in the movie. The film is aimed at a kids-and-family audience, so while there\\'s some drinking, smoking, and sexuality, it\\'s all pretty mild. Characters make out (a young woman strips down to her bra) and are implied to have sex, but nothing beyond kissing is shown. And while several scenes take place in a piano bar (with the associated drinking and smoking), there\\'s only one scene where anyone overdoes it. Bocelli\\'s personal story -- despite losing his eyesight and struggling for many years to become a singer, he has gone on to sell more than 80 million records -- promotes perseverance.</p>\\n</div></div></div>'},\n",
       " {'age': 'age 16+',\n",
       "  'family_topics': \"Families can talk about how The Miseducation of Cameron Post depicts sex. Is there any judgment around sexual identity or gender? Does it matter that Cameron has more than one partner?\\n\\nWhat is the movie's ultimate message about sexual identity? Is the movie's ending hopeful? Downbeat? Mixed? If it's a mix of both, how does the movie achieve this?\\n\\nEven though the movie takes place in 1993, is it still relevant today? How so? How have things changed since then? (For example, now the Internet makes it much easier for kids who feel disconnected to find each other.)\\n\\nHow is teen drug use depicted? Is it glamorized? Are there consequences? Why does that matter?\\n\\nIf you've read the book, how does the movie compare? Which do you like better? Why?\\n\\n\",\n",
       "  'is_it_any_good': 'With an earthy, realistic tone, this timely drama is fairly straightforward; it\\'s geared toward the source novel\\'s YA fans/audience, but it\\'s patient and warmly sympathetic enough for others. Moretz carries much of The Miseducation of Cameron Post (which is based on Emily M. Danforth\\'s 2012 novel) with another fine, mature, wounded performance. She expresses both thoughtfulness and desire as Cameron faces an uncertain future. When she\\'s asked ridiculous questions (\"would you throw a parade for drug addicts?\") during therapy, she answers honestly. Sometimes she just doesn\\'t know the answers. Gallagher Jr. also gives a touching performance, putting on a happy face as he tries to be positive about his own repressed sexuality, though something is missing.\\nDr. March is arguably the movie\\'s weakest link. Ehle performs the role as an icy villainess; even the screenplay views her without much depth. But the nuances of the rest of the characters make up for it. Director/co-writer Desiree Akhavan (Appropriate Behaviour) starts the film with the characters at a disadvantage, as a church group warns the teens about their behavior and how they\\'ll spend the rest of their lives undoing the \"mistakes\" of their youth. That doesn\\'t leave much wiggle room. Yet in this atmosphere of fear, hate, and abandonment, Akhavan finds an ending much like that of The Graduate; it\\'s an escape, but one that\\'s filled with both hope and trepidation.\\n',\n",
       "  'movie_details_raw': '\\nMovie details\\n\\n\\nIn theaters: August 3, 2018\\nCast: Chloe Grace Moretz, Sasha Lane, John Gallagher, Jr.\\nDirector: Desiree Akhavan\\nStudio: FilmRise\\nGenre: Drama\\nTopics: Book Characters, Friendship, Misfits and Underdogs\\nRun time: 91 minutes\\nMPAA rating: NR\\n \\n\\nContinue reading\\nShow less\\n\\n\\n',\n",
       "  'movie_id': 1,\n",
       "  'one_line_description': 'Timely, effective YA-based tale about LGBTQ teens.',\n",
       "  'overall_rating': '4',\n",
       "  'parental_rating_and_spoilers_raw': '[<div class=\"field field-name-field-collection-content-grid field-type-field-collection field-label-hidden\"><div class=\"field-items\"><div class=\"field-item even\"><div class=\"field-collection-view clearfix view-mode-full\" id=\"content-grid-item-message\"><div about=\"/field-collection/field-collection-content-grid/6374661\" class=\"entity entity-field-collection-item field-collection-item-field-collection-content-grid clearfix\" typeof=\"\">\\n<div class=\"content\">\\n<div class=\"field field-name-field-content-grid-rating field-type-list-integer field-label-hidden\"><div class=\"field-items\"><div class=\"field-item even\"><div class=\"content-grid-rating content-grid-3 field_content_grid_rating field_collection_content_grid\"></div></div></div></div><div class=\"field field-name-field-content-grid-type field-type-list-text field-label-hidden field-content-grid-type message\"><div class=\"field-items\"><div class=\"field-item even\"><span class=\"sprite-cover\">Positive Messages</span></div></div></div><div class=\"field field-name-field-content-grid-rating-text field-type-text-long field-label-hidden\"><div class=\"field-items\"><div class=\"field-item even\"><p>Characters learn important things about themselves and being true to themselves. And the premise offers viewers plenty to think and talk about. Is the drive\\xa0to \"fix\" LGBTQ people based on a lack of understanding? Hate and fear? Something else?</p>\\n</div></div></div> </div>\\n</div>\\n</div></div><div class=\"field-item odd\"><div class=\"field-collection-view clearfix view-mode-full\" id=\"content-grid-item-role_model\"><div about=\"/field-collection/field-collection-content-grid/6374666\" class=\"entity entity-field-collection-item field-collection-item-field-collection-content-grid clearfix\" typeof=\"\">\\n<div class=\"content\">\\n<div class=\"field field-name-field-content-grid-rating field-type-list-integer field-label-hidden\"><div class=\"field-items\"><div class=\"field-item even\"><div class=\"content-grid-rating content-grid-2 field_content_grid_rating field_collection_content_grid\"></div></div></div></div><div class=\"field field-name-field-content-grid-type field-type-list-text field-label-hidden field-content-grid-type role_model\"><div class=\"field-items\"><div class=\"field-item even\"><span class=\"sprite-cover\">Positive Role Models &amp; Representations</span></div></div></div><div class=\"field field-name-field-content-grid-rating-text field-type-text-long field-label-hidden\"><div class=\"field-items\"><div class=\"field-item even\"><p>The characters are complex, all troubled in some way -- and many of them victims. But they do evolve/learn. And the main characters often behave badly, but they do face consequences. It\\'s fairly easy to identify with them.</p>\\n</div></div></div> </div>\\n</div>\\n</div></div><div class=\"field-item even\"><div class=\"field-collection-view clearfix view-mode-full\" id=\"content-grid-item-violence\"><div about=\"/field-collection/field-collection-content-grid/6374671\" class=\"entity entity-field-collection-item field-collection-item-field-collection-content-grid clearfix\" typeof=\"\">\\n<div class=\"content\">\\n<div class=\"field field-name-field-content-grid-rating field-type-list-integer field-label-hidden\"><div class=\"field-items\"><div class=\"field-item even\"><div class=\"content-grid-rating content-grid-2 field_content_grid_rating field_collection_content_grid\"></div></div></div></div><div class=\"field field-name-field-content-grid-type field-type-list-text field-label-hidden field-content-grid-type violence\"><div class=\"field-items\"><div class=\"field-item even\"><span class=\"sprite-cover\">Violence</span></div></div></div><div class=\"field field-name-field-content-grid-rating-text field-type-text-long field-label-hidden\"><div class=\"field-items\"><div class=\"field-item even\"><p>A teen boy acts out from a place of rage at a meeting. Blood on the floor. Arguing/tension. Reference to suicide. Spoken descriptions of violence.</p>\\n</div></div></div> </div>\\n</div>\\n</div></div><div class=\"field-item odd\"><div class=\"field-collection-view clearfix view-mode-full\" id=\"content-grid-item-sex\"><div about=\"/field-collection/field-collection-content-grid/6374676\" class=\"entity entity-field-collection-item field-collection-item-field-collection-content-grid clearfix\" typeof=\"\">\\n<div class=\"content\">\\n<div class=\"field field-name-field-content-grid-rating field-type-list-integer field-label-hidden\"><div class=\"field-items\"><div class=\"field-item even\"><div class=\"content-grid-rating content-grid-4 field_content_grid_rating field_collection_content_grid\"></div></div></div></div><div class=\"field field-name-field-content-grid-type field-type-list-text field-label-hidden field-content-grid-type sex\"><div class=\"field-items\"><div class=\"field-item even\"><span class=\"sprite-cover\">Sex</span></div></div></div><div class=\"field field-name-field-content-grid-rating-text field-type-text-long field-label-hidden\"><div class=\"field-items\"><div class=\"field-item even\"><p>Several scenes of passionate kissing, with groping, moaning, panting. Naked breast shown. Teens have sex under the covers, moaning. A teen masturbates in bed, under the covers. A teen dreams/fantasizes about kissing others. Sex talk.</p>\\n</div></div></div> </div>\\n</div>\\n</div></div><div class=\"field-item even\"><div class=\"field-collection-view clearfix view-mode-full\" id=\"content-grid-item-language\"><div about=\"/field-collection/field-collection-content-grid/6374681\" class=\"entity entity-field-collection-item field-collection-item-field-collection-content-grid clearfix\" typeof=\"\">\\n<div class=\"content\">\\n<div class=\"field field-name-field-content-grid-rating field-type-list-integer field-label-hidden\"><div class=\"field-items\"><div class=\"field-item even\"><div class=\"content-grid-rating content-grid-4 field_content_grid_rating field_collection_content_grid\"></div></div></div></div><div class=\"field field-name-field-content-grid-type field-type-list-text field-label-hidden field-content-grid-type language\"><div class=\"field-items\"><div class=\"field-item even\"><span class=\"sprite-cover\">Language</span></div></div></div><div class=\"field field-name-field-content-grid-rating-text field-type-text-long field-label-hidden\"><div class=\"field-items\"><div class=\"field-item even\"><p>Several uses of \"f--k,\" plus \"s--t,\" \"d--k,\" \"jerk off,\" \"dyke,\" \"God\" and \"oh my God\" (as an exclamation).</p>\\n</div></div></div> </div>\\n</div>\\n</div></div><div class=\"field-item odd\"><div class=\"field-collection-view clearfix view-mode-full\" id=\"content-grid-item-consumerism\"><div about=\"/field-collection/field-collection-content-grid/6374686\" class=\"entity entity-field-collection-item field-collection-item-field-collection-content-grid clearfix\" typeof=\"\">\\n<div class=\"content\">\\n<div class=\"field field-name-field-content-grid-rating field-type-list-integer field-label-hidden\"><div class=\"field-items\"><div class=\"field-item even\"><div class=\"content-grid-rating content-grid-0 field_content_grid_rating field_collection_content_grid\"></div></div></div></div><div class=\"field field-name-field-content-grid-type field-type-list-text field-label-hidden field-content-grid-type consumerism\"><div class=\"field-items\"><div class=\"field-item even\"><span class=\"sprite-cover\">Consumerism</span></div></div></div> </div>\\n</div>\\n</div></div><div class=\"field-item even\"><div class=\"field-collection-view clearfix view-mode-full field-collection-view-final\" id=\"content-grid-item-drugs\"><div about=\"/field-collection/field-collection-content-grid/6374691\" class=\"entity entity-field-collection-item field-collection-item-field-collection-content-grid clearfix\" typeof=\"\">\\n<div class=\"content\">\\n<div class=\"field field-name-field-content-grid-rating field-type-list-integer field-label-hidden\"><div class=\"field-items\"><div class=\"field-item even\"><div class=\"content-grid-rating content-grid-4 field_content_grid_rating field_collection_content_grid\"></div></div></div></div><div class=\"field field-name-field-content-grid-type field-type-list-text field-label-hidden field-content-grid-type drugs\"><div class=\"field-items\"><div class=\"field-item even\"><span class=\"sprite-cover\">Drinking, Drugs &amp; Smoking</span></div></div></div><div class=\"field field-name-field-content-grid-rating-text field-type-text-long field-label-hidden\"><div class=\"field-items\"><div class=\"field-item even\"><p>Teens regularly smoke pot. Some teens grow their own pot. Drug talk.</p>\\n</div></div></div> </div>\\n</div>\\n</div></div></div></div>]',\n",
       "  'slug': 'the-miseducation-of-cameron-post',\n",
       "  'title': 'The Miseducation of Cameron Post',\n",
       "  'what_is_the_story_raw': 'In THE MISEDUCATION OF CAMERON POST, it\\'s 1993, and Cameron Post (Chloe Grace Moretz) is caught making out with Coley Taylor (Quinn Shephard) in the back of a parked car during prom. Her Aunt Ruth (Kerry Butler), who raised Cameron after the death of her parents, is shocked by Cameron\\'s same-sex attraction and immediately ships the girl off to a camp called God\\'s Promise to \"convert\" her back to the straight and narrow. The camp is led by Reverend Rick (John Gallagher Jr.), who claims to have formerly been gay, and his sister, Dr. Lydia March (Jennifer Ehle), who runs therapy sessions with the camp\\'s attendees. While Cameron goes through the motions of the camp\\'s activities and fantasizes about Coley, she meets the free-spirited Jane (Sasha Lane) and Native American Adam Red Eagle (Forrest Goodluck), bonding with them over their secret stash of pot. But when things take a turn for the worse, Cameron makes a desperate decision.\\n',\n",
       "  'what_parents_need_to_know_raw': '<div class=\"field field-name-field-parents-need-to-know field-type-text-long field-label-hidden\"><div class=\"field-items\"><div class=\"field-item even\"><p>Parents need to know that <em>The Miseducation of Cameron Post</em> is a drama based on <a href=\"/book-reviews/the-miseducation-of-cameron-post\">Emily M. Danforth\\'s YA novel</a> about a teen girl who, in 1993, is sent to a gay conversion therapy camp. Expect strong sexual material: Cameron (<a href=\"/search/Chloe%20Grace%20Moretz\">Chloe Grace Moretz</a>) passionately kisses a girl, has sex with another girl, and fantasizes about kissing other women. Viewers will hear moaning/other sex sounds, see implied masturbation, and get a glimpse of a naked breast. Opposite-sex couples also kiss briefly. Language includes several uses of \"f--k,\" plus \"s--t,\" \"d--k,\" and more. Teens regularly smoke pot, and some teens are shown growing it. A teen boy rages at a meeting, ranting and yelling; some blood is shown. There\\'s also vivid description of violence and a reference to suicide, plus arguing and general tension. Ultimately the movie is timely, effective, and sympathetic and will give teens and adults alike plenty to discuss.</p>\\n</div></div></div>'}]"
      ]
     },
     "execution_count": 14,
     "metadata": {},
     "output_type": "execute_result"
    }
   ],
   "source": [
    "# Run cell if you want to see first 3 movies from movies_features\n",
    "movies_features[0:2]"
   ]
  },
  {
   "cell_type": "markdown",
   "metadata": {},
   "source": [
    "## Partial Cleaning and Extracting of Movie Features:\n",
    "#### Some of the features scraped in the previous notebook need to be extracted in order to flatten movie ratings and other details that may be of importance to family members (e.g., cast, director, movie run time, etc.). I will also prepare text to be used to create a corpus of words used to describe the movie. This will be useful in determining what movies are similar to one another for our recommender."
   ]
  },
  {
   "cell_type": "markdown",
   "metadata": {},
   "source": [
    "### Helper Functions to Extract Movie Details, Parental Ratings, etc.:"
   ]
  },
  {
   "cell_type": "code",
   "execution_count": 15,
   "metadata": {},
   "outputs": [],
   "source": [
    "def extract_movie_details(movie_details):\n",
    "    details = []\n",
    "    values = []\n",
    "    details_lines = re.split('\\n', movie_details)\n",
    "    for line in details_lines:\n",
    "        try:\n",
    "            detail_name, detail_value, temp = re.split(':(.*)', line)\n",
    "            details.append(detail_name)\n",
    "            values.append(detail_value)\n",
    "        except:   # if there is not a : in the line, it will ignore line\n",
    "            pass\n",
    "    \n",
    "    return dict(zip(details, values))"
   ]
  },
  {
   "cell_type": "code",
   "execution_count": 16,
   "metadata": {},
   "outputs": [],
   "source": [
    "def extract_parental_ratings_and_spoilers(parental_ratings):\n",
    "    soup = bs4(parental_ratings, 'lxml')\n",
    "    ratings = [re.findall('\\d', str(x))[0] for x in soup.find_all('div', attrs={'class':'content-grid-rating'})]\n",
    "    labels = [x.get_text() for x in soup.find_all('span', attrs={'class':\"sprite-cover\"})]\n",
    "    spoilers = [x.get_text() for x in soup.find_all('div', attrs={'class': 'field-type-text-long'})]\n",
    "    return dict(zip(labels, ratings)), spoilers   "
   ]
  },
  {
   "cell_type": "code",
   "execution_count": 17,
   "metadata": {},
   "outputs": [],
   "source": [
    "def text_what_parents_need_to_know(what_parents_need_to_know):\n",
    "    soup = bs4(what_parents_need_to_know, 'lxml')\n",
    "    what_parents_need_to_know_text = soup.get_text()\n",
    "    \n",
    "    return what_parents_need_to_know_text"
   ]
  },
  {
   "cell_type": "code",
   "execution_count": 18,
   "metadata": {},
   "outputs": [],
   "source": [
    "def extract_features_from_a_movie(movie_num):\n",
    "    extracted_feat = {}\n",
    "    movie_id = movies_features[movie_num]['movie_id']\n",
    "    movie_details_dict = extract_movie_details(movies_features[movie_num]['movie_details_raw'])\n",
    "    parent_ratings_dict, spoilers = extract_parental_ratings_and_spoilers(movies_features[movie_num]['parental_rating_and_spoilers_raw'])\n",
    "    what_parents_need_to_know_text = text_what_parents_need_to_know(movies_features[movie_num]['what_parents_need_to_know_raw'])\n",
    "    \n",
    "    extracted_feat['movie_id'] = movie_id\n",
    "    extracted_feat['movie_details_dict'] = movie_details_dict\n",
    "    extracted_feat['parent_ratings_dict'] = parent_ratings_dict\n",
    "    extracted_feat['spoilers'] = spoilers\n",
    "    extracted_feat['what_parents_need_to_know_text'] = what_parents_need_to_know_text\n",
    "    extracted_feat['family_topics'] = movies_features[movie_num]['family_topics']\n",
    "    extracted_feat['is_it_any_good'] = movies_features[movie_num]['is_it_any_good']\n",
    "    extracted_feat['what_is_the_story'] = movies_features[movie_num]['what_is_the_story_raw']\n",
    "    extracted_feat['age'] = movies_features[movie_num]['age']\n",
    "    extracted_feat['one_line_description'] = movies_features[movie_num]['one_line_description']\n",
    "    extracted_feat['overall_rating'] = movies_features[movie_num]['overall_rating']\n",
    "    extracted_feat['slug'] = movies_features[movie_num]['slug']\n",
    "    extracted_feat['title'] = movies_features[movie_num]['title']\n",
    "    return extracted_feat"
   ]
  },
  {
   "cell_type": "code",
   "execution_count": 21,
   "metadata": {},
   "outputs": [
    {
     "data": {
      "text/plain": [
       "{'age': 'age 10+',\n",
       " 'family_topics': 'Families can talk about how The Music of Silence portrays Bocelli\\'s blindness. How does it compare to other representations of disabilities you\\'ve seen on-screen? Does it feel realistic? Do you think it gave a real picture of Bocelli\\'s personal struggle?\\xa0\\n\\nHow accurate do you think the movie is to actual events overall? Why might filmmakers decide to change the facts in a movie that\\'s based on real life?\\n\\nHow does Bocelli exhibit courage and perseverance? Why are those important character strengths?\\n\\nOne of the most important aspects of any drama is conflict. What or who causes the conflict in this film? Is there an antagonist? What is the struggle?\\xa0\\n\\nAre you an opera fan? Why or why not? How can you distinguish among operatically trained voices to tell which are the \"most beautiful\"? Are your standards for opera singers different from your standards for pop singers?\\xa0\\n\\n',\n",
       " 'is_it_any_good': 'Nearly everything about this biopic (which was created in collaboration with its subject, Bocelli) feels scrubbed clean. The opening scene, in which an Italian father abandons his work when he learns that his son has been born and then runs through the farm yelling, \"A son! A son!\" would seem laughably stereotypical if Bocelli hadn\\'t signed off on the whole thing. The Music of Silence has a compelling story at its center: A boy with failing eyesight, later completely blind, goes on to become one of the world\\'s most popular opera singers. But the film, directed by Michael Radford, meanders from vignette to vignette, never building momentum or really making us feel Bocelli\\'s struggle. If the film is to be believed, Bocelli\\xa0(here called \"Amos\" and with a different last name, for reasons that are never explained) was so discouraged by his voice change at puberty that he gave up on his dream -- he never sought lessons or worked in any way to develop his gift until much later. But his portrait lacks personality. There\\'s no attempt to put us inside his fading vision.\\xa0We don\\'t have a handle on who he really is, what drives him, or how he interacted with others. This is surprising, because Radford has made some fine films, including the gorgeous Il Postino and the sadly underrated 1984. The Music of Silence, by contrast, has no discernible style. Its best moments are in Bocelli/Amos\\' family\\'s unwavering support of him, as when his uncle throws a drink in a critic\\'s face or when another relative pointedly slow-claps at a rival\\'s performance. Squabbling brothers punching each other -- hard -- in the arm are welcome windows into characters\\' humanity, which are too few and far between in this film.\\xa0\\nThe performances by Bocelli/Amos\\' family members are fine, especially from Ranieri as his mother and Mollà as his father. Mollà\\'s revelation of the depth of his emotion when his character is leaving his son at a school for the blind is the film\\'s most effective moment. But as the grown Amos, Sebastian (who played Trystane Martell on Game of Thrones) doesn\\'t exactly drive the action. And the script doesn\\'t help, providing Amos with little definition. Because we don\\'t see him particularly trying to pursue his (apparent) dream of singing opera until late in the film, the exercise feels devoid of conflict -- as if Amos\\' own inertia was his main obstacle. Even a late appearance by Banderas as Amos\\' life-changing teacher doesn\\'t significantly lift the film\\'s energy. Bocelli\\xa0fans will be sure to catch this one, but for most viewers, Music will feel aimless and too polite.\\n',\n",
       " 'movie_details_dict': {'Cast': ' Antonio Banderas, Toby Sebastian, Jordi Molla',\n",
       "  'Director': ' Michael Radford',\n",
       "  'Genre': ' Drama',\n",
       "  'In theaters': ' February 2, 2018',\n",
       "  'MPAA rating': ' NR',\n",
       "  'On DVD or streaming': ' August 7, 2018',\n",
       "  'Run time': ' 127 minutes',\n",
       "  'Studio': ' AMBI Distribution',\n",
       "  'Topics': ' Music and Sing-Along'},\n",
       " 'movie_id': 0,\n",
       " 'one_line_description': 'Mild Andrea Bocelli biopic lacks momentum.',\n",
       " 'overall_rating': '2',\n",
       " 'parent_ratings_dict': {'Consumerism': '0',\n",
       "  'Drinking, Drugs & Smoking': '3',\n",
       "  'Language': '0',\n",
       "  'Positive Messages': '4',\n",
       "  'Positive Role Models & Representations': '3',\n",
       "  'Sex': '2',\n",
       "  'Violence': '0'},\n",
       " 'slug': 'the-music-of-silence',\n",
       " 'spoilers': ['Promotes courage and perseverance.\\n',\n",
       "  \"A boy with failing eyesight, loved and supported by his family, becomes an international singing superstar. Also passes the Italian bar to qualify as a lawyer (though we never see him work as one). Viewers see him work toward his goal, though not until rather late in the story. It's positive that he wasn't stopped by his vision loss, but steps taken to reach goal are a bit murky.\\xa0\\n\",\n",
       "  'A boy is accidentally hit in the eye with a soccer ball, hastening his blindness. Not graphic.\\n',\n",
       "  \"During a brief make-out scene, a young couple kiss, and a girl strips to her bra. In another make-out scene, a young woman takes a young man into a room where other teens are kissing; it's implied that the pair has sex, but nothing graphic is shown before the camera cuts away.\\n\",\n",
       "  \"Many scenes take place in a piano bar, so there's a fair amount of drinking and smoking, but usually not to excess. A young man does get drunk with a young woman and later toasts with his teacher.\\n\"],\n",
       " 'title': 'The Music of Silence',\n",
       " 'what_is_the_story': \"In THE MUSIC OF SILENCE, an Italian boy with failing vision finds solace in music. He discovers that he has a beautiful singing voice, but\\xa0then it changes with puberty, and he gives up on becoming an opera singer to study law. But eventually he returns to music and becomes Andrea Bocelli, one of the world's most successful opera performers. Toby Sebastian of Game of Thrones plays Bocelli; Luisa Ranieri and Jordi Mollà\\xa0play his parents, and Antonio Banderas co-stars as his teacher.\\xa0\\n\",\n",
       " 'what_parents_need_to_know_text': \"Parents need to know that The Music of Silence is a biopic about internationally renowned singer Andrea Bocelli (played by Toby Sebastian as an adult), although he goes by the name Amos in the movie. The film is aimed at a kids-and-family audience, so while there's some drinking, smoking, and sexuality, it's all pretty mild. Characters make out (a young woman strips down to her bra) and are implied to have sex, but nothing beyond kissing is shown. And while several scenes take place in a piano bar (with the associated drinking and smoking), there's only one scene where anyone overdoes it. Bocelli's personal story -- despite losing his eyesight and struggling for many years to become a singer, he has gone on to sell more than 80 million records -- promotes perseverance.\\n\"}"
      ]
     },
     "execution_count": 21,
     "metadata": {},
     "output_type": "execute_result"
    }
   ],
   "source": [
    "# Run cell if you want to see example of features extracted from a single movie.\n",
    "extract_features_from_a_movie(0)"
   ]
  },
  {
   "cell_type": "markdown",
   "metadata": {},
   "source": [
    "### Extract Features from all movies"
   ]
  },
  {
   "cell_type": "code",
   "execution_count": 20,
   "metadata": {},
   "outputs": [],
   "source": [
    "extracted_movies = []\n",
    "def extract_features_from_many_movies(first_movie, num_movies_to_extract):\n",
    "    '''\n",
    "    Follow DocString Conventions and annotate functions\n",
    "    '''\n",
    "    movie_features = {}\n",
    "    for movie in range(num_movies_to_extract):\n",
    "        movie = (movie + first_movie)\n",
    "        if movie % 100 == 0:\n",
    "            print(movie)\n",
    "        extracted_features = extract_features_from_a_movie(movie)\n",
    "        extracted_movies.append(extracted_features)\n",
    "    return extracted_movies"
   ]
  },
  {
   "cell_type": "code",
   "execution_count": 22,
   "metadata": {
    "scrolled": false
   },
   "outputs": [
    {
     "name": "stdout",
     "output_type": "stream",
     "text": [
      "0\n",
      "100\n",
      "200\n",
      "300\n",
      "400\n",
      "500\n",
      "600\n",
      "700\n",
      "800\n",
      "900\n",
      "1000\n",
      "1100\n",
      "1200\n",
      "1300\n",
      "1400\n",
      "1500\n",
      "1600\n",
      "1700\n",
      "1800\n",
      "1900\n",
      "2000\n",
      "2100\n",
      "2200\n",
      "2300\n",
      "2400\n",
      "2500\n",
      "2600\n",
      "2700\n",
      "2800\n",
      "2900\n",
      "3000\n",
      "3100\n",
      "3200\n",
      "3300\n",
      "3400\n",
      "3500\n",
      "3600\n",
      "3700\n",
      "3800\n",
      "3900\n",
      "4000\n",
      "4100\n",
      "4200\n",
      "4300\n",
      "4400\n",
      "4500\n",
      "4600\n",
      "4700\n",
      "4800\n",
      "4900\n",
      "5000\n",
      "5100\n",
      "5200\n",
      "5300\n",
      "5400\n",
      "5500\n",
      "5600\n",
      "5700\n",
      "5800\n",
      "5900\n",
      "6000\n",
      "6100\n",
      "6200\n",
      "6300\n",
      "6400\n",
      "6500\n",
      "6600\n",
      "6700\n",
      "6800\n",
      "6900\n",
      "7000\n",
      "7100\n",
      "7200\n",
      "7300\n",
      "7400\n",
      "7500\n",
      "7600\n",
      "7700\n",
      "7800\n",
      "7900\n",
      "8000\n",
      "8100\n",
      "8200\n",
      "8300\n",
      "8400\n",
      "8500\n",
      "8600\n",
      "8700\n"
     ]
    }
   ],
   "source": [
    "# Comment out unless you want to extract features from movies again.\n",
    "# If you have run previous cells and now have a different number of movies to extract,\n",
    "# adjust the num_movies_to_extract appropriately.\n",
    "extracted_movies = extract_features_from_many_movies(0, len(df))"
   ]
  },
  {
   "cell_type": "code",
   "execution_count": 23,
   "metadata": {},
   "outputs": [
    {
     "data": {
      "text/plain": [
       "{'age': 'age 8+',\n",
       " 'family_topics': \"Families can talk about silent movies. What did you expect going in? Were any parts surprising? Did you ever forget you were watching a silent film and just get into the story?\\n\\nFamilies can also talk about technology and filmmaking. Buster Keaton didn't have any of the tools we have today and still managed to make the action exciting. Do you think not relying on technology somehow made this filmmaker more inventive? Or do you think he was limited by the lack of CGI and other effects common today?\\n\\n\",\n",
       " 'is_it_any_good': \"Even viewers who normally don't seek out silent movies or classics in general are in for a treat. SHERLOCK JR. is clever, charming, inventive, and full of surprises. There's so much packed into 44 minutes, it's hard to believe that there's a movie within a movie and a love story and a frame-up and it all ties together and makes perfect sense with just the occasional pithy caption.\\nThe runaway moped scene had to take so much planning and careful direction. To say nothing of the effort it must have taken to make Keaton's dream-self rise up from the sleeping projectionist and climb into the movie on the screen below -- look Ma, no CGI. This is creative filmmaking at its finest.\\n\",\n",
       " 'movie_details_dict': {'Cast': ' Buster Keaton, Joe Keaton, Kathryn McGuire',\n",
       "  'Character Strengths': ' Curiosity',\n",
       "  'Director': ' Buster Keaton',\n",
       "  'Genre': ' Classic',\n",
       "  'MPAA rating': ' NR',\n",
       "  'On DVD or streaming': ' April 21, 1924',\n",
       "  'Run time': ' 44 minutes',\n",
       "  'Studio': ' Kino'},\n",
       " 'movie_id': 8764,\n",
       " 'one_line_description': 'Clever, fun-filled intro to silent movies (with subtitles).',\n",
       " 'overall_rating': '5',\n",
       " 'parent_ratings_dict': {'Consumerism': '0',\n",
       "  'Drinking, Drugs & Smoking': '2',\n",
       "  'Educational Value': '3',\n",
       "  'Language': '0',\n",
       "  'Positive Messages': '3',\n",
       "  'Positive Role Models & Representations': '3',\n",
       "  'Sexy Stuff': '1',\n",
       "  'Violence & Scariness': '2'},\n",
       " 'slug': 'sherlock-jr',\n",
       " 'spoilers': [\"The film in itself is a piece of history. Kids can think about how silent films were made, and what the difficulties were in staging an intricate chase scene and the film's dream sequence with none of the tools movie makers have today. They can also see how an old movie projector works. Of course, this is also an homage to Sherlock Holmes.\\n\",\n",
       "  \"Stealing and lying don't pay off in the end; the truth will come out, whether it's through the shrewdness of an iconic figure like Sherlock Holmes or the simple sleuthing of a girl who's sure her boyfriend is innocent.\\n\",\n",
       "  \"Buster Keaton's character is the kind of man who, when a movie patron claims to have lost a dollar, he gives away one of his. He wants to impress his girl, though, so he pretends to spend more on a gift.\\n\",\n",
       "  \"A car chase and crash with guns firing, a long sequence with a runaway moped dodging traffic and trains, and a run along the top of a train. Sherlock's adversaries attempt to poison his drink, plant a bomb on the pool table, and booby-trap a chair with a falling ax. A detective is shown tied up by thieves. Oh and of course, a slip on a banana peel.\\n\",\n",
       "  \"Hand-holding and an innocent kiss between Keaton's character and his date. Slightly more passionate kisses in the movie-within-a-movie, shown far away.\\n\",\n",
       "  'Some smoking and two alcoholic drinks -- one of which is poisoned.\\n'],\n",
       " 'title': 'Sherlock Jr.',\n",
       " 'what_is_the_story': \"A humble projectionist visiting his girlfriend is framed by another suitor for a stolen pocket watch. Unfortunately the detective how-to manual he reads incessantly is no help as he's thrown out on the street. Back at the movie theater he falls asleep on the job and dreams himself into the on-screen movie and the role of Sherlock Holmes. As Sherlock, he's onto the jewel thieves right under his nose and cleverly spoils their nefarious plots against him. Meanwhile the projectionist's girlfriend does her own sleuthing to try to clear his name.\\n\",\n",
       " 'what_parents_need_to_know_text': \"Parents need to know that this is a wonderful introduction to silent films for kids, though there is some reading involved, which makes it less appealing for very young kids. At 44 minutes, the story flies by with plenty of action, including chase scenes with some gunfire and a funny runaway moped scene where Sherlock doesn't know his driver fell off miles and miles back. In the quieter moments there's a bit of romance with a couple kisses and a lesson about truth willing out, but for the most part the story moves quickly and is full of surprises to keep young viewers' attention.\\n\"}"
      ]
     },
     "execution_count": 23,
     "metadata": {},
     "output_type": "execute_result"
    }
   ],
   "source": [
    "# Comment out cell to supress extra text. Run if you'd like to see extracted features\n",
    "extracted_movies[-1]"
   ]
  },
  {
   "cell_type": "markdown",
   "metadata": {},
   "source": [
    "### Export Extracted Movie Features for Further Cleaning and NLP"
   ]
  },
  {
   "cell_type": "code",
   "execution_count": 24,
   "metadata": {},
   "outputs": [],
   "source": [
    "# # Uncomment if you have run prior notebooks and want to update movie recommender system\n",
    "# with open('data/extracted_movies.json', 'w') as output:\n",
    "#     json.dump(extracted_movies, output) "
   ]
  },
  {
   "cell_type": "markdown",
   "metadata": {},
   "source": [
    "#### Extracted features from movies saved to json file for final cleaning and division into text and non-text features in the next notebook."
   ]
  },
  {
   "cell_type": "code",
   "execution_count": null,
   "metadata": {},
   "outputs": [],
   "source": []
  }
 ],
 "metadata": {
  "kernelspec": {
   "display_name": "Python [default]",
   "language": "python",
   "name": "python3"
  },
  "language_info": {
   "codemirror_mode": {
    "name": "ipython",
    "version": 3
   },
   "file_extension": ".py",
   "mimetype": "text/x-python",
   "name": "python",
   "nbconvert_exporter": "python",
   "pygments_lexer": "ipython3",
   "version": "3.6.4"
  }
 },
 "nbformat": 4,
 "nbformat_minor": 2
}

{
 "cells": [
  {
   "cell_type": "markdown",
   "metadata": {},
   "source": [
    "# Scrape Raw Data from Movie Review Pages\n",
    "#### In this notebook, a list of URL's was imported and used to scrape individual movie pages for text and non-text data. Data then run through Beautiful Soup to strip away html artifacts and exported for further processing.\n",
    "#### Separate functions extract each individual movie feature to facilitate trouble-shooting and provide for maximum modularity."
   ]
  },
  {
   "cell_type": "markdown",
   "metadata": {},
   "source": [
    "### Importing URL's"
   ]
  },
  {
   "cell_type": "code",
   "execution_count": 1,
   "metadata": {},
   "outputs": [],
   "source": [
    "import pandas as pd\n",
    "import seaborn as sns\n",
    "import requests, re, json, time, copy\n",
    "from bs4 import BeautifulSoup as bs4"
   ]
  },
  {
   "cell_type": "markdown",
   "metadata": {},
   "source": [
    "### Load list of movie URL's and visit them to scrape movie features"
   ]
  },
  {
   "cell_type": "code",
   "execution_count": 2,
   "metadata": {},
   "outputs": [],
   "source": [
    "# Load json of movies_urls\n",
    "with open('data/movies_urls.json') as json_file:  \n",
    "    movies_urls = json.load(json_file)"
   ]
  },
  {
   "cell_type": "code",
   "execution_count": 3,
   "metadata": {},
   "outputs": [
    {
     "data": {
      "text/plain": [
       "['https://www.commonsensemedia.org/movie-reviews/the-music-of-silence',\n",
       " 'https://www.commonsensemedia.org/movie-reviews/the-miseducation-of-cameron-post',\n",
       " 'https://www.commonsensemedia.org/movie-reviews/the-spy-who-dumped-me',\n",
       " 'https://www.commonsensemedia.org/movie-reviews/the-darkest-minds',\n",
       " 'https://www.commonsensemedia.org/movie-reviews/like-father']"
      ]
     },
     "execution_count": 3,
     "metadata": {},
     "output_type": "execute_result"
    }
   ],
   "source": [
    "movies_urls[:5]"
   ]
  },
  {
   "cell_type": "markdown",
   "metadata": {},
   "source": [
    "### Main functions used to scrape data"
   ]
  },
  {
   "cell_type": "code",
   "execution_count": 4,
   "metadata": {},
   "outputs": [],
   "source": [
    "movies_features = []\n",
    "def scrape_movie_features(first_movie, num_movies_to_scrape):\n",
    "    movie_features = {}\n",
    "    missed_movies = {}\n",
    "    for movie in range(num_movies_to_scrape):\n",
    "        movie = (movie + first_movie)\n",
    "        url = movies_urls[movie]\n",
    "        res = requests.get(url)\n",
    "        soup = bs4(res.content, 'lxml')\n",
    "        print(movie, url[47:])\n",
    "        if res.status_code == 200:\n",
    "            movie_features = get_movie_features(movie, url, soup)\n",
    "            movies_features.append(movie_features)\n",
    "        else:\n",
    "            missed_movies.append([movie, url])\n",
    "        if movie == len(movies_urls):\n",
    "            print('That was the last movie.')\n",
    "            break\n",
    "    return movies_features, missed_movies"
   ]
  },
  {
   "cell_type": "code",
   "execution_count": 5,
   "metadata": {},
   "outputs": [],
   "source": [
    "movies_features = []\n",
    "def get_movie_features(num, url, soup):\n",
    "    movie_features = {}\n",
    "    movie_features['movie_id'] = num\n",
    "    movie_features['slug'] = url[47:]\n",
    "    movie_features['title'] = get_title(soup)\n",
    "    movie_features['age'] = get_age(soup)\n",
    "    movie_features['family_topics'] = get_family_topics(soup)\n",
    "    movie_features['is_it_any_good'] = get_is_it_any_good(soup)\n",
    "    movie_features['movie_details_raw'] = get_movie_details_raw(soup)\n",
    "    movie_features['one_line_description'] = get_one_line_description(soup)\n",
    "    movie_features['overall_rating'] = get_overall_rating(soup)\n",
    "    movie_features['parental_rating_and_spoilers_raw'] = get_parental_rating_and_spoilers_raw(soup)\n",
    "    movie_features['what_is_the_story_raw'] = get_what_is_the_story(soup)\n",
    "    movie_features['what_parents_need_to_know_raw'] = get_what_parents_need_to_know(soup)\n",
    "    return movie_features"
   ]
  },
  {
   "cell_type": "markdown",
   "metadata": {},
   "source": [
    "### Helper Functions to get specific raw movie features"
   ]
  },
  {
   "cell_type": "code",
   "execution_count": 6,
   "metadata": {},
   "outputs": [],
   "source": [
    "def get_title(soup):\n",
    "    return str(soup.h1)[4:-5]"
   ]
  },
  {
   "cell_type": "code",
   "execution_count": 7,
   "metadata": {},
   "outputs": [],
   "source": [
    "def get_age(soup):\n",
    "    return str(soup.find('div', 'csm-green-age').get_text())"
   ]
  },
  {
   "cell_type": "code",
   "execution_count": 8,
   "metadata": {},
   "outputs": [],
   "source": [
    "def get_family_topics(soup):\n",
    "    return str(soup.find('div',\n",
    "                         'field-name-field-family-topics').get_text())   "
   ]
  },
  {
   "cell_type": "code",
   "execution_count": 9,
   "metadata": {},
   "outputs": [],
   "source": [
    "def get_is_it_any_good(soup):\n",
    "    return str(soup.find('div', 'field-name-field-any-good').get_text())"
   ]
  },
  {
   "cell_type": "code",
   "execution_count": 10,
   "metadata": {},
   "outputs": [],
   "source": [
    "def get_movie_details_raw(soup):\n",
    "    return str(soup.find('div', 'pane-product-details').get_text())   "
   ]
  },
  {
   "cell_type": "code",
   "execution_count": 11,
   "metadata": {},
   "outputs": [],
   "source": [
    "def get_one_line_description(soup):\n",
    "    return str(soup.find('div', 'field-name-field-one-liner').get_text())"
   ]
  },
  {
   "cell_type": "code",
   "execution_count": 12,
   "metadata": {},
   "outputs": [],
   "source": [
    "def get_overall_rating(soup):\n",
    "    rating = re.search(\"\\d\", str(soup.find('div', 'field_stars_rating')))\n",
    "    return str(rating[0])"
   ]
  },
  {
   "cell_type": "code",
   "execution_count": 13,
   "metadata": {},
   "outputs": [],
   "source": [
    "def get_parental_rating_and_spoilers_raw(soup):\n",
    "    return str(soup.find_all('div', 'field-type-field-collection'))"
   ]
  },
  {
   "cell_type": "code",
   "execution_count": 14,
   "metadata": {},
   "outputs": [],
   "source": [
    "def get_what_is_the_story(soup):\n",
    "    return str(soup.find('div',\n",
    "                         'field-name-field-what-is-story').get_text())"
   ]
  },
  {
   "cell_type": "code",
   "execution_count": 15,
   "metadata": {},
   "outputs": [],
   "source": [
    "def get_what_parents_need_to_know(soup):\n",
    "    return str(soup.find('div', 'field-name-field-parents-need-to-know'))"
   ]
  },
  {
   "cell_type": "markdown",
   "metadata": {},
   "source": [
    "### Scraping Movie Features"
   ]
  },
  {
   "cell_type": "code",
   "execution_count": 25,
   "metadata": {},
   "outputs": [],
   "source": [
    "# DO NOT RUN THIS CELL  will run a scraper that will take almost three hours\n",
    "movies_features, missed_movies = scrape_movie_features(0, 10000)"
   ]
  },
  {
   "cell_type": "code",
   "execution_count": 19,
   "metadata": {},
   "outputs": [
    {
     "data": {
      "text/plain": [
       "8765"
      ]
     },
     "execution_count": 19,
     "metadata": {},
     "output_type": "execute_result"
    }
   ],
   "source": [
    "len(movies_features)"
   ]
  },
  {
   "cell_type": "code",
   "execution_count": 21,
   "metadata": {
    "collapsed": true
   },
   "outputs": [
    {
     "data": {
      "text/plain": [
       "{'age': 'age 8+',\n",
       " 'family_topics': \"Families can talk about silent movies. What did you expect going in? Were any parts surprising? Did you ever forget you were watching a silent film and just get into the story?\\n\\nFamilies can also talk about technology and filmmaking. Buster Keaton didn't have any of the tools we have today and still managed to make the action exciting. Do you think not relying on technology somehow made this filmmaker more inventive? Or do you think he was limited by the lack of CGI and other effects common today?\\n\\n\",\n",
       " 'is_it_any_good': \"Even viewers who normally don't seek out silent movies or classics in general are in for a treat. SHERLOCK JR. is clever, charming, inventive, and full of surprises. There's so much packed into 44 minutes, it's hard to believe that there's a movie within a movie and a love story and a frame-up and it all ties together and makes perfect sense with just the occasional pithy caption.\\nThe runaway moped scene had to take so much planning and careful direction. To say nothing of the effort it must have taken to make Keaton's dream-self rise up from the sleeping projectionist and climb into the movie on the screen below -- look Ma, no CGI. This is creative filmmaking at its finest.\\n\",\n",
       " 'movie_details_raw': '\\nMovie details\\n\\n\\nOn DVD or streaming: April 21, 1924\\nCast: Buster Keaton, Joe Keaton, Kathryn McGuire\\nDirector: Buster Keaton\\nStudio: Kino\\nGenre: Classic\\nCharacter Strengths: Curiosity\\nRun time: 44 minutes\\nMPAA rating: NR\\n \\n\\nContinue reading\\nShow less\\n\\n\\n',\n",
       " 'movie_id': 8764,\n",
       " 'one_line_description': 'Clever, fun-filled intro to silent movies (with subtitles).',\n",
       " 'overall_rating': '5',\n",
       " 'parental_rating_and_spoilers_raw': '[<div class=\"field field-name-field-collection-content-grid field-type-field-collection field-label-hidden\"><div class=\"field-items\"><div class=\"field-item even\"><div class=\"field-collection-view clearfix view-mode-full\" id=\"content-grid-item-educational\"><div about=\"/field-collection/field-collection-content-grid/471778\" class=\"entity entity-field-collection-item field-collection-item-field-collection-content-grid clearfix\" typeof=\"\">\\n<div class=\"content\">\\n<div class=\"field field-name-field-content-grid-rating field-type-list-integer field-label-hidden\"><div class=\"field-items\"><div class=\"field-item even\"><div class=\"content-grid-rating content-grid-3 field_content_grid_rating field_collection_content_grid\"></div></div></div></div><div class=\"field field-name-field-content-grid-type field-type-list-text field-label-hidden field-content-grid-type educational\"><div class=\"field-items\"><div class=\"field-item even\"><span class=\"sprite-cover\">Educational Value</span></div></div></div><div class=\"field field-name-field-content-grid-rating-text field-type-text-long field-label-hidden\"><div class=\"field-items\"><div class=\"field-item even\"><p>The film in itself is a piece of history. Kids can think about how silent films were made, and what the difficulties were in staging an intricate chase scene and the film\\'s dream sequence with none of the tools movie makers have today. They can also see how an old movie projector works. Of course, this is also an homage to Sherlock Holmes.</p>\\n</div></div></div> </div>\\n</div>\\n</div></div><div class=\"field-item odd\"><div class=\"field-collection-view clearfix view-mode-full\" id=\"content-grid-item-message\"><div about=\"/field-collection/field-collection-content-grid/471782\" class=\"entity entity-field-collection-item field-collection-item-field-collection-content-grid clearfix\" typeof=\"\">\\n<div class=\"content\">\\n<div class=\"field field-name-field-content-grid-rating field-type-list-integer field-label-hidden\"><div class=\"field-items\"><div class=\"field-item even\"><div class=\"content-grid-rating content-grid-3 field_content_grid_rating field_collection_content_grid\"></div></div></div></div><div class=\"field field-name-field-content-grid-type field-type-list-text field-label-hidden field-content-grid-type message\"><div class=\"field-items\"><div class=\"field-item even\"><span class=\"sprite-cover\">Positive Messages</span></div></div></div><div class=\"field field-name-field-content-grid-rating-text field-type-text-long field-label-hidden\"><div class=\"field-items\"><div class=\"field-item even\"><p>Stealing and lying don\\'t pay off in the end; the truth will come out, whether it\\'s through the shrewdness of an iconic figure like Sherlock Holmes or the simple sleuthing of a girl who\\'s sure her boyfriend is innocent.</p>\\n</div></div></div> </div>\\n</div>\\n</div></div><div class=\"field-item even\"><div class=\"field-collection-view clearfix view-mode-full\" id=\"content-grid-item-role_model\"><div about=\"/field-collection/field-collection-content-grid/471785\" class=\"entity entity-field-collection-item field-collection-item-field-collection-content-grid clearfix\" typeof=\"\">\\n<div class=\"content\">\\n<div class=\"field field-name-field-content-grid-rating field-type-list-integer field-label-hidden\"><div class=\"field-items\"><div class=\"field-item even\"><div class=\"content-grid-rating content-grid-3 field_content_grid_rating field_collection_content_grid\"></div></div></div></div><div class=\"field field-name-field-content-grid-type field-type-list-text field-label-hidden field-content-grid-type role_model\"><div class=\"field-items\"><div class=\"field-item even\"><span class=\"sprite-cover\">Positive Role Models &amp; Representations</span></div></div></div><div class=\"field field-name-field-content-grid-rating-text field-type-text-long field-label-hidden\"><div class=\"field-items\"><div class=\"field-item even\"><p>Buster Keaton\\'s character is the kind of man who, when a movie patron claims to have lost a dollar, he gives away one of his. He wants to impress his girl, though, so he pretends to spend more on a gift.</p>\\n</div></div></div> </div>\\n</div>\\n</div></div><div class=\"field-item odd\"><div class=\"field-collection-view clearfix view-mode-full field-collection-view-final\" id=\"content-grid-item-violence\"><div about=\"/field-collection/field-collection-content-grid/471787\" class=\"entity entity-field-collection-item field-collection-item-field-collection-content-grid clearfix\" typeof=\"\">\\n<div class=\"content\">\\n<div class=\"field field-name-field-content-grid-rating field-type-list-integer field-label-hidden\"><div class=\"field-items\"><div class=\"field-item even\"><div class=\"content-grid-rating content-grid-2 field_content_grid_rating field_collection_content_grid\"></div></div></div></div><div class=\"field field-name-field-content-grid-type field-type-list-text field-label-hidden field-content-grid-type violence\"><div class=\"field-items\"><div class=\"field-item even\"><span class=\"sprite-cover\">Violence &amp; Scariness</span></div></div></div><div class=\"field field-name-field-content-grid-rating-text field-type-text-long field-label-hidden\"><div class=\"field-items\"><div class=\"field-item even\"><p>A car chase and crash with guns firing, a long sequence with a runaway moped dodging traffic and trains, and a run along the top of a train. Sherlock\\'s adversaries attempt to poison his drink, plant a bomb on the pool table, and booby-trap a chair with a falling ax. A detective is shown tied up by thieves. Oh and of course, a slip on a banana peel.</p>\\n</div></div></div> </div>\\n</div>\\n</div></div><div class=\"field-item even\"><div class=\"field-collection-view clearfix view-mode-full\" id=\"content-grid-item-sex\"><div about=\"/field-collection/field-collection-content-grid/471786\" class=\"entity entity-field-collection-item field-collection-item-field-collection-content-grid clearfix\" typeof=\"\">\\n<div class=\"content\">\\n<div class=\"field field-name-field-content-grid-rating field-type-list-integer field-label-hidden\"><div class=\"field-items\"><div class=\"field-item even\"><div class=\"content-grid-rating content-grid-1 field_content_grid_rating field_collection_content_grid\"></div></div></div></div><div class=\"field field-name-field-content-grid-type field-type-list-text field-label-hidden field-content-grid-type sex\"><div class=\"field-items\"><div class=\"field-item even\"><span class=\"sprite-cover\">Sexy Stuff</span></div></div></div><div class=\"field field-name-field-content-grid-rating-text field-type-text-long field-label-hidden\"><div class=\"field-items\"><div class=\"field-item even\"><p>Hand-holding and an innocent kiss between Keaton\\'s character and his date. Slightly more passionate kisses in the movie-within-a-movie, shown far away.</p>\\n</div></div></div> </div>\\n</div>\\n</div></div><div class=\"field-item odd\"><div class=\"field-collection-view clearfix view-mode-full\" id=\"content-grid-item-language\"><div about=\"/field-collection/field-collection-content-grid/471780\" class=\"entity entity-field-collection-item field-collection-item-field-collection-content-grid clearfix\" typeof=\"\">\\n<div class=\"content\">\\n<div class=\"field field-name-field-content-grid-rating field-type-list-integer field-label-hidden\"><div class=\"field-items\"><div class=\"field-item even\"><div class=\"content-grid-rating content-grid-0 field_content_grid_rating field_collection_content_grid\"></div></div></div></div><div class=\"field field-name-field-content-grid-type field-type-list-text field-label-hidden field-content-grid-type language\"><div class=\"field-items\"><div class=\"field-item even\"><span class=\"sprite-cover\">Language</span></div></div></div> </div>\\n</div>\\n</div></div><div class=\"field-item even\"><div class=\"field-collection-view clearfix view-mode-full\" id=\"content-grid-item-consumerism\"><div about=\"/field-collection/field-collection-content-grid/471774\" class=\"entity entity-field-collection-item field-collection-item-field-collection-content-grid clearfix\" typeof=\"\">\\n<div class=\"content\">\\n<div class=\"field field-name-field-content-grid-rating field-type-list-integer field-label-hidden\"><div class=\"field-items\"><div class=\"field-item even\"><div class=\"content-grid-rating content-grid-0 field_content_grid_rating field_collection_content_grid\"></div></div></div></div><div class=\"field field-name-field-content-grid-type field-type-list-text field-label-hidden field-content-grid-type consumerism\"><div class=\"field-items\"><div class=\"field-item even\"><span class=\"sprite-cover\">Consumerism</span></div></div></div> </div>\\n</div>\\n</div></div><div class=\"field-item odd\"><div class=\"field-collection-view clearfix view-mode-full\" id=\"content-grid-item-drugs\"><div about=\"/field-collection/field-collection-content-grid/471776\" class=\"entity entity-field-collection-item field-collection-item-field-collection-content-grid clearfix\" typeof=\"\">\\n<div class=\"content\">\\n<div class=\"field field-name-field-content-grid-rating field-type-list-integer field-label-hidden\"><div class=\"field-items\"><div class=\"field-item even\"><div class=\"content-grid-rating content-grid-2 field_content_grid_rating field_collection_content_grid\"></div></div></div></div><div class=\"field field-name-field-content-grid-type field-type-list-text field-label-hidden field-content-grid-type drugs\"><div class=\"field-items\"><div class=\"field-item even\"><span class=\"sprite-cover\">Drinking, Drugs &amp; Smoking</span></div></div></div><div class=\"field field-name-field-content-grid-rating-text field-type-text-long field-label-hidden\"><div class=\"field-items\"><div class=\"field-item even\"><p>Some smoking and two alcoholic drinks -- one of which is poisoned.</p>\\n</div></div></div> </div>\\n</div>\\n</div></div></div></div>]',\n",
       " 'slug': 'sherlock-jr',\n",
       " 'title': 'Sherlock Jr.',\n",
       " 'what_is_the_story_raw': \"A humble projectionist visiting his girlfriend is framed by another suitor for a stolen pocket watch. Unfortunately the detective how-to manual he reads incessantly is no help as he's thrown out on the street. Back at the movie theater he falls asleep on the job and dreams himself into the on-screen movie and the role of Sherlock Holmes. As Sherlock, he's onto the jewel thieves right under his nose and cleverly spoils their nefarious plots against him. Meanwhile the projectionist's girlfriend does her own sleuthing to try to clear his name.\\n\",\n",
       " 'what_parents_need_to_know_raw': '<div class=\"field field-name-field-parents-need-to-know field-type-text-long field-label-hidden\"><div class=\"field-items\"><div class=\"field-item even\"><p>Parents need to know that this is a wonderful introduction to silent films for kids, though there is some reading involved, which makes it less appealing for very young kids. At 44 minutes, the story flies by with plenty of action, including chase scenes with some gunfire and a funny runaway moped scene where Sherlock doesn\\'t know his driver fell off miles and miles back. In the quieter moments there\\'s a bit of romance with a couple kisses and a lesson about truth willing out, but for the most part the story moves quickly and is full of surprises to keep young viewers\\' attention.</p>\\n</div></div></div>'}"
      ]
     },
     "execution_count": 21,
     "metadata": {},
     "output_type": "execute_result"
    }
   ],
   "source": [
    "# Run if you'd like to see the scraped raw, unprocessed movie data\n",
    "movies_features[len(movies_features) - 1]"
   ]
  },
  {
   "cell_type": "code",
   "execution_count": 22,
   "metadata": {},
   "outputs": [],
   "source": [
    "# replace RENUMBER with len(movies_features)-1 and edit future notebooks to update system\n",
    "# to be able to recommend more recent movies. See below for further explanation\n",
    "movies_features_0_to_RENUMBERnew = movies_features"
   ]
  },
  {
   "cell_type": "code",
   "execution_count": 24,
   "metadata": {},
   "outputs": [],
   "source": [
    "with open('data/movies_features_0_to_RENUMBERnew.json', 'w') as output:\n",
    "    json.dump(movies_features_0_to_RENUMBERnew, output)"
   ]
  },
  {
   "cell_type": "markdown",
   "metadata": {},
   "source": [
    "#### Movie features saved to json file for further cleaning and data exploration in Notebook 3."
   ]
  },
  {
   "cell_type": "code",
   "execution_count": null,
   "metadata": {},
   "outputs": [],
   "source": []
  }
 ],
 "metadata": {
  "kernelspec": {
   "display_name": "Python [default]",
   "language": "python",
   "name": "python3"
  },
  "language_info": {
   "codemirror_mode": {
    "name": "ipython",
    "version": 3
   },
   "file_extension": ".py",
   "mimetype": "text/x-python",
   "name": "python",
   "nbconvert_exporter": "python",
   "pygments_lexer": "ipython3",
   "version": "3.6.4"
  }
 },
 "nbformat": 4,
 "nbformat_minor": 2
}

{
 "cells": [
  {
   "cell_type": "markdown",
   "metadata": {},
   "source": [
    "## Functions for Parents Who Have a Few Minutes to Answer Questions\n",
    "#### The functions below are designed for parents who can answer between 8 and 9 questions (depending on the age of their children) to help refine the movie recommendations made by my recommender system. These functions were copied along with selected bits of code from other notebooks to a file called interface.py in yukiharuhadeishi/dsi/capstone/lib  on my laptop for a smoother user interface."
   ]
  },
  {
   "cell_type": "code",
   "execution_count": 1,
   "metadata": {},
   "outputs": [],
   "source": [
    "import numpy as np\n",
    "import scipy.stats as stats\n",
    "import pandas as pd\n",
    "import requests, csv, copy\n",
    "import matplotlib.pyplot as plt\n",
    "import math\n",
    "import random\n",
    "from sklearn.metrics.pairwise import cosine_similarity\n",
    "\n",
    "%config InlineBackend.figure_format = 'retina'\n",
    "%matplotlib inline"
   ]
  },
  {
   "cell_type": "code",
   "execution_count": 3,
   "metadata": {},
   "outputs": [],
   "source": [
    "# Load csv of movies_processed_features.csv\n",
    "df = pd.read_csv('data/movies_processed_nontext_features.csv', index_col= None)"
   ]
  },
  {
   "cell_type": "code",
   "execution_count": 4,
   "metadata": {},
   "outputs": [],
   "source": [
    "df.drop(columns=\"Unnamed: 0\", inplace=True)"
   ]
  },
  {
   "cell_type": "markdown",
   "metadata": {},
   "source": [
    "### Helper Functions to Get User Data\n",
    "#### The functions below all serve as subroutines for other functions. Each helper function generally asks one question, such as on a scale of 0 to 5, doing such things as obtaining the number and age of children in the family to getting parent ratings "
   ]
  },
  {
   "cell_type": "code",
   "execution_count": 5,
   "metadata": {},
   "outputs": [],
   "source": [
    "def get_num_children_and_ages():\n",
    "    num_children = input(\"How many children do you have?\")\n",
    "    child = 0\n",
    "    children_ages = []\n",
    "    while child < int(num_children):\n",
    "        print(\"How old is your child\", child + 1, \"?\")\n",
    "        child_age = input()\n",
    "        children_ages.append(float(child_age))\n",
    "        child += 1\n",
    "    print(\"Thank you!\")\n",
    "    return int(num_children), children_ages"
   ]
  },
  {
   "cell_type": "code",
   "execution_count": 6,
   "metadata": {
    "scrolled": false
   },
   "outputs": [],
   "source": [
    "def age_checker(children_ages):\n",
    "    youngsters = 0\n",
    "    for age in children_ages:\n",
    "        if age <= 8:\n",
    "            youngsters = 1\n",
    "    return youngsters"
   ]
  },
  {
   "cell_type": "code",
   "execution_count": 7,
   "metadata": {},
   "outputs": [],
   "source": [
    "def get_wants_educational():\n",
    "    wants_educational = []\n",
    "    while True:\n",
    "        print(\"Do you want to see an educational movie?\")\n",
    "        wants_educational = input(\"Please enter y, n, or ?\")\n",
    "        if (wants_educational == '?' or\n",
    "            wants_educational == 'y' or\n",
    "            wants_educational == 'n'):\n",
    "            if wants_educational == '?':\n",
    "                print(\"An example of an \\'educational movie\\' is\", df[df['Educational Value']==3]['title'].iloc[random.randint(0,len(df[df['Educational Value']==3])-1)])\n",
    "                print(\"An example of a non-educational movie is\", df[df['Educational Value']==0]['title'].iloc[random.randint(0,len(df[df['Educational Value']==0])-1)])\n",
    "            else:\n",
    "                return wants_educational"
   ]
  },
  {
   "cell_type": "code",
   "execution_count": 8,
   "metadata": {},
   "outputs": [],
   "source": [
    "def get_prate_sexy_stuff():\n",
    "    prate_sexy_stuff = []\n",
    "    while True:\n",
    "        print(\"What amount of \\\"sexy stuff\\\" is okay for your kids, on a scale of 0 to 3?)\")\n",
    "        prate_sexy_stuff = input(\"Please enter 0, 1, 2, 3, or ?\")\n",
    "        if (prate_sexy_stuff == '?' or\n",
    "            prate_sexy_stuff == '0' or\n",
    "            prate_sexy_stuff == '1' or\n",
    "            prate_sexy_stuff == '2' or\n",
    "            prate_sexy_stuff == '3'):\n",
    "            if prate_sexy_stuff == '?':\n",
    "                print(\"An example of a 0 is\", df[df['Sexy Stuff']==0]['title'].iloc[random.randint(0, len(df[df['Sexy Stuff']==0])-1)])\n",
    "                print(\"An example of a 3 is\", df[df['Sexy Stuff']==3]['title'].iloc[random.randint(0, len(df[df['Sexy Stuff']==3])-1)])\n",
    "                print(\"(There are no movies rated higher than a 3 for Sexy Stuff...)\")\n",
    "            else:\n",
    "                return prate_sexy_stuff"
   ]
  },
  {
   "cell_type": "code",
   "execution_count": 9,
   "metadata": {},
   "outputs": [],
   "source": [
    "def get_prate_violence_scariness():\n",
    "    prate_violence_scariness = []\n",
    "    while True:\n",
    "        print(\"What level of violence and cartoon scariness is okay for your kids? (0 to 4)\")\n",
    "        prate_violence_scariness = input(\"Please enter 0, 1, 2, 3, 4, or ?\")\n",
    "        if (prate_violence_scariness == '?' or\n",
    "            prate_violence_scariness == '0' or\n",
    "            prate_violence_scariness == '1' or\n",
    "            prate_violence_scariness == '2' or\n",
    "            prate_violence_scariness == '3' or\n",
    "            prate_violence_scariness == '4'):\n",
    "            if prate_violence_scariness == '?':\n",
    "                print(\"An example of a 0 is\", df[df['Violence & Scariness']==0]['title'].iloc[random.randint(0, len(df[df['Violence & Scariness']==0])-1)])\n",
    "                print(\"An example of a 2 is\", df[df['Violence & Scariness']==2]['title'].iloc[random.randint(0, len(df[df['Violence & Scariness']==2])-1)])\n",
    "                print(\"An example of a 4 is\", df[df['Violence & Scariness']==4]['title'].iloc[random.randint(0, len(df[df['Violence & Scariness']==4])-1)])\n",
    "                print(\"(There are no movies with a 5 rating for Violence & Scariness...)\")\n",
    "            else:\n",
    "                return prate_violence_scariness"
   ]
  },
  {
   "cell_type": "code",
   "execution_count": 10,
   "metadata": {},
   "outputs": [],
   "source": [
    "def get_prate_consumerism():\n",
    "    prate_consumerism = []\n",
    "    print(\"What level of exposure to consumerism is okay for your kids? (0 to 5)\")\n",
    "    while True:\n",
    "        prate_consumerism = input(\"Please enter 0, 1, 2, 3, 4, 5, or ?\")\n",
    "        if (prate_consumerism == '?' or\n",
    "            prate_consumerism == '0' or\n",
    "            prate_consumerism == '1' or\n",
    "            prate_consumerism == '2' or\n",
    "            prate_consumerism == '3' or\n",
    "            prate_consumerism == '4' or\n",
    "            prate_consumerism == '5'):\n",
    "            if prate_consumerism == '?':\n",
    "                print(\"An example of a 0 is\", df[df['Consumerism']==0]['title'].iloc[random.randint(0, len(df[df['Consumerism']==0])-1)])\n",
    "                print(\"An example of a 3 is\", df[df['Consumerism']==3]['title'].iloc[random.randint(0, len(df[df['Consumerism']==3])-1)])\n",
    "                print(\"An example of a 5 is\", df[df['Consumerism']==5]['title'].iloc[random.randint(0, len(df[df['Consumerism']==5])-1)])\n",
    "            else:\n",
    "                return prate_consumerism"
   ]
  },
  {
   "cell_type": "code",
   "execution_count": 11,
   "metadata": {},
   "outputs": [],
   "source": [
    "def get_prate_drinking_drugs_smoking():\n",
    "    prate_drinking_drugs_smoking = []\n",
    "    print(\"What level of drinking, drugs, & smoking is okay for your kids? (0 to 5)\")\n",
    "    while True:\n",
    "        prate_drinking_drugs_smoking = input(\"Please enter 0, 1, 2, 3, 4, 5, or ?\")\n",
    "        if (prate_drinking_drugs_smoking == '?' or\n",
    "            prate_drinking_drugs_smoking == '0' or\n",
    "            prate_drinking_drugs_smoking == '1' or\n",
    "            prate_drinking_drugs_smoking == '2' or\n",
    "            prate_drinking_drugs_smoking == '3' or\n",
    "            prate_drinking_drugs_smoking == '4' or\n",
    "            prate_drinking_drugs_smoking == '5'):\n",
    "            if prate_drinking_drugs_smoking == '?':\n",
    "                print(\"An example of a 0 is\", df[df['Drinking, Drugs & Smoking']==0]['title'].iloc[random.randint(0, len(df[df['Drinking, Drugs & Smoking']==0])-1)])\n",
    "                print(\"An example of a 3 is\", df[df['Drinking, Drugs & Smoking']==3]['title'].iloc[random.randint(0, len(df[df['Drinking, Drugs & Smoking']==3])-1)])\n",
    "                print(\"An example of a 5 is\", df[df['Drinking, Drugs & Smoking']==5]['title'].iloc[random.randint(0, len(df[df['Drinking, Drugs & Smoking']==5])-1)])\n",
    "            else:\n",
    "                return prate_drinking_drugs_smoking"
   ]
  },
  {
   "cell_type": "code",
   "execution_count": 12,
   "metadata": {},
   "outputs": [],
   "source": [
    "def get_prate_language():\n",
    "    prate_language = []\n",
    "    print(\"What level of bad language is okay for your kids? (0 to 5)\")\n",
    "    while True:\n",
    "        prate_language = input(\"Please enter 0, 1, 2, 3, 4, 5, or ?\")\n",
    "        if (prate_language == '?' or\n",
    "            prate_language == '0' or\n",
    "            prate_language == '1' or\n",
    "            prate_language == '2' or\n",
    "            prate_language == '3' or\n",
    "            prate_language == '4' or\n",
    "            prate_language == '5'):\n",
    "            if prate_language == '?':\n",
    "                print(\"An example of a 0 is\", df[df['Language']==0]['title'].iloc[random.randint(0, len(df[df['Language']==0])-1)])\n",
    "                print(\"An example of a 3 is\", df[df['Language']==3]['title'].iloc[random.randint(0, len(df[df['Language']==3])-1)])\n",
    "                print(\"An example of a 5 is\", df[df['Language']==5]['title'].iloc[random.randint(0, len(df[df['Language']==5])-1)])\n",
    "            else:\n",
    "                return prate_language"
   ]
  },
  {
   "cell_type": "code",
   "execution_count": 13,
   "metadata": {},
   "outputs": [],
   "source": [
    "def get_prate_positive_messages():\n",
    "    prate_positive_messages = []\n",
    "    print(\"How important are positive messages in movies to you and kids? (0 to 5)\")\n",
    "    while True:\n",
    "        prate_positive_messages = input(\"Please enter 0, 1, 2, 3, 4, 5, or ?\")\n",
    "        if (prate_positive_messages == '?' or\n",
    "            prate_positive_messages == '0' or\n",
    "            prate_positive_messages == '1' or\n",
    "            prate_positive_messages == '2' or\n",
    "            prate_positive_messages == '3' or\n",
    "            prate_positive_messages == '4' or\n",
    "            prate_positive_messages == '5'):\n",
    "            if prate_positive_messages == '?':\n",
    "                print(\"An example of a 0 is\", df[df['Positive Messages']==0]['title'].iloc[random.randint(0, len(df[df['Positive Messages']==0])-1)])\n",
    "                print(\"An example of a 3 is\", df[df['Positive Messages']==3]['title'].iloc[random.randint(0, len(df[df['Positive Messages']==3])-1)])\n",
    "                print(\"An example of a 5 is\", df[df['Positive Messages']==5]['title'].iloc[random.randint(0, len(df[df['Positive Messages']==5])-1)])\n",
    "            else:\n",
    "                return prate_positive_messages"
   ]
  },
  {
   "cell_type": "code",
   "execution_count": 14,
   "metadata": {},
   "outputs": [],
   "source": [
    "def get_prate_sex():\n",
    "    prate_sex = []\n",
    "    print(\"What level of exposure to sex in movies is okay for your kids? (0 to 5)\")\n",
    "    while True:\n",
    "        prate_sex = input(\"Please enter 0, 1, 2, 3, 4, 5, or ?\")\n",
    "        if (prate_sex == '?' or\n",
    "            prate_sex == '0' or\n",
    "            prate_sex == '1' or\n",
    "            prate_sex == '2' or\n",
    "            prate_sex == '3' or\n",
    "            prate_sex == '4' or\n",
    "            prate_sex == '5'):\n",
    "            if prate_sex == '?':\n",
    "                print(\"An example of a 0 is\", df[df['Sex']==0]['title'].iloc[random.randint(0, len(df[df['Sex']==0])-1)])\n",
    "                print(\"An example of a 3 is\", df[df['Sex']==3]['title'].iloc[random.randint(0, len(df[df['Sex']==3])-1)])\n",
    "                print(\"An example of a 5 is\", df[df['Sex']==5]['title'].iloc[random.randint(0, len(df[df['Sex']==5])-1)])\n",
    "            else:\n",
    "                return prate_sex"
   ]
  },
  {
   "cell_type": "code",
   "execution_count": 15,
   "metadata": {},
   "outputs": [],
   "source": [
    "def get_prate_violence():\n",
    "    prate_violence = []\n",
    "    print(\"What level of exposure to violence is okay for your kids (0 to 5)\")\n",
    "    while True:\n",
    "        prate_violence = input(\"Please enter 0, 1, 2, 3, 4, 5, or ?\")\n",
    "        if (prate_violence == '?' or\n",
    "            prate_violence == '0' or\n",
    "            prate_violence == '1' or\n",
    "            prate_violence == '2' or\n",
    "            prate_violence == '3' or\n",
    "            prate_violence == '4' or\n",
    "            prate_violence == '5'):\n",
    "            if prate_violence == '?':\n",
    "                print(\"An example of a 0 is\", df[df['Violence']==0]['title'].iloc[random.randint(0, len(df[df['Violence']==0])-1)])\n",
    "                print(\"An example of a 3 is\", df[df['Violence']==3]['title'].iloc[random.randint(0, len(df[df['Violence']==3])-1)])\n",
    "                print(\"An example of a 5 is\", df[df['Violence']==5]['title'].iloc[random.randint(0, len(df[df['Violence']==5])-1)])\n",
    "            else:\n",
    "                return prate_violence"
   ]
  },
  {
   "cell_type": "code",
   "execution_count": 16,
   "metadata": {},
   "outputs": [],
   "source": [
    "def get_prate_genre():\n",
    "    prate_genre = []\n",
    "    print(\"What genre of movie would you like to see?\")\n",
    "    while True:\n",
    "        print(\"Please enter Drama, Family and Kids, Comedy, Action/Adventure, Documentary, Thriller,\")\n",
    "        prate_genre = input(\"Horror, Science Fiction, Fantasy, Romance, Musical, Classic, Western, or ?\")\n",
    "        if (prate_genre == '?' or\n",
    "            prate_genre == 'Drama' or\n",
    "            prate_genre == 'Family and Kids' or\n",
    "            prate_genre == 'Comedy' or\n",
    "            prate_genre == 'Action/Adventure' or\n",
    "            prate_genre == 'Documentary' or\n",
    "            prate_genre == 'Thriller' or\n",
    "            prate_genre == 'Horror' or\n",
    "            prate_genre == 'Science Fiction' or\n",
    "            prate_genre == 'Fantasy' or\n",
    "            prate_genre == 'Romance' or\n",
    "            prate_genre == 'Musical' or\n",
    "            prate_genre == 'Classic' or\n",
    "            prate_genre == 'Western'):\n",
    "            if prate_genre == '?':\n",
    "                print(\"An example of a Drama is\", df[df['genre']=='Drama']['title'].iloc[random.randint(0, len(df[df['genre']=='Drama'])-1)])\n",
    "                print(\"An example of a Family and Kids movie is\", df[df['genre']=='Family and Kids']['title'].iloc[random.randint(0, len(df[df['genre']=='Family and Kids'])-1)])\n",
    "                print(\"An example of a Comedy is\", df[df['genre']=='Comedy']['title'].iloc[random.randint(0, len(df[df['genre']=='Comedy'])-1)])\n",
    "                print(\"An example of an Action/Adventure movie is\", df[df['genre']=='Action/Adventure']['title'].iloc[random.randint(0, len(df[df['genre']=='Action/Adventure'])-1)])\n",
    "                print(\"An example of a Documentary is\", df[df['genre']=='Documentary']['title'].iloc[random.randint(0, len(df[df['genre']=='Documentary'])-1)])\n",
    "                print(\"An example of a Thriller is\", df[df['genre']=='Thriller']['title'].iloc[random.randint(0, len(df[df['genre']=='Thriller'])-1)])\n",
    "                print(\"An example of a Horror movie is\", df[df['genre']=='Horror']['title'].iloc[random.randint(0, len(df[df['genre']=='Horror'])-1)])\n",
    "                print(\"An example of a Science Fiction movie is\", df[df['genre']=='Science Fiction']['title'].iloc[random.randint(0, len(df[df['genre']=='Science Fiction'])-1)])\n",
    "                print(\"An example of a Fantasy movie is\", df[df['genre']=='Fantasy']['title'].iloc[random.randint(0, len(df[df['genre']=='Fantasy'])-1)])\n",
    "                print(\"An example of a Romance is\", df[df['genre']=='Romance']['title'].iloc[random.randint(0, len(df[df['genre']=='Romance'])-1)])\n",
    "                print(\"An example of a Musical is\", df[df['genre']=='Musical']['title'].iloc[random.randint(0, len(df[df['genre']=='Musical'])-1)])\n",
    "                print(\"An example of a Classic film is\", df[df['genre']=='Classic']['title'].iloc[random.randint(0, len(df[df['genre']=='Classic'])-1)])\n",
    "                print(\"An example of a Western is\", df[df['genre']=='Western']['title'].iloc[random.randint(0, len(df[df['genre']=='Western'])-1)])\n",
    "            else:\n",
    "                return prate_genre"
   ]
  },
  {
   "cell_type": "code",
   "execution_count": 17,
   "metadata": {},
   "outputs": [],
   "source": [
    "def get_prate_MPAA_rating():\n",
    "    prate_MPAA_rating = []\n",
    "    print(\"Finally, what MPAA rating is the most extreme for your kids (G, PG, PG-13, or R?)\")\n",
    "    while True:\n",
    "        prate_MPAA_rating = input(\"Please enter G, PG, PG-13, R, or ?\")\n",
    "        if (prate_MPAA_rating == '?' or\n",
    "            prate_MPAA_rating == 'G' or\n",
    "            prate_MPAA_rating == 'PG' or\n",
    "            prate_MPAA_rating == 'PG-13' or\n",
    "            prate_MPAA_rating == 'R'):\n",
    "            if prate_MPAA_rating == '?':\n",
    "                print(\"An example of a G rated movie is\", df[df['MPAA_rating']=='G']['title'].iloc[random.randint(0, len(df[df['MPAA_rating']=='G'])-1)])\n",
    "                print(\"An example of a PG rated movie is\", df[df['MPAA_rating']=='PG']['title'].iloc[random.randint(0, len(df[df['MPAA_rating']=='PG'])-1)])\n",
    "                print(\"An example of a PG-13 rated movie is\", df[df['MPAA_rating']=='PG-13']['title'].iloc[random.randint(0, len(df[df['MPAA_rating']=='PG-13'])-1)])\n",
    "                print(\"An example of an R rated movie is\", df[df['MPAA_rating']=='R']['title'].iloc[random.randint(0, len(df[df['MPAA_rating']=='R'])-1)])\n",
    "            else:\n",
    "                return prate_MPAA_rating"
   ]
  },
  {
   "cell_type": "code",
   "execution_count": 18,
   "metadata": {},
   "outputs": [],
   "source": [
    "def get_parent_ratings_youngsters():\n",
    "    print(\"I have just 9 more questions for you. Respond with a ? if you'd like some examples.\")\n",
    "    wants_educational = get_wants_educational()  \n",
    "    prate_sexy_stuff = get_prate_sexy_stuff()\n",
    "    prate_violence_scariness = get_prate_violence_scariness()\n",
    "    prate_consumerism = get_prate_consumerism()\n",
    "    prate_drinking_drugs_smoking = get_prate_drinking_drugs_smoking()\n",
    "    prate_language = get_prate_language()\n",
    "    prate_positive_messages = get_prate_positive_messages()\n",
    "    prate_genre = get_prate_genre()\n",
    "    prate_MPAA_rating = get_prate_MPAA_rating()\n",
    "    print(\"Thank you!\")\n",
    "    \n",
    "    return wants_educational, prate_sexy_stuff, prate_violence_scariness, prate_consumerism, prate_drinking_drugs_smoking, prate_language, prate_positive_messages, prate_genre, prate_MPAA_rating"
   ]
  },
  {
   "cell_type": "code",
   "execution_count": 19,
   "metadata": {},
   "outputs": [],
   "source": [
    "def get_parent_ratings_tweens():\n",
    "    print(\"I have just 8 more questions for you. Respond with a ? if you'd like some examples.\")\n",
    "    prate_consumerism = get_prate_consumerism()\n",
    "    prate_drinking_drugs_smoking = get_prate_drinking_drugs_smoking()\n",
    "    prate_language = get_prate_language()\n",
    "    prate_positive_messages = get_prate_positive_messages()\n",
    "    prate_sex = get_prate_sex()\n",
    "    prate_violence = get_prate_violence()\n",
    "    prate_genre = get_prate_genre()\n",
    "    prate_MPAA_rating = get_prate_MPAA_rating()\n",
    "    print(\"Thank you!\")\n",
    "\n",
    "    return prate_consumerism, prate_drinking_drugs_smoking, prate_language, prate_positive_messages, prate_sex, prate_violence, prate_genre, prate_MPAA_rating\n"
   ]
  },
  {
   "cell_type": "code",
   "execution_count": 20,
   "metadata": {},
   "outputs": [],
   "source": [
    "### N.B., this function is written for interface.py and won't work in this notebook by itself.\n",
    "### It requires code developed in MovieRec4Parents5.1_NLP-TF-IDF_Vectorizer... and so will\n",
    "### only work when code is combined, as it was in interface.py\n",
    "\n",
    "def get_parent_ratings_first():\n",
    "    print(\"Welcome to MovieRec4Parents! Let me ask you a few questions before we begin.\")\n",
    "    num_children, children_ages = get_num_children_and_ages()\n",
    "    youngsters = age_checker(children_ages)\n",
    "    if youngsters == 1:\n",
    "        wants_educational, prate_sexy_stuff, prate_violence_scariness, prate_consumerism, prate_drinking_drugs_smoking, prate_language, prate_positive_messages, prate_genre, prate_MPAA_rating = get_parent_ratings_youngsters()\n",
    "        parent_ratings = youngsters, wants_educational, prate_sexy_stuff, prate_violence_scariness, prate_consumerism, prate_drinking_drugs_smoking, prate_language, prate_positive_messages, prate_genre, prate_MPAA_rating\n",
    "\n",
    "    else:\n",
    "        prate_consumerism, prate_drinking_drugs_smoking, prate_language, prate_positive_messages, prate_sex, prate_violence, prate_genre, prate_MPAA_rating = get_parent_ratings_tweens()\n",
    "        parent_ratings = youngsters, prate_consumerism, prate_drinking_drugs_smoking, prate_language, prate_positive_messages, prate_genre, prate_MPAA_rating\n",
    "    movie_all_recs = find_all_similar_movies()\n",
    "    if youngsters == 1:\n",
    "        movie_recs = filter_movies_for_youngsters(parent_ratings, movie_all_recs, df_for_young)\n",
    "        return movie_recs\n",
    "    else:\n",
    "        movie_recs = filter_movies_for_tweens(parent_ratings, movie_all_recs, df)\n",
    "        return movie_recs"
   ]
  },
  {
   "cell_type": "markdown",
   "metadata": {},
   "source": [
    "### The following functions are not technically written in this notebook. They are for use in interface.py, the custom function that I wrote for use with Notebook 8. They are stored here for additional safe-keeping."
   ]
  },
  {
   "cell_type": "code",
   "execution_count": 23,
   "metadata": {},
   "outputs": [],
   "source": [
    "### For use with df = movies_processed_nontext_features.\n",
    "def filter_movies_for_youngsters(parent_ratings, rec_movie_names, df):\n",
    "    '''\n",
    "    Will take in parent ratings, the indicies of recommended movies based on the single\n",
    "    movie selection by the parent, and a df that contains nontext features of movies\n",
    "    that are exclusively for youngsters (created by dropping all but movies that have\n",
    "    a rating for Sexy Stuff, the most restrictive such screening variable). Function\n",
    "    will filter the movie list according to family standards described by parents and\n",
    "    generate the top 5 movies that meet parent expectations.\n",
    "    '''\n",
    "    _, wants_educational, prate_sexy_stuff, prate_violence_scariness, prate_consumerism, prate_drinking_drugs_smoking, prate_language, prate_positive_messages, prate_genre, prate_MPAA_rating = parent_ratings\n",
    "    recs_filtered = []\n",
    "    if wants_educational == 'y':\n",
    "        want_educ = 1\n",
    "    else:\n",
    "        want_educ = 0\n",
    "    for movie in rec_movie_names.index:\n",
    "        if df.loc[movie, 'is_educational'] == want_educ and df.loc[movie, 'Sexy Stuff'] <= int(prate_sexy_stuff) and df.loc[movie, 'Violence & Scariness'] <= int(prate_violence_scariness) and df.loc[movie, 'Consumerism'] <= int(prate_consumerism) and df.loc[movie, 'Drinking, Drugs & Smoking'] <= int(prate_drinking_drugs_smoking) and df.loc[movie, 'Language'] <= int(prate_language) and df.loc[movie, 'Positive Messages'] >= int(prate_positive_messages) and df.loc[movie, 'genre'] == prate_genre and df.loc[movie, 'MPAA_ordinal'] <= prate_MPAA_rating:\n",
    "            recs_filtered.append(movie)\n",
    "        if len(recs_filtered) == 5:\n",
    "            break\n",
    "    if len(recs_filtered) < 5:\n",
    "        print(\"Sorry, not enough movies in my list met your conditions. I recommend Toy Story!\")\n",
    "    if len(recs_filtered) > 0:\n",
    "        print(\"Here are your recommended movies:\")\n",
    "    return recs_filtered"
   ]
  },
  {
   "cell_type": "code",
   "execution_count": 24,
   "metadata": {},
   "outputs": [],
   "source": [
    "def filter_movies_for_tweens(parent_ratings, rec_movie_names, df):\n",
    "    '''\n",
    "    Will take in parent ratings, the indicies of recommended movies based on the single\n",
    "    movie selection by the parent, and a df that contains nontext features of movies\n",
    "    that are exclusively for youngsters (created by dropping all but movies that have\n",
    "    a rating for Violence & Scariness, the most inclusive such screening variable). Function\n",
    "    will filter the movie list according to family standards described by parents and\n",
    "    generate the top 5 movies that meet parent expectations.\n",
    "    '''\n",
    "    _, prate_consumerism, prate_drinking_drugs_smoking, prate_language, prate_positive_messages, prate_sex, prate_violence, prate_genre, prate_MPAA_rating = parent_ratings\n",
    "\n",
    "    recs_filtered = []\n",
    "    for movie in rec_movie_names.index:\n",
    "        if df.loc[movie, 'Consumerism'] <= int(prate_consumerism) and df.loc[movie, 'Drinking, Drugs & Smoking'] <= int(prate_drinking_drugs_smoking) and df.loc[movie, 'Language'] <= int(prate_language) and df.loc[movie, 'Positive Messages'] >= int(prate_positive_messages) and df.loc[movie, 'Sex'] >= int(prate_sex) and df.loc[movie, 'Violence'] >= int(prate_violence) and df.loc[movie, 'genre'] == prate_genre and df.loc[movie, 'MPAA_ordinal'] <= prate_MPAA_rating:\n",
    "            recs_filtered.append(movie)\n",
    "        if len(recs_filtered) == 5:\n",
    "            break\n",
    "    if len(recs_filtered) < 5:\n",
    "        print(\"Sorry, not enough movies in my list met your conditions. I recommend Back to the Future!\")\n",
    "    if len(recs_filtered) > 0:\n",
    "        print(\"Here are your recommended movies:\")\n",
    "    return recs_filtered"
   ]
  },
  {
   "cell_type": "code",
   "execution_count": null,
   "metadata": {},
   "outputs": [],
   "source": []
  }
 ],
 "metadata": {
  "kernelspec": {
   "display_name": "Python [default]",
   "language": "python",
   "name": "python3"
  },
  "language_info": {
   "codemirror_mode": {
    "name": "ipython",
    "version": 3
   },
   "file_extension": ".py",
   "mimetype": "text/x-python",
   "name": "python",
   "nbconvert_exporter": "python",
   "pygments_lexer": "ipython3",
   "version": "3.6.4"
  }
 },
 "nbformat": 4,
 "nbformat_minor": 2
}

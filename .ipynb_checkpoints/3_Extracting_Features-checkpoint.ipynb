{
 "cells": [
  {
   "cell_type": "markdown",
   "metadata": {},
   "source": [
    "## Eliminate Duplicates and Extract Movie Features from Scraped Data\n",
    "#### In this notebook, we take movies from the previous notebook, identify and eliminate duplicate movies, and further clean and extract important movie features and rearrange them to facilitate analysis. Extracted features are then saved for further cleaning in Notebook 4."
   ]
  },
  {
   "cell_type": "code",
   "execution_count": 1,
   "metadata": {},
   "outputs": [],
   "source": [
    "import pandas as pd\n",
    "import seaborn as sns\n",
    "import requests, re, json, time\n",
    "from bs4 import BeautifulSoup as bs4"
   ]
  },
  {
   "cell_type": "markdown",
   "metadata": {},
   "source": [
    "### Import movies_features files"
   ]
  },
  {
   "cell_type": "code",
   "execution_count": 2,
   "metadata": {},
   "outputs": [],
   "source": [
    "# Load json of movies_features. N.B., this notebook is set up to use data scraped previously\n",
    "# and unfortunately too large to push to GitHub. If you'd like to replicate this process,\n",
    "# go to https://drive.google.com/open?id=19VPd3pdjrwVV56OVDNtKo2o_V3afwrvU to get this file\n",
    "# and put in the /data file.\n",
    "with open('data/movies_features_0_to_8779_less_2.json') as json_file:  \n",
    "    movies_features = json.load(json_file)"
   ]
  },
  {
   "cell_type": "code",
   "execution_count": 3,
   "metadata": {},
   "outputs": [],
   "source": [
    "# Run cell if yoU want to see movies_features of first 3 movies\n",
    "# movies_features[0:2]"
   ]
  },
  {
   "cell_type": "markdown",
   "metadata": {},
   "source": [
    "### Identify and Eliminate Duplicate Movies\n",
    "#### Data placed into a pandas DataFrame to facilitate efficient examination of features and identification of duplicate movies. Of the 8778 movies in our collection, 8625 are unique (98.3%). 153 movies dropped."
   ]
  },
  {
   "cell_type": "code",
   "execution_count": 4,
   "metadata": {},
   "outputs": [],
   "source": [
    "df = pd.DataFrame(movies_features)"
   ]
  },
  {
   "cell_type": "code",
   "execution_count": 5,
   "metadata": {},
   "outputs": [
    {
     "data": {
      "text/html": [
       "<div>\n",
       "<style scoped>\n",
       "    .dataframe tbody tr th:only-of-type {\n",
       "        vertical-align: middle;\n",
       "    }\n",
       "\n",
       "    .dataframe tbody tr th {\n",
       "        vertical-align: top;\n",
       "    }\n",
       "\n",
       "    .dataframe thead th {\n",
       "        text-align: right;\n",
       "    }\n",
       "</style>\n",
       "<table border=\"1\" class=\"dataframe\">\n",
       "  <thead>\n",
       "    <tr style=\"text-align: right;\">\n",
       "      <th></th>\n",
       "      <th>age</th>\n",
       "      <th>family_topics</th>\n",
       "      <th>is_it_any_good</th>\n",
       "      <th>movie_details_raw</th>\n",
       "      <th>movie_id</th>\n",
       "      <th>one_line_description</th>\n",
       "      <th>overall_rating</th>\n",
       "      <th>parental_rating_and_spoilers_raw</th>\n",
       "      <th>slug</th>\n",
       "      <th>title</th>\n",
       "      <th>what_is_the_story_raw</th>\n",
       "      <th>what_parents_need_to_know_raw</th>\n",
       "    </tr>\n",
       "  </thead>\n",
       "  <tbody>\n",
       "    <tr>\n",
       "      <th>0</th>\n",
       "      <td>age 17+</td>\n",
       "      <td>Families can talk about Sicario: Day of the So...</td>\n",
       "      <td>This sequel to Sicario is solid enough in its ...</td>\n",
       "      <td>\\nMovie details\\n\\n\\nIn theaters: June 29, 201...</td>\n",
       "      <td>0</td>\n",
       "      <td>Solid drug war sequel has intense violence, la...</td>\n",
       "      <td>3</td>\n",
       "      <td>[&lt;div class=\"field field-name-field-collection...</td>\n",
       "      <td>sicario-day-of-the-soldado</td>\n",
       "      <td>Sicario: Day of the Soldado</td>\n",
       "      <td>In SICARIO: DAY OF THE SOLDADO, the drug wars ...</td>\n",
       "      <td>&lt;div class=\"field field-name-field-parents-nee...</td>\n",
       "    </tr>\n",
       "    <tr>\n",
       "      <th>1</th>\n",
       "      <td>age 16+</td>\n",
       "      <td>Families can talk about Damsel's use of violen...</td>\n",
       "      <td>This very odd Western, which is peppered with ...</td>\n",
       "      <td>\\nMovie details\\n\\n\\nIn theaters: June 22, 201...</td>\n",
       "      <td>1</td>\n",
       "      <td>Unusual, uneven Western has violence, language...</td>\n",
       "      <td>3</td>\n",
       "      <td>[&lt;div class=\"field field-name-field-collection...</td>\n",
       "      <td>damsel</td>\n",
       "      <td>Damsel</td>\n",
       "      <td>DAMSEL takes place in the Old West, with Samue...</td>\n",
       "      <td>&lt;div class=\"field field-name-field-parents-nee...</td>\n",
       "    </tr>\n",
       "    <tr>\n",
       "      <th>2</th>\n",
       "      <td>age 15+</td>\n",
       "      <td>Families can talk about the rapid-fire disturb...</td>\n",
       "      <td>This thriller owes obvious debts to movies lik...</td>\n",
       "      <td>\\nMovie details\\n\\n\\nIn theaters: June 22, 201...</td>\n",
       "      <td>2</td>\n",
       "      <td>Rapid-fire disturbing images in paranoid thril...</td>\n",
       "      <td>2</td>\n",
       "      <td>[&lt;div class=\"field field-name-field-collection...</td>\n",
       "      <td>distorted</td>\n",
       "      <td>Distorted</td>\n",
       "      <td>In DISTORTED, a disturbed woman named Lauren (...</td>\n",
       "      <td>&lt;div class=\"field field-name-field-parents-nee...</td>\n",
       "    </tr>\n",
       "    <tr>\n",
       "      <th>3</th>\n",
       "      <td>age 15+</td>\n",
       "      <td>Families can talk about Berg's sexual orientat...</td>\n",
       "      <td>This thriller is very well written and acted, ...</td>\n",
       "      <td>\\nMovie details\\n\\n\\nIn theaters: June 22, 201...</td>\n",
       "      <td>3</td>\n",
       "      <td>Well-made spy thriller has some war violence, ...</td>\n",
       "      <td>4</td>\n",
       "      <td>[&lt;div class=\"field field-name-field-collection...</td>\n",
       "      <td>the-catcher-was-a-spy</td>\n",
       "      <td>The Catcher Was a Spy</td>\n",
       "      <td>THE CATCHER WAS A SPY is based on the true sto...</td>\n",
       "      <td>&lt;div class=\"field field-name-field-parents-nee...</td>\n",
       "    </tr>\n",
       "    <tr>\n",
       "      <th>4</th>\n",
       "      <td>age 16+</td>\n",
       "      <td>Families can talk about how Boundaries portray...</td>\n",
       "      <td>Though blessed with outstanding performers, th...</td>\n",
       "      <td>\\nMovie details\\n\\n\\nIn theaters: June 22, 201...</td>\n",
       "      <td>4</td>\n",
       "      <td>Indie road-trip dramedy has pot dealing/smoking.</td>\n",
       "      <td>2</td>\n",
       "      <td>[&lt;div class=\"field field-name-field-collection...</td>\n",
       "      <td>boundaries</td>\n",
       "      <td>Boundaries</td>\n",
       "      <td>In BOUNDARIES, single mom Laura Jaconi (Vera F...</td>\n",
       "      <td>&lt;div class=\"field field-name-field-parents-nee...</td>\n",
       "    </tr>\n",
       "  </tbody>\n",
       "</table>\n",
       "</div>"
      ],
      "text/plain": [
       "       age                                      family_topics  \\\n",
       "0  age 17+  Families can talk about Sicario: Day of the So...   \n",
       "1  age 16+  Families can talk about Damsel's use of violen...   \n",
       "2  age 15+  Families can talk about the rapid-fire disturb...   \n",
       "3  age 15+  Families can talk about Berg's sexual orientat...   \n",
       "4  age 16+  Families can talk about how Boundaries portray...   \n",
       "\n",
       "                                      is_it_any_good  \\\n",
       "0  This sequel to Sicario is solid enough in its ...   \n",
       "1  This very odd Western, which is peppered with ...   \n",
       "2  This thriller owes obvious debts to movies lik...   \n",
       "3  This thriller is very well written and acted, ...   \n",
       "4  Though blessed with outstanding performers, th...   \n",
       "\n",
       "                                   movie_details_raw  movie_id  \\\n",
       "0  \\nMovie details\\n\\n\\nIn theaters: June 29, 201...         0   \n",
       "1  \\nMovie details\\n\\n\\nIn theaters: June 22, 201...         1   \n",
       "2  \\nMovie details\\n\\n\\nIn theaters: June 22, 201...         2   \n",
       "3  \\nMovie details\\n\\n\\nIn theaters: June 22, 201...         3   \n",
       "4  \\nMovie details\\n\\n\\nIn theaters: June 22, 201...         4   \n",
       "\n",
       "                                one_line_description overall_rating  \\\n",
       "0  Solid drug war sequel has intense violence, la...              3   \n",
       "1  Unusual, uneven Western has violence, language...              3   \n",
       "2  Rapid-fire disturbing images in paranoid thril...              2   \n",
       "3  Well-made spy thriller has some war violence, ...              4   \n",
       "4   Indie road-trip dramedy has pot dealing/smoking.              2   \n",
       "\n",
       "                    parental_rating_and_spoilers_raw  \\\n",
       "0  [<div class=\"field field-name-field-collection...   \n",
       "1  [<div class=\"field field-name-field-collection...   \n",
       "2  [<div class=\"field field-name-field-collection...   \n",
       "3  [<div class=\"field field-name-field-collection...   \n",
       "4  [<div class=\"field field-name-field-collection...   \n",
       "\n",
       "                         slug                        title  \\\n",
       "0  sicario-day-of-the-soldado  Sicario: Day of the Soldado   \n",
       "1                      damsel                       Damsel   \n",
       "2                   distorted                    Distorted   \n",
       "3       the-catcher-was-a-spy        The Catcher Was a Spy   \n",
       "4                  boundaries                   Boundaries   \n",
       "\n",
       "                               what_is_the_story_raw  \\\n",
       "0  In SICARIO: DAY OF THE SOLDADO, the drug wars ...   \n",
       "1  DAMSEL takes place in the Old West, with Samue...   \n",
       "2  In DISTORTED, a disturbed woman named Lauren (...   \n",
       "3  THE CATCHER WAS A SPY is based on the true sto...   \n",
       "4  In BOUNDARIES, single mom Laura Jaconi (Vera F...   \n",
       "\n",
       "                       what_parents_need_to_know_raw  \n",
       "0  <div class=\"field field-name-field-parents-nee...  \n",
       "1  <div class=\"field field-name-field-parents-nee...  \n",
       "2  <div class=\"field field-name-field-parents-nee...  \n",
       "3  <div class=\"field field-name-field-parents-nee...  \n",
       "4  <div class=\"field field-name-field-parents-nee...  "
      ]
     },
     "execution_count": 5,
     "metadata": {},
     "output_type": "execute_result"
    }
   ],
   "source": [
    "df.head()"
   ]
  },
  {
   "cell_type": "code",
   "execution_count": 6,
   "metadata": {},
   "outputs": [
    {
     "data": {
      "text/plain": [
       "8778"
      ]
     },
     "execution_count": 6,
     "metadata": {},
     "output_type": "execute_result"
    }
   ],
   "source": [
    "len(df)"
   ]
  },
  {
   "cell_type": "code",
   "execution_count": 7,
   "metadata": {},
   "outputs": [
    {
     "data": {
      "text/plain": [
       "8625"
      ]
     },
     "execution_count": 7,
     "metadata": {},
     "output_type": "execute_result"
    }
   ],
   "source": [
    "len(df.title.unique())"
   ]
  },
  {
   "cell_type": "code",
   "execution_count": 8,
   "metadata": {},
   "outputs": [
    {
     "data": {
      "text/plain": [
       "0.98257006151743"
      ]
     },
     "execution_count": 8,
     "metadata": {},
     "output_type": "execute_result"
    }
   ],
   "source": [
    "# 98.26% of movies are unique.\n",
    "8625/8778"
   ]
  },
  {
   "cell_type": "code",
   "execution_count": 9,
   "metadata": {},
   "outputs": [],
   "source": [
    "df.drop_duplicates('title', inplace=True)"
   ]
  },
  {
   "cell_type": "code",
   "execution_count": 10,
   "metadata": {},
   "outputs": [
    {
     "data": {
      "text/plain": [
       "8625"
      ]
     },
     "execution_count": 10,
     "metadata": {},
     "output_type": "execute_result"
    }
   ],
   "source": [
    "len(df) "
   ]
  },
  {
   "cell_type": "code",
   "execution_count": 11,
   "metadata": {},
   "outputs": [],
   "source": [
    "movies_features = df.to_dict('records')"
   ]
  },
  {
   "cell_type": "code",
   "execution_count": 12,
   "metadata": {},
   "outputs": [],
   "source": [
    "# Run cell if you want to see first 3 movies from movies_features\n",
    "# movies_features[0:2]"
   ]
  },
  {
   "cell_type": "markdown",
   "metadata": {},
   "source": [
    "## Partial Cleaning and Extracting of Movie Features:\n",
    "#### Some of the features scraped in the previous notebook need to be extracted in order to flatten movie ratings and other details that may be of importance to family members (e.g., cast, director, movie run time, etc.). I will also prepare text to be used to create a corpus of words used to describe the movie. This will be useful in determining what movies are similar to one another for our recommender."
   ]
  },
  {
   "cell_type": "markdown",
   "metadata": {},
   "source": [
    "### Helper Functions to Extract Movie Details, Parental Ratings, etc.:"
   ]
  },
  {
   "cell_type": "code",
   "execution_count": 13,
   "metadata": {},
   "outputs": [],
   "source": [
    "def extract_movie_details(movie_details):\n",
    "    details = []\n",
    "    values = []\n",
    "    details_lines = re.split('\\n', movie_details)\n",
    "    for line in details_lines:\n",
    "        try:\n",
    "            detail_name, detail_value, temp = re.split(':(.*)', line)\n",
    "            details.append(detail_name)\n",
    "            values.append(detail_value)\n",
    "        except:   # if there is not a : in the line, it will ignore line\n",
    "            pass\n",
    "    \n",
    "    return dict(zip(details, values))"
   ]
  },
  {
   "cell_type": "code",
   "execution_count": 14,
   "metadata": {},
   "outputs": [],
   "source": [
    "def extract_parental_ratings_and_spoilers(parental_ratings):\n",
    "    soup = bs4(parental_ratings, 'lxml')\n",
    "    ratings = [re.findall('\\d', str(x))[0] for x in soup.find_all('div', attrs={'class':'content-grid-rating'})]\n",
    "    labels = [x.get_text() for x in soup.find_all('span', attrs={'class':\"sprite-cover\"})]\n",
    "    spoilers = [x.get_text() for x in soup.find_all('div', attrs={'class': 'field-type-text-long'})]\n",
    "    return dict(zip(labels, ratings)), spoilers   "
   ]
  },
  {
   "cell_type": "code",
   "execution_count": 15,
   "metadata": {},
   "outputs": [],
   "source": [
    "def text_what_parents_need_to_know(what_parents_need_to_know):\n",
    "    soup = bs4(what_parents_need_to_know, 'lxml')\n",
    "    what_parents_need_to_know_text = soup.get_text()\n",
    "    \n",
    "    return what_parents_need_to_know_text"
   ]
  },
  {
   "cell_type": "code",
   "execution_count": 16,
   "metadata": {},
   "outputs": [],
   "source": [
    "def extract_features_from_a_movie(movie_num):\n",
    "    extracted_feat = {}\n",
    "    movie_id = movies_features[movie_num]['movie_id']\n",
    "    movie_details_dict = extract_movie_details(movies_features[movie_num]['movie_details_raw'])\n",
    "    parent_ratings_dict, spoilers = extract_parental_ratings_and_spoilers(movies_features[movie_num]['parental_rating_and_spoilers_raw'])\n",
    "    what_parents_need_to_know_text = text_what_parents_need_to_know(movies_features[movie_num]['what_parents_need_to_know_raw'])\n",
    "    \n",
    "    extracted_feat['movie_id'] = movie_id\n",
    "    extracted_feat['movie_details_dict'] = movie_details_dict\n",
    "    extracted_feat['parent_ratings_dict'] = parent_ratings_dict\n",
    "    extracted_feat['spoilers'] = spoilers\n",
    "    extracted_feat['what_parents_need_to_know_text'] = what_parents_need_to_know_text\n",
    "    extracted_feat['family_topics'] = movies_features[movie_num]['family_topics']\n",
    "    extracted_feat['is_it_any_good'] = movies_features[movie_num]['is_it_any_good']\n",
    "    extracted_feat['what_is_the_story'] = movies_features[movie_num]['what_is_the_story_raw']\n",
    "    extracted_feat['age'] = movies_features[movie_num]['age']\n",
    "    extracted_feat['one_line_description'] = movies_features[movie_num]['one_line_description']\n",
    "    extracted_feat['overall_rating'] = movies_features[movie_num]['overall_rating']\n",
    "    extracted_feat['slug'] = movies_features[movie_num]['slug']\n",
    "    extracted_feat['title'] = movies_features[movie_num]['title']\n",
    "    return extracted_feat"
   ]
  },
  {
   "cell_type": "code",
   "execution_count": 17,
   "metadata": {},
   "outputs": [],
   "source": [
    "# Run cell if you want to see example of features extracted from a single movie.\n",
    "# extract_features_from_a_movie(0)"
   ]
  },
  {
   "cell_type": "markdown",
   "metadata": {},
   "source": [
    "### Extract Features from all movies"
   ]
  },
  {
   "cell_type": "code",
   "execution_count": 18,
   "metadata": {},
   "outputs": [],
   "source": [
    "extracted_movies = []\n",
    "def extract_features_from_many_movies(first_movie, num_movies_to_extract):\n",
    "    '''\n",
    "    Follow DocString Conventions and annotate functions\n",
    "    '''\n",
    "    movie_features = {}\n",
    "    for movie in range(num_movies_to_extract):\n",
    "        movie = (movie + first_movie)\n",
    "        if movie % 100 == 0:\n",
    "            print(movie)\n",
    "        extracted_features = extract_features_from_a_movie(movie)\n",
    "        extracted_movies.append(extracted_features)\n",
    "    return extracted_movies"
   ]
  },
  {
   "cell_type": "code",
   "execution_count": 19,
   "metadata": {
    "scrolled": false
   },
   "outputs": [],
   "source": [
    "# Leave this cell commented out unless you want to extract features from movies again.\n",
    "# If you have run previous cells and now have a different number of movies to extract,\n",
    "# adjust the num_movies_to_extract appropriately.\n",
    "# extracted_movies = extract_features_from_many_movies(0,8625)"
   ]
  },
  {
   "cell_type": "code",
   "execution_count": 20,
   "metadata": {},
   "outputs": [],
   "source": [
    "# Cell commented out to supress extra text. Run if you'd like to see extracted features\n",
    "# extracted_movies[-1]"
   ]
  },
  {
   "cell_type": "markdown",
   "metadata": {},
   "source": [
    "### Export Extracted Movie Features for Further Cleaning and NLP"
   ]
  },
  {
   "cell_type": "code",
   "execution_count": 21,
   "metadata": {},
   "outputs": [],
   "source": [
    "# Uncomment if you have run prior notebooks and want to update movie recommender system\n",
    "# with open('data/extracted_movies.json', 'w') as output:\n",
    "#     json.dump(extracted_movies, output)   "
   ]
  },
  {
   "cell_type": "markdown",
   "metadata": {},
   "source": [
    "#### Extracted features from movies saved to json file for final cleaning and division into text and non-text features in the next notebook."
   ]
  },
  {
   "cell_type": "code",
   "execution_count": null,
   "metadata": {},
   "outputs": [],
   "source": []
  }
 ],
 "metadata": {
  "kernelspec": {
   "display_name": "Python [default]",
   "language": "python",
   "name": "python3"
  },
  "language_info": {
   "codemirror_mode": {
    "name": "ipython",
    "version": 3
   },
   "file_extension": ".py",
   "mimetype": "text/x-python",
   "name": "python",
   "nbconvert_exporter": "python",
   "pygments_lexer": "ipython3",
   "version": "3.6.4"
  }
 },
 "nbformat": 4,
 "nbformat_minor": 2
}

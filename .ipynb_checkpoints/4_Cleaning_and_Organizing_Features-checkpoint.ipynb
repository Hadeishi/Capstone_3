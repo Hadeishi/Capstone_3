{
 "cells": [
  {
   "cell_type": "markdown",
   "metadata": {},
   "source": [
    "## Cleaning and Organizing Text and Non-Text Features\n",
    "#### Movie data imported from the previous notebook for final preprocessing and division into text and non-text features. Text features first cleaned using REGEX and concatenated into a single feature. Text will be further processed in Notebook 5. Non-text features (MPAA rating, genre and \"parental concerns ratings'\" see below) were extracted and put into a separate list for exploratory data analysis in Notebook 6."
   ]
  },
  {
   "cell_type": "markdown",
   "metadata": {},
   "source": [
    "### Importing Extracted Features for Preprocessing"
   ]
  },
  {
   "cell_type": "code",
   "execution_count": 1,
   "metadata": {},
   "outputs": [],
   "source": [
    "import pandas as pd\n",
    "import seaborn as sns\n",
    "import requests, re, json, copy\n",
    "from bs4 import BeautifulSoup as bs4"
   ]
  },
  {
   "cell_type": "code",
   "execution_count": 2,
   "metadata": {},
   "outputs": [],
   "source": [
    "# Load json of extracted movie data. Unless you have run prior notebooks, extracted_movies\n",
    "# currently has data from an early version that contains 8625 movies.\n",
    "with open('data/extracted_movies.json') as json_file:  \n",
    "    extracted_movies = json.load(json_file)"
   ]
  },
  {
   "cell_type": "code",
   "execution_count": 3,
   "metadata": {},
   "outputs": [
    {
     "data": {
      "text/plain": [
       "'Sicario: Day of the Soldado'"
      ]
     },
     "execution_count": 3,
     "metadata": {},
     "output_type": "execute_result"
    }
   ],
   "source": [
    "extracted_movies[0]['title']"
   ]
  },
  {
   "cell_type": "markdown",
   "metadata": {},
   "source": [
    "### Clean and Concatenate Text: Remove Artifacts, Contractions, Punctuation"
   ]
  },
  {
   "cell_type": "markdown",
   "metadata": {},
   "source": [
    "#### Clean and combine text features into single feature called text. These features include what_parents_need_to_know_text, family_topics, what_is_the_story,  is_it_any_good, one_line_description, and spoilers. This text was put into a list along with the movie title, the movie_id and the slug so the correct web page can be accessed if the movie is recommended."
   ]
  },
  {
   "cell_type": "code",
   "execution_count": 4,
   "metadata": {},
   "outputs": [],
   "source": [
    "def text_cleaner(text):\n",
    "    return re.sub(r\"(\\'s|\\'d}|\\'t|\\'m|\\'re|\\xa0|\\n|/)\", ' ', text)"
   ]
  },
  {
   "cell_type": "code",
   "execution_count": 5,
   "metadata": {},
   "outputs": [],
   "source": [
    "def clean_text_for_movie(movie_num):\n",
    "    cleaned_movies = {}\n",
    "    clean_text = []\n",
    "    clean_text.append(text_cleaner(extracted_movies[movie_num]['family_topics']))\n",
    "    clean_text.append(text_cleaner(extracted_movies[movie_num]['is_it_any_good']))\n",
    "    clean_text.append(text_cleaner(extracted_movies[movie_num]['one_line_description']))\n",
    "    clean_text.append(text_cleaner(' '.join(extracted_movies[movie_num]['spoilers'])))\n",
    "    clean_text.append(text_cleaner(extracted_movies[movie_num]['what_is_the_story']))\n",
    "    clean_text.append(text_cleaner(extracted_movies[movie_num]['what_parents_need_to_know_text']))\n",
    "    try:\n",
    "        clean_text.append(text_cleaner(extracted_movies[movie_num]['movie_details_dict']['MPAA explanation']))\n",
    "    except KeyError:  # some are rated NR, so have no MPAA explanation\n",
    "        pass    \n",
    "    try:\n",
    "        clean_text.append(text_cleaner(extracted_movies[movie_num]['movie_details_dict']['Character Strengths']))\n",
    "    except KeyError:  # not every movie has character strengths listed\n",
    "        pass\n",
    "    try:\n",
    "        clean_text.append(text_cleaner(extracted_movies[movie_num]['movie_details_dict']['Topics']))\n",
    "    except KeyError:  # not every movie has topics listed\n",
    "        pass\n",
    "                                       \n",
    "    cleaned_movies['text'] = ' '.join(clean_text)\n",
    "    cleaned_movies['movie_id'] = extracted_movies[movie_num]['movie_id']\n",
    "    cleaned_movies['title'] = extracted_movies[movie_num]['title']\n",
    "    cleaned_movies['slug'] = extracted_movies[movie_num]['slug']\n",
    "    return cleaned_movies"
   ]
  },
  {
   "cell_type": "code",
   "execution_count": 6,
   "metadata": {},
   "outputs": [],
   "source": [
    "movies_features_text = []\n",
    "def clean_text_for_many_movies(first_movie, num_movies_to_clean):\n",
    "    movie_text = {}  # container for all text from one movie\n",
    "    for movie in range(num_movies_to_clean):\n",
    "        movie = (movie + first_movie)\n",
    "        if movie % 1000 == 0:\n",
    "            print(movie)\n",
    "        movie_text = clean_text_for_movie(movie)\n",
    "        movies_features_text.append(movie_text)\n",
    "    return movies_features_text"
   ]
  },
  {
   "cell_type": "code",
   "execution_count": 7,
   "metadata": {},
   "outputs": [
    {
     "name": "stdout",
     "output_type": "stream",
     "text": [
      "0\n",
      "1000\n",
      "2000\n",
      "3000\n",
      "4000\n",
      "5000\n",
      "6000\n",
      "7000\n",
      "8000\n"
     ]
    }
   ],
   "source": [
    "movies_features_text = clean_text_for_many_movies(0, len(extracted_movies))"
   ]
  },
  {
   "cell_type": "code",
   "execution_count": 8,
   "metadata": {},
   "outputs": [
    {
     "data": {
      "text/plain": [
       "8625"
      ]
     },
     "execution_count": 8,
     "metadata": {},
     "output_type": "execute_result"
    }
   ],
   "source": [
    "len(movies_features_text)"
   ]
  },
  {
   "cell_type": "markdown",
   "metadata": {},
   "source": [
    "#### movies_features_text is a list of dictionaries, each of which contains the words associated with a particular movie. Along with these words are three unique movie identifiers, the title of the movie, a slug which can be used to pull up a Common Sense Media web page for the movie, and a movie_id number."
   ]
  },
  {
   "cell_type": "markdown",
   "metadata": {},
   "source": [
    "## Create Other Features List\n",
    "#### This second list of dictionaries will contain non-text features associated with movies including Age, Overall Movie Rating, Genre, and Parental Concerns Ratings. In Theatres, DVD/Streaming MPAA Also mark with movie_id, title, and slug."
   ]
  },
  {
   "cell_type": "code",
   "execution_count": 9,
   "metadata": {
    "scrolled": false
   },
   "outputs": [
    {
     "data": {
      "text/plain": [
       "dict_keys(['Positive Messages', 'Positive Role Models & Representations', 'Violence', 'Sex', 'Language', 'Consumerism', 'Drinking, Drugs & Smoking'])"
      ]
     },
     "execution_count": 9,
     "metadata": {},
     "output_type": "execute_result"
    }
   ],
   "source": [
    "extracted_movies[0]['parent_ratings_dict'].keys()"
   ]
  },
  {
   "cell_type": "markdown",
   "metadata": {},
   "source": [
    "### Create lists of features that exist only in certain movies, not all\n",
    "#### There are two groups of features that exist only in some of the movies, ratings on a scale of 0-5 on aspects of movies that are important to parents (e.g., Positive_Messages, Language, Sex, Violence, etc.). Since the data is derived from Common Sense Media's dataset which caters to advice to parents of children up to 17 years of age, movies that are targeted at teenagers are rated on a scale of 0 to 5 on \"Sex\" and \"Violence\" whereas movies targeted towards youngsters are rated on \"Sexy Stuff\" and \"Violence & Scariness.\"\n",
    "#### There are other features that only exist in certain movies, such as 'in_theatres' and 'DVD/Streaming' which contain the appropriate release dates."
   ]
  },
  {
   "cell_type": "code",
   "execution_count": 10,
   "metadata": {},
   "outputs": [],
   "source": [
    "parental_categories_set = set()"
   ]
  },
  {
   "cell_type": "code",
   "execution_count": 11,
   "metadata": {},
   "outputs": [],
   "source": [
    "for movie in extracted_movies:\n",
    "    parental_categories_set.update(set(movie['parent_ratings_dict'].keys()))"
   ]
  },
  {
   "cell_type": "code",
   "execution_count": 12,
   "metadata": {},
   "outputs": [
    {
     "data": {
      "text/plain": [
       "['Consumerism',\n",
       " 'Violence & Scariness',\n",
       " 'Language',\n",
       " 'Educational Value',\n",
       " 'Positive Role Models & Representations',\n",
       " 'Sex',\n",
       " 'Positive Messages',\n",
       " 'Violence',\n",
       " 'Sexy Stuff',\n",
       " 'Drinking, Drugs & Smoking']"
      ]
     },
     "execution_count": 12,
     "metadata": {},
     "output_type": "execute_result"
    }
   ],
   "source": [
    "parental_categories = list(parental_categories_set)\n",
    "parental_categories"
   ]
  },
  {
   "cell_type": "code",
   "execution_count": 13,
   "metadata": {},
   "outputs": [],
   "source": [
    "occasional_features_list = ['in_theatres', 'DVD/Streaming', 'MPAA_explanation']"
   ]
  },
  {
   "cell_type": "markdown",
   "metadata": {},
   "source": [
    "### Create Other_features list\n",
    "#### Movies_other_features is a list that contains features for each movie such as the MPAA rating (G, PG, PG-13, etc.), the genre, the typical recommended minimum viewer age, a one line description of the movie and the overall_rating according to Common Sense Media's movie reviewers. Also in this list are various unique identifiers of each movie such as the title, an arbitrary \"movie_id\" number and a slug which can be used to call up more information about each recommended movie from Common Sense Media's web page."
   ]
  },
  {
   "cell_type": "code",
   "execution_count": 14,
   "metadata": {},
   "outputs": [],
   "source": [
    "def make_other_features_dict_for_movie(movie_num):\n",
    "    movie_features_other = {}\n",
    "    movie_features_other['age'] = int(extracted_movies[movie_num]['age'][4:-1])\n",
    "    movie_features_other['MPAA_rating'] = extracted_movies[movie_num]['movie_details_dict']['MPAA rating']\n",
    "    movie_features_other['overall_rating'] = int(extracted_movies[movie_num]['overall_rating'])\n",
    "    movie_features_other['one_line_description'] = extracted_movies[movie_num]['one_line_description']\n",
    "    movie_features_other['genre'] = extracted_movies[movie_num]['movie_details_dict']['Genre']\n",
    "    movie_features_other['movie_id'] = extracted_movies[movie_num]['movie_id']\n",
    "    movie_features_other['title'] = extracted_movies[movie_num]['title']\n",
    "    movie_features_other['slug'] = extracted_movies[movie_num]['slug']\n",
    "    for category in parental_categories:\n",
    "        try:\n",
    "            movie_features_other[category] = int(extracted_movies[movie_num]['parent_ratings_dict'][category])\n",
    "        except KeyError:  # to skip parental categories not included in movie\n",
    "            pass\n",
    "    for category in occasional_features_list:\n",
    "        try:\n",
    "            movie_features_other[category] = extracted_movies[movie_num]['movie_details_dict'][category]\n",
    "        except KeyError:  # if no DVD/Streaming release date planned or if movie is unrated\n",
    "            pass\n",
    "     \n",
    "    return movie_features_other"
   ]
  },
  {
   "cell_type": "code",
   "execution_count": 15,
   "metadata": {},
   "outputs": [],
   "source": [
    "movies_other_features = []\n",
    "def make_other_features_list_for_many_movies(first_movie, num_movies):\n",
    "    for movie in range(num_movies):\n",
    "        movie = (movie + first_movie)\n",
    "        if movie % 1000 == 0:\n",
    "            print(movie)\n",
    "        movies_other_features.append(make_other_features_dict_for_movie(movie))\n",
    "    return movies_other_features"
   ]
  },
  {
   "cell_type": "code",
   "execution_count": 16,
   "metadata": {},
   "outputs": [
    {
     "name": "stdout",
     "output_type": "stream",
     "text": [
      "0\n",
      "1000\n",
      "2000\n",
      "3000\n",
      "4000\n",
      "5000\n",
      "6000\n",
      "7000\n",
      "8000\n"
     ]
    }
   ],
   "source": [
    "movies_other_features = make_other_features_list_for_many_movies(0,len(extracted_movies))"
   ]
  },
  {
   "cell_type": "code",
   "execution_count": 17,
   "metadata": {},
   "outputs": [],
   "source": [
    "# Run cell if you want to see the non-text features as list of dicts\n",
    "# movies_other_features[0:1]"
   ]
  },
  {
   "cell_type": "markdown",
   "metadata": {},
   "source": [
    "#### movies_other_features contains specific features of movies to be used in building our movie recommender system in the next notebook."
   ]
  },
  {
   "cell_type": "markdown",
   "metadata": {},
   "source": [
    "### Save features folders as json's for export to next notebook"
   ]
  },
  {
   "cell_type": "code",
   "execution_count": 18,
   "metadata": {},
   "outputs": [],
   "source": [
    "with open('data/movies_features_text.json', 'w') as output:\n",
    "    json.dump(movies_features_text, output)"
   ]
  },
  {
   "cell_type": "code",
   "execution_count": 19,
   "metadata": {},
   "outputs": [],
   "source": [
    "with open('data/movies_other_features.json', 'w') as output:\n",
    "    json.dump(movies_other_features, output)"
   ]
  },
  {
   "cell_type": "markdown",
   "metadata": {},
   "source": [
    "#### Movie features now saved to two separate files, one called movies_features_text containing the text files associated with the 8625 unique movies in my dataset and the other called movies_other_features containing features such as the recommended age of movie viewers, the movie genre, and a one-line description of the movie. Text features will now be analyzed in the next notebook, where I will tokenize and vectorize the text associated with each movie and prepare it for Natural Language Processing. Non-text features will undergo exploratory data analysis in Notebook 6."
   ]
  },
  {
   "cell_type": "code",
   "execution_count": null,
   "metadata": {},
   "outputs": [],
   "source": []
  }
 ],
 "metadata": {
  "kernelspec": {
   "display_name": "Python [default]",
   "language": "python",
   "name": "python3"
  },
  "language_info": {
   "codemirror_mode": {
    "name": "ipython",
    "version": 3
   },
   "file_extension": ".py",
   "mimetype": "text/x-python",
   "name": "python",
   "nbconvert_exporter": "python",
   "pygments_lexer": "ipython3",
   "version": "3.6.4"
  }
 },
 "nbformat": 4,
 "nbformat_minor": 2
}

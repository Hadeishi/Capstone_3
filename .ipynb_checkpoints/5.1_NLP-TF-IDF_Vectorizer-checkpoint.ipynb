{
 "cells": [
  {
   "cell_type": "markdown",
   "metadata": {},
   "source": [
    "## Tokenizing and TF-IDF Vectorization:  Text-based Cosine Similarity\n",
    "#### In this notebook, I will process the text data to each movie, doing final cleaning of punctuation, making all words lowercase and spliting text into individual word \"tokens\" (N.B., for those who are text processing-savvy, this was done outside of Vectorizers in order to retain the '-', since curse words are represented in these reviews as s--t and f--k. The frequency with which these curse words appear in reviews may be an important text feature for parents).\n",
    "\n",
    "#### Tokenized text will then be vectorized using TF-IDF Vectorizer. TF-IDF Vectorizer will take the frequency of words found in text and divide by the frequency with which each term appears in all documents put together. This technique is designed to give greater weight to terms that occur frequently in a document but not in other documents, thus controlling for words that appear frequently in all movies--- such as the word, \"movie,\" for example. It will then turn the TF-IDF statistic into the movie's \"word vector.\" These word vectors will then be run through Truncated SVD.\n",
    "\n",
    "#### Truncated SVD is a procedure designed to capture the most variance in our collected movie word vectors using the fewest possible components. Each component is a linear combination of word vectors, each word contributing to each component by a particular positive or negative weight (see below for examples). I will then analyze these components to see if I can derive some meaning from the words that contribute to them (see below).\n",
    "\n",
    "#### Once we get our text data into truncatedSVD format, I will then use cosine similarity to determine which movies are most similar to which other movies in our data set. Cosine similarity is a procedure whereby movies whose associated text contains similar words will be described by vectors that \"point in similar directions,\" if you will, through the vector space defined by truncatedSVD. Movies with vectors that point in similar directions will have higher cosine similarities and so will be deemed to be similar according to this movie recommender.\n",
    "\n",
    "#### We will then also incorporate non-text data to see how this improves our cosine similarity-based similarity matrix (see below)."
   ]
  },
  {
   "cell_type": "markdown",
   "metadata": {},
   "source": [
    "### Load Movie Text Data"
   ]
  },
  {
   "cell_type": "code",
   "execution_count": 1,
   "metadata": {},
   "outputs": [
    {
     "name": "stderr",
     "output_type": "stream",
     "text": [
      "/Users/yukiharuhadeishi/anaconda3/lib/python3.6/site-packages/fuzzywuzzy/fuzz.py:35: UserWarning: Using slow pure-python SequenceMatcher. Install python-Levenshtein to remove this warning\n",
      "  warnings.warn('Using slow pure-python SequenceMatcher. Install python-Levenshtein to remove this warning')\n"
     ]
    }
   ],
   "source": [
    "import pandas as pd\n",
    "import numpy as np\n",
    "import requests, re, json, copy, pickle\n",
    "import matplotlib.pyplot as plt\n",
    "from nltk.tokenize import RegexpTokenizer\n",
    "from nltk.corpus import stopwords\n",
    "from sklearn.feature_extraction.text import CountVectorizer, TfidfVectorizer\n",
    "from sklearn.decomposition import TruncatedSVD\n",
    "from sklearn.metrics.pairwise import cosine_similarity\n",
    "from fuzzywuzzy import process"
   ]
  },
  {
   "cell_type": "code",
   "execution_count": 2,
   "metadata": {},
   "outputs": [],
   "source": [
    "# Load json of movies_features_text\n",
    "with open('data/movies_features_text.json') as json_file:  \n",
    "    movies_features_text = json.load(json_file)"
   ]
  },
  {
   "cell_type": "code",
   "execution_count": 3,
   "metadata": {},
   "outputs": [
    {
     "data": {
      "text/html": [
       "<div>\n",
       "<style scoped>\n",
       "    .dataframe tbody tr th:only-of-type {\n",
       "        vertical-align: middle;\n",
       "    }\n",
       "\n",
       "    .dataframe tbody tr th {\n",
       "        vertical-align: top;\n",
       "    }\n",
       "\n",
       "    .dataframe thead th {\n",
       "        text-align: right;\n",
       "    }\n",
       "</style>\n",
       "<table border=\"1\" class=\"dataframe\">\n",
       "  <thead>\n",
       "    <tr style=\"text-align: right;\">\n",
       "      <th></th>\n",
       "      <th>movie_id</th>\n",
       "      <th>slug</th>\n",
       "      <th>text</th>\n",
       "      <th>title</th>\n",
       "    </tr>\n",
       "  </thead>\n",
       "  <tbody>\n",
       "    <tr>\n",
       "      <th>0</th>\n",
       "      <td>0</td>\n",
       "      <td>the-music-of-silence</td>\n",
       "      <td>Families can talk about how The Music of Silen...</td>\n",
       "      <td>The Music of Silence</td>\n",
       "    </tr>\n",
       "    <tr>\n",
       "      <th>1</th>\n",
       "      <td>1</td>\n",
       "      <td>the-miseducation-of-cameron-post</td>\n",
       "      <td>Families can talk about how The Miseducation o...</td>\n",
       "      <td>The Miseducation of Cameron Post</td>\n",
       "    </tr>\n",
       "    <tr>\n",
       "      <th>2</th>\n",
       "      <td>2</td>\n",
       "      <td>the-spy-who-dumped-me</td>\n",
       "      <td>Families can talk about whether The Spy Who Du...</td>\n",
       "      <td>The Spy Who Dumped Me</td>\n",
       "    </tr>\n",
       "    <tr>\n",
       "      <th>3</th>\n",
       "      <td>3</td>\n",
       "      <td>the-darkest-minds</td>\n",
       "      <td>Families can talk about The Darkest Minds and ...</td>\n",
       "      <td>The Darkest Minds</td>\n",
       "    </tr>\n",
       "    <tr>\n",
       "      <th>4</th>\n",
       "      <td>4</td>\n",
       "      <td>like-father</td>\n",
       "      <td>Families can talk about the elements that make...</td>\n",
       "      <td>Like Father</td>\n",
       "    </tr>\n",
       "  </tbody>\n",
       "</table>\n",
       "</div>"
      ],
      "text/plain": [
       "   movie_id                              slug  \\\n",
       "0         0              the-music-of-silence   \n",
       "1         1  the-miseducation-of-cameron-post   \n",
       "2         2             the-spy-who-dumped-me   \n",
       "3         3                 the-darkest-minds   \n",
       "4         4                       like-father   \n",
       "\n",
       "                                                text  \\\n",
       "0  Families can talk about how The Music of Silen...   \n",
       "1  Families can talk about how The Miseducation o...   \n",
       "2  Families can talk about whether The Spy Who Du...   \n",
       "3  Families can talk about The Darkest Minds and ...   \n",
       "4  Families can talk about the elements that make...   \n",
       "\n",
       "                              title  \n",
       "0              The Music of Silence  \n",
       "1  The Miseducation of Cameron Post  \n",
       "2             The Spy Who Dumped Me  \n",
       "3                 The Darkest Minds  \n",
       "4                       Like Father  "
      ]
     },
     "execution_count": 3,
     "metadata": {},
     "output_type": "execute_result"
    }
   ],
   "source": [
    "df = pd.DataFrame(movies_features_text)\n",
    "df.head()"
   ]
  },
  {
   "cell_type": "code",
   "execution_count": 4,
   "metadata": {},
   "outputs": [],
   "source": [
    "def get_movie_list(last_movie):\n",
    "    for movie_num in range(last_movie):\n",
    "        movie_titles = movies_features_text[movie_num]['title']\n",
    "        return movie_titles"
   ]
  },
  {
   "cell_type": "code",
   "execution_count": 5,
   "metadata": {},
   "outputs": [
    {
     "data": {
      "text/plain": [
       "\"Families can talk about how The Music of Silence portrays Bocelli  blindness. How does it compare to other representations of disabilities you've seen on-screen? Does it feel realistic? Do you think it gave a real picture of Bocelli  personal struggle?   How accurate do you think the movie is to actual events overall? Why might filmmakers decide to change the facts in a movie t\""
      ]
     },
     "execution_count": 5,
     "metadata": {},
     "output_type": "execute_result"
    }
   ],
   "source": [
    "movies_features_text[0]['text'][:380]"
   ]
  },
  {
   "cell_type": "code",
   "execution_count": 6,
   "metadata": {},
   "outputs": [],
   "source": [
    "stopwords = set(stopwords.words('english'))\n",
    "# Remove punctuation from all text of each movie and remove stopwords\n",
    "def clean_text_for_movie(text):\n",
    "    '''\n",
    "    Takes in all text of a single movie, makes lowercase and removes punctuation and stopwords\n",
    "    from text. Returns words in input text as a single string, w/o English stopwords.\n",
    "    '''\n",
    "    words = re.sub(\"[^a-zA-Z\\-]\", \" \", text).lower().split()  # removes punctuation, makes lowercase\n",
    "    cleantext = [w for w in words if not w in stopwords]  # eliminates common \"stop words\"\n",
    "    return(\" \".join(cleantext))  # returns words as a string, each word separated by a space"
   ]
  },
  {
   "cell_type": "code",
   "execution_count": 7,
   "metadata": {},
   "outputs": [],
   "source": [
    "clean_text_test = clean_text_for_movie(movies_features_text[0]['text'])"
   ]
  },
  {
   "cell_type": "code",
   "execution_count": 8,
   "metadata": {},
   "outputs": [
    {
     "data": {
      "text/plain": [
       "'families talk music silence portrays bocelli blindness compare representations disabilities seen on-screen feel realistic think gave real picture bocelli personal struggle accurate think movie actual events overall might filmmakers decide change facts movie b'"
      ]
     },
     "execution_count": 8,
     "metadata": {},
     "output_type": "execute_result"
    }
   ],
   "source": [
    "clean_text_test[:259]"
   ]
  },
  {
   "cell_type": "code",
   "execution_count": 9,
   "metadata": {},
   "outputs": [],
   "source": [
    "clean_text = []\n",
    "def clean_text_for_movies(first_movie, num_movies_to_clean):\n",
    "    print(\"Number of movies cleaned so far:\")\n",
    "    for movie in range(num_movies_to_clean):\n",
    "        movie = (movie + first_movie)\n",
    "        if movie % 1000 == 0:\n",
    "            print(movie)\n",
    "        clean_txt = clean_text_for_movie(movies_features_text[movie]['text'])\n",
    "        movies_features_text[movie]['clean_text'] = clean_txt\n",
    "        clean_text.append(clean_txt)\n",
    "    return clean_text"
   ]
  },
  {
   "cell_type": "code",
   "execution_count": 10,
   "metadata": {},
   "outputs": [
    {
     "name": "stdout",
     "output_type": "stream",
     "text": [
      "Number of movies cleaned so far:\n",
      "0\n",
      "1000\n",
      "2000\n",
      "3000\n",
      "4000\n",
      "5000\n",
      "6000\n",
      "7000\n",
      "8000\n"
     ]
    }
   ],
   "source": [
    "clean_text = clean_text_for_movies(0,len(movies_features_text))"
   ]
  },
  {
   "cell_type": "code",
   "execution_count": 11,
   "metadata": {},
   "outputs": [
    {
     "data": {
      "text/html": [
       "<div>\n",
       "<style scoped>\n",
       "    .dataframe tbody tr th:only-of-type {\n",
       "        vertical-align: middle;\n",
       "    }\n",
       "\n",
       "    .dataframe tbody tr th {\n",
       "        vertical-align: top;\n",
       "    }\n",
       "\n",
       "    .dataframe thead th {\n",
       "        text-align: right;\n",
       "    }\n",
       "</style>\n",
       "<table border=\"1\" class=\"dataframe\">\n",
       "  <thead>\n",
       "    <tr style=\"text-align: right;\">\n",
       "      <th></th>\n",
       "      <th>clean_text</th>\n",
       "      <th>movie_id</th>\n",
       "      <th>slug</th>\n",
       "      <th>text</th>\n",
       "      <th>title</th>\n",
       "    </tr>\n",
       "  </thead>\n",
       "  <tbody>\n",
       "    <tr>\n",
       "      <th>0</th>\n",
       "      <td>families talk music silence portrays bocelli b...</td>\n",
       "      <td>0</td>\n",
       "      <td>the-music-of-silence</td>\n",
       "      <td>Families can talk about how The Music of Silen...</td>\n",
       "      <td>The Music of Silence</td>\n",
       "    </tr>\n",
       "    <tr>\n",
       "      <th>1</th>\n",
       "      <td>families talk miseducation cameron post depict...</td>\n",
       "      <td>1</td>\n",
       "      <td>the-miseducation-of-cameron-post</td>\n",
       "      <td>Families can talk about how The Miseducation o...</td>\n",
       "      <td>The Miseducation of Cameron Post</td>\n",
       "    </tr>\n",
       "    <tr>\n",
       "      <th>2</th>\n",
       "      <td>families talk whether spy dumped defies gender...</td>\n",
       "      <td>2</td>\n",
       "      <td>the-spy-who-dumped-me</td>\n",
       "      <td>Families can talk about whether The Spy Who Du...</td>\n",
       "      <td>The Spy Who Dumped Me</td>\n",
       "    </tr>\n",
       "    <tr>\n",
       "      <th>3</th>\n",
       "      <td>families talk darkest minds popularity post-ap...</td>\n",
       "      <td>3</td>\n",
       "      <td>the-darkest-minds</td>\n",
       "      <td>Families can talk about The Darkest Minds and ...</td>\n",
       "      <td>The Darkest Minds</td>\n",
       "    </tr>\n",
       "    <tr>\n",
       "      <th>4</th>\n",
       "      <td>families talk elements make movie predictable ...</td>\n",
       "      <td>4</td>\n",
       "      <td>like-father</td>\n",
       "      <td>Families can talk about the elements that make...</td>\n",
       "      <td>Like Father</td>\n",
       "    </tr>\n",
       "  </tbody>\n",
       "</table>\n",
       "</div>"
      ],
      "text/plain": [
       "                                          clean_text  movie_id  \\\n",
       "0  families talk music silence portrays bocelli b...         0   \n",
       "1  families talk miseducation cameron post depict...         1   \n",
       "2  families talk whether spy dumped defies gender...         2   \n",
       "3  families talk darkest minds popularity post-ap...         3   \n",
       "4  families talk elements make movie predictable ...         4   \n",
       "\n",
       "                               slug  \\\n",
       "0              the-music-of-silence   \n",
       "1  the-miseducation-of-cameron-post   \n",
       "2             the-spy-who-dumped-me   \n",
       "3                 the-darkest-minds   \n",
       "4                       like-father   \n",
       "\n",
       "                                                text  \\\n",
       "0  Families can talk about how The Music of Silen...   \n",
       "1  Families can talk about how The Miseducation o...   \n",
       "2  Families can talk about whether The Spy Who Du...   \n",
       "3  Families can talk about The Darkest Minds and ...   \n",
       "4  Families can talk about the elements that make...   \n",
       "\n",
       "                              title  \n",
       "0              The Music of Silence  \n",
       "1  The Miseducation of Cameron Post  \n",
       "2             The Spy Who Dumped Me  \n",
       "3                 The Darkest Minds  \n",
       "4                       Like Father  "
      ]
     },
     "execution_count": 11,
     "metadata": {},
     "output_type": "execute_result"
    }
   ],
   "source": [
    "df = pd.DataFrame(movies_features_text)\n",
    "df.head()"
   ]
  },
  {
   "cell_type": "markdown",
   "metadata": {},
   "source": [
    "#### Movies_features_text now has two new features, one of which contains the list of words used in movie reviews and other text associated with each of our 8625 unique movies and a second list that contains a list of bigrams of these words, to capture names of actors, separated by sentence. movies_fetures_text is now ready for vectorization."
   ]
  },
  {
   "cell_type": "markdown",
   "metadata": {},
   "source": [
    "### Vectorize text for NLP:  TF-IDF\n",
    "#### In this notebook, I will use a process called TF-IDF (Term Frequency Inverse Document Frequency) Vectorization on my text data. TF-IDF gives the frequency of each word in the words associated with each movie (termed a \"document\") normalized by the frequency with which that word appears in all of the documents combined. In other words, words that appear frequently in text associated with all movies in general are not going to be counted as important as words that appear frequently in a small subset of documents.\n",
    "#### After TD-IDF vectorization, I will then use truncated SVD on text data alone to reduce the number of features to reduce overfitting. The components that result from truncated SVD will be examined to identify discernable patterns."
   ]
  },
  {
   "cell_type": "code",
   "execution_count": 12,
   "metadata": {},
   "outputs": [],
   "source": [
    "tvec = TfidfVectorizer(analyzer = \"word\",\n",
    "                       tokenizer = None,      # tokenized in preprocessing\n",
    "                       preprocessor = None,\n",
    "                       stop_words = None,     # english stop words already removed, to retain -\n",
    "                       min_df = 2,            # to eliminate typos\n",
    "                       max_df = .9,           # to eliminate the word \"movie\"\n",
    "                       max_features = 50000) "
   ]
  },
  {
   "cell_type": "code",
   "execution_count": 13,
   "metadata": {},
   "outputs": [],
   "source": [
    "# Do not run unless if you want to TF-IDF Vectorize tokens. Could take some time.\n",
    "data_features_tfidf = pd.SparseDataFrame(tvec.fit_transform(clean_text),\n",
    "                                         columns=tvec.get_feature_names(),\n",
    "                                         default_fill_value=0)"
   ]
  },
  {
   "cell_type": "code",
   "execution_count": 14,
   "metadata": {},
   "outputs": [],
   "source": [
    "feature_names = tvec.get_feature_names()"
   ]
  },
  {
   "cell_type": "code",
   "execution_count": 42,
   "metadata": {},
   "outputs": [
    {
     "data": {
      "text/plain": [
       "42391"
      ]
     },
     "execution_count": 42,
     "metadata": {},
     "output_type": "execute_result"
    }
   ],
   "source": [
    "len(feature_names)"
   ]
  },
  {
   "cell_type": "code",
   "execution_count": 15,
   "metadata": {},
   "outputs": [
    {
     "data": {
      "text/plain": [
       "['aaah', 'aardman']"
      ]
     },
     "execution_count": 15,
     "metadata": {},
     "output_type": "execute_result"
    }
   ],
   "source": [
    "feature_names[2:4]"
   ]
  },
  {
   "cell_type": "markdown",
   "metadata": {},
   "source": [
    "### Put Vectorized Data in DF for Analysis\n",
    "- Sum aggregate token counts\n",
    "- Plot / investigate\n",
    "  - Histogram\n",
    "  - Horizontal Barplot"
   ]
  },
  {
   "cell_type": "code",
   "execution_count": 16,
   "metadata": {},
   "outputs": [],
   "source": [
    "text = pd.DataFrame.to_dense(data_features_tfidf)"
   ]
  },
  {
   "cell_type": "code",
   "execution_count": 17,
   "metadata": {},
   "outputs": [],
   "source": [
    "sum_text = text.sum()"
   ]
  },
  {
   "cell_type": "code",
   "execution_count": 29,
   "metadata": {},
   "outputs": [
    {
     "data": {
      "text/plain": [
       "drugs              48.597784\n",
       "someone            48.416434\n",
       "body               48.356881\n",
       "nothing            48.071137\n",
       "smoke              48.052971\n",
       "original           47.943440\n",
       "throughout         47.815423\n",
       "although           47.729836\n",
       "john               47.717432\n",
       "play               47.671893\n",
       "comes              47.520574\n",
       "kissing            47.420418\n",
       "human              47.365833\n",
       "evil               47.353814\n",
       "head               47.307865\n",
       "images             47.262249\n",
       "along              47.113910\n",
       "relationships      46.938453\n",
       "less               46.832985\n",
       "animated           46.772306\n",
       "lead               46.738376\n",
       "wants              46.461828\n",
       "tries              46.428890\n",
       "bit                46.392897\n",
       "always             46.371288\n",
       "adult              46.310380\n",
       "drunk              46.283272\n",
       "everyone           46.195931\n",
       "age                46.070253\n",
       "guy                46.058798\n",
       "                     ...    \n",
       "contraption         0.653265\n",
       "chronologically     0.653190\n",
       "ultimatum           0.653133\n",
       "jailbreak           0.653125\n",
       "musketeer           0.653113\n",
       "sexier              0.653059\n",
       "schlitz             0.653054\n",
       "rudyard             0.653024\n",
       "uh                  0.653007\n",
       "extols              0.653006\n",
       "forgery             0.652989\n",
       "maids               0.652887\n",
       "blizzard            0.652846\n",
       "mcfarland           0.652809\n",
       "brushed             0.652783\n",
       "firearm             0.652770\n",
       "impish              0.652739\n",
       "ferret              0.652693\n",
       "cogburn             0.652667\n",
       "bonked              0.652458\n",
       "meadow              0.652334\n",
       "snicket             0.652309\n",
       "peel                0.652266\n",
       "milking             0.652211\n",
       "energized           0.652158\n",
       "mish                0.652140\n",
       "retained            0.652139\n",
       "abyss               0.652097\n",
       "torches             0.651921\n",
       "chainsaws           0.651877\n",
       "Length: 20197, dtype: float64"
      ]
     },
     "execution_count": 29,
     "metadata": {},
     "output_type": "execute_result"
    }
   ],
   "source": [
    "sum_text.sort_values(ascending=False)[202:20399]"
   ]
  },
  {
   "cell_type": "code",
   "execution_count": 30,
   "metadata": {},
   "outputs": [
    {
     "data": {
      "image/png": "[encoded data removed]",
      "text/plain": [
       "<matplotlib.figure.Figure at 0x1a205c57b8>"
      ]
     },
     "metadata": {},
     "output_type": "display_data"
    }
   ],
   "source": [
    "fig, ax = plt.subplots()\n",
    "sum_text.hist()\n",
    "ax.set_title(\"TF-IDF Values between 0.6518 and 48.6\\n\");"
   ]
  },
  {
   "cell_type": "code",
   "execution_count": 35,
   "metadata": {},
   "outputs": [
    {
     "data": {
      "image/png": "[encoded data removed]",
      "text/plain": [
       "<matplotlib.figure.Figure at 0x1a22d177f0>"
      ]
     },
     "metadata": {},
     "output_type": "display_data"
    }
   ],
   "source": [
    "fig, ax = plt.subplots()\n",
    "mask = sum_text.between(2.5, 45)\n",
    "sum_text[mask].sort_values(ascending=False).hist()\n",
    "ax.set_title(\"TF-IDF Values between 2.5 and 45\\n\");"
   ]
  },
  {
   "cell_type": "code",
   "execution_count": 36,
   "metadata": {},
   "outputs": [
    {
     "data": {
      "image/png": "[encoded data removed]",
      "text/plain": [
       "<matplotlib.figure.Figure at 0x1a22baf390>"
      ]
     },
     "metadata": {},
     "output_type": "display_data"
    }
   ],
   "source": [
    "fig, ax = plt.subplots()\n",
    "sum_text[mask].sort_values(ascending=False)[1:50].plot(kind=\"barh\", figsize=(5, 15));\n",
    "ax.set_title(\"Selected Words with TF-IDF Values between 2.5 and 45\\n\");"
   ]
  },
  {
   "cell_type": "markdown",
   "metadata": {},
   "source": [
    "### Truncated SVD\n",
    "#### To generate vectors that encapsulate the most variance in our text data in the fewest number of components."
   ]
  },
  {
   "cell_type": "code",
   "execution_count": 43,
   "metadata": {},
   "outputs": [],
   "source": [
    "svd = TruncatedSVD(n_components=4000)"
   ]
  },
  {
   "cell_type": "code",
   "execution_count": 44,
   "metadata": {},
   "outputs": [],
   "source": [
    "# tfidfvec_truncated is fit_transformed w/4000 components. Will only work if TF-IDF\n",
    "# vectorizer already run.\n",
    "tfidfvec_truncated = svd.fit_transform(data_features_tfidf)"
   ]
  },
  {
   "cell_type": "code",
   "execution_count": 45,
   "metadata": {},
   "outputs": [],
   "source": [
    "# # tfidfvec_truncated is fit_transformed w/4000 components. Will only work if TF-IDF\n",
    "# # vectorizer already run.\n",
    "# columns are svd components, 0 - 3999, for tf-idf vectorized words; index is words\n",
    "components_tfidfvec = pd.DataFrame(svd.components_.T, index=feature_names)"
   ]
  },
  {
   "cell_type": "markdown",
   "metadata": {},
   "source": [
    "#### Explore components to identify meanings of components"
   ]
  },
  {
   "cell_type": "code",
   "execution_count": 46,
   "metadata": {},
   "outputs": [],
   "source": [
    "word_importance_component_1 = components_tfidfvec[0].sort_values(ascending=False)"
   ]
  },
  {
   "cell_type": "code",
   "execution_count": 47,
   "metadata": {},
   "outputs": [],
   "source": [
    "word_importances1 = pd.DataFrame(word_importance_component_1[0:6])"
   ]
  },
  {
   "cell_type": "code",
   "execution_count": 48,
   "metadata": {},
   "outputs": [],
   "source": [
    "word_importances1_1 = word_importance_component_1[-7:-1]"
   ]
  },
  {
   "cell_type": "code",
   "execution_count": 49,
   "metadata": {},
   "outputs": [
    {
     "data": {
      "text/html": [
       "<div>\n",
       "<style scoped>\n",
       "    .dataframe tbody tr th:only-of-type {\n",
       "        vertical-align: middle;\n",
       "    }\n",
       "\n",
       "    .dataframe tbody tr th {\n",
       "        vertical-align: top;\n",
       "    }\n",
       "\n",
       "    .dataframe thead th {\n",
       "        text-align: right;\n",
       "    }\n",
       "</style>\n",
       "<table border=\"1\" class=\"dataframe\">\n",
       "  <thead>\n",
       "    <tr style=\"text-align: right;\">\n",
       "      <th></th>\n",
       "      <th>0</th>\n",
       "    </tr>\n",
       "  </thead>\n",
       "  <tbody>\n",
       "    <tr>\n",
       "      <th>characters</th>\n",
       "      <td>0.145266</td>\n",
       "    </tr>\n",
       "    <tr>\n",
       "      <th>one</th>\n",
       "      <td>0.140366</td>\n",
       "    </tr>\n",
       "    <tr>\n",
       "      <th>sex</th>\n",
       "      <td>0.115215</td>\n",
       "    </tr>\n",
       "    <tr>\n",
       "      <th>character</th>\n",
       "      <td>0.111734</td>\n",
       "    </tr>\n",
       "    <tr>\n",
       "      <th>violence</th>\n",
       "      <td>0.106998</td>\n",
       "    </tr>\n",
       "    <tr>\n",
       "      <th>film</th>\n",
       "      <td>0.106700</td>\n",
       "    </tr>\n",
       "    <tr>\n",
       "      <th>sheeran</th>\n",
       "      <td>0.000025</td>\n",
       "    </tr>\n",
       "    <tr>\n",
       "      <th>beliebers</th>\n",
       "      <td>0.000025</td>\n",
       "    </tr>\n",
       "    <tr>\n",
       "      <th>persson</th>\n",
       "      <td>0.000023</td>\n",
       "    </tr>\n",
       "    <tr>\n",
       "      <th>sundberg</th>\n",
       "      <td>0.000023</td>\n",
       "    </tr>\n",
       "    <tr>\n",
       "      <th>rebranding</th>\n",
       "      <td>0.000023</td>\n",
       "    </tr>\n",
       "    <tr>\n",
       "      <th>anthropomorphize</th>\n",
       "      <td>0.000021</td>\n",
       "    </tr>\n",
       "  </tbody>\n",
       "</table>\n",
       "</div>"
      ],
      "text/plain": [
       "                         0\n",
       "characters        0.145266\n",
       "one               0.140366\n",
       "sex               0.115215\n",
       "character         0.111734\n",
       "violence          0.106998\n",
       "film              0.106700\n",
       "sheeran           0.000025\n",
       "beliebers         0.000025\n",
       "persson           0.000023\n",
       "sundberg          0.000023\n",
       "rebranding        0.000023\n",
       "anthropomorphize  0.000021"
      ]
     },
     "execution_count": 49,
     "metadata": {},
     "output_type": "execute_result"
    }
   ],
   "source": [
    "word_importances1_top_bottom = pd.concat([word_importances1, word_importances1_1])\n",
    "word_importances1_top_bottom"
   ]
  },
  {
   "cell_type": "markdown",
   "metadata": {},
   "source": [
    "#### It is important to note that all word vector loadings on this first SVD component are positive. This makes sense since the word vector space is relatively shallow with words that do not occur in the text associated with the move having a value of zero and words that do occur have a non-zero positive number. Even after SVD transformation, these coefficients are slightly positive. \n",
    "#### The first component appears to be just common words found in our movie reviews--- perhaps meaningfully 'sex' and 'violence' load quite heavily on this first component but this could just be because these words are used commonly throughout our corpus. The words that contribute least to our component appear to be mostly typos. This first component, then, is probably best interpreted as representing words of little specific meaning and should be ignored.\n",
    "#### Components beyond the first, however, seem to be fairly intepretable."
   ]
  },
  {
   "cell_type": "code",
   "execution_count": 50,
   "metadata": {},
   "outputs": [],
   "source": [
    "word_importance_component_2 = components_tfidfvec[1].sort_values(ascending=False)"
   ]
  },
  {
   "cell_type": "code",
   "execution_count": 51,
   "metadata": {},
   "outputs": [],
   "source": [
    "word_importances2 = pd.DataFrame(word_importance_component_2[0:6])"
   ]
  },
  {
   "cell_type": "code",
   "execution_count": 52,
   "metadata": {},
   "outputs": [],
   "source": [
    "word_importances2_1 = pd.DataFrame(word_importance_component_2[-7:-1])"
   ]
  },
  {
   "cell_type": "code",
   "execution_count": 53,
   "metadata": {},
   "outputs": [
    {
     "data": {
      "text/html": [
       "<div>\n",
       "<style scoped>\n",
       "    .dataframe tbody tr th:only-of-type {\n",
       "        vertical-align: middle;\n",
       "    }\n",
       "\n",
       "    .dataframe tbody tr th {\n",
       "        vertical-align: top;\n",
       "    }\n",
       "\n",
       "    .dataframe thead th {\n",
       "        text-align: right;\n",
       "    }\n",
       "</style>\n",
       "<table border=\"1\" class=\"dataframe\">\n",
       "  <thead>\n",
       "    <tr style=\"text-align: right;\">\n",
       "      <th></th>\n",
       "      <th>1</th>\n",
       "    </tr>\n",
       "  </thead>\n",
       "  <tbody>\n",
       "    <tr>\n",
       "      <th>christmas</th>\n",
       "      <td>0.299352</td>\n",
       "    </tr>\n",
       "    <tr>\n",
       "      <th>kids</th>\n",
       "      <td>0.204384</td>\n",
       "    </tr>\n",
       "    <tr>\n",
       "      <th>santa</th>\n",
       "      <td>0.140136</td>\n",
       "    </tr>\n",
       "    <tr>\n",
       "      <th>holiday</th>\n",
       "      <td>0.135573</td>\n",
       "    </tr>\n",
       "    <tr>\n",
       "      <th>dog</th>\n",
       "      <td>0.135007</td>\n",
       "    </tr>\n",
       "    <tr>\n",
       "      <th>family</th>\n",
       "      <td>0.130619</td>\n",
       "    </tr>\n",
       "    <tr>\n",
       "      <th>nudity</th>\n",
       "      <td>-0.098574</td>\n",
       "    </tr>\n",
       "    <tr>\n",
       "      <th>violence</th>\n",
       "      <td>-0.103154</td>\n",
       "    </tr>\n",
       "    <tr>\n",
       "      <th>women</th>\n",
       "      <td>-0.103231</td>\n",
       "    </tr>\n",
       "    <tr>\n",
       "      <th>shown</th>\n",
       "      <td>-0.110099</td>\n",
       "    </tr>\n",
       "    <tr>\n",
       "      <th>drug</th>\n",
       "      <td>-0.119782</td>\n",
       "    </tr>\n",
       "    <tr>\n",
       "      <th>sexual</th>\n",
       "      <td>-0.124790</td>\n",
       "    </tr>\n",
       "  </tbody>\n",
       "</table>\n",
       "</div>"
      ],
      "text/plain": [
       "                  1\n",
       "christmas  0.299352\n",
       "kids       0.204384\n",
       "santa      0.140136\n",
       "holiday    0.135573\n",
       "dog        0.135007\n",
       "family     0.130619\n",
       "nudity    -0.098574\n",
       "violence  -0.103154\n",
       "women     -0.103231\n",
       "shown     -0.110099\n",
       "drug      -0.119782\n",
       "sexual    -0.124790"
      ]
     },
     "execution_count": 53,
     "metadata": {},
     "output_type": "execute_result"
    }
   ],
   "source": [
    "word_importances2_top_bottom = pd.concat([word_importances2, word_importances2_1])\n",
    "word_importances2_top_bottom"
   ]
  },
  {
   "cell_type": "code",
   "execution_count": 54,
   "metadata": {},
   "outputs": [],
   "source": [
    "word_importance_component_3 = components_tfidfvec[2].sort_values(ascending=False)"
   ]
  },
  {
   "cell_type": "code",
   "execution_count": 55,
   "metadata": {},
   "outputs": [],
   "source": [
    "word_importances3 = pd.DataFrame(word_importance_component_3[0:6])"
   ]
  },
  {
   "cell_type": "code",
   "execution_count": 56,
   "metadata": {},
   "outputs": [],
   "source": [
    "word_importances3_1 = pd.DataFrame(word_importance_component_3[-7:-1])"
   ]
  },
  {
   "cell_type": "code",
   "execution_count": 57,
   "metadata": {},
   "outputs": [
    {
     "data": {
      "text/html": [
       "<div>\n",
       "<style scoped>\n",
       "    .dataframe tbody tr th:only-of-type {\n",
       "        vertical-align: middle;\n",
       "    }\n",
       "\n",
       "    .dataframe tbody tr th {\n",
       "        vertical-align: top;\n",
       "    }\n",
       "\n",
       "    .dataframe thead th {\n",
       "        text-align: right;\n",
       "    }\n",
       "</style>\n",
       "<table border=\"1\" class=\"dataframe\">\n",
       "  <thead>\n",
       "    <tr style=\"text-align: right;\">\n",
       "      <th></th>\n",
       "      <th>2</th>\n",
       "    </tr>\n",
       "  </thead>\n",
       "  <tbody>\n",
       "    <tr>\n",
       "      <th>school</th>\n",
       "      <td>0.202506</td>\n",
       "    </tr>\n",
       "    <tr>\n",
       "      <th>sex</th>\n",
       "      <td>0.172742</td>\n",
       "    </tr>\n",
       "    <tr>\n",
       "      <th>teen</th>\n",
       "      <td>0.153694</td>\n",
       "    </tr>\n",
       "    <tr>\n",
       "      <th>girls</th>\n",
       "      <td>0.117247</td>\n",
       "    </tr>\n",
       "    <tr>\n",
       "      <th>teens</th>\n",
       "      <td>0.116549</td>\n",
       "    </tr>\n",
       "    <tr>\n",
       "      <th>christmas</th>\n",
       "      <td>0.111580</td>\n",
       "    </tr>\n",
       "    <tr>\n",
       "      <th>evil</th>\n",
       "      <td>-0.092416</td>\n",
       "    </tr>\n",
       "    <tr>\n",
       "      <th>horror</th>\n",
       "      <td>-0.095568</td>\n",
       "    </tr>\n",
       "    <tr>\n",
       "      <th>scary</th>\n",
       "      <td>-0.100250</td>\n",
       "    </tr>\n",
       "    <tr>\n",
       "      <th>blood</th>\n",
       "      <td>-0.113938</td>\n",
       "    </tr>\n",
       "    <tr>\n",
       "      <th>war</th>\n",
       "      <td>-0.146179</td>\n",
       "    </tr>\n",
       "    <tr>\n",
       "      <th>action</th>\n",
       "      <td>-0.173482</td>\n",
       "    </tr>\n",
       "  </tbody>\n",
       "</table>\n",
       "</div>"
      ],
      "text/plain": [
       "                  2\n",
       "school     0.202506\n",
       "sex        0.172742\n",
       "teen       0.153694\n",
       "girls      0.117247\n",
       "teens      0.116549\n",
       "christmas  0.111580\n",
       "evil      -0.092416\n",
       "horror    -0.095568\n",
       "scary     -0.100250\n",
       "blood     -0.113938\n",
       "war       -0.146179\n",
       "action    -0.173482"
      ]
     },
     "execution_count": 57,
     "metadata": {},
     "output_type": "execute_result"
    }
   ],
   "source": [
    "word_importances3_top_bottom = pd.concat([word_importances3, word_importances3_1])\n",
    "word_importances3_top_bottom"
   ]
  },
  {
   "cell_type": "code",
   "execution_count": 58,
   "metadata": {},
   "outputs": [],
   "source": [
    "word_importance_component_6 = components_tfidfvec[5].sort_values(ascending=False)"
   ]
  },
  {
   "cell_type": "code",
   "execution_count": 59,
   "metadata": {},
   "outputs": [],
   "source": [
    "word_importances6 = pd.DataFrame(word_importance_component_6[0:6])"
   ]
  },
  {
   "cell_type": "code",
   "execution_count": 60,
   "metadata": {},
   "outputs": [],
   "source": [
    "word_importances6_1 = pd.DataFrame(word_importance_component_6[-7:-1])"
   ]
  },
  {
   "cell_type": "code",
   "execution_count": 61,
   "metadata": {},
   "outputs": [
    {
     "data": {
      "text/html": [
       "<div>\n",
       "<style scoped>\n",
       "    .dataframe tbody tr th:only-of-type {\n",
       "        vertical-align: middle;\n",
       "    }\n",
       "\n",
       "    .dataframe tbody tr th {\n",
       "        vertical-align: top;\n",
       "    }\n",
       "\n",
       "    .dataframe thead th {\n",
       "        text-align: right;\n",
       "    }\n",
       "</style>\n",
       "<table border=\"1\" class=\"dataframe\">\n",
       "  <thead>\n",
       "    <tr style=\"text-align: right;\">\n",
       "      <th></th>\n",
       "      <th>5</th>\n",
       "    </tr>\n",
       "  </thead>\n",
       "  <tbody>\n",
       "    <tr>\n",
       "      <th>dog</th>\n",
       "      <td>0.454138</td>\n",
       "    </tr>\n",
       "    <tr>\n",
       "      <th>dogs</th>\n",
       "      <td>0.208265</td>\n",
       "    </tr>\n",
       "    <tr>\n",
       "      <th>animals</th>\n",
       "      <td>0.182773</td>\n",
       "    </tr>\n",
       "    <tr>\n",
       "      <th>animal</th>\n",
       "      <td>0.126161</td>\n",
       "    </tr>\n",
       "    <tr>\n",
       "      <th>family</th>\n",
       "      <td>0.123042</td>\n",
       "    </tr>\n",
       "    <tr>\n",
       "      <th>man</th>\n",
       "      <td>0.101487</td>\n",
       "    </tr>\n",
       "    <tr>\n",
       "      <th>santa</th>\n",
       "      <td>-0.124146</td>\n",
       "    </tr>\n",
       "    <tr>\n",
       "      <th>war</th>\n",
       "      <td>-0.125354</td>\n",
       "    </tr>\n",
       "    <tr>\n",
       "      <th>teen</th>\n",
       "      <td>-0.165602</td>\n",
       "    </tr>\n",
       "    <tr>\n",
       "      <th>girls</th>\n",
       "      <td>-0.172722</td>\n",
       "    </tr>\n",
       "    <tr>\n",
       "      <th>high</th>\n",
       "      <td>-0.180210</td>\n",
       "    </tr>\n",
       "    <tr>\n",
       "      <th>christmas</th>\n",
       "      <td>-0.206971</td>\n",
       "    </tr>\n",
       "  </tbody>\n",
       "</table>\n",
       "</div>"
      ],
      "text/plain": [
       "                  5\n",
       "dog        0.454138\n",
       "dogs       0.208265\n",
       "animals    0.182773\n",
       "animal     0.126161\n",
       "family     0.123042\n",
       "man        0.101487\n",
       "santa     -0.124146\n",
       "war       -0.125354\n",
       "teen      -0.165602\n",
       "girls     -0.172722\n",
       "high      -0.180210\n",
       "christmas -0.206971"
      ]
     },
     "execution_count": 61,
     "metadata": {},
     "output_type": "execute_result"
    }
   ],
   "source": [
    "word_importances6_top_bottom = pd.concat([word_importances6, word_importances6_1])\n",
    "word_importances6_top_bottom"
   ]
  },
  {
   "cell_type": "code",
   "execution_count": 62,
   "metadata": {},
   "outputs": [],
   "source": [
    "word_importance_component_8 = components_tfidfvec[7].sort_values(ascending=False)"
   ]
  },
  {
   "cell_type": "code",
   "execution_count": 63,
   "metadata": {},
   "outputs": [],
   "source": [
    "word_importances8 = pd.DataFrame(word_importance_component_8[0:6])"
   ]
  },
  {
   "cell_type": "code",
   "execution_count": 64,
   "metadata": {},
   "outputs": [],
   "source": [
    "word_importances8_1 = pd.DataFrame(word_importance_component_8[-7:-1])"
   ]
  },
  {
   "cell_type": "code",
   "execution_count": 65,
   "metadata": {},
   "outputs": [
    {
     "data": {
      "text/html": [
       "<div>\n",
       "<style scoped>\n",
       "    .dataframe tbody tr th:only-of-type {\n",
       "        vertical-align: middle;\n",
       "    }\n",
       "\n",
       "    .dataframe tbody tr th {\n",
       "        vertical-align: top;\n",
       "    }\n",
       "\n",
       "    .dataframe thead th {\n",
       "        text-align: right;\n",
       "    }\n",
       "</style>\n",
       "<table border=\"1\" class=\"dataframe\">\n",
       "  <thead>\n",
       "    <tr style=\"text-align: right;\">\n",
       "      <th></th>\n",
       "      <th>7</th>\n",
       "    </tr>\n",
       "  </thead>\n",
       "  <tbody>\n",
       "    <tr>\n",
       "      <th>dog</th>\n",
       "      <td>0.431535</td>\n",
       "    </tr>\n",
       "    <tr>\n",
       "      <th>war</th>\n",
       "      <td>0.208582</td>\n",
       "    </tr>\n",
       "    <tr>\n",
       "      <th>dogs</th>\n",
       "      <td>0.189314</td>\n",
       "    </tr>\n",
       "    <tr>\n",
       "      <th>team</th>\n",
       "      <td>0.166184</td>\n",
       "    </tr>\n",
       "    <tr>\n",
       "      <th>school</th>\n",
       "      <td>0.161498</td>\n",
       "    </tr>\n",
       "    <tr>\n",
       "      <th>sports</th>\n",
       "      <td>0.140653</td>\n",
       "    </tr>\n",
       "    <tr>\n",
       "      <th>magic</th>\n",
       "      <td>-0.071783</td>\n",
       "    </tr>\n",
       "    <tr>\n",
       "      <th>fantasy</th>\n",
       "      <td>-0.077627</td>\n",
       "    </tr>\n",
       "    <tr>\n",
       "      <th>horror</th>\n",
       "      <td>-0.083653</td>\n",
       "    </tr>\n",
       "    <tr>\n",
       "      <th>fairy</th>\n",
       "      <td>-0.093807</td>\n",
       "    </tr>\n",
       "    <tr>\n",
       "      <th>scary</th>\n",
       "      <td>-0.110137</td>\n",
       "    </tr>\n",
       "    <tr>\n",
       "      <th>princess</th>\n",
       "      <td>-0.117712</td>\n",
       "    </tr>\n",
       "  </tbody>\n",
       "</table>\n",
       "</div>"
      ],
      "text/plain": [
       "                 7\n",
       "dog       0.431535\n",
       "war       0.208582\n",
       "dogs      0.189314\n",
       "team      0.166184\n",
       "school    0.161498\n",
       "sports    0.140653\n",
       "magic    -0.071783\n",
       "fantasy  -0.077627\n",
       "horror   -0.083653\n",
       "fairy    -0.093807\n",
       "scary    -0.110137\n",
       "princess -0.117712"
      ]
     },
     "execution_count": 65,
     "metadata": {},
     "output_type": "execute_result"
    }
   ],
   "source": [
    "word_importances8_top_bottom = pd.concat([word_importances8, word_importances8_1])\n",
    "word_importances8_top_bottom"
   ]
  },
  {
   "cell_type": "markdown",
   "metadata": {},
   "source": [
    "#### Examining the words that contribute the most to the above components, both positively and negatively, we can begin to interpret what substantial loadings on each of these components represents. For example, Component 8 above (numbered 7 since our components are zero indexed) represents could be called \"Real World Things of importance to Stereotypical Guys.\" Dogs, war, team, school, and sports all load strongly on this component, while magic, fantasy, horror, fairy, scary, and for some reason love all load negatively. Similarly, component 2 above might be called \"Things With Positive Emotional Valence to Puritanical Parents\" with Christmas, kids, santa, holiday, dog, and family being the highest positive contributors to the component while nudity, violence, women, shown, drug, and sexual being the highest negative contributors. As recognizers of patterns, we can easily derive meaning from these components; a useful lesson in semiotics."
   ]
  },
  {
   "cell_type": "markdown",
   "metadata": {},
   "source": [
    "#### Variance cumulatively explained by SVD Components"
   ]
  },
  {
   "cell_type": "code",
   "execution_count": 66,
   "metadata": {},
   "outputs": [],
   "source": [
    "# How do I turn this list of cumulative explained variance into a graph?\n",
    "# On the same graph has a bar point of the amount of variance explained by each component\n",
    "y = svd.explained_variance_ratio_.cumsum()"
   ]
  },
  {
   "cell_type": "code",
   "execution_count": 67,
   "metadata": {},
   "outputs": [
    {
     "data": {
      "text/plain": [
       "[Text(0,0.5,'Cumulative Explained Variance'),\n",
       " Text(0.5,0,'Number of Component'),\n",
       " Text(0.5,1,'Explained Variance of Truncated SVD Components After TF-IDF Vectorization')]"
      ]
     },
     "execution_count": 67,
     "metadata": {},
     "output_type": "execute_result"
    },
    {
     "data": {
      "image/png": "[encoded data removed]",
      "text/plain": [
       "<matplotlib.figure.Figure at 0x1a226bf630>"
      ]
     },
     "metadata": {},
     "output_type": "display_data"
    }
   ],
   "source": [
    "fig, ax = plt.subplots()\n",
    "for i in range(len(y)):\n",
    "    ax.plot(i+1, y[i])\n",
    "\n",
    "ax.set(xlabel='Number of Component', ylabel='Cumulative Explained Variance',\n",
    "       title='Explained Variance of Truncated SVD Components After TF-IDF Vectorization')"
   ]
  },
  {
   "cell_type": "markdown",
   "metadata": {},
   "source": [
    "#### Cosine Similarity:  TFIDF_truncSVD4000"
   ]
  },
  {
   "cell_type": "code",
   "execution_count": 80,
   "metadata": {},
   "outputs": [],
   "source": [
    "### Calcualte as matrix of all movies to all movies of tfidfvec_truncated, the first 1000\n",
    "sim_matrix_tfidfvec_truncSVD4000 = cosine_similarity(tfidfvec_truncated, tfidfvec_truncated)"
   ]
  },
  {
   "cell_type": "code",
   "execution_count": 81,
   "metadata": {},
   "outputs": [],
   "source": [
    "### Create similarity matrix of movie similarity scores with titles as indicies and as\n",
    "### column headers to facilitate cosine similarity based movie lookup (see notebook 7. 8)\n",
    "similarity_matrix_tfidfvec_truncSVD4000 = pd.DataFrame(sim_matrix_tfidfvec_truncSVD4000,\n",
    "                                                       columns=df['title'], index=df['title'])"
   ]
  },
  {
   "cell_type": "code",
   "execution_count": 82,
   "metadata": {},
   "outputs": [],
   "source": [
    "pickle.dump(similarity_matrix_tfidfvec_truncSVD4000,\n",
    "            open(\"similarity_matrix_tfidfvec_truncSVD4000.pkl\", \"wb\" ))"
   ]
  },
  {
   "cell_type": "code",
   "execution_count": 83,
   "metadata": {
    "scrolled": true
   },
   "outputs": [
    {
     "data": {
      "text/html": [
       "<div>\n",
       "<style scoped>\n",
       "    .dataframe tbody tr th:only-of-type {\n",
       "        vertical-align: middle;\n",
       "    }\n",
       "\n",
       "    .dataframe tbody tr th {\n",
       "        vertical-align: top;\n",
       "    }\n",
       "\n",
       "    .dataframe thead th {\n",
       "        text-align: right;\n",
       "    }\n",
       "</style>\n",
       "<table border=\"1\" class=\"dataframe\">\n",
       "  <thead>\n",
       "    <tr style=\"text-align: right;\">\n",
       "      <th>title</th>\n",
       "      <th>The Music of Silence</th>\n",
       "      <th>The Miseducation of Cameron Post</th>\n",
       "      <th>The Spy Who Dumped Me</th>\n",
       "      <th>The Darkest Minds</th>\n",
       "      <th>Like Father</th>\n",
       "      <th>Urban Country</th>\n",
       "      <th>Christopher Robin</th>\n",
       "      <th>Tully</th>\n",
       "      <th>Overboard</th>\n",
       "      <th>The Miracle Season</th>\n",
       "      <th>...</th>\n",
       "      <th>Live and Let Die</th>\n",
       "      <th>Tintin: The Lake of Sharks</th>\n",
       "      <th>Tales of Beatrix Potter</th>\n",
       "      <th>Tintin: The Prisoners of the Sun</th>\n",
       "      <th>Gentle Giant</th>\n",
       "      <th>Tintin: The Calculus Affair</th>\n",
       "      <th>Visit to a Small Planet</th>\n",
       "      <th>Zoo Baby</th>\n",
       "      <th>Driftwood</th>\n",
       "      <th>Sherlock Jr.</th>\n",
       "    </tr>\n",
       "    <tr>\n",
       "      <th>title</th>\n",
       "      <th></th>\n",
       "      <th></th>\n",
       "      <th></th>\n",
       "      <th></th>\n",
       "      <th></th>\n",
       "      <th></th>\n",
       "      <th></th>\n",
       "      <th></th>\n",
       "      <th></th>\n",
       "      <th></th>\n",
       "      <th></th>\n",
       "      <th></th>\n",
       "      <th></th>\n",
       "      <th></th>\n",
       "      <th></th>\n",
       "      <th></th>\n",
       "      <th></th>\n",
       "      <th></th>\n",
       "      <th></th>\n",
       "      <th></th>\n",
       "      <th></th>\n",
       "    </tr>\n",
       "  </thead>\n",
       "  <tbody>\n",
       "    <tr>\n",
       "      <th>The Music of Silence</th>\n",
       "      <td>1.000000</td>\n",
       "      <td>0.060355</td>\n",
       "      <td>0.057284</td>\n",
       "      <td>0.055849</td>\n",
       "      <td>0.075133</td>\n",
       "      <td>0.067631</td>\n",
       "      <td>0.051830</td>\n",
       "      <td>0.035785</td>\n",
       "      <td>0.055553</td>\n",
       "      <td>0.089721</td>\n",
       "      <td>...</td>\n",
       "      <td>0.036151</td>\n",
       "      <td>0.027552</td>\n",
       "      <td>0.033599</td>\n",
       "      <td>0.017262</td>\n",
       "      <td>0.048810</td>\n",
       "      <td>0.021803</td>\n",
       "      <td>0.051638</td>\n",
       "      <td>0.029731</td>\n",
       "      <td>0.054176</td>\n",
       "      <td>0.050524</td>\n",
       "    </tr>\n",
       "    <tr>\n",
       "      <th>The Miseducation of Cameron Post</th>\n",
       "      <td>0.060355</td>\n",
       "      <td>1.000000</td>\n",
       "      <td>0.068865</td>\n",
       "      <td>0.126081</td>\n",
       "      <td>0.044759</td>\n",
       "      <td>0.071824</td>\n",
       "      <td>0.035652</td>\n",
       "      <td>0.030415</td>\n",
       "      <td>0.086782</td>\n",
       "      <td>0.062585</td>\n",
       "      <td>...</td>\n",
       "      <td>0.059121</td>\n",
       "      <td>0.022447</td>\n",
       "      <td>0.029017</td>\n",
       "      <td>0.028892</td>\n",
       "      <td>0.025477</td>\n",
       "      <td>0.024829</td>\n",
       "      <td>0.047376</td>\n",
       "      <td>0.025836</td>\n",
       "      <td>0.056408</td>\n",
       "      <td>0.034612</td>\n",
       "    </tr>\n",
       "    <tr>\n",
       "      <th>The Spy Who Dumped Me</th>\n",
       "      <td>0.057284</td>\n",
       "      <td>0.068865</td>\n",
       "      <td>1.000000</td>\n",
       "      <td>0.088292</td>\n",
       "      <td>0.078843</td>\n",
       "      <td>0.069803</td>\n",
       "      <td>0.055880</td>\n",
       "      <td>0.057061</td>\n",
       "      <td>0.117869</td>\n",
       "      <td>0.087788</td>\n",
       "      <td>...</td>\n",
       "      <td>0.095585</td>\n",
       "      <td>0.074502</td>\n",
       "      <td>0.028283</td>\n",
       "      <td>0.033468</td>\n",
       "      <td>0.038921</td>\n",
       "      <td>0.047029</td>\n",
       "      <td>0.111078</td>\n",
       "      <td>0.036151</td>\n",
       "      <td>0.064465</td>\n",
       "      <td>0.059418</td>\n",
       "    </tr>\n",
       "    <tr>\n",
       "      <th>The Darkest Minds</th>\n",
       "      <td>0.055849</td>\n",
       "      <td>0.126081</td>\n",
       "      <td>0.088292</td>\n",
       "      <td>1.000000</td>\n",
       "      <td>0.049283</td>\n",
       "      <td>0.078438</td>\n",
       "      <td>0.050225</td>\n",
       "      <td>0.043144</td>\n",
       "      <td>0.060811</td>\n",
       "      <td>0.063643</td>\n",
       "      <td>...</td>\n",
       "      <td>0.062191</td>\n",
       "      <td>0.033551</td>\n",
       "      <td>0.063083</td>\n",
       "      <td>0.035424</td>\n",
       "      <td>0.043179</td>\n",
       "      <td>0.044853</td>\n",
       "      <td>0.039132</td>\n",
       "      <td>0.019569</td>\n",
       "      <td>0.046949</td>\n",
       "      <td>0.046703</td>\n",
       "    </tr>\n",
       "    <tr>\n",
       "      <th>Like Father</th>\n",
       "      <td>0.075133</td>\n",
       "      <td>0.044759</td>\n",
       "      <td>0.078843</td>\n",
       "      <td>0.049283</td>\n",
       "      <td>1.000000</td>\n",
       "      <td>0.044485</td>\n",
       "      <td>0.055740</td>\n",
       "      <td>0.033875</td>\n",
       "      <td>0.052342</td>\n",
       "      <td>0.064371</td>\n",
       "      <td>...</td>\n",
       "      <td>0.046720</td>\n",
       "      <td>0.023062</td>\n",
       "      <td>0.033075</td>\n",
       "      <td>0.030775</td>\n",
       "      <td>0.051173</td>\n",
       "      <td>0.018478</td>\n",
       "      <td>0.052542</td>\n",
       "      <td>0.032901</td>\n",
       "      <td>0.039325</td>\n",
       "      <td>0.039662</td>\n",
       "    </tr>\n",
       "  </tbody>\n",
       "</table>\n",
       "<p>5 rows × 8714 columns</p>\n",
       "</div>"
      ],
      "text/plain": [
       "title                             The Music of Silence  \\\n",
       "title                                                    \n",
       "The Music of Silence                          1.000000   \n",
       "The Miseducation of Cameron Post              0.060355   \n",
       "The Spy Who Dumped Me                         0.057284   \n",
       "The Darkest Minds                             0.055849   \n",
       "Like Father                                   0.075133   \n",
       "\n",
       "title                             The Miseducation of Cameron Post  \\\n",
       "title                                                                \n",
       "The Music of Silence                                      0.060355   \n",
       "The Miseducation of Cameron Post                          1.000000   \n",
       "The Spy Who Dumped Me                                     0.068865   \n",
       "The Darkest Minds                                         0.126081   \n",
       "Like Father                                               0.044759   \n",
       "\n",
       "title                             The Spy Who Dumped Me  The Darkest Minds  \\\n",
       "title                                                                        \n",
       "The Music of Silence                           0.057284           0.055849   \n",
       "The Miseducation of Cameron Post               0.068865           0.126081   \n",
       "The Spy Who Dumped Me                          1.000000           0.088292   \n",
       "The Darkest Minds                              0.088292           1.000000   \n",
       "Like Father                                    0.078843           0.049283   \n",
       "\n",
       "title                             Like Father  Urban Country  \\\n",
       "title                                                          \n",
       "The Music of Silence                 0.075133       0.067631   \n",
       "The Miseducation of Cameron Post     0.044759       0.071824   \n",
       "The Spy Who Dumped Me                0.078843       0.069803   \n",
       "The Darkest Minds                    0.049283       0.078438   \n",
       "Like Father                          1.000000       0.044485   \n",
       "\n",
       "title                             Christopher Robin     Tully  Overboard  \\\n",
       "title                                                                      \n",
       "The Music of Silence                       0.051830  0.035785   0.055553   \n",
       "The Miseducation of Cameron Post           0.035652  0.030415   0.086782   \n",
       "The Spy Who Dumped Me                      0.055880  0.057061   0.117869   \n",
       "The Darkest Minds                          0.050225  0.043144   0.060811   \n",
       "Like Father                                0.055740  0.033875   0.052342   \n",
       "\n",
       "title                             The Miracle Season      ...       \\\n",
       "title                                                     ...        \n",
       "The Music of Silence                        0.089721      ...        \n",
       "The Miseducation of Cameron Post            0.062585      ...        \n",
       "The Spy Who Dumped Me                       0.087788      ...        \n",
       "The Darkest Minds                           0.063643      ...        \n",
       "Like Father                                 0.064371      ...        \n",
       "\n",
       "title                             Live and Let Die  \\\n",
       "title                                                \n",
       "The Music of Silence                      0.036151   \n",
       "The Miseducation of Cameron Post          0.059121   \n",
       "The Spy Who Dumped Me                     0.095585   \n",
       "The Darkest Minds                         0.062191   \n",
       "Like Father                               0.046720   \n",
       "\n",
       "title                             Tintin: The Lake of Sharks  \\\n",
       "title                                                          \n",
       "The Music of Silence                                0.027552   \n",
       "The Miseducation of Cameron Post                    0.022447   \n",
       "The Spy Who Dumped Me                               0.074502   \n",
       "The Darkest Minds                                   0.033551   \n",
       "Like Father                                         0.023062   \n",
       "\n",
       "title                             Tales of Beatrix Potter  \\\n",
       "title                                                       \n",
       "The Music of Silence                             0.033599   \n",
       "The Miseducation of Cameron Post                 0.029017   \n",
       "The Spy Who Dumped Me                            0.028283   \n",
       "The Darkest Minds                                0.063083   \n",
       "Like Father                                      0.033075   \n",
       "\n",
       "title                             Tintin: The Prisoners of the Sun  \\\n",
       "title                                                                \n",
       "The Music of Silence                                      0.017262   \n",
       "The Miseducation of Cameron Post                          0.028892   \n",
       "The Spy Who Dumped Me                                     0.033468   \n",
       "The Darkest Minds                                         0.035424   \n",
       "Like Father                                               0.030775   \n",
       "\n",
       "title                             Gentle Giant  Tintin: The Calculus Affair  \\\n",
       "title                                                                         \n",
       "The Music of Silence                  0.048810                     0.021803   \n",
       "The Miseducation of Cameron Post      0.025477                     0.024829   \n",
       "The Spy Who Dumped Me                 0.038921                     0.047029   \n",
       "The Darkest Minds                     0.043179                     0.044853   \n",
       "Like Father                           0.051173                     0.018478   \n",
       "\n",
       "title                             Visit to a Small Planet  Zoo Baby  \\\n",
       "title                                                                 \n",
       "The Music of Silence                             0.051638  0.029731   \n",
       "The Miseducation of Cameron Post                 0.047376  0.025836   \n",
       "The Spy Who Dumped Me                            0.111078  0.036151   \n",
       "The Darkest Minds                                0.039132  0.019569   \n",
       "Like Father                                      0.052542  0.032901   \n",
       "\n",
       "title                             Driftwood  Sherlock Jr.  \n",
       "title                                                      \n",
       "The Music of Silence               0.054176      0.050524  \n",
       "The Miseducation of Cameron Post   0.056408      0.034612  \n",
       "The Spy Who Dumped Me              0.064465      0.059418  \n",
       "The Darkest Minds                  0.046949      0.046703  \n",
       "Like Father                        0.039325      0.039662  \n",
       "\n",
       "[5 rows x 8714 columns]"
      ]
     },
     "execution_count": 83,
     "metadata": {},
     "output_type": "execute_result"
    }
   ],
   "source": [
    "similarity_matrix_tfidfvec_truncSVD4000.head()"
   ]
  },
  {
   "cell_type": "code",
   "execution_count": 84,
   "metadata": {},
   "outputs": [
    {
     "data": {
      "text/html": [
       "<div>\n",
       "<style scoped>\n",
       "    .dataframe tbody tr th:only-of-type {\n",
       "        vertical-align: middle;\n",
       "    }\n",
       "\n",
       "    .dataframe tbody tr th {\n",
       "        vertical-align: top;\n",
       "    }\n",
       "\n",
       "    .dataframe thead th {\n",
       "        text-align: right;\n",
       "    }\n",
       "</style>\n",
       "<table border=\"1\" class=\"dataframe\">\n",
       "  <thead>\n",
       "    <tr style=\"text-align: right;\">\n",
       "      <th></th>\n",
       "      <th>title</th>\n",
       "    </tr>\n",
       "  </thead>\n",
       "  <tbody>\n",
       "    <tr>\n",
       "      <th>0</th>\n",
       "      <td>A Tale of Love and Darkness</td>\n",
       "    </tr>\n",
       "    <tr>\n",
       "      <th>1</th>\n",
       "      <td>The Fox and the Hound</td>\n",
       "    </tr>\n",
       "    <tr>\n",
       "      <th>2</th>\n",
       "      <td>20 Feet from Stardom</td>\n",
       "    </tr>\n",
       "    <tr>\n",
       "      <th>3</th>\n",
       "      <td>The Basket</td>\n",
       "    </tr>\n",
       "    <tr>\n",
       "      <th>4</th>\n",
       "      <td>Aaliyah: The Princess of R&amp;amp;B</td>\n",
       "    </tr>\n",
       "  </tbody>\n",
       "</table>\n",
       "</div>"
      ],
      "text/plain": [
       "                              title\n",
       "0       A Tale of Love and Darkness\n",
       "1             The Fox and the Hound\n",
       "2              20 Feet from Stardom\n",
       "3                        The Basket\n",
       "4  Aaliyah: The Princess of R&amp;B"
      ]
     },
     "execution_count": 84,
     "metadata": {},
     "output_type": "execute_result"
    }
   ],
   "source": [
    "# Example of now the similarity matrix is used, looking up movies similar to\n",
    "# 'The Music of Silence'\n",
    "pd.DataFrame(similarity_matrix_tfidfvec_truncSVD4000['The Music of Silence'].sort_values(ascending=False)[1:6].index)\n",
    "            "
   ]
  },
  {
   "cell_type": "code",
   "execution_count": 86,
   "metadata": {},
   "outputs": [],
   "source": [
    "# Only run this cell if you have run the previous notebooks up through the previous cell,\n",
    "# generating a new cosine similarity matrix, similarity_matrix_tfidfvec_truncSVD4000.\n",
    "# As an added layer of protection, you will also need to move the file into the /data\n",
    "# folder. Then, uncomment this cell and run it.\n",
    "with open('data/similarity_matrix_tfidfvec_truncSVD4000.pkl', 'rb') as f:\n",
    "    similarity_matrix_tfidfvec_truncSVD4000 = pickle.load(f)"
   ]
  },
  {
   "cell_type": "markdown",
   "metadata": {},
   "source": [
    "### Export Similarity Matrix in several formats for backup and comparison of file size"
   ]
  },
  {
   "cell_type": "code",
   "execution_count": 87,
   "metadata": {},
   "outputs": [
    {
     "data": {
      "text/plain": [
       "pandas.core.frame.DataFrame"
      ]
     },
     "execution_count": 87,
     "metadata": {},
     "output_type": "execute_result"
    }
   ],
   "source": [
    "type(similarity_matrix_tfidfvec_truncSVD4000)"
   ]
  },
  {
   "cell_type": "code",
   "execution_count": 88,
   "metadata": {},
   "outputs": [],
   "source": [
    "np.save('data/sim_matrix_tfidfvec_truncSVD4000.npy', sim_matrix_tfidfvec_truncSVD1000)"
   ]
  },
  {
   "cell_type": "code",
   "execution_count": 89,
   "metadata": {},
   "outputs": [],
   "source": [
    "similarity_matrix_tfidfvec_truncSVD4000.to_csv('data/similarity_matrix_tfidfvec_truncSVD4000.csv')"
   ]
  },
  {
   "cell_type": "markdown",
   "metadata": {},
   "source": [
    "### Find Similar Movies\n",
    "#### These functions are also present in interface.py for use in notebook 8-User_Interface.ipynb."
   ]
  },
  {
   "cell_type": "code",
   "execution_count": 90,
   "metadata": {},
   "outputs": [],
   "source": [
    "movie_list = df['title']"
   ]
  },
  {
   "cell_type": "code",
   "execution_count": 91,
   "metadata": {},
   "outputs": [
    {
     "data": {
      "text/plain": [
       "0                The Music of Silence\n",
       "1    The Miseducation of Cameron Post\n",
       "2               The Spy Who Dumped Me\n",
       "3                   The Darkest Minds\n",
       "4                         Like Father\n",
       "Name: title, dtype: object"
      ]
     },
     "execution_count": 91,
     "metadata": {},
     "output_type": "execute_result"
    }
   ],
   "source": [
    "movie_list[0:5]"
   ]
  },
  {
   "cell_type": "code",
   "execution_count": 92,
   "metadata": {},
   "outputs": [],
   "source": [
    "def title_recommender(movie_name, movie_list, limit=3):\n",
    "    results = process.extract(movie_name, movie_list, limit=limit)\n",
    "    return results"
   ]
  },
  {
   "cell_type": "code",
   "execution_count": 93,
   "metadata": {},
   "outputs": [],
   "source": [
    "def find_similar_movies():\n",
    "    movie_name = input(\"Give me a movie title and I'll give you five titles you might also like:\")\n",
    "    for title in df['title']:\n",
    "        if title == movie_name:\n",
    "            sim_movies_text = similarity_matrix_tfidfvec_truncSVD1000[movie_name]\n",
    "            print(\"Thanks! Here are my recommendations, along with review text similarity scores:\")\n",
    "            recommendations = pd.DataFrame(sim_movies_text.sort_values(ascending=False)[1:6])\n",
    "            return recommendations\n",
    "    limit = 3\n",
    "    while title != movie_name:\n",
    "        results = title_recommender(movie_name, df['title'], limit=limit)\n",
    "        print(\"Sorry, that movie title isn't in my list. Did you mean\", results, \"?\")\n",
    "        movie_name = input(\"(I need the exact title, please...)\")\n",
    "        for title in df['title']:\n",
    "            if title == movie_name:\n",
    "                sim_movies_text = similarity_matrix_tfidfvec_truncSVD1000[movie_name]\n",
    "                print(\"Thanks! Here are my recommendations, along with review text similarity scores:\")\n",
    "                recommendations = pd.DataFrame(sim_movies_text.sort_values(ascending=False)[1:6])\n",
    "                return recommendations\n",
    "            else:\n",
    "                limit += 1\n",
    "                if limit >= 10:\n",
    "                    limit = 10"
   ]
  },
  {
   "cell_type": "code",
   "execution_count": 94,
   "metadata": {},
   "outputs": [],
   "source": [
    "def find_all_similar_movies():\n",
    "    movie_name = input(\"Give me a movie title and I'll give you five titles you might also like:\")\n",
    "    for title in df['title']:\n",
    "        if title == movie_name:\n",
    "            sim_movies_text = similarity_matrix_tfidfvec_truncSVD1000[movie_name]\n",
    "            print(\"Thanks! Here are my recommendations, along with review text similarity scores:\")\n",
    "            recommendations = pd.DataFrame(sim_movies_text.sort_values(ascending=False), index=df['title'])\n",
    "            return recommendations\n",
    "    limit = 3\n",
    "    while title != movie_name:\n",
    "        results = title_recommender(movie_name, df['title'], limit=limit)\n",
    "        print(\"Sorry, that movie title isn't in my list. Did you mean\", results, \"?\")\n",
    "        movie_name = input(\"(I need the exact title, please...)\")\n",
    "        for title in df['title']:\n",
    "            if title == movie_name:\n",
    "                sim_movies_text = similarity_matrix_tfidfvec_truncSVD1000[movie_name]\n",
    "                print(\"Thanks! Here are my recommendations, along with review text similarity scores:\")\n",
    "                recommendations = pd.DataFrame(sim_movies_text.sort_values(ascending=False), index=df['title'])\n",
    "                return recommendations\n",
    "            else:\n",
    "                limit += 1\n",
    "                if limit >= 10:\n",
    "                    limit = 10"
   ]
  },
  {
   "cell_type": "markdown",
   "metadata": {},
   "source": [
    "### Recommender System Evaluation\n",
    "#### To evaluate my recommender system, I will have my colleagues test out the system, recording what they thought about each recommendation on a 6 point scale (5 = excellent recommendation, 4= good, 3= fair, 2 = poor, 1 = unrelated, 0 = IDK, that's a movie I've never seen)"
   ]
  },
  {
   "cell_type": "code",
   "execution_count": 95,
   "metadata": {},
   "outputs": [],
   "source": [
    "def system_test(trials):\n",
    "    rate_recs = []\n",
    "    for trial in reversed(range(trials)):\n",
    "        print(\"Thank you for trying out MovieRec4Parents(tm)! You have\", trial+1, \"tries to go.\")\n",
    "        recommendations = find_similar_movies()\n",
    "        print(recommendations)\n",
    "        rate_recs.append(recommendations)\n",
    "        for rec in range(len(recommendations)):\n",
    "            print(\"On a scale of 1-5, how good is recommendation\", rec+1,\"? If you don't know the movie, enter 0.)\")\n",
    "            rating = input()\n",
    "            rate_recs.append((trial, rec+1, rating))\n",
    "    print(\"You're done! I hope you enjoyed using MovieRec4Parents(tm). Tell your friends!\")\n",
    "    return rate_recs"
   ]
  },
  {
   "cell_type": "markdown",
   "metadata": {},
   "source": [
    "#### To get cosine similarity matrix necessary to run working movie recommender system, you will need to download a 568MB pkl file, similarity_matrix_tfidfvec_truncSVD4000.pkl, currently housed on my google drive. Click here to access the [link](https://drive.google.com/open?id=1kcyVzlulQJ8ViMBCOa_nRxBTA4IaoNBy) or cut and paste this link https://drive.google.com/open?id=1kcyVzlulQJ8ViMBCOa_nRxBTA4IaoNBy .\n",
    "#### If you have any questions, feel free to email me at hadeishi@gmail.com ."
   ]
  },
  {
   "cell_type": "code",
   "execution_count": null,
   "metadata": {},
   "outputs": [],
   "source": []
  }
 ],
 "metadata": {
  "kernelspec": {
   "display_name": "Python [default]",
   "language": "python",
   "name": "python3"
  },
  "language_info": {
   "codemirror_mode": {
    "name": "ipython",
    "version": 3
   },
   "file_extension": ".py",
   "mimetype": "text/x-python",
   "name": "python",
   "nbconvert_exporter": "python",
   "pygments_lexer": "ipython3",
   "version": "3.6.4"
  }
 },
 "nbformat": 4,
 "nbformat_minor": 2
}

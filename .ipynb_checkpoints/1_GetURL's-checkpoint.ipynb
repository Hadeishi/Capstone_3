{
 "cells": [
  {
   "cell_type": "code",
   "execution_count": 1,
   "metadata": {},
   "outputs": [],
   "source": [
    "import requests, time, json\n",
    "from bs4 import BeautifulSoup as bs4"
   ]
  },
  {
   "cell_type": "markdown",
   "metadata": {},
   "source": [
    "# MovieRec4Parents"
   ]
  },
  {
   "cell_type": "markdown",
   "metadata": {},
   "source": [
    "## Problem Statement:\n",
    "#### Busy parents need a way to choose movies for their family that all members of the family will enjoy without exposing any of their children to any objectionable material. Yet, every family has its own standards for determining what is objectionable and what is not. Common Sense Media has a great website, but it takes a while to page through all of the movies at this site and get to all of the valuable material. \n",
    "#### To solve this problem, I will build a content-based recommender system that will give movie recommendations in response to family members entering the name of a single movie that is similar to a movie they want to see. It will search through a list of thousands of movies that have already been curated by Common Sense Media and return a list of simlar movies that the entire family will be able to enjoy. It will warn parents of any potentially objectionable material in the movie and then direct parents to the appropriate web pages for a complete and hopefully spoiler-free review of the recommended movies."
   ]
  },
  {
   "cell_type": "markdown",
   "metadata": {},
   "source": [
    "## Get URL's of Individual Movies"
   ]
  },
  {
   "cell_type": "markdown",
   "metadata": {},
   "source": [
    "### Create soup object and prepare to scrape"
   ]
  },
  {
   "cell_type": "code",
   "execution_count": 2,
   "metadata": {},
   "outputs": [],
   "source": [
    "url = \"https://www.commonsensemedia.org/reviews/category/movie\""
   ]
  },
  {
   "cell_type": "code",
   "execution_count": 3,
   "metadata": {},
   "outputs": [],
   "source": [
    "res = requests.get(url)"
   ]
  },
  {
   "cell_type": "code",
   "execution_count": 4,
   "metadata": {},
   "outputs": [
    {
     "data": {
      "text/plain": [
       "200"
      ]
     },
     "execution_count": 4,
     "metadata": {},
     "output_type": "execute_result"
    }
   ],
   "source": [
    "res.status_code"
   ]
  },
  {
   "cell_type": "code",
   "execution_count": 5,
   "metadata": {},
   "outputs": [],
   "source": [
    "soup = bs4(res.content, 'lxml')"
   ]
  },
  {
   "cell_type": "markdown",
   "metadata": {},
   "source": [
    "### Scrape Common Sense Media for movie URL's"
   ]
  },
  {
   "cell_type": "code",
   "execution_count": 6,
   "metadata": {},
   "outputs": [],
   "source": [
    "movies_urls = []"
   ]
  },
  {
   "cell_type": "code",
   "execution_count": 7,
   "metadata": {},
   "outputs": [],
   "source": [
    "link = soup.find('strong', {'class': 'field-content'}).find('a').attrs.get('href')"
   ]
  },
  {
   "cell_type": "code",
   "execution_count": 8,
   "metadata": {},
   "outputs": [
    {
     "data": {
      "text/plain": [
       "'/movie-reviews/siberia'"
      ]
     },
     "execution_count": 8,
     "metadata": {},
     "output_type": "execute_result"
    }
   ],
   "source": [
    "link"
   ]
  },
  {
   "cell_type": "code",
   "execution_count": 9,
   "metadata": {},
   "outputs": [],
   "source": [
    "movies_urls.append('https://www.commonsensemedia.org' + link)"
   ]
  },
  {
   "cell_type": "code",
   "execution_count": 10,
   "metadata": {},
   "outputs": [
    {
     "data": {
      "text/plain": [
       "['https://www.commonsensemedia.org/movie-reviews/siberia']"
      ]
     },
     "execution_count": 10,
     "metadata": {},
     "output_type": "execute_result"
    }
   ],
   "source": [
    "movies_urls"
   ]
  },
  {
   "cell_type": "code",
   "execution_count": 11,
   "metadata": {},
   "outputs": [],
   "source": [
    "# Rewrite as a function...\n",
    "movies_urls = []\n",
    "missed_urls_pages = []\n",
    "def get_movie_urls(num_pages):\n",
    "    for page in range(num_pages):\n",
    "        url = \"https://www.commonsensemedia.org/movie-reviews?page={}\".format(page)\n",
    "        print(url)\n",
    "        res = requests.get(url)\n",
    "        soup = bs4(res.content, 'lxml')\n",
    "        if res.status_code == 200:\n",
    "            for movie in soup.find_all('strong', {'class': 'field-content'}):\n",
    "                movies_urls.append('https://www.commonsensemedia.org'\n",
    "                                       + str(movie.find('a').attrs.get('href')))\n",
    "                time.sleep(.1)\n",
    "        else:\n",
    "            missed_urls_page.append('https://www.commonsensemedia.org'\n",
    "                                        + str(movie.find('a').attrs.get('href')))\n",
    "    return movies_urls, missed_urls_pages"
   ]
  },
  {
   "cell_type": "code",
   "execution_count": 1,
   "metadata": {},
   "outputs": [],
   "source": [
    "# Leave this cell commented out; will take about 35 minutes to scrape URL's from \n",
    "# Common Sense Media's website.\n",
    "# movies_urls, missed_urls_pages = get_movie_urls(437)"
   ]
  },
  {
   "cell_type": "code",
   "execution_count": 14,
   "metadata": {},
   "outputs": [
    {
     "data": {
      "text/plain": [
       "[]"
      ]
     },
     "execution_count": 14,
     "metadata": {},
     "output_type": "execute_result"
    }
   ],
   "source": [
    "missed_urls_pages  # No missing pages!"
   ]
  },
  {
   "cell_type": "code",
   "execution_count": 15,
   "metadata": {},
   "outputs": [
    {
     "data": {
      "text/plain": [
       "['https://www.commonsensemedia.org/movie-reviews/siberia',\n",
       " 'https://www.commonsensemedia.org/movie-reviews/shock-and-awe',\n",
       " 'https://www.commonsensemedia.org/movie-reviews/eighth-grade',\n",
       " 'https://www.commonsensemedia.org/movie-reviews/skyscraper',\n",
       " 'https://www.commonsensemedia.org/movie-reviews/hotel-transylvania-3-summer-vacation']"
      ]
     },
     "execution_count": 15,
     "metadata": {},
     "output_type": "execute_result"
    }
   ],
   "source": [
    "movies_urls[:5]"
   ]
  },
  {
   "cell_type": "code",
   "execution_count": 16,
   "metadata": {},
   "outputs": [
    {
     "data": {
      "text/plain": [
       "8892"
      ]
     },
     "execution_count": 16,
     "metadata": {},
     "output_type": "execute_result"
    }
   ],
   "source": [
    "len(movies_urls)"
   ]
  },
  {
   "cell_type": "code",
   "execution_count": 17,
   "metadata": {},
   "outputs": [],
   "source": [
    "with open('data/movies_urls.json', 'w') as output:\n",
    "    json.dump(movies_urls, output)"
   ]
  },
  {
   "cell_type": "markdown",
   "metadata": {},
   "source": [
    "#### List of movie URL's saved as movies_urls.json for use in the next notebook for scraping..."
   ]
  },
  {
   "cell_type": "markdown",
   "metadata": {},
   "source": [
    "### If Necessary:  Selenium to find hidden data"
   ]
  },
  {
   "cell_type": "code",
   "execution_count": null,
   "metadata": {},
   "outputs": [],
   "source": [
    "# import os\n",
    "# from selenium import webdriver\n",
    "# \n",
    "# chromedriver = '/Users/yukiharuhadeishi/Downloads/chromedriver'\n",
    "# os.environ[\"webdriver.chrome.driver\"] = chromedriver\n",
    "# driver = webdriver.Chrome(chromedriver)"
   ]
  },
  {
   "cell_type": "code",
   "execution_count": null,
   "metadata": {},
   "outputs": [],
   "source": [
    "# driver.get(url)"
   ]
  }
 ],
 "metadata": {
  "kernelspec": {
   "display_name": "Python [default]",
   "language": "python",
   "name": "python3"
  },
  "language_info": {
   "codemirror_mode": {
    "name": "ipython",
    "version": 3
   },
   "file_extension": ".py",
   "mimetype": "text/x-python",
   "name": "python",
   "nbconvert_exporter": "python",
   "pygments_lexer": "ipython3",
   "version": "3.6.4"
  }
 },
 "nbformat": 4,
 "nbformat_minor": 2
}

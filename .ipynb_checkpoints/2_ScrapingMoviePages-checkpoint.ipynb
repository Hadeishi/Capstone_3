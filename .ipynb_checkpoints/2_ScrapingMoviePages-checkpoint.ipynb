{
 "cells": [
  {
   "cell_type": "markdown",
   "metadata": {},
   "source": [
    "# Scrape Raw Data from Movie Review Pages\n",
    "#### In this notebook, I will import URL's scraped in notebook \\#1 and visit each page, scraping data. I will run the data through Beautiful Soup to strip away html artifacts.\n",
    "#### Separate functions will be built to extract each individual movie feature to facilitate trouble-shooting and provide for maximum modularity in this process (in case I think of additional features that need to be extracted in the future, I will not have to rewrite all my code). As part of my trouble-shooting, I printed out the names of each movie and which of the 8780 movies it was when its page was visited and data obtained."
   ]
  },
  {
   "cell_type": "markdown",
   "metadata": {},
   "source": [
    "### Importing URL's"
   ]
  },
  {
   "cell_type": "code",
   "execution_count": 1,
   "metadata": {},
   "outputs": [],
   "source": [
    "import pandas as pd\n",
    "import seaborn as sns\n",
    "import requests, re, json, time, copy\n",
    "from bs4 import BeautifulSoup as bs4"
   ]
  },
  {
   "cell_type": "markdown",
   "metadata": {},
   "source": [
    "### Load list of movie URL's and visit them to scrape movie features"
   ]
  },
  {
   "cell_type": "code",
   "execution_count": 2,
   "metadata": {},
   "outputs": [],
   "source": [
    "# Load json of movies_urls\n",
    "with open('data/movies_urls.json') as json_file:  \n",
    "    movies_urls = json.load(json_file)"
   ]
  },
  {
   "cell_type": "code",
   "execution_count": 3,
   "metadata": {},
   "outputs": [
    {
     "data": {
      "text/plain": [
       "['https://www.commonsensemedia.org/movie-reviews/siberia',\n",
       " 'https://www.commonsensemedia.org/movie-reviews/shock-and-awe',\n",
       " 'https://www.commonsensemedia.org/movie-reviews/eighth-grade',\n",
       " 'https://www.commonsensemedia.org/movie-reviews/skyscraper',\n",
       " 'https://www.commonsensemedia.org/movie-reviews/hotel-transylvania-3-summer-vacation']"
      ]
     },
     "execution_count": 3,
     "metadata": {},
     "output_type": "execute_result"
    }
   ],
   "source": [
    "movies_urls[:5]"
   ]
  },
  {
   "cell_type": "markdown",
   "metadata": {},
   "source": [
    "### Main functions used to scrape data"
   ]
  },
  {
   "cell_type": "code",
   "execution_count": 4,
   "metadata": {},
   "outputs": [],
   "source": [
    "movies_features = []\n",
    "def scrape_movie_features(first_movie, num_movies_to_scrape):\n",
    "    movie_features = {}\n",
    "    missed_movies = {}\n",
    "    for movie in range(num_movies_to_scrape):\n",
    "        movie = (movie + first_movie)\n",
    "        url = movies_urls[movie]\n",
    "        res = requests.get(url)\n",
    "        soup = bs4(res.content, 'lxml')\n",
    "        print(movie, url[47:])\n",
    "        if res.status_code == 200:\n",
    "            movie_features = get_movie_features(movie, url, soup)\n",
    "            movies_features.append(movie_features)\n",
    "        else:\n",
    "            missed_movies.append([movie, url])\n",
    "        if movie == len(movies_urls):\n",
    "            print('That was the last movie.')\n",
    "            break\n",
    "    return movies_features, missed_movies"
   ]
  },
  {
   "cell_type": "code",
   "execution_count": 5,
   "metadata": {},
   "outputs": [],
   "source": [
    "movies_features = []\n",
    "def get_movie_features(num, url, soup):\n",
    "    movie_features = {}\n",
    "    movie_features['movie_id'] = num\n",
    "    movie_features['slug'] = url[47:]\n",
    "    movie_features['title'] = get_title(soup)\n",
    "    movie_features['age'] = get_age(soup)\n",
    "    movie_features['family_topics'] = get_family_topics(soup)\n",
    "    movie_features['is_it_any_good'] = get_is_it_any_good(soup)\n",
    "    movie_features['movie_details_raw'] = get_movie_details_raw(soup)\n",
    "    movie_features['one_line_description'] = get_one_line_description(soup)\n",
    "    movie_features['overall_rating'] = get_overall_rating(soup)\n",
    "    movie_features['parental_rating_and_spoilers_raw'] = get_parental_rating_and_spoilers_raw(soup)\n",
    "    movie_features['what_is_the_story_raw'] = get_what_is_the_story(soup)\n",
    "    movie_features['what_parents_need_to_know_raw'] = get_what_parents_need_to_know(soup)\n",
    "    return movie_features"
   ]
  },
  {
   "cell_type": "markdown",
   "metadata": {},
   "source": [
    "### Helper Functions to get specific raw movie features"
   ]
  },
  {
   "cell_type": "code",
   "execution_count": 6,
   "metadata": {},
   "outputs": [],
   "source": [
    "def get_title(soup):\n",
    "    return str(soup.h1)[4:-5]"
   ]
  },
  {
   "cell_type": "code",
   "execution_count": 7,
   "metadata": {},
   "outputs": [],
   "source": [
    "def get_age(soup):\n",
    "    return str(soup.find('div', 'csm-green-age').get_text())"
   ]
  },
  {
   "cell_type": "code",
   "execution_count": 8,
   "metadata": {},
   "outputs": [],
   "source": [
    "def get_family_topics(soup):\n",
    "    return str(soup.find('div',\n",
    "                         'field-name-field-family-topics').get_text())   "
   ]
  },
  {
   "cell_type": "code",
   "execution_count": 9,
   "metadata": {},
   "outputs": [],
   "source": [
    "def get_is_it_any_good(soup):\n",
    "    return str(soup.find('div', 'field-name-field-any-good').get_text())"
   ]
  },
  {
   "cell_type": "code",
   "execution_count": 10,
   "metadata": {},
   "outputs": [],
   "source": [
    "def get_movie_details_raw(soup):\n",
    "    return str(soup.find('div', 'pane-product-details').get_text())   "
   ]
  },
  {
   "cell_type": "code",
   "execution_count": 11,
   "metadata": {},
   "outputs": [],
   "source": [
    "def get_one_line_description(soup):\n",
    "    return str(soup.find('div', 'field-name-field-one-liner').get_text())"
   ]
  },
  {
   "cell_type": "code",
   "execution_count": 12,
   "metadata": {},
   "outputs": [],
   "source": [
    "def get_overall_rating(soup):\n",
    "    rating = re.search(\"\\d\", str(soup.find('div', 'field_stars_rating')))\n",
    "    return str(rating[0])"
   ]
  },
  {
   "cell_type": "code",
   "execution_count": 13,
   "metadata": {},
   "outputs": [],
   "source": [
    "def get_parental_rating_and_spoilers_raw(soup):\n",
    "    return str(soup.find_all('div', 'field-type-field-collection'))"
   ]
  },
  {
   "cell_type": "code",
   "execution_count": 14,
   "metadata": {},
   "outputs": [],
   "source": [
    "def get_what_is_the_story(soup):\n",
    "    return str(soup.find('div',\n",
    "                         'field-name-field-what-is-story').get_text())"
   ]
  },
  {
   "cell_type": "code",
   "execution_count": 15,
   "metadata": {},
   "outputs": [],
   "source": [
    "def get_what_parents_need_to_know(soup):\n",
    "    return str(soup.find('div', 'field-name-field-parents-need-to-know'))"
   ]
  },
  {
   "cell_type": "markdown",
   "metadata": {},
   "source": [
    "### Scraping Movie Features"
   ]
  },
  {
   "cell_type": "code",
   "execution_count": 16,
   "metadata": {},
   "outputs": [
    {
     "data": {
      "text/plain": [
       "8892"
      ]
     },
     "execution_count": 16,
     "metadata": {},
     "output_type": "execute_result"
    }
   ],
   "source": [
    "len(movies_urls)"
   ]
  },
  {
   "cell_type": "code",
   "execution_count": 22,
   "metadata": {},
   "outputs": [],
   "source": [
    "# Leave this cell commented out; will run a scraper that will take two and a half hours\n",
    "# movies_features, missed_movies = scrape_movie_features(0, 9000)"
   ]
  },
  {
   "cell_type": "code",
   "execution_count": 18,
   "metadata": {},
   "outputs": [
    {
     "data": {
      "text/plain": [
       "8892"
      ]
     },
     "execution_count": 18,
     "metadata": {},
     "output_type": "execute_result"
    }
   ],
   "source": [
    "len(movies_features)"
   ]
  },
  {
   "cell_type": "code",
   "execution_count": 23,
   "metadata": {},
   "outputs": [],
   "source": [
    "# Run if you'd like to see the scraped raw, unprocessed movie data\n",
    "# movies_features[8891]"
   ]
  },
  {
   "cell_type": "code",
   "execution_count": 20,
   "metadata": {},
   "outputs": [],
   "source": [
    "# movies_features_0_to_8891new = movies_features"
   ]
  },
  {
   "cell_type": "code",
   "execution_count": 21,
   "metadata": {},
   "outputs": [],
   "source": [
    "# with open('data/movies_features_0_to_8891new.json', 'w') as output:\n",
    "#     json.dump(movies_features_0_to_8891new, output)"
   ]
  },
  {
   "cell_type": "markdown",
   "metadata": {},
   "source": [
    "#### N.B. Movie Features all appear in movies_features_0_to_8779_less_2 except for two movies, Dolphins and ? (243 and 244). Thereafter, movies is a numerical difference of 2 between index and movie_id number. All other movies were collected.\n",
    "#### Apparently, these two broken movies were fixed (or possibly deleted) before movies were rescraped on 7/13/18. Subsequent notebooks not (yet) set up to access the new movie data.\n",
    "#### Movie features saved to json file for further cleaning and data exploration in Notebook 3."
   ]
  },
  {
   "cell_type": "code",
   "execution_count": null,
   "metadata": {},
   "outputs": [],
   "source": []
  }
 ],
 "metadata": {
  "kernelspec": {
   "display_name": "Python [default]",
   "language": "python",
   "name": "python3"
  },
  "language_info": {
   "codemirror_mode": {
    "name": "ipython",
    "version": 3
   },
   "file_extension": ".py",
   "mimetype": "text/x-python",
   "name": "python",
   "nbconvert_exporter": "python",
   "pygments_lexer": "ipython3",
   "version": "3.6.4"
  }
 },
 "nbformat": 4,
 "nbformat_minor": 2
}

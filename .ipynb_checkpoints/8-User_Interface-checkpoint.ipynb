{
 "cells": [
  {
   "cell_type": "markdown",
   "metadata": {},
   "source": [
    "# Welcome to MovieRec4Parents!\n",
    "\n",
    "#### Please do not tamper with the cell below, or the interface won't work.\n",
    "#### *** IMPORTANT: ***  If you forked and cloned this from my GitHub, you will need to contact also download the cosine similarity matrix file, similarity_matrix_tfidfvec_truncSVD4000.pkl, for this recommender to work. You can do so by going to https://drive.google.com/open?id=1MZv3t0YlG6VIQYRr5c0_e88stkJFFO1z and downloading the file. Be sure to move it to the  /capstone/data folder before running any of the cells below.\n"
   ]
  },
  {
   "cell_type": "code",
   "execution_count": 3,
   "metadata": {},
   "outputs": [],
   "source": [
    "from lib.interface import *"
   ]
  },
  {
   "cell_type": "markdown",
   "metadata": {},
   "source": [
    "### If you want five quick movie recommendations, think of a movie that is like a movie you'd like to see, click next to \"find_similar_movies\" and press enter. If you have more time and don't mind answering a few questions, click next to \"get_parent_ratings_first\" and press enter. You'll be asked a few questions which will be used to refine my recommendations."
   ]
  },
  {
   "cell_type": "code",
   "execution_count": 8,
   "metadata": {
    "scrolled": false
   },
   "outputs": [
    {
     "name": "stdout",
     "output_type": "stream",
     "text": [
      "Give me a movie title and I'll give you five titles you might also like:Cars\n",
      "Thanks! Here are my recommendations, along with review text similarity scores:\n"
     ]
    },
    {
     "data": {
      "text/html": [
       "<div>\n",
       "<style scoped>\n",
       "    .dataframe tbody tr th:only-of-type {\n",
       "        vertical-align: middle;\n",
       "    }\n",
       "\n",
       "    .dataframe tbody tr th {\n",
       "        vertical-align: top;\n",
       "    }\n",
       "\n",
       "    .dataframe thead th {\n",
       "        text-align: right;\n",
       "    }\n",
       "</style>\n",
       "<table border=\"1\" class=\"dataframe\">\n",
       "  <thead>\n",
       "    <tr style=\"text-align: right;\">\n",
       "      <th></th>\n",
       "      <th>Cars</th>\n",
       "    </tr>\n",
       "    <tr>\n",
       "      <th>title</th>\n",
       "      <th></th>\n",
       "    </tr>\n",
       "  </thead>\n",
       "  <tbody>\n",
       "    <tr>\n",
       "      <th>Cars 3</th>\n",
       "      <td>0.558753</td>\n",
       "    </tr>\n",
       "    <tr>\n",
       "      <th>Cars 2</th>\n",
       "      <td>0.494650</td>\n",
       "    </tr>\n",
       "    <tr>\n",
       "      <th>Cars Toon: Mater's Tall Tales</th>\n",
       "      <td>0.387145</td>\n",
       "    </tr>\n",
       "    <tr>\n",
       "      <th>Fast Girl</th>\n",
       "      <td>0.224075</td>\n",
       "    </tr>\n",
       "    <tr>\n",
       "      <th>Hot Wheels: The Skills to Thrill</th>\n",
       "      <td>0.217398</td>\n",
       "    </tr>\n",
       "  </tbody>\n",
       "</table>\n",
       "</div>"
      ],
      "text/plain": [
       "                                      Cars\n",
       "title                                     \n",
       "Cars 3                            0.558753\n",
       "Cars 2                            0.494650\n",
       "Cars Toon: Mater's Tall Tales     0.387145\n",
       "Fast Girl                         0.224075\n",
       "Hot Wheels: The Skills to Thrill  0.217398"
      ]
     },
     "execution_count": 8,
     "metadata": {},
     "output_type": "execute_result"
    }
   ],
   "source": [
    "find_similar_movies()"
   ]
  },
  {
   "cell_type": "code",
   "execution_count": 10,
   "metadata": {},
   "outputs": [
    {
     "name": "stdout",
     "output_type": "stream",
     "text": [
      "Welcome to MovieRec4Parents! Let me ask you a few questions before we begin.\n",
      "How many children do you have?2\n",
      "How old is your child 1 ?\n",
      "10\n",
      "How old is your child 2 ?\n",
      "14\n",
      "Thank you!\n",
      "I have just 8 more questions for you. Respond with a ? if you'd like some examples.\n",
      "How important are positive messages in movies to you and kids? (0 to 5)\n",
      "Please enter 0, 1, 2, 3, 4, 5, or ?2\n",
      "What degree of exposure to sex in movies is okay for your kids? (0 to 5)\n",
      "Please enter 0, 1, 2, 3, 4, 5, or ?3\n",
      "What level of movie violence is okay for your kids (0 to 5)\n",
      "Please enter 0, 1, 2, 3, 4, 5, or ?4\n",
      "What level of exposure to consumerism is okay for your kids? (0 to 5)\n",
      "Please enter 0, 1, 2, 3, 4, 5, or ?4\n",
      "What level of drinking, drugs, & smoking is okay for your kids? (0 to 5)\n",
      "Please enter 0, 1, 2, 3, 4, 5, or ?3\n",
      "What level of exposure to bad language is okay for your kids? (0 to 5)\n",
      "Please enter 0, 1, 2, 3, 4, 5, or ?4\n",
      "What genre of movie would you like to see?\n",
      "Please enter Drama, Family and Kids, Comedy, Action/Adventure, Documentary, Thriller,\n",
      "Horror, Science Fiction, Fantasy, Romance, Musical, Classic, Western, or ?Action/Adventure\n",
      "Finally, what MPAA rating is the most extreme MPAA Rating for your kids (G, PG, PG-13, R, NR (not rated), or NC-17?)\n",
      "Please enter G, PG, PG-13, R, NR (not rated), NC-17, or ?Mission impossible\n",
      "Mission impossible\n",
      "Please enter G, PG, PG-13, R, NR (not rated), NC-17, or ?R\n",
      "R\n",
      "Thank you!\n",
      "Give me a movie title and I'll give you five titles you might also like:Mission Impossible\n",
      "Sorry, that movie title isn't in my list. Did you mean [('Mission: Impossible', 97, 8640), ('Mission: Impossible III', 95, 5794), ('Mission: Impossible 2', 95, 7949)] ?\n",
      "(I need the exact title, please...)Mission: Impossible\n",
      "Thanks! Here are my movie recommendations:\n",
      "Here are your recommended movies:\n"
     ]
    },
    {
     "data": {
      "text/plain": [
       "['Mission: Impossible 2',\n",
       " 'Mission: Impossible - Rogue Nation',\n",
       " 'Hitman: Agent 47',\n",
       " 'The Fate of the Furious',\n",
       " 'Kingsman: The Secret Service']"
      ]
     },
     "execution_count": 10,
     "metadata": {},
     "output_type": "execute_result"
    }
   ],
   "source": [
    "get_parent_ratings_first()"
   ]
  },
  {
   "cell_type": "markdown",
   "metadata": {},
   "source": [
    "### If you'd like more recs, rerun the cell(s) above! And thank you for using MovieRec4Parents!"
   ]
  },
  {
   "cell_type": "code",
   "execution_count": null,
   "metadata": {},
   "outputs": [],
   "source": []
  }
 ],
 "metadata": {
  "kernelspec": {
   "display_name": "Python [default]",
   "language": "python",
   "name": "python3"
  },
  "language_info": {
   "codemirror_mode": {
    "name": "ipython",
    "version": 3
   },
   "file_extension": ".py",
   "mimetype": "text/x-python",
   "name": "python",
   "nbconvert_exporter": "python",
   "pygments_lexer": "ipython3",
   "version": "3.6.4"
  }
 },
 "nbformat": 4,
 "nbformat_minor": 2
}

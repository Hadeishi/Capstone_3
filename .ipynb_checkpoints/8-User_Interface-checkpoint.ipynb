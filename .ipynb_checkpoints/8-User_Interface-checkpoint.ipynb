{
 "cells": [
  {
   "cell_type": "markdown",
   "metadata": {},
   "source": [
    "# Welcome to MovieRec4Parents!\n",
    "\n",
    "#### Please do not tamper with the cell below, or the interface won't work.\n",
    "#### *** IMPORTANT: ***  If you forked and cloned this from my GitHub, you will need to contact yuki@openmind.com so he can send you the cosine similarity matrix file, similarity_matrix_tfidfvec_truncSVD1000.pkl. Put it in /capstone/data folder in order for the recommender to work.\n"
   ]
  },
  {
   "cell_type": "code",
   "execution_count": 7,
   "metadata": {},
   "outputs": [],
   "source": [
    "from lib.interface import *"
   ]
  },
  {
   "cell_type": "markdown",
   "metadata": {},
   "source": [
    "### If you want five quick movie recommendations, think of a movie that is like a movie you'd like to see, click next to \"find_similar_movies\" and press enter. If you have more time and don't mind answering a few questions, click next to \"get_parent_ratings_first\" and press enter. You'll be asked a few questions which will be used to refine my recommendations."
   ]
  },
  {
   "cell_type": "code",
   "execution_count": 14,
   "metadata": {
    "scrolled": false
   },
   "outputs": [
    {
     "name": "stdout",
     "output_type": "stream",
     "text": [
      "Give me a movie title and I'll give you five titles you might also like:cars\n",
      "Sorry, that movie title isn't in my list. Did you mean [('Cars', 100, 5711), ('Cars 3', 90, 438), ('Cars 2', 90, 3710)] ?\n",
      "(I need the exact title, please...)Cars 3\n",
      "Thanks! Here are my recommendations, along with review text similarity scores:\n"
     ]
    },
    {
     "data": {
      "text/html": [
       "<div>\n",
       "<style scoped>\n",
       "    .dataframe tbody tr th:only-of-type {\n",
       "        vertical-align: middle;\n",
       "    }\n",
       "\n",
       "    .dataframe tbody tr th {\n",
       "        vertical-align: top;\n",
       "    }\n",
       "\n",
       "    .dataframe thead th {\n",
       "        text-align: right;\n",
       "    }\n",
       "</style>\n",
       "<table border=\"1\" class=\"dataframe\">\n",
       "  <thead>\n",
       "    <tr style=\"text-align: right;\">\n",
       "      <th></th>\n",
       "      <th>Cars 3</th>\n",
       "    </tr>\n",
       "    <tr>\n",
       "      <th>title</th>\n",
       "      <th></th>\n",
       "    </tr>\n",
       "  </thead>\n",
       "  <tbody>\n",
       "    <tr>\n",
       "      <th>Cars</th>\n",
       "      <td>0.780621</td>\n",
       "    </tr>\n",
       "    <tr>\n",
       "      <th>Cars 2</th>\n",
       "      <td>0.770458</td>\n",
       "    </tr>\n",
       "    <tr>\n",
       "      <th>Cars Toon: Mater's Tall Tales</th>\n",
       "      <td>0.698545</td>\n",
       "    </tr>\n",
       "    <tr>\n",
       "      <th>Fast Girl</th>\n",
       "      <td>0.501753</td>\n",
       "    </tr>\n",
       "    <tr>\n",
       "      <th>Days of Thunder</th>\n",
       "      <td>0.475566</td>\n",
       "    </tr>\n",
       "  </tbody>\n",
       "</table>\n",
       "</div>"
      ],
      "text/plain": [
       "                                 Cars 3\n",
       "title                                  \n",
       "Cars                           0.780621\n",
       "Cars 2                         0.770458\n",
       "Cars Toon: Mater's Tall Tales  0.698545\n",
       "Fast Girl                      0.501753\n",
       "Days of Thunder                0.475566"
      ]
     },
     "execution_count": 14,
     "metadata": {},
     "output_type": "execute_result"
    }
   ],
   "source": [
    "find_similar_movies()"
   ]
  },
  {
   "cell_type": "code",
   "execution_count": 11,
   "metadata": {},
   "outputs": [
    {
     "name": "stdout",
     "output_type": "stream",
     "text": [
      "Welcome to MovieRec4Parents! Let me ask you a few questions before we begin.\n",
      "How many children do you have?1\n",
      "How old is your child 1 ?\n",
      "5\n",
      "Thank you!\n",
      "I have just 9 more questions for you. Respond with a ? if you'd like some examples.\n",
      "Do you want to see an educational movie?\n",
      "Please enter y, n, or ?7\n",
      "Please enter y, n, or ?n\n",
      "What amount of \"sexy stuff\" is okay for your kids, on a scale of 0 to 3?)\n",
      "Please enter 0, 1, 2, 3, or ?3\n",
      "What level of violence and cartoon scariness is okay for your kids? (0 to 4)\n",
      "Please enter 0, 1, 2, 3, 4, or ?3\n",
      "What level of exposure to consumerism is okay for your kids? (0 to 5)\n",
      "Please enter 0, 1, 2, 3, 4, 5, or ?3\n",
      "What level of drinking, drugs, & smoking is okay for your kids? (0 to 5)\n",
      "Please enter 0, 1, 2, 3, 4, 5, or ?3\n",
      "What level of exposure to bad language is okay for your kids? (0 to 5)\n",
      "Please enter 0, 1, 2, 3, 4, 5, or ?3\n",
      "How important are positive messages in movies to you and kids? (0 to 5)\n",
      "Please enter 0, 1, 2, 3, 4, 5, or ?3\n",
      "What genre of movie would you like to see?\n",
      "Please enter Drama, Family and Kids, Comedy, Action/Adventure, Documentary, Thriller,\n",
      "Horror, Science Fiction, Fantasy, Romance, Musical, Classic, Western, or ?Family and Kids\n",
      "Finally, what MPAA rating is the most extreme MPAA Rating for your kids (G, PG, PG-13, R, NR (not rated), or NC-17?)\n",
      "Please enter G, PG, PG-13, R, NR (not rated), NC-17, or ?PG\n",
      "PG\n",
      "Thank you!\n",
      "Give me a movie title and I'll give you five titles you might also like:Toy Story 3\n",
      "Thanks! Here are my recommendations, along with review text similarity scores:\n",
      "Here are your recommended movies:\n"
     ]
    },
    {
     "data": {
      "text/plain": [
       "[\"Mr. Magorium's Wonder Emporium\",\n",
       " 'Fred Claus',\n",
       " 'Kit Kittredge: An American Girl',\n",
       " 'WALL-E',\n",
       " 'Monsters vs. Aliens']"
      ]
     },
     "execution_count": 11,
     "metadata": {},
     "output_type": "execute_result"
    }
   ],
   "source": [
    "get_parent_ratings_first()"
   ]
  },
  {
   "cell_type": "markdown",
   "metadata": {},
   "source": [
    "### If you'd like more recs, rerun the cell(s) above! And thank you for using MovieRec4Parents!"
   ]
  },
  {
   "cell_type": "code",
   "execution_count": null,
   "metadata": {},
   "outputs": [],
   "source": []
  }
 ],
 "metadata": {
  "kernelspec": {
   "display_name": "Python [default]",
   "language": "python",
   "name": "python3"
  },
  "language_info": {
   "codemirror_mode": {
    "name": "ipython",
    "version": 3
   },
   "file_extension": ".py",
   "mimetype": "text/x-python",
   "name": "python",
   "nbconvert_exporter": "python",
   "pygments_lexer": "ipython3",
   "version": "3.6.4"
  }
 },
 "nbformat": 4,
 "nbformat_minor": 2
}

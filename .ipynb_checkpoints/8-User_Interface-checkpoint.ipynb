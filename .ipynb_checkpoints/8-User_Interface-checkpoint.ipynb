{
 "cells": [
  {
   "cell_type": "markdown",
   "metadata": {},
   "source": [
    "# Welcome to MovieRec4Parents!\n",
    "\n",
    "#### Please do not tamper with the cell below, or the interface won't work."
   ]
  },
  {
   "cell_type": "code",
   "execution_count": 1,
   "metadata": {},
   "outputs": [
    {
     "name": "stderr",
     "output_type": "stream",
     "text": [
      "/Users/yukiharuhadeishi/anaconda3/lib/python3.6/site-packages/fuzzywuzzy/fuzz.py:35: UserWarning: Using slow pure-python SequenceMatcher. Install python-Levenshtein to remove this warning\n",
      "  warnings.warn('Using slow pure-python SequenceMatcher. Install python-Levenshtein to remove this warning')\n"
     ]
    }
   ],
   "source": [
    "from lib.interface import *"
   ]
  },
  {
   "cell_type": "markdown",
   "metadata": {},
   "source": [
    "### If you want five quick movie recommendations, think of a movie that is like a movie you'd like to see, click next to \"find_similar_movies\" and press enter. If you have more time and don't mind answering a few questions, click next to \"get_parent_ratings_first\" and press enter. You'll be asked a few questions which will be used to refine my recommendations."
   ]
  },
  {
   "cell_type": "code",
   "execution_count": 2,
   "metadata": {
    "scrolled": true
   },
   "outputs": [
    {
     "name": "stdout",
     "output_type": "stream",
     "text": [
      "Give me a movie title and I'll give you five titles you might also like:Wild at Heart\n",
      "Thanks! Here are my recommendations, along with review text similarity scores:\n"
     ]
    },
    {
     "data": {
      "text/html": [
       "<div>\n",
       "<style scoped>\n",
       "    .dataframe tbody tr th:only-of-type {\n",
       "        vertical-align: middle;\n",
       "    }\n",
       "\n",
       "    .dataframe tbody tr th {\n",
       "        vertical-align: top;\n",
       "    }\n",
       "\n",
       "    .dataframe thead th {\n",
       "        text-align: right;\n",
       "    }\n",
       "</style>\n",
       "<table border=\"1\" class=\"dataframe\">\n",
       "  <thead>\n",
       "    <tr style=\"text-align: right;\">\n",
       "      <th></th>\n",
       "      <th>Wild at Heart</th>\n",
       "    </tr>\n",
       "    <tr>\n",
       "      <th>title</th>\n",
       "      <th></th>\n",
       "    </tr>\n",
       "  </thead>\n",
       "  <tbody>\n",
       "    <tr>\n",
       "      <th>David Lynch's Inland Empire</th>\n",
       "      <td>0.532984</td>\n",
       "    </tr>\n",
       "    <tr>\n",
       "      <th>Lost Highway</th>\n",
       "      <td>0.441795</td>\n",
       "    </tr>\n",
       "    <tr>\n",
       "      <th>Lucky</th>\n",
       "      <td>0.403542</td>\n",
       "    </tr>\n",
       "    <tr>\n",
       "      <th>Dune</th>\n",
       "      <td>0.371687</td>\n",
       "    </tr>\n",
       "    <tr>\n",
       "      <th>Once Upon a Time in America</th>\n",
       "      <td>0.350043</td>\n",
       "    </tr>\n",
       "  </tbody>\n",
       "</table>\n",
       "</div>"
      ],
      "text/plain": [
       "                             Wild at Heart\n",
       "title                                     \n",
       "David Lynch's Inland Empire       0.532984\n",
       "Lost Highway                      0.441795\n",
       "Lucky                             0.403542\n",
       "Dune                              0.371687\n",
       "Once Upon a Time in America       0.350043"
      ]
     },
     "execution_count": 2,
     "metadata": {},
     "output_type": "execute_result"
    }
   ],
   "source": [
    "find_similar_movies()"
   ]
  },
  {
   "cell_type": "code",
   "execution_count": 3,
   "metadata": {},
   "outputs": [
    {
     "name": "stdout",
     "output_type": "stream",
     "text": [
      "Welcome to MovieRec4Parents! Let me ask you a few questions before we begin.\n",
      "How many children do you have?1\n",
      "How old is your child 1 ?\n",
      "2\n",
      "Thank you!\n",
      "I have just 9 more questions for you. Respond with a ? if you'd like some examples.\n",
      "Do you want to see an educational movie?\n",
      "Please enter y, n, or ?n\n",
      "What amount of \"sexy stuff\" is okay for your kids, on a scale of 0 to 3?)\n",
      "Please enter 0, 1, 2, 3, or ?1\n",
      "What level of violence and cartoon scariness is okay for your kids? (0 to 4)\n",
      "Please enter 0, 1, 2, 3, 4, or ?2\n",
      "What level of exposure to consumerism is okay for your kids? (0 to 5)\n",
      "Please enter 0, 1, 2, 3, 4, 5, or ?1\n",
      "What level of drinking, drugs, & smoking is okay for your kids? (0 to 5)\n",
      "Please enter 0, 1, 2, 3, 4, 5, or ?1\n",
      "What level of exposure to bad language is okay for your kids? (0 to 5)\n",
      "Please enter 0, 1, 2, 3, 4, 5, or ?2\n",
      "How important are positive messages in movies to you and kids? (0 to 5)\n",
      "Please enter 0, 1, 2, 3, 4, 5, or ?4\n",
      "What genre of movie would you like to see?\n",
      "Please enter Drama, Family and Kids, Comedy, Action/Adventure, Documentary, Thriller,\n",
      "Horror, Science Fiction, Fantasy, Romance, Musical, Classic, Western, or ?Family and Kids\n",
      "Finally, what MPAA rating is the most extreme MPAA Rating for your kids (G, PG, PG-13, R, NR (not rated), or NC-17?)\n",
      "Please enter G, PG, PG-13, R, NR (not rated), NC-17, or ?PG\n",
      "Thank you!\n",
      "Give me a movie title and I'll give you five titles you might also like:Moana\n",
      "Thanks! Here are my recommendations, along with review text similarity scores:\n",
      "Here are your recommended movies:\n"
     ]
    },
    {
     "data": {
      "text/plain": [
       "['The Swan Princess Christmas',\n",
       " 'Moondance Alexander',\n",
       " 'Jeremy Fink and the Meaning of Life',\n",
       " 'The Sword in the Stone',\n",
       " \"Charlotte's Web (2006)\"]"
      ]
     },
     "execution_count": 3,
     "metadata": {},
     "output_type": "execute_result"
    }
   ],
   "source": [
    "get_parent_ratings_first()"
   ]
  },
  {
   "cell_type": "markdown",
   "metadata": {},
   "source": [
    "### If you'd like more recs, rerun the cell(s) above! And thank you for using MovieRec4Parents!"
   ]
  },
  {
   "cell_type": "code",
   "execution_count": null,
   "metadata": {},
   "outputs": [],
   "source": []
  }
 ],
 "metadata": {
  "kernelspec": {
   "display_name": "Python [default]",
   "language": "python",
   "name": "python3"
  },
  "language_info": {
   "codemirror_mode": {
    "name": "ipython",
    "version": 3
   },
   "file_extension": ".py",
   "mimetype": "text/x-python",
   "name": "python",
   "nbconvert_exporter": "python",
   "pygments_lexer": "ipython3",
   "version": "3.6.4"
  }
 },
 "nbformat": 4,
 "nbformat_minor": 2
}

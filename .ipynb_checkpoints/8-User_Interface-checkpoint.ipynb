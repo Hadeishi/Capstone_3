{
 "cells": [
  {
   "cell_type": "markdown",
   "metadata": {},
   "source": [
    "# Welcome to MovieRec4Parents!\n",
    "\n",
    "#### Please do not tamper with the cell below, or the interface won't work."
   ]
  },
  {
   "cell_type": "code",
   "execution_count": 1,
   "metadata": {},
   "outputs": [
    {
     "name": "stderr",
     "output_type": "stream",
     "text": [
      "/Users/yukiharuhadeishi/anaconda3/lib/python3.6/site-packages/fuzzywuzzy/fuzz.py:35: UserWarning: Using slow pure-python SequenceMatcher. Install python-Levenshtein to remove this warning\n",
      "  warnings.warn('Using slow pure-python SequenceMatcher. Install python-Levenshtein to remove this warning')\n"
     ]
    }
   ],
   "source": [
    "from lib.interface import *"
   ]
  },
  {
   "cell_type": "markdown",
   "metadata": {},
   "source": [
    "### If you want five quick movie recommendations, think of a movie that is like a movie you'd like to see, click next to \"find_similar_movies\" and press enter. If you have more time and don't mind answering a few questions, click next to \"get_parent_ratings_first\" and press enter. You'll be asked a few questions which will be used to refine my recommendations."
   ]
  },
  {
   "cell_type": "code",
   "execution_count": 2,
   "metadata": {
    "scrolled": true
   },
   "outputs": [
    {
     "name": "stdout",
     "output_type": "stream",
     "text": [
      "Give me a movie title and I'll give you five titles you might also like:Jurassic Park\n",
      "Thanks! Here are my recommendations, along with review text similarity scores:\n"
     ]
    },
    {
     "data": {
      "text/html": [
       "<div>\n",
       "<style scoped>\n",
       "    .dataframe tbody tr th:only-of-type {\n",
       "        vertical-align: middle;\n",
       "    }\n",
       "\n",
       "    .dataframe tbody tr th {\n",
       "        vertical-align: top;\n",
       "    }\n",
       "\n",
       "    .dataframe thead th {\n",
       "        text-align: right;\n",
       "    }\n",
       "</style>\n",
       "<table border=\"1\" class=\"dataframe\">\n",
       "  <thead>\n",
       "    <tr style=\"text-align: right;\">\n",
       "      <th></th>\n",
       "      <th>Jurassic Park</th>\n",
       "    </tr>\n",
       "    <tr>\n",
       "      <th>title</th>\n",
       "      <th></th>\n",
       "    </tr>\n",
       "  </thead>\n",
       "  <tbody>\n",
       "    <tr>\n",
       "      <th>The Lost World: Jurassic Park</th>\n",
       "      <td>0.761363</td>\n",
       "    </tr>\n",
       "    <tr>\n",
       "      <th>Jurassic World: Fallen Kingdom</th>\n",
       "      <td>0.720975</td>\n",
       "    </tr>\n",
       "    <tr>\n",
       "      <th>Jurassic World</th>\n",
       "      <td>0.685764</td>\n",
       "    </tr>\n",
       "    <tr>\n",
       "      <th>Jurassic Park III</th>\n",
       "      <td>0.655582</td>\n",
       "    </tr>\n",
       "    <tr>\n",
       "      <th>Walking with Dinosaurs</th>\n",
       "      <td>0.540396</td>\n",
       "    </tr>\n",
       "  </tbody>\n",
       "</table>\n",
       "</div>"
      ],
      "text/plain": [
       "                                Jurassic Park\n",
       "title                                        \n",
       "The Lost World: Jurassic Park        0.761363\n",
       "Jurassic World: Fallen Kingdom       0.720975\n",
       "Jurassic World                       0.685764\n",
       "Jurassic Park III                    0.655582\n",
       "Walking with Dinosaurs               0.540396"
      ]
     },
     "execution_count": 2,
     "metadata": {},
     "output_type": "execute_result"
    }
   ],
   "source": [
    "find_similar_movies()"
   ]
  },
  {
   "cell_type": "code",
   "execution_count": 4,
   "metadata": {},
   "outputs": [
    {
     "name": "stdout",
     "output_type": "stream",
     "text": [
      "Welcome to MovieRec4Parents! Let me ask you a few questions before we begin.\n",
      "How many children do you have?2\n",
      "How old is your child 1 ?\n",
      "14\n",
      "How old is your child 2 ?\n",
      "11\n",
      "Thank you!\n",
      "I have just 8 more questions for you. Respond with a ? if you'd like some examples.\n",
      "What level of exposure to consumerism is okay for your kids? (0 to 5)\n",
      "Please enter 0, 1, 2, 3, 4, 5, or ?3\n",
      "What level of drinking, drugs, & smoking is okay for your kids? (0 to 5)\n",
      "Please enter 0, 1, 2, 3, 4, 5, or ?1\n",
      "What level of bad language is okay for your kids? (0 to 5)\n",
      "Please enter 0, 1, 2, 3, 4, 5, or ?3\n",
      "How important are positive messages in movies to you and kids? (0 to 5)\n",
      "Please enter 0, 1, 2, 3, 4, 5, or ?3\n",
      "What level of sex is okay for your kids? (0 to 5)\n",
      "Please enter 0, 1, 2, 3, 4, 5, or ?2\n",
      "What level of violence is okay for your kids (0 to 5)\n",
      "Please enter 0, 1, 2, 3, 4, 5, or ?4\n",
      "What genre of movie are you interested in seeing?\n",
      "Please enter Drama, Family and Kids, Comedy, Action/Adventure, Documentary, Thriller,\n",
      "Horror, Science Fiction, Fantasy, Romance, Musical, Classic, Western, or ?Science Fiction\n",
      "Finally, what MPAA rating is the most extreme MPAA Rating for your kids (G, PG, PG-13, R, NR (not rated), or NC-17?)\n",
      "Please enter G, PG, PG-13, R, NR (not rated), NC-17, or ?PG-13\n",
      "Thank you!\n",
      "Give me a movie title and I'll give you five titles you might also like:Star Wars\n",
      "Sorry, that movie title isn't in my list. Did you mean [('Solo: A Star Wars Story', 90), ('Star Wars: Episode VIII: The Last Jedi', 90), ('Rogue One: A Star Wars Story', 90)] ?\n",
      "(I need the exact title, please...)Star Wars: Episode VIII: The Last Jedi\n",
      "Thanks! Here are my movie recommendations:\n",
      "Sorry, there were not enough movies in my list that meet your conditions. I recommend Back to the Future!\n"
     ]
    },
    {
     "data": {
      "text/plain": [
       "['Star Wars: Episode III: Revenge of the Sith']"
      ]
     },
     "execution_count": 4,
     "metadata": {},
     "output_type": "execute_result"
    }
   ],
   "source": [
    "get_parent_ratings_first()"
   ]
  },
  {
   "cell_type": "markdown",
   "metadata": {},
   "source": [
    "### If you'd like more recs, rerun the cell(s) above! And thank you for using MovieRec4Parents!"
   ]
  },
  {
   "cell_type": "code",
   "execution_count": null,
   "metadata": {},
   "outputs": [],
   "source": []
  }
 ],
 "metadata": {
  "kernelspec": {
   "display_name": "Python [default]",
   "language": "python",
   "name": "python3"
  },
  "language_info": {
   "codemirror_mode": {
    "name": "ipython",
    "version": 3
   },
   "file_extension": ".py",
   "mimetype": "text/x-python",
   "name": "python",
   "nbconvert_exporter": "python",
   "pygments_lexer": "ipython3",
   "version": "3.6.4"
  }
 },
 "nbformat": 4,
 "nbformat_minor": 2
}
